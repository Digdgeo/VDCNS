{
 "cells": [
  {
   "cell_type": "markdown",
   "metadata": {},
   "source": [
    "# <font color='blue'>Vamos a generar el ndvi de cada escena entre 2007 y 2010 para poder ejecutar el análisis de cobertura de usos del suelo. Lo que necesitamos realmente es discriminar suelo desnudo (ligado a obras) de resto de coberturas</font>"
   ]
  },
  {
   "cell_type": "markdown",
   "metadata": {},
   "source": [
    "El primer paso es listar todas las escenas de la fecha de interes "
   ]
  },
  {
   "cell_type": "code",
   "execution_count": 1,
   "metadata": {
    "collapsed": true
   },
   "outputs": [],
   "source": [
    "%matplotlib inline \n",
    "\n",
    "import os\n",
    "import rasterio\n",
    "import subprocess\n",
    "import numpy as np\n",
    "import matplotlib.pyplot as plt"
   ]
  },
  {
   "cell_type": "code",
   "execution_count": 2,
   "metadata": {
    "collapsed": true
   },
   "outputs": [],
   "source": [
    "path_nor = r'Z:\\Proyectos\\marina_valdecanas\\capas\\teledeteccion\\Landsat\\nor'\n",
    "path_ori = r'Z:\\Proyectos\\marina_valdecanas\\capas\\teledeteccion\\Landsat\\ori'\n",
    "\n",
    "years = [i for i in range(2007, 2011)]"
   ]
  },
  {
   "cell_type": "code",
   "execution_count": 3,
   "metadata": {
    "collapsed": true
   },
   "outputs": [
    {
     "data": {
      "text/plain": [
       "[2007, 2008, 2009, 2010]"
      ]
     },
     "execution_count": 3,
     "metadata": {},
     "output_type": "execute_result"
    }
   ],
   "source": [
    "years"
   ]
  },
  {
   "cell_type": "code",
   "execution_count": 7,
   "metadata": {},
   "outputs": [
    {
     "name": "stdout",
     "output_type": "stream",
     "text": [
      "['Z:\\\\Proyectos\\\\marina_valdecanas\\\\capas\\\\teledeteccion\\\\Landsat\\\\ori\\\\20100926le7202_32', 'Z:\\\\Proyectos\\\\marina_valdecanas\\\\capas\\\\teledeteccion\\\\Landsat\\\\ori\\\\20080718le7202_32']\n",
      "48\n"
     ]
    }
   ],
   "source": [
    "scenes_ori = [os.path.join(path_ori, sc) for sc in os.listdir(path_ori) if int(sc[:4]) in years]\n",
    "scenes_nor = [os.path.join(path_nor, sc) for sc in os.listdir(path_nor) if int(sc[:4]) in years]\n",
    "\n",
    "print(scenes_ori[:2])\n",
    "print(len(scenes_nor))"
   ]
  },
  {
   "cell_type": "markdown",
   "metadata": {},
   "source": [
    "Ya tenemos la lista de escenas que nos interesan"
   ]
  },
  {
   "cell_type": "code",
   "execution_count": 5,
   "metadata": {
    "collapsed": true
   },
   "outputs": [],
   "source": [
    "def ndvi(nir, red):\n",
    "    \n",
    "    '''funcion para calcular el ndvi'''\n",
    "    \n",
    "    ndvipath = r'I:\\ndvi_PIR\\ndvis'\n",
    "    escena = os.path.split(os.path.split(nir)[0])[1]\n",
    "    outfile = os.path.join(ndvipath, escena + '__ndvi__.TIF')\n",
    "    \n",
    "    with rasterio.open(nir) as _nir:\n",
    "        NIR = _nir.read()\n",
    "        #NIR = np.where(NIR==0, -9999, NIR)\n",
    "        NIRM = np.ma.masked_array(NIR, mask=(NIR == 0))\n",
    "    \n",
    "    with rasterio.open(red) as _red:\n",
    "        RED = _red.read()\n",
    "        REDM = np.ma.masked_array(RED, mask=(RED == 0))\n",
    "    \n",
    "    #Es importante el poner el *^\"*· astype(float) porque a pesar de ser float, de no usarlo los valores negativos se van a positivos\n",
    "    ndvi = np.true_divide((NIRM.astype(float)-REDM.astype(float)), (NIRM+REDM))\n",
    "    ndvi[ndvi<-1] = -9999\n",
    "    ndvi[ndvi>1] = -9999\n",
    "\n",
    "    profile = _nir.meta\n",
    "    profile.update(dtype=rasterio.float32)\n",
    "    profile.update(nodata=-9999)\n",
    "\n",
    "    with rasterio.open(outfile, 'w', **profile) as dst:\n",
    "        dst.write(ndvi.astype(rasterio.float32))\n",
    "        print('ndvi', outfile, 'realizado')\n",
    "        "
   ]
  },
  {
   "cell_type": "markdown",
   "metadata": {},
   "source": [
    "En principio tenemos la función que cálcula el ndvi, ahora vamos a aplicar la función a las Landsat 7 y 5 de nuestro directorio.\n",
    "No necesitamos Landsat 8, porque todas las escenas son anteriores a 2013!"
   ]
  },
  {
   "cell_type": "code",
   "execution_count": 6,
   "metadata": {
    "scrolled": false
   },
   "outputs": [
    {
     "name": "stderr",
     "output_type": "stream",
     "text": [
      "C:\\Users\\Diego\\Anaconda3\\lib\\site-packages\\ipykernel_launcher.py:19: RuntimeWarning: divide by zero encountered in true_divide\n",
      "C:\\Users\\Diego\\Anaconda3\\lib\\site-packages\\ipykernel_launcher.py:19: RuntimeWarning: invalid value encountered in true_divide\n",
      "C:\\Users\\Diego\\Anaconda3\\lib\\site-packages\\rasterio\\__init__.py:160: FutureWarning: GDAL-style transforms are deprecated and will not be supported in Rasterio 1.0.\n",
      "  transform = guard_transform(transform)\n"
     ]
    },
    {
     "name": "stdout",
     "output_type": "stream",
     "text": [
      "ndvi I:\\ndvi_PIR\\ndvis\\20100926le7202_32__ndvi__.TIF realizado\n",
      "ndvi I:\\ndvi_PIR\\ndvis\\20080718le7202_32__ndvi__.TIF realizado\n",
      "ndvi I:\\ndvi_PIR\\ndvis\\20090729lt5202_32__ndvi__.TIF realizado\n",
      "ndvi I:\\ndvi_PIR\\ndvis\\20081123le7202_32__ndvi__.TIF realizado\n",
      "ndvi I:\\ndvi_PIR\\ndvis\\20100411lt5202_32__ndvi__.TIF realizado\n",
      "ndvi I:\\ndvi_PIR\\ndvis\\20090227le7202_32__ndvi__.TIF realizado\n",
      "ndvi I:\\ndvi_PIR\\ndvis\\20090315le7202_32__ndvi__.TIF realizado\n",
      "ndvi I:\\ndvi_PIR\\ndvis\\20100801lt5202_32__ndvi__.TIF realizado\n",
      "ndvi I:\\ndvi_PIR\\ndvis\\20090923le7202_32__ndvi__.TIF realizado\n",
      "ndvi I:\\ndvi_PIR\\ndvis\\20071020le7202_32__ndvi__.TIF realizado\n",
      "ndvi I:\\ndvi_PIR\\ndvis\\20071105le7202_32__ndvi__.TIF realizado\n",
      "ndvi I:\\ndvi_PIR\\ndvis\\20070622lt5202_32__ndvi__.TIF realizado\n",
      "ndvi I:\\ndvi_PIR\\ndvis\\20090611lt5202_32__ndvi__.TIF realizado\n",
      "ndvi I:\\ndvi_PIR\\ndvis\\20070801le7202_32__ndvi__.TIF realizado\n",
      "ndvi I:\\ndvi_PIR\\ndvis\\20091102lt5202_32__ndvi__.TIF realizado\n",
      "ndvi I:\\ndvi_PIR\\ndvis\\20090211le7202_32__ndvi__.TIF realizado\n",
      "ndvi I:\\ndvi_PIR\\ndvis\\20101012le7202_32__ndvi__.TIF realizado\n",
      "ndvi I:\\ndvi_PIR\\ndvis\\20070809lt5202_32__ndvi__.TIF realizado\n",
      "ndvi I:\\ndvi_PIR\\ndvis\\20100521le7202_32__ndvi__.TIF realizado\n",
      "ndvi I:\\ndvi_PIR\\ndvis\\20070910lt5202_32__ndvi__.TIF realizado\n",
      "ndvi I:\\ndvi_PIR\\ndvis\\20080803le7202_32__ndvi__.TIF realizado\n",
      "ndvi I:\\ndvi_PIR\\ndvis\\20090907le7202_32__ndvi__.TIF realizado\n",
      "ndvi I:\\ndvi_PIR\\ndvis\\20091017lt5202_32__ndvi__.TIF realizado\n",
      "ndvi I:\\ndvi_PIR\\ndvis\\20070708lt5202_32__ndvi__.TIF realizado\n",
      "ndvi I:\\ndvi_PIR\\ndvis\\20100910le7202_32__ndvi__.TIF realizado\n",
      "ndvi I:\\ndvi_PIR\\ndvis\\20081225le7202_32__ndvi__.TIF realizado\n",
      "ndvi I:\\ndvi_PIR\\ndvis\\20101121lt5202_32__ndvi__.TIF realizado\n",
      "ndvi I:\\ndvi_PIR\\ndvis\\20070310le7202_32__ndvi__.TIF realizado\n",
      "ndvi I:\\ndvi_PIR\\ndvis\\20070724lt5202_32__ndvi__.TIF realizado\n",
      "ndvi I:\\ndvi_PIR\\ndvis\\20100630lt5202_32__ndvi__.TIF realizado\n",
      "ndvi I:\\ndvi_PIR\\ndvis\\20090627lt5202_32__ndvi__.TIF realizado\n",
      "ndvi I:\\ndvi_PIR\\ndvis\\20100606le7202_32__ndvi__.TIF realizado\n",
      "ndvi I:\\ndvi_PIR\\ndvis\\20090830lt5202_32__ndvi__.TIF realizado\n",
      "ndvi I:\\ndvi_PIR\\ndvis\\20090518le7202_32__ndvi__.TIF realizado\n",
      "ndvi I:\\ndvi_PIR\\ndvis\\20100622le7202_32__ndvi__.TIF realizado\n",
      "ndvi I:\\ndvi_PIR\\ndvis\\20091204lt5202_32__ndvi__.TIF realizado\n",
      "ndvi I:\\ndvi_PIR\\ndvis\\20100505le7202_32__ndvi__.TIF realizado\n",
      "ndvi I:\\ndvi_PIR\\ndvis\\20091001lt5202_32__ndvi__.TIF realizado\n",
      "ndvi I:\\ndvi_PIR\\ndvis\\20070926lt5202_32__ndvi__.TIF realizado\n",
      "ndvi I:\\ndvi_PIR\\ndvis\\20100206lt5202_32__ndvi__.TIF realizado\n",
      "ndvi I:\\ndvi_PIR\\ndvis\\20100310lt5202_32__ndvi__.TIF realizado\n",
      "ndvi I:\\ndvi_PIR\\ndvis\\20090915lt5202_32__ndvi__.TIF realizado\n",
      "ndvi I:\\ndvi_PIR\\ndvis\\20100716lt5202_32__ndvi__.TIF realizado\n",
      "ndvi I:\\ndvi_PIR\\ndvis\\20101105lt5202_32__ndvi__.TIF realizado\n",
      "ndvi I:\\ndvi_PIR\\ndvis\\20080209le7202_32__ndvi__.TIF realizado\n",
      "ndvi I:\\ndvi_PIR\\ndvis\\20090502le7202_32__ndvi__.TIF realizado\n",
      "ndvi I:\\ndvi_PIR\\ndvis\\20090713lt5202_32__ndvi__.TIF realizado\n",
      "ndvi I:\\ndvi_PIR\\ndvis\\20070529le7202_32__ndvi__.TIF realizado\n"
     ]
    }
   ],
   "source": [
    "for sc in scenes_ori:\n",
    "    \n",
    "    bandas = []\n",
    "    \n",
    "    for e in os.listdir(sc):\n",
    "                        \n",
    "        if e.endswith('B4.TIF'):\n",
    "            b4 = os.path.join(sc, e)\n",
    "            #print(b5)\n",
    "            bandas.append(b4)\n",
    "        elif e.endswith('B3.TIF'):\n",
    "            b3 = os.path.join(sc, e)\n",
    "            #print(b4)\n",
    "            bandas.append(b3)\n",
    "            \n",
    "    if len(bandas) == 2:\n",
    "        ndvi(b4, b3)"
   ]
  },
  {
   "cell_type": "code",
   "execution_count": null,
   "metadata": {
    "collapsed": true
   },
   "outputs": [],
   "source": [
    "b_3 = r'I:\\ndvi_PIR\\20070708l5tm202_32\\20070708l5tm202_32_grn1_b3.img'\n",
    "b_4 = r'I:\\ndvi_PIR\\20070708l5tm202_32\\20070708l5tm202_32_grn1_b4.img'\n",
    "ndvi = r'I:\\ndvi_PIR\\ndvis\\LE72020322008200EDC00_ndvi.TIF'\n",
    "\n",
    "NDVI = rasterio.open(ndvi)\n",
    "NDVIA = NDVI.read()\n",
    "NDVIA"
   ]
  },
  {
   "cell_type": "code",
   "execution_count": null,
   "metadata": {
    "collapsed": true
   },
   "outputs": [],
   "source": [
    "b3 = rasterio.open(b_3)\n",
    "B3 = b3.read()\n",
    "B3M = np.ma.masked_array(B3, mask=(B3 == 10001))\n",
    "\n",
    "b4 = rasterio.open(b_4)\n",
    "B4 = b4.read()\n",
    "B4M = np.ma.masked_array(B4, mask=(B4 == 10001))"
   ]
  },
  {
   "cell_type": "code",
   "execution_count": null,
   "metadata": {
    "collapsed": true
   },
   "outputs": [],
   "source": [
    "ndvi = (B3M.astype(float)-B4M.astype(float))/(B3M+B4M)\n",
    "ndvi[(ndvi > 1)] = -9999\n"
   ]
  },
  {
   "cell_type": "code",
   "execution_count": null,
   "metadata": {
    "collapsed": true
   },
   "outputs": [],
   "source": [
    "profile = b3.meta\n",
    "profile.update(dtype=rasterio.float32)\n",
    "profile.update(nodata=-9999)\n",
    "\n",
    "with rasterio.open(outfile, 'w', **profile) as dst:\n",
    "    dst.write(ndvi.astype(rasterio.float32))"
   ]
  },
  {
   "cell_type": "code",
   "execution_count": null,
   "metadata": {
    "collapsed": true
   },
   "outputs": [],
   "source": [
    "for k, v in b3.meta.items():\n",
    "    print(k, v)"
   ]
  },
  {
   "cell_type": "code",
   "execution_count": null,
   "metadata": {
    "collapsed": true
   },
   "outputs": [],
   "source": [
    "%pylab inline\n",
    "import matplotlib.pyplot as plt"
   ]
  },
  {
   "cell_type": "markdown",
   "metadata": {},
   "source": [
    "<font size=5 color='red'><center>Mascara al entorno de la isla</center></font>"
   ]
  },
  {
   "cell_type": "code",
   "execution_count": 4,
   "metadata": {},
   "outputs": [
    {
     "name": "stdout",
     "output_type": "stream",
     "text": [
      "20070310le7202_32__ndvi___rec.TIF\n",
      "20070529le7202_32__ndvi___rec.TIF\n",
      "20070622lt5202_32__ndvi___rec.TIF\n",
      "20070708lt5202_32__ndvi___rec.TIF\n",
      "20070724lt5202_32__ndvi___rec.TIF\n",
      "20070801le7202_32__ndvi___rec.TIF\n",
      "20070809lt5202_32__ndvi___rec.TIF\n",
      "20070910lt5202_32__ndvi___rec.TIF\n",
      "20070926lt5202_32__ndvi___rec.TIF\n",
      "20071020le7202_32__ndvi___rec.TIF\n",
      "20071105le7202_32__ndvi___rec.TIF\n",
      "20080209le7202_32__ndvi___rec.TIF\n",
      "20080718le7202_32__ndvi___rec.TIF\n",
      "20080803le7202_32__ndvi___rec.TIF\n",
      "20081123le7202_32__ndvi___rec.TIF\n",
      "20081225le7202_32__ndvi___rec.TIF\n",
      "20090211le7202_32__ndvi___rec.TIF\n",
      "20090227le7202_32__ndvi___rec.TIF\n",
      "20090315le7202_32__ndvi___rec.TIF\n",
      "20090502le7202_32__ndvi___rec.TIF\n",
      "20090518le7202_32__ndvi___rec.TIF\n",
      "20090611lt5202_32__ndvi___rec.TIF\n",
      "20090627lt5202_32__ndvi___rec.TIF\n",
      "20090713lt5202_32__ndvi___rec.TIF\n",
      "20090729lt5202_32__ndvi___rec.TIF\n",
      "20090830lt5202_32__ndvi___rec.TIF\n",
      "20090907le7202_32__ndvi___rec.TIF\n",
      "20090915lt5202_32__ndvi___rec.TIF\n",
      "20090923le7202_32__ndvi___rec.TIF\n",
      "20091001lt5202_32__ndvi___rec.TIF\n",
      "20091017lt5202_32__ndvi___rec.TIF\n",
      "20091102lt5202_32__ndvi___rec.TIF\n",
      "20091204lt5202_32__ndvi___rec.TIF\n",
      "20100206lt5202_32__ndvi___rec.TIF\n",
      "20100310lt5202_32__ndvi___rec.TIF\n",
      "20100411lt5202_32__ndvi___rec.TIF\n",
      "20100505le7202_32__ndvi___rec.TIF\n",
      "20100521le7202_32__ndvi___rec.TIF\n",
      "20100606le7202_32__ndvi___rec.TIF\n",
      "20100622le7202_32__ndvi___rec.TIF\n",
      "20100630lt5202_32__ndvi___rec.TIF\n",
      "20100716lt5202_32__ndvi___rec.TIF\n",
      "20100801lt5202_32__ndvi___rec.TIF\n",
      "20100910le7202_32__ndvi___rec.TIF\n",
      "20100926le7202_32__ndvi___rec.TIF\n",
      "20101012le7202_32__ndvi___rec.TIF\n",
      "20101105lt5202_32__ndvi___rec.TIF\n",
      "20101121lt5202_32__ndvi___rec.TIF\n"
     ]
    }
   ],
   "source": [
    "ruta = r'I:\\ndvi_PIR\\ndvis'\n",
    "shape = r'I:\\ndvi_PIR\\recorte.shp'\n",
    "crop = \"-crop_to_cutline\"\n",
    "\n",
    "for i in os.listdir(ruta):\n",
    "    \n",
    "    if i.endswith('ndvi__.TIF'):\n",
    "        \n",
    "        ndvi = os.path.join(ruta, i)\n",
    "        escena = os.path.split(ndvi)[1][:-4] + '_rec.TIF'\n",
    "        \n",
    "        print(escena)\n",
    "        #usamos Gdalwarp para realizar las mascaras, llamandolo desde el modulo subprocess\n",
    "        cmd = [\"gdalwarp\", \"-dstnodata\" , \"-9999\" , \"-cutline\", ]\n",
    "        path_masks = os.path.join(ruta, 'rec')\n",
    "        if not os.path.exists(path_masks):\n",
    "            os.makedirs(path_masks)\n",
    "            \n",
    "        salida = os.path.join(path_masks, escena)\n",
    "\n",
    "        cmd.insert(4, shape)\n",
    "        cmd.insert(5, crop)\n",
    "        cmd.insert(6, ndvi)\n",
    "        cmd.insert(7, salida)\n",
    "\n",
    "        proc = subprocess.Popen(cmd,stdout=subprocess.PIPE,stderr=subprocess.PIPE)\n",
    "        stdout,stderr=proc.communicate()\n",
    "        exit_code=proc.wait()\n",
    "\n",
    "        if exit_code: \n",
    "            raise RuntimeError(stderr)"
   ]
  },
  {
   "cell_type": "code",
   "execution_count": null,
   "metadata": {
    "collapsed": true
   },
   "outputs": [],
   "source": [
    "os.getcwd()"
   ]
  },
  {
   "cell_type": "code",
   "execution_count": null,
   "metadata": {
    "collapsed": true
   },
   "outputs": [],
   "source": [
    "a = \"Z:\\\\Proyectos\\\\marina_valdecanas\\\\capas\\\\teledeteccion\\\\Landsat\\\\ori\\\\20120119le7202_32\\\\L7202322008200\"\n",
    "b = os.path.split(os.path.split(a)[0])[1]\n",
    "b"
   ]
  },
  {
   "cell_type": "code",
   "execution_count": 9,
   "metadata": {
    "collapsed": true
   },
   "outputs": [
    {
     "name": "stdout",
     "output_type": "stream",
     "text": [
      "20070622l5tm202_32 1\n",
      "20070708l5tm202_32 2\n",
      "20070724l5tm202_32 3\n",
      "20070809l5tm202_32 4\n",
      "20070910l5tm202_32 5\n",
      "20070926l5tm202_32 6\n",
      "20090611l5tm202_32 7\n",
      "20090627l5tm202_32 8\n",
      "20090713l5tm202_32 9\n",
      "20090729l5tm202_32 10\n",
      "20090830l5tm202_32 11\n",
      "20090915l5tm202_32 12\n",
      "20091017l5tm202_32 13\n",
      "20100206l5tm202_32 14\n",
      "20100310l5tm202_32 15\n",
      "20100411l5tm202_32 16\n",
      "20100630l5tm202_32 17\n",
      "20100716l5tm202_32 18\n",
      "20100801l5tm202_32 19\n",
      "20101105l5tm202_32 20\n",
      "20110124l5tm202_32 21\n",
      "20110225l5tm202_32 22\n",
      "20110516l5tm202_32 23\n",
      "20110601l5tm202_32 24\n",
      "20110804l5tm202_32 25\n",
      "20110905l5tm202_32 26\n"
     ]
    }
   ],
   "source": [
    "import os\n",
    "\n",
    "path = r'I:\\ndvi_PIR\\ndvis'\n",
    "c=0\n",
    "for i in os.listdir(path):\n",
    "    \n",
    "    if os.path.isdir(os.path.join(path, i)):\n",
    "        \n",
    "        for banda in os.listdir(os.path.join(path, i)):\n",
    "            \n",
    "            if banda.endswith('ndvi2.TIF'):\n",
    "                c+=1\n",
    "                print(i, c)            \n",
    "            \n",
    "            \n",
    "            \n",
    "            "
   ]
  },
  {
   "cell_type": "code",
   "execution_count": 10,
   "metadata": {},
   "outputs": [
    {
     "ename": "SameFileError",
     "evalue": "'I:\\\\ndvi_PIR\\\\ndvis\\\\ndvis\\\\20070622l5tm202_32_ndvi2.tfw' and 'I:\\\\ndvi_PIR\\\\ndvis\\\\ndvis\\\\20070622l5tm202_32_ndvi2.tfw' are the same file",
     "output_type": "error",
     "traceback": [
      "\u001b[1;31m---------------------------------------------------------------------------\u001b[0m",
      "\u001b[1;31mSameFileError\u001b[0m                             Traceback (most recent call last)",
      "\u001b[1;32m<ipython-input-10-b0bd4175ee57>\u001b[0m in \u001b[0;36m<module>\u001b[1;34m()\u001b[0m\n\u001b[0;32m     14\u001b[0m                 \u001b[0mndvi\u001b[0m \u001b[1;33m=\u001b[0m \u001b[0mos\u001b[0m\u001b[1;33m.\u001b[0m\u001b[0mpath\u001b[0m\u001b[1;33m.\u001b[0m\u001b[0mjoin\u001b[0m\u001b[1;33m(\u001b[0m\u001b[0mos\u001b[0m\u001b[1;33m.\u001b[0m\u001b[0mpath\u001b[0m\u001b[1;33m.\u001b[0m\u001b[0mjoin\u001b[0m\u001b[1;33m(\u001b[0m\u001b[0mpath\u001b[0m\u001b[1;33m,\u001b[0m \u001b[0mi\u001b[0m\u001b[1;33m)\u001b[0m\u001b[1;33m,\u001b[0m \u001b[0mbanda\u001b[0m\u001b[1;33m)\u001b[0m\u001b[1;33m\u001b[0m\u001b[0m\n\u001b[0;32m     15\u001b[0m                 \u001b[0moutndvi\u001b[0m \u001b[1;33m=\u001b[0m \u001b[0mos\u001b[0m\u001b[1;33m.\u001b[0m\u001b[0mpath\u001b[0m\u001b[1;33m.\u001b[0m\u001b[0mjoin\u001b[0m\u001b[1;33m(\u001b[0m\u001b[0moutpath\u001b[0m\u001b[1;33m,\u001b[0m \u001b[0mbanda\u001b[0m\u001b[1;33m)\u001b[0m\u001b[1;33m\u001b[0m\u001b[0m\n\u001b[1;32m---> 16\u001b[1;33m                 \u001b[0mcopyfile\u001b[0m\u001b[1;33m(\u001b[0m\u001b[0mndvi\u001b[0m\u001b[1;33m,\u001b[0m \u001b[0moutndvi\u001b[0m\u001b[1;33m)\u001b[0m\u001b[1;33m\u001b[0m\u001b[0m\n\u001b[0m",
      "\u001b[1;32m~\\Anaconda3\\lib\\shutil.py\u001b[0m in \u001b[0;36mcopyfile\u001b[1;34m(src, dst, follow_symlinks)\u001b[0m\n\u001b[0;32m    102\u001b[0m     \"\"\"\n\u001b[0;32m    103\u001b[0m     \u001b[1;32mif\u001b[0m \u001b[0m_samefile\u001b[0m\u001b[1;33m(\u001b[0m\u001b[0msrc\u001b[0m\u001b[1;33m,\u001b[0m \u001b[0mdst\u001b[0m\u001b[1;33m)\u001b[0m\u001b[1;33m:\u001b[0m\u001b[1;33m\u001b[0m\u001b[0m\n\u001b[1;32m--> 104\u001b[1;33m         \u001b[1;32mraise\u001b[0m \u001b[0mSameFileError\u001b[0m\u001b[1;33m(\u001b[0m\u001b[1;34m\"{!r} and {!r} are the same file\"\u001b[0m\u001b[1;33m.\u001b[0m\u001b[0mformat\u001b[0m\u001b[1;33m(\u001b[0m\u001b[0msrc\u001b[0m\u001b[1;33m,\u001b[0m \u001b[0mdst\u001b[0m\u001b[1;33m)\u001b[0m\u001b[1;33m)\u001b[0m\u001b[1;33m\u001b[0m\u001b[0m\n\u001b[0m\u001b[0;32m    105\u001b[0m \u001b[1;33m\u001b[0m\u001b[0m\n\u001b[0;32m    106\u001b[0m     \u001b[1;32mfor\u001b[0m \u001b[0mfn\u001b[0m \u001b[1;32min\u001b[0m \u001b[1;33m[\u001b[0m\u001b[0msrc\u001b[0m\u001b[1;33m,\u001b[0m \u001b[0mdst\u001b[0m\u001b[1;33m]\u001b[0m\u001b[1;33m:\u001b[0m\u001b[1;33m\u001b[0m\u001b[0m\n",
      "\u001b[1;31mSameFileError\u001b[0m: 'I:\\\\ndvi_PIR\\\\ndvis\\\\ndvis\\\\20070622l5tm202_32_ndvi2.tfw' and 'I:\\\\ndvi_PIR\\\\ndvis\\\\ndvis\\\\20070622l5tm202_32_ndvi2.tfw' are the same file"
     ]
    }
   ],
   "source": [
    "from shutil import copyfile\n",
    "\n",
    "outpath = r'I:\\ndvi_PIR\\ndvis\\ndvis'\n",
    "path = r'I:\\ndvi_PIR\\ndvis'\n",
    "\n",
    "for i in os.listdir(path):\n",
    "    \n",
    "    if os.path.isdir(os.path.join(path, i)):\n",
    "        \n",
    "        for banda in os.listdir(os.path.join(path, i)):\n",
    "            \n",
    "            if 'ndvi2' in banda:\n",
    "                \n",
    "                ndvi = os.path.join(os.path.join(path, i), banda)\n",
    "                outndvi = os.path.join(outpath, banda)\n",
    "                copyfile(ndvi, outndvi)\n"
   ]
  },
  {
   "cell_type": "code",
   "execution_count": null,
   "metadata": {},
   "outputs": [],
   "source": []
  }
 ],
 "metadata": {
  "kernelspec": {
   "display_name": "Python 3",
   "language": "python",
   "name": "python3"
  },
  "language_info": {
   "codemirror_mode": {
    "name": "ipython",
    "version": 3
   },
   "file_extension": ".py",
   "mimetype": "text/x-python",
   "name": "python",
   "nbconvert_exporter": "python",
   "pygments_lexer": "ipython3",
   "version": "3.6.2"
  }
 },
 "nbformat": 4,
 "nbformat_minor": 2
}
