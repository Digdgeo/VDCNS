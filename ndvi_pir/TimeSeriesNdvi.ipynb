{
 "cells": [
  {
   "cell_type": "code",
   "execution_count": 1,
   "metadata": {},
   "outputs": [],
   "source": [
    "%matplotlib inline \n",
    "\n",
    "import os\n",
    "import rasterio\n",
    "import subprocess\n",
    "import numpy as np\n",
    "import matplotlib.pyplot as plt"
   ]
  },
  {
   "cell_type": "markdown",
   "metadata": {},
   "source": [
    "# Vamos a crear un stack con todos los ndvis"
   ]
  },
  {
   "cell_type": "code",
   "execution_count": 27,
   "metadata": {},
   "outputs": [
    {
     "name": "stderr",
     "output_type": "stream",
     "text": [
      "C:\\Users\\Diego\\Anaconda3\\lib\\site-packages\\rasterio\\__init__.py:160: FutureWarning: GDAL-style transforms are deprecated and will not be supported in Rasterio 1.0.\n",
      "  transform = guard_transform(transform)\n"
     ]
    }
   ],
   "source": [
    "import rasterio\n",
    "\n",
    "path = r'I:\\ndvi_PIR\\ndvi_nor_rec'\n",
    "outfile = r'I:\\ndvi_PIR\\ndvi_nor_rec\\stack_full.TIF'\n",
    "file_list = []\n",
    "\n",
    "# Recorremos las escenas buscandio los ndvis\n",
    "for e in os.listdir(path):\n",
    "    if os.path.isdir(os.path.join(path, e)):\n",
    "        npath = os.path.join(path, e)\n",
    "        for f in os.listdir(npath):\n",
    "            if f.endswith('_ndvi.TIF'):\n",
    "                file_list.append(os.path.join(npath, f))\n",
    "                \n",
    "# Cogemos los metadatos de la primera banda\n",
    "with rasterio.open(file_list[0]) as src0:\n",
    "    meta = src0.meta\n",
    "\n",
    "# Actualizamos el numero de bandas que tendra el stack\n",
    "meta.update(count = len(file_list))\n",
    "\n",
    "# Leemos cada banda y la anadimos al stack\n",
    "with rasterio.open(outfile, 'w', **meta) as dst:\n",
    "    for id, layer in enumerate(file_list):\n",
    "        with rasterio.open(layer) as src1:\n",
    "            dst.write_band(id + 1, src1.read(1))"
   ]
  },
  {
   "cell_type": "code",
   "execution_count": 22,
   "metadata": {},
   "outputs": [
    {
     "data": {
      "text/plain": [
       "14"
      ]
     },
     "execution_count": 22,
     "metadata": {},
     "output_type": "execute_result"
    }
   ],
   "source": [
    "file_list.index('I:\\\\ndvi_PIR\\\\ndvi_nor_rec\\\\20090729l5tm202_32\\\\20090729l5tm202_32_grn1_ndvi.TIF')"
   ]
  },
  {
   "cell_type": "code",
   "execution_count": 26,
   "metadata": {},
   "outputs": [
    {
     "data": {
      "text/plain": [
       "'I:\\\\ndvi_PIR\\\\ndvi_nor_rec\\\\20090713l5tm202_32\\\\20090713l5tm202_32_ndvi.TIF'"
      ]
     },
     "execution_count": 26,
     "metadata": {},
     "output_type": "execute_result"
    }
   ],
   "source": [
    "file_list[13]"
   ]
  },
  {
   "cell_type": "code",
   "execution_count": 18,
   "metadata": {},
   "outputs": [],
   "source": [
    "stack = r'I:\\ndvi_PIR\\ndvis2\\stacks_ndvi'\n",
    "outpr = r'I:\\ndvi_PIR\\ndvis2\\stacks_ndvi_pr.img'"
   ]
  },
  {
   "cell_type": "code",
   "execution_count": 19,
   "metadata": {},
   "outputs": [
    {
     "name": "stderr",
     "output_type": "stream",
     "text": [
      "C:\\Users\\Diego\\Anaconda3\\lib\\site-packages\\rasterio\\__init__.py:160: FutureWarning: GDAL-style transforms are deprecated and will not be supported in Rasterio 1.0.\n",
      "  transform = guard_transform(transform)\n"
     ]
    }
   ],
   "source": [
    "with rasterio.open(stack) as src:\n",
    "    STACK = src.read()\n",
    "    NSTACK = STACK + 100\n",
    "    \n",
    "    profile = src.meta\n",
    "    \n",
    "with rasterio.open(outpr, 'w', **profile) as dst:\n",
    "    dst.write(NSTACK.astype(rasterio.float32)) "
   ]
  },
  {
   "cell_type": "code",
   "execution_count": 9,
   "metadata": {},
   "outputs": [
    {
     "data": {
      "text/plain": [
       "(26, 237, 281)"
      ]
     },
     "execution_count": 9,
     "metadata": {},
     "output_type": "execute_result"
    }
   ],
   "source": [
    "STACK.shape"
   ]
  },
  {
   "cell_type": "code",
   "execution_count": 10,
   "metadata": {},
   "outputs": [],
   "source": [
    "NSTACK = STACK + 100"
   ]
  },
  {
   "cell_type": "code",
   "execution_count": 11,
   "metadata": {},
   "outputs": [
    {
     "ename": "ValueError",
     "evalue": "can't read closed raster file",
     "output_type": "error",
     "traceback": [
      "\u001b[1;31m---------------------------------------------------------------------------\u001b[0m",
      "\u001b[1;31mValueError\u001b[0m                                Traceback (most recent call last)",
      "\u001b[1;32m<ipython-input-11-f0a341bda362>\u001b[0m in \u001b[0;36m<module>\u001b[1;34m()\u001b[0m\n\u001b[1;32m----> 1\u001b[1;33m \u001b[0mprof\u001b[0m \u001b[1;33m=\u001b[0m \u001b[0msrc\u001b[0m\u001b[1;33m.\u001b[0m\u001b[0mprofile\u001b[0m\u001b[1;33m(\u001b[0m\u001b[1;33m)\u001b[0m\u001b[1;33m\u001b[0m\u001b[0m\n\u001b[0m",
      "\u001b[1;32mrasterio/_base.pyx\u001b[0m in \u001b[0;36mrasterio._base.DatasetReader.profile.__get__ (rasterio/_base.c:11606)\u001b[1;34m()\u001b[0m\n",
      "\u001b[1;32mrasterio/_base.pyx\u001b[0m in \u001b[0;36mrasterio._base.DatasetReader.is_tiled.__get__ (rasterio/_base.c:11120)\u001b[1;34m()\u001b[0m\n",
      "\u001b[1;32mrasterio/_base.pyx\u001b[0m in \u001b[0;36mrasterio._base.DatasetReader.block_shapes.__get__ (rasterio/_base.c:6528)\u001b[1;34m()\u001b[0m\n",
      "\u001b[1;31mValueError\u001b[0m: can't read closed raster file"
     ]
    }
   ],
   "source": []
  },
  {
   "cell_type": "code",
   "execution_count": null,
   "metadata": {},
   "outputs": [],
   "source": []
  }
 ],
 "metadata": {
  "kernelspec": {
   "display_name": "Python 3",
   "language": "python",
   "name": "python3"
  },
  "language_info": {
   "codemirror_mode": {
    "name": "ipython",
    "version": 3
   },
   "file_extension": ".py",
   "mimetype": "text/x-python",
   "name": "python",
   "nbconvert_exporter": "python",
   "pygments_lexer": "ipython3",
   "version": "3.6.2"
  }
 },
 "nbformat": 4,
 "nbformat_minor": 2
}
