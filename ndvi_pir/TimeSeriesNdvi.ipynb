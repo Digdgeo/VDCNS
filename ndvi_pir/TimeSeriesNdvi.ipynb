{
 "cells": [
  {
   "cell_type": "code",
   "execution_count": 1,
   "metadata": {
    "collapsed": true
   },
   "outputs": [],
   "source": [
    "%matplotlib inline \n",
    "\n",
    "import os\n",
    "import rasterio\n",
    "import subprocess\n",
    "import numpy as np\n",
    "import matplotlib.pyplot as plt"
   ]
  },
  {
   "cell_type": "markdown",
   "metadata": {},
   "source": [
    "# Vamos a crear un stack con todos los ndvis"
   ]
  },
  {
   "cell_type": "code",
   "execution_count": null,
   "metadata": {},
   "outputs": [],
   "source": [
    "import rasterio\n",
    "\n",
    "path = r'I:\\ndvi_PIR\\ndvi_nor_rec'\n",
    "outfile = r'I:\\ndvi_PIR\\ndvi_nor_rec\\stack_full.TIF'\n",
    "file_list = []\n",
    "\n",
    "# Recorremos las escenas buscandio los ndvis\n",
    "for e in os.listdir(path):\n",
    "    if os.path.isdir(os.path.join(path, e)):\n",
    "        npath = os.path.join(path, e)\n",
    "        for f in os.listdir(npath):\n",
    "            if f.endswith('_ndvi.TIF'):\n",
    "                file_list.append(os.path.join(npath, f))\n",
    "                \n",
    "# Cogemos los metadatos de la primera banda\n",
    "with rasterio.open(file_list[0]) as src0:\n",
    "    meta = src0.meta\n",
    "\n",
    "# Actualizamos el numero de bandas que tendra el stack\n",
    "meta.update(count = len(file_list))\n",
    "\n",
    "# Leemos cada banda y la anadimos al stack\n",
    "with rasterio.open(outfile, 'w', **meta) as dst:\n",
    "    for id, layer in enumerate(file_list):\n",
    "        with rasterio.open(layer) as src1:\n",
    "            dst.write_band(id + 1, src1.read(1))"
   ]
  },
  {
   "cell_type": "code",
   "execution_count": null,
   "metadata": {},
   "outputs": [],
   "source": [
    "file_list.index('I:\\\\ndvi_PIR\\\\ndvi_nor_rec\\\\20090729l5tm202_32\\\\20090729l5tm202_32_grn1_ndvi.TIF')"
   ]
  },
  {
   "cell_type": "code",
   "execution_count": null,
   "metadata": {},
   "outputs": [],
   "source": [
    "file_list[13]"
   ]
  },
  {
   "cell_type": "code",
   "execution_count": null,
   "metadata": {
    "collapsed": true
   },
   "outputs": [],
   "source": [
    "stack = r'I:\\ndvi_PIR\\ndvis2\\stacks_ndvi'\n",
    "outpr = r'I:\\ndvi_PIR\\ndvis2\\stacks_ndvi_pr.img'\n",
    "std = r'I:\\ndvi_PIR\\ndvis2\\std_ndvi_pr.img'"
   ]
  },
  {
   "cell_type": "code",
   "execution_count": null,
   "metadata": {},
   "outputs": [],
   "source": [
    "with rasterio.open(stack) as src:\n",
    "    STACK = src.read()\n",
    "    NSTACK = STACK + 100\n",
    "    \n",
    "    std = STACK.std()\n",
    "    \n",
    "    profile = src.meta\n",
    "    profile.update(count=1)\n",
    "    \n",
    "with rasterio.open(outpr, 'w', **profile) as dst:\n",
    "    dst.write(std.astype(rasterio.float32)) "
   ]
  },
  {
   "cell_type": "code",
   "execution_count": null,
   "metadata": {},
   "outputs": [],
   "source": [
    "STACK.shape"
   ]
  },
  {
   "cell_type": "code",
   "execution_count": null,
   "metadata": {
    "collapsed": true
   },
   "outputs": [],
   "source": [
    "NSTACK = STACK + 100"
   ]
  },
  {
   "cell_type": "code",
   "execution_count": null,
   "metadata": {},
   "outputs": [],
   "source": [
    "a = np.array([[1,2,3], [2,4,5]])\n",
    "b = np.array([[1,2,3], [3,5,10]])\n",
    "c = np.array([[np.nan,20,30], [30,50,100]])\n",
    "d = np.array([[10000,2000,30000], [3000,5000,1000]])\n",
    "f = np.array([[10,20,30], [30,50,100]])\n",
    "\n",
    "\n",
    "e = np.dstack((a,b,c))\n",
    "f = np.std(e, axis=0)"
   ]
  },
  {
   "cell_type": "code",
   "execution_count": null,
   "metadata": {},
   "outputs": [],
   "source": [
    "a"
   ]
  },
  {
   "cell_type": "code",
   "execution_count": null,
   "metadata": {},
   "outputs": [],
   "source": [
    "b"
   ]
  },
  {
   "cell_type": "code",
   "execution_count": null,
   "metadata": {},
   "outputs": [],
   "source": [
    "e.shape"
   ]
  },
  {
   "cell_type": "code",
   "execution_count": null,
   "metadata": {},
   "outputs": [],
   "source": [
    "f.shape"
   ]
  },
  {
   "cell_type": "code",
   "execution_count": null,
   "metadata": {},
   "outputs": [],
   "source": [
    "aa = np.array([[1, 2, np.nan, 4], [1, 1, 1]])\n",
    "bb = np.array([[2,np.nan,1, 4], [2,2,2]])\n",
    "#aa.std()\n",
    "\n",
    "\n",
    "ee = np.stack((aa,bb), axis=0)\n",
    "ee"
   ]
  },
  {
   "cell_type": "code",
   "execution_count": null,
   "metadata": {},
   "outputs": [],
   "source": [
    "np.isnan(aa)"
   ]
  },
  {
   "cell_type": "code",
   "execution_count": null,
   "metadata": {},
   "outputs": [],
   "source": [
    "for i in e:\n",
    "    for j in i:\n",
    "        #for l in j:\n",
    "        print(j)"
   ]
  },
  {
   "cell_type": "code",
   "execution_count": null,
   "metadata": {},
   "outputs": [],
   "source": [
    "for x in np.nditer(e, flags=['external_loop']):\n",
    "    print (x)"
   ]
  },
  {
   "cell_type": "code",
   "execution_count": null,
   "metadata": {
    "collapsed": true
   },
   "outputs": [],
   "source": [
    "stack = r'I:\\ndvi_PIR\\ndvis2\\stacks_ndvi'\n",
    "stackfull = r'I:\\ndvi_PIR\\ndvi_nor_rec\\stack_full.TIF'"
   ]
  },
  {
   "cell_type": "code",
   "execution_count": null,
   "metadata": {
    "collapsed": true
   },
   "outputs": [],
   "source": [
    "astack = rasterio.open(stack)\n",
    "A = astack.read()\n",
    "fullstack = rasterio.open(stackfull)\n",
    "B = fullstack.read()"
   ]
  },
  {
   "cell_type": "code",
   "execution_count": null,
   "metadata": {},
   "outputs": [],
   "source": [
    "e"
   ]
  },
  {
   "cell_type": "code",
   "execution_count": null,
   "metadata": {
    "collapsed": true
   },
   "outputs": [],
   "source": [
    "def my_func(a):\n",
    "...     \"\"\"Average first and last element of a 1-D array\"\"\"\n",
    "...     return (a[0] - a[-1])"
   ]
  },
  {
   "cell_type": "code",
   "execution_count": null,
   "metadata": {},
   "outputs": [],
   "source": [
    " np.apply_along_axis(my_func, 0, e)"
   ]
  },
  {
   "cell_type": "code",
   "execution_count": null,
   "metadata": {},
   "outputs": [],
   "source": [
    "for i in np.ndindex(e.shape):\n",
    "    if e[i-1] - e[i] > 10:\n",
    "        print('mayor de 10')\n",
    "    else:\n",
    "        print('menor o igual a 10')\n",
    "    #print(i, e[i])"
   ]
  },
  {
   "cell_type": "code",
   "execution_count": null,
   "metadata": {},
   "outputs": [],
   "source": [
    "for i in e:\n",
    "    #print(i)\n",
    "    for n, j in enumerate(i):\n",
    "        #print(n, i[n])\n",
    "        for nn, el in enumerate(j):\n",
    "            if j[nn -1] - j[nn] < -500:\n",
    "                print('Eureka! Index:', (n, nn, el))\n",
    "            #print(n, nn, j[nn])\n",
    "        "
   ]
  },
  {
   "cell_type": "markdown",
   "metadata": {},
   "source": [
    "## Stack banda 5 std. SIEMPRE EL EJE 0!!"
   ]
  },
  {
   "cell_type": "code",
   "execution_count": null,
   "metadata": {},
   "outputs": [],
   "source": [
    "import rasterio\n",
    "\n",
    "path = r'I:\\ndvi_PIR\\ndvi_nor_rec'\n",
    "outfile = r'I:\\ndvi_PIR\\ndvi_nor_rec\\stack_b5.TIF'\n",
    "file_list = []\n",
    "\n",
    "# Recorremos las escenas buscandio los ndvis\n",
    "for e in os.listdir(path):\n",
    "    if os.path.isdir(os.path.join(path, e)):\n",
    "        npath = os.path.join(path, e)\n",
    "        for f in os.listdir(npath):\n",
    "            if f.endswith('_b5.TIF'):\n",
    "                file_list.append(os.path.join(npath, f))\n",
    "                \n",
    "# Cogemos los metadatos de la primera banda\n",
    "with rasterio.open(file_list[0]) as src0:\n",
    "    meta = src0.meta\n",
    "\n",
    "# Actualizamos el numero de bandas que tendra el stack\n",
    "meta.update(count = len(file_list))\n",
    "\n",
    "# Leemos cada banda y la anadimos al stack\n",
    "with rasterio.open(outfile, 'w', **meta) as dst:\n",
    "    for id, layer in enumerate(file_list):\n",
    "        with rasterio.open(layer) as src1:\n",
    "            dst.write_band(id + 1, src1.read(1))"
   ]
  },
  {
   "cell_type": "code",
   "execution_count": null,
   "metadata": {},
   "outputs": [],
   "source": [
    "stackb5 = r'I:\\ndvi_PIR\\ndvi_nor_rec\\stack_b5.TIF'\n",
    "outfile = r'I:\\ndvi_PIR\\ndvi_nor_rec\\rango_b5.TIF'\n",
    "\n",
    "\n",
    "with rasterio.open(stackb5) as src:\n",
    "    STACK = src.read()\n",
    "        \n",
    "    std = STACK.std(axis=1)\n",
    "    rango = STACK.max(axis=0)-STACK.min(axis=0)\n",
    "    profile = src.meta\n",
    "    profile.update(count=1)\n",
    "    profile.update(dtype=rasterio.float32)\n",
    "    \n",
    "with rasterio.open(outfile, 'w', **profile) as dst:\n",
    "    dst.write(rango.astype(rasterio.float32),1)"
   ]
  },
  {
   "cell_type": "markdown",
   "metadata": {},
   "source": [
    "## Stack banda 6 Landsat 8. 4 gigas solo la banda 6 en landsat8 \\0/"
   ]
  },
  {
   "cell_type": "code",
   "execution_count": 3,
   "metadata": {
    "scrolled": true
   },
   "outputs": [
    {
     "name": "stdout",
     "output_type": "stream",
     "text": [
      "Y:\\teledeteccion\\landsat\\nor\\20141202l8oli202_34\n",
      "Y:\\teledeteccion\\landsat\\nor\\20150308l8oli202_34\n",
      "Y:\\teledeteccion\\landsat\\nor\\20170804l8oli202_34\n",
      "Y:\\teledeteccion\\landsat\\nor\\20140321l8oli202_34\n",
      "Y:\\teledeteccion\\landsat\\nor\\20150730l8oli202_34\n",
      "Y:\\teledeteccion\\landsat\\nor\\20150714l8oli202_34\n",
      "Y:\\teledeteccion\\landsat\\nor\\20160902l8oli202_34\n",
      "Y:\\teledeteccion\\landsat\\nor\\20130708l8oli202_34\n",
      "Y:\\teledeteccion\\landsat\\nor\\20130724l8oli202_34\n",
      "Y:\\teledeteccion\\landsat\\nor\\20150220l8oli202_34\n",
      "Y:\\teledeteccion\\landsat\\nor\\20160207l8oli202_34\n",
      "Y:\\teledeteccion\\landsat\\nor\\20130809l8oli202_34\n",
      "Y:\\teledeteccion\\landsat\\nor\\20150815l8oli202_34\n",
      "Y:\\teledeteccion\\landsat\\nor\\20140929l8oli202_34\n",
      "Y:\\teledeteccion\\landsat\\nor\\20131129l8oli202_34\n",
      "Y:\\teledeteccion\\landsat\\nor\\20140422l8oli202_34\n",
      "Y:\\teledeteccion\\landsat\\nor\\20170124l8oli202_34\n",
      "Y:\\teledeteccion\\landsat\\nor\\20140828l8oli202_34\n",
      "Y:\\teledeteccion\\landsat\\nor\\20130505l8oli202_34\n",
      "Y:\\teledeteccion\\landsat\\nor\\20150103l8oli202_34\n",
      "Y:\\teledeteccion\\landsat\\nor\\20160801l8oli202_34\n",
      "Y:\\teledeteccion\\landsat\\nor\\20150527l8oli202_34\n",
      "Y:\\teledeteccion\\landsat\\nor\\20130521l8oli202_34\n",
      "Y:\\teledeteccion\\landsat\\nor\\20170905l8oli202_34\n",
      "Y:\\teledeteccion\\landsat\\nor\\20130825l8oli202_34\n",
      "Y:\\teledeteccion\\landsat\\nor\\20140625l8oli202_34\n",
      "Y:\\teledeteccion\\landsat\\nor\\20150831l8oli202_34\n",
      "Y:\\teledeteccion\\landsat\\nor\\20160427l8oli202_34\n",
      "Y:\\teledeteccion\\landsat\\nor\\20140406l8oli202_34\n",
      "Y:\\teledeteccion\\landsat\\nor\\20160630l8oli202_34\n",
      "Y:\\teledeteccion\\landsat\\nor\\20160817l8oli202_34\n",
      "Y:\\teledeteccion\\landsat\\nor\\20151221l8oli202_34\n",
      "Y:\\teledeteccion\\landsat\\nor\\20160716l8oli202_34\n",
      "Y:\\teledeteccion\\landsat\\nor\\20161223l8oli202_34\n",
      "Y:\\teledeteccion\\landsat\\nor\\20130910l8oli202_34\n",
      "Y:\\teledeteccion\\landsat\\nor\\20131215l8oli202_34\n",
      "Y:\\teledeteccion\\landsat\\nor\\20140609l8oli202_34\n",
      "Y:\\teledeteccion\\landsat\\nor\\20150204l8oli202_34\n",
      "Y:\\teledeteccion\\landsat\\nor\\20140727l8oli202_34\n",
      "Y:\\teledeteccion\\landsat\\nor\\20170617l8oli202_34\n",
      "Y:\\teledeteccion\\landsat\\nor\\20160614l8oli202_34\n",
      "Y:\\teledeteccion\\landsat\\nor\\20130926l8oli202_34\n",
      "Y:\\teledeteccion\\landsat\\nor\\20170414l8oli202_34\n",
      "Y:\\teledeteccion\\landsat\\nor\\20160223l8oli202_34\n",
      "Y:\\teledeteccion\\landsat\\nor\\20140812l8oli202_34\n",
      "Y:\\teledeteccion\\landsat\\nor\\20170921l8oli202_34\n",
      "Y:\\teledeteccion\\landsat\\nor\\20140711l8oli202_34\n",
      "Y:\\teledeteccion\\landsat\\nor\\20170329l8oli202_34\n",
      "Y:\\teledeteccion\\landsat\\nor\\20170601l8oli202_34\n",
      "Y:\\teledeteccion\\landsat\\nor\\20160529l8oli202_34\n",
      "Y:\\teledeteccion\\landsat\\nor\\20140508l8oli202_34\n",
      "Y:\\teledeteccion\\landsat\\nor\\20170209l8oli202_34\n",
      "Y:\\teledeteccion\\landsat\\nor\\20151205l8oli202_34\n",
      "Y:\\teledeteccion\\landsat\\nor\\20170703l8oli202_34\n",
      "Y:\\teledeteccion\\landsat\\nor\\20131113l8oli202_34\n",
      "Y:\\teledeteccion\\landsat\\nor\\20150628l8oli202_34\n",
      "Y:\\teledeteccion\\landsat\\nor\\20141218l8oli202_34\n",
      "Y:\\teledeteccion\\landsat\\nor\\20170108l8oli202_34\n",
      "Y:\\teledeteccion\\landsat\\nor\\20141116l8oli202_34\n",
      "Y:\\teledeteccion\\landsat\\nor\\20130622l8oli202_34\n",
      "Y:\\teledeteccion\\landsat\\nor\\20150511l8oli202_34\n",
      "Y:\\teledeteccion\\landsat\\nor\\20160106l8oli202_34\n",
      "Y:\\teledeteccion\\landsat\\nor\\20151002l8oli202_34\n",
      "Y:\\teledeteccion\\landsat\\nor\\20160310l8oli202_34\n",
      "Y:\\teledeteccion\\landsat\\nor\\20141031l8oli202_34\n",
      "Y:\\teledeteccion\\landsat\\nor\\20170820l8oli202_34\n",
      "Y:\\teledeteccion\\landsat\\nor\\20161004l8oli202_34\n",
      "Y:\\teledeteccion\\landsat\\nor\\20151119l8oli202_34\n",
      "Y:\\teledeteccion\\landsat\\nor\\20130419l8oli202_34\n",
      "Y:\\teledeteccion\\landsat\\nor\\20161207l8oli202_34\n",
      "Y:\\teledeteccion\\landsat\\nor\\20170719l8oli202_34\n"
     ]
    },
    {
     "name": "stderr",
     "output_type": "stream",
     "text": [
      "C:\\Users\\Diego\\Anaconda3\\lib\\site-packages\\rasterio\\__init__.py:160: FutureWarning: GDAL-style transforms are deprecated and will not be supported in Rasterio 1.0.\n",
      "  transform = guard_transform(transform)\n"
     ]
    },
    {
     "name": "stdout",
     "output_type": "stream",
     "text": [
      "finalizado en 521.9738521575928 segundos\n"
     ]
    }
   ],
   "source": [
    "import rasterio, time\n",
    "\n",
    "t0 = time.time()\n",
    "path = r'Y:\\teledeteccion\\landsat\\nor'\n",
    "outfile = r'I:\\ndvi_PIR\\stack_b6_LAST.img'\n",
    "b6 = []\n",
    "\n",
    "# craemos una lista con las Landsat8\n",
    "l8 = [os.path.join(path, i) for i in os.listdir(path) if 'l8oli' in i]\n",
    "\n",
    "for e in l8:\n",
    "    print(e)\n",
    "    for b in os.listdir(e):\n",
    "            \n",
    "        if b.endswith('_b6.img'):\n",
    "            b6.append(os.path.join(e,b))\n",
    "                \n",
    "# Cogemos los metadatos de la primera banda\n",
    "with rasterio.open(b6[0]) as src0:\n",
    "    meta = src0.meta\n",
    "\n",
    "# Actualizamos el numero de bandas que tendra el stack\n",
    "meta.update(count = len(b6))\n",
    "\n",
    "# Leemos cada banda y la anadimos al stack\n",
    "with rasterio.open(outfile, 'w', **meta) as dst:\n",
    "    for id, layer in enumerate(b6):\n",
    "        with rasterio.open(layer) as src1:\n",
    "            dst.write_band(id + 1, src1.read(1))\n",
    "            \n",
    "print('finalizado en', time.time()-t0, 'segundos')"
   ]
  },
  {
   "cell_type": "code",
   "execution_count": 4,
   "metadata": {},
   "outputs": [
    {
     "ename": "MemoryError",
     "evalue": "",
     "output_type": "error",
     "traceback": [
      "\u001b[1;31m---------------------------------------------------------------------------\u001b[0m",
      "\u001b[1;31mMemoryError\u001b[0m                               Traceback (most recent call last)",
      "\u001b[1;32m<ipython-input-4-47565b9db329>\u001b[0m in \u001b[0;36m<module>\u001b[1;34m()\u001b[0m\n\u001b[0;32m      6\u001b[0m     \u001b[0mSTACK\u001b[0m \u001b[1;33m=\u001b[0m \u001b[0msrc\u001b[0m\u001b[1;33m.\u001b[0m\u001b[0mread\u001b[0m\u001b[1;33m(\u001b[0m\u001b[1;33m)\u001b[0m\u001b[1;33m\u001b[0m\u001b[0m\n\u001b[0;32m      7\u001b[0m \u001b[1;33m\u001b[0m\u001b[0m\n\u001b[1;32m----> 8\u001b[1;33m     \u001b[0mstd\u001b[0m \u001b[1;33m=\u001b[0m \u001b[0mSTACK\u001b[0m\u001b[1;33m.\u001b[0m\u001b[0mstd\u001b[0m\u001b[1;33m(\u001b[0m\u001b[0maxis\u001b[0m\u001b[1;33m=\u001b[0m\u001b[1;36m0\u001b[0m\u001b[1;33m)\u001b[0m\u001b[1;33m\u001b[0m\u001b[0m\n\u001b[0m\u001b[0;32m      9\u001b[0m     \u001b[0mmean\u001b[0m \u001b[1;33m=\u001b[0m \u001b[0mSTACK\u001b[0m\u001b[1;33m.\u001b[0m\u001b[0mmean\u001b[0m\u001b[1;33m(\u001b[0m\u001b[0maxis\u001b[0m\u001b[1;33m=\u001b[0m\u001b[1;36m0\u001b[0m\u001b[1;33m)\u001b[0m\u001b[1;33m\u001b[0m\u001b[0m\n\u001b[0;32m     10\u001b[0m     \u001b[0mcv\u001b[0m \u001b[1;33m=\u001b[0m \u001b[0mstd\u001b[0m\u001b[1;33m/\u001b[0m\u001b[0mmean\u001b[0m\u001b[1;33m\u001b[0m\u001b[0m\n",
      "\u001b[1;32m~\\Anaconda3\\lib\\site-packages\\numpy\\core\\_methods.py\u001b[0m in \u001b[0;36m_std\u001b[1;34m(a, axis, dtype, out, ddof, keepdims)\u001b[0m\n\u001b[0;32m    122\u001b[0m \u001b[1;32mdef\u001b[0m \u001b[0m_std\u001b[0m\u001b[1;33m(\u001b[0m\u001b[0ma\u001b[0m\u001b[1;33m,\u001b[0m \u001b[0maxis\u001b[0m\u001b[1;33m=\u001b[0m\u001b[1;32mNone\u001b[0m\u001b[1;33m,\u001b[0m \u001b[0mdtype\u001b[0m\u001b[1;33m=\u001b[0m\u001b[1;32mNone\u001b[0m\u001b[1;33m,\u001b[0m \u001b[0mout\u001b[0m\u001b[1;33m=\u001b[0m\u001b[1;32mNone\u001b[0m\u001b[1;33m,\u001b[0m \u001b[0mddof\u001b[0m\u001b[1;33m=\u001b[0m\u001b[1;36m0\u001b[0m\u001b[1;33m,\u001b[0m \u001b[0mkeepdims\u001b[0m\u001b[1;33m=\u001b[0m\u001b[1;32mFalse\u001b[0m\u001b[1;33m)\u001b[0m\u001b[1;33m:\u001b[0m\u001b[1;33m\u001b[0m\u001b[0m\n\u001b[0;32m    123\u001b[0m     ret = _var(a, axis=axis, dtype=dtype, out=out, ddof=ddof,\n\u001b[1;32m--> 124\u001b[1;33m                keepdims=keepdims)\n\u001b[0m\u001b[0;32m    125\u001b[0m \u001b[1;33m\u001b[0m\u001b[0m\n\u001b[0;32m    126\u001b[0m     \u001b[1;32mif\u001b[0m \u001b[0misinstance\u001b[0m\u001b[1;33m(\u001b[0m\u001b[0mret\u001b[0m\u001b[1;33m,\u001b[0m \u001b[0mmu\u001b[0m\u001b[1;33m.\u001b[0m\u001b[0mndarray\u001b[0m\u001b[1;33m)\u001b[0m\u001b[1;33m:\u001b[0m\u001b[1;33m\u001b[0m\u001b[0m\n",
      "\u001b[1;32m~\\Anaconda3\\lib\\site-packages\\numpy\\core\\_methods.py\u001b[0m in \u001b[0;36m_var\u001b[1;34m(a, axis, dtype, out, ddof, keepdims)\u001b[0m\n\u001b[0;32m     99\u001b[0m     \u001b[1;31m# Note that x may not be inexact and that we need it to be an array,\u001b[0m\u001b[1;33m\u001b[0m\u001b[1;33m\u001b[0m\u001b[0m\n\u001b[0;32m    100\u001b[0m     \u001b[1;31m# not a scalar.\u001b[0m\u001b[1;33m\u001b[0m\u001b[1;33m\u001b[0m\u001b[0m\n\u001b[1;32m--> 101\u001b[1;33m     \u001b[0mx\u001b[0m \u001b[1;33m=\u001b[0m \u001b[0masanyarray\u001b[0m\u001b[1;33m(\u001b[0m\u001b[0marr\u001b[0m \u001b[1;33m-\u001b[0m \u001b[0marrmean\u001b[0m\u001b[1;33m)\u001b[0m\u001b[1;33m\u001b[0m\u001b[0m\n\u001b[0m\u001b[0;32m    102\u001b[0m     \u001b[1;32mif\u001b[0m \u001b[0missubclass\u001b[0m\u001b[1;33m(\u001b[0m\u001b[0marr\u001b[0m\u001b[1;33m.\u001b[0m\u001b[0mdtype\u001b[0m\u001b[1;33m.\u001b[0m\u001b[0mtype\u001b[0m\u001b[1;33m,\u001b[0m \u001b[0mnt\u001b[0m\u001b[1;33m.\u001b[0m\u001b[0mcomplexfloating\u001b[0m\u001b[1;33m)\u001b[0m\u001b[1;33m:\u001b[0m\u001b[1;33m\u001b[0m\u001b[0m\n\u001b[0;32m    103\u001b[0m         \u001b[0mx\u001b[0m \u001b[1;33m=\u001b[0m \u001b[0mum\u001b[0m\u001b[1;33m.\u001b[0m\u001b[0mmultiply\u001b[0m\u001b[1;33m(\u001b[0m\u001b[0mx\u001b[0m\u001b[1;33m,\u001b[0m \u001b[0mum\u001b[0m\u001b[1;33m.\u001b[0m\u001b[0mconjugate\u001b[0m\u001b[1;33m(\u001b[0m\u001b[0mx\u001b[0m\u001b[1;33m)\u001b[0m\u001b[1;33m,\u001b[0m \u001b[0mout\u001b[0m\u001b[1;33m=\u001b[0m\u001b[0mx\u001b[0m\u001b[1;33m)\u001b[0m\u001b[1;33m.\u001b[0m\u001b[0mreal\u001b[0m\u001b[1;33m\u001b[0m\u001b[0m\n",
      "\u001b[1;31mMemoryError\u001b[0m: "
     ]
    }
   ],
   "source": [
    "stackb6 = r'I:\\ndvi_PIR\\stack_b6_LAST.img'\n",
    "outfile = r'I:\\ndvi_PIR\\cv_b6_LAST.img'\n",
    "\n",
    "\n",
    "with rasterio.open(stackb6) as src:\n",
    "    STACK = src.read()\n",
    "        \n",
    "    std = STACK.std(axis=0)\n",
    "    mean = STACK.mean(axis=0)\n",
    "    cv = std/mean\n",
    "    #rango = STACK.max(axis=0)-STACK.min(axis=0)\n",
    "    profile = src.meta\n",
    "    profile.update(count=1)\n",
    "    profile.update(dtype=rasterio.float32)\n",
    "    \n",
    "with rasterio.open(outfile, 'w', **profile) as dst:\n",
    "    dst.write(cv.astype(rasterio.float32),1)"
   ]
  },
  {
   "cell_type": "code",
   "execution_count": null,
   "metadata": {},
   "outputs": [],
   "source": [
    "len(b6)"
   ]
  },
  {
   "cell_type": "code",
   "execution_count": null,
   "metadata": {
    "collapsed": true
   },
   "outputs": [],
   "source": []
  }
 ],
 "metadata": {
  "anaconda-cloud": {},
  "kernelspec": {
   "display_name": "Python 3",
   "language": "python",
   "name": "python3"
  },
  "language_info": {
   "codemirror_mode": {
    "name": "ipython",
    "version": 3
   },
   "file_extension": ".py",
   "mimetype": "text/x-python",
   "name": "python",
   "nbconvert_exporter": "python",
   "pygments_lexer": "ipython3",
   "version": "3.6.2"
  }
 },
 "nbformat": 4,
 "nbformat_minor": 2
}
