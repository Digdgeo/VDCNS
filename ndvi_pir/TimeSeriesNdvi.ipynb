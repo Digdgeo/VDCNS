{
 "cells": [
  {
   "cell_type": "code",
   "execution_count": null,
   "metadata": {
    "collapsed": true
   },
   "outputs": [],
   "source": [
    "%matplotlib inline \n",
    "\n",
    "import os\n",
    "import rasterio\n",
    "import subprocess\n",
    "import numpy as np\n",
    "import matplotlib.pyplot as plt"
   ]
  },
  {
   "cell_type": "markdown",
   "metadata": {},
   "source": [
    "# Vamos a crear un stack con todos los ndvis"
   ]
  },
  {
   "cell_type": "code",
   "execution_count": null,
   "metadata": {
    "collapsed": true
   },
   "outputs": [],
   "source": [
    "import rasterio\n",
    "\n",
    "path = r'I:\\ndvi_PIR\\ndvi_nor_rec'\n",
    "outfile = r'I:\\ndvi_PIR\\ndvi_nor_rec\\stack_full.TIF'\n",
    "file_list = []\n",
    "\n",
    "# Recorremos las escenas buscandio los ndvis\n",
    "for e in os.listdir(path):\n",
    "    if os.path.isdir(os.path.join(path, e)):\n",
    "        npath = os.path.join(path, e)\n",
    "        for f in os.listdir(npath):\n",
    "            if f.endswith('_ndvi.TIF'):\n",
    "                file_list.append(os.path.join(npath, f))\n",
    "                \n",
    "# Cogemos los metadatos de la primera banda\n",
    "with rasterio.open(file_list[0]) as src0:\n",
    "    meta = src0.meta\n",
    "\n",
    "# Actualizamos el numero de bandas que tendra el stack\n",
    "meta.update(count = len(file_list))\n",
    "\n",
    "# Leemos cada banda y la anadimos al stack\n",
    "with rasterio.open(outfile, 'w', **meta) as dst:\n",
    "    for id, layer in enumerate(file_list):\n",
    "        with rasterio.open(layer) as src1:\n",
    "            dst.write_band(id + 1, src1.read(1))"
   ]
  },
  {
   "cell_type": "code",
   "execution_count": null,
   "metadata": {
    "collapsed": true
   },
   "outputs": [],
   "source": [
    "file_list.index('I:\\\\ndvi_PIR\\\\ndvi_nor_rec\\\\20090729l5tm202_32\\\\20090729l5tm202_32_grn1_ndvi.TIF')"
   ]
  },
  {
   "cell_type": "code",
   "execution_count": null,
   "metadata": {
    "collapsed": true
   },
   "outputs": [],
   "source": [
    "file_list[13]"
   ]
  },
  {
   "cell_type": "code",
   "execution_count": null,
   "metadata": {
    "collapsed": true
   },
   "outputs": [],
   "source": [
    "stack = r'I:\\ndvi_PIR\\ndvis2\\stacks_ndvi'\n",
    "outpr = r'I:\\ndvi_PIR\\ndvis2\\stacks_ndvi_pr.img'\n",
    "std = r'I:\\ndvi_PIR\\ndvis2\\std_ndvi_pr.img'"
   ]
  },
  {
   "cell_type": "code",
   "execution_count": null,
   "metadata": {
    "collapsed": true
   },
   "outputs": [],
   "source": [
    "with rasterio.open(stack) as src:\n",
    "    STACK = src.read()\n",
    "    NSTACK = STACK + 100\n",
    "    \n",
    "    std = STACK.std()\n",
    "    \n",
    "    profile = src.meta\n",
    "    profile.update(count=1)\n",
    "    \n",
    "with rasterio.open(outpr, 'w', **profile) as dst:\n",
    "    dst.write(std.astype(rasterio.float32)) "
   ]
  },
  {
   "cell_type": "code",
   "execution_count": null,
   "metadata": {
    "collapsed": true
   },
   "outputs": [],
   "source": [
    "STACK.shape"
   ]
  },
  {
   "cell_type": "code",
   "execution_count": null,
   "metadata": {
    "collapsed": true
   },
   "outputs": [],
   "source": [
    "NSTACK = STACK + 100"
   ]
  },
  {
   "cell_type": "code",
   "execution_count": null,
   "metadata": {},
   "outputs": [],
   "source": [
    "a = np.array([[1,2,3], [2,4,5]])\n",
    "b = np.array([[1,2,3], [3,5,10]])\n",
    "c = np.array([[10,20,30], [30,50,100]])\n",
    "d = np.array([[10000,2000,30000], [3000,5000,1000]])\n",
    "f = np.array([[10,20,30], [30,50,100]])\n",
    "\n",
    "\n",
    "e = np.dstack((a,b,c))\n",
    "f = np.std(e, axis=0)\n",
    "\n",
    "a.shape"
   ]
  },
  {
   "cell_type": "code",
   "execution_count": null,
   "metadata": {},
   "outputs": [],
   "source": [
    "result_array = np.empty((2, 3))\n",
    "print(result_array .shape)\n",
    "lista = [a, b, c]\n",
    "for i in lista:\n",
    "    print(i.shape)\n",
    "    result = d.dstack(i)\n",
    "\n",
    "    "
   ]
  },
  {
   "cell_type": "code",
   "execution_count": null,
   "metadata": {},
   "outputs": [],
   "source": [
    "result_array"
   ]
  },
  {
   "cell_type": "code",
   "execution_count": null,
   "metadata": {
    "collapsed": true
   },
   "outputs": [],
   "source": [
    "e.shape"
   ]
  },
  {
   "cell_type": "code",
   "execution_count": null,
   "metadata": {
    "collapsed": true
   },
   "outputs": [],
   "source": [
    "f.shape"
   ]
  },
  {
   "cell_type": "code",
   "execution_count": null,
   "metadata": {
    "collapsed": true
   },
   "outputs": [],
   "source": [
    "aa = np.array([[1, 2, np.nan, 4], [1, 1, 1]])\n",
    "bb = np.array([[2,np.nan,1, 4], [2,2,2]])\n",
    "#aa.std()\n",
    "\n",
    "\n",
    "ee = np.stack((aa,bb), axis=0)\n",
    "ee"
   ]
  },
  {
   "cell_type": "code",
   "execution_count": null,
   "metadata": {
    "collapsed": true
   },
   "outputs": [],
   "source": [
    "np.isnan(aa)"
   ]
  },
  {
   "cell_type": "code",
   "execution_count": null,
   "metadata": {
    "collapsed": true
   },
   "outputs": [],
   "source": [
    "for i in e:\n",
    "    for j in i:\n",
    "        #for l in j:\n",
    "        print(j)"
   ]
  },
  {
   "cell_type": "code",
   "execution_count": null,
   "metadata": {
    "collapsed": true
   },
   "outputs": [],
   "source": [
    "for x in np.nditer(e, flags=['external_loop']):\n",
    "    print (x)"
   ]
  },
  {
   "cell_type": "code",
   "execution_count": null,
   "metadata": {
    "collapsed": true
   },
   "outputs": [],
   "source": [
    "stack = r'I:\\ndvi_PIR\\ndvis2\\stacks_ndvi'\n",
    "stackfull = r'I:\\ndvi_PIR\\ndvi_nor_rec\\stack_full.TIF'"
   ]
  },
  {
   "cell_type": "code",
   "execution_count": null,
   "metadata": {
    "collapsed": true
   },
   "outputs": [],
   "source": [
    "astack = rasterio.open(stack)\n",
    "A = astack.read()\n",
    "fullstack = rasterio.open(stackfull)\n",
    "B = fullstack.read()"
   ]
  },
  {
   "cell_type": "code",
   "execution_count": null,
   "metadata": {
    "collapsed": true
   },
   "outputs": [],
   "source": [
    "e"
   ]
  },
  {
   "cell_type": "code",
   "execution_count": null,
   "metadata": {
    "collapsed": true
   },
   "outputs": [],
   "source": [
    "def my_func(a):\n",
    "...     \"\"\"Average first and last element of a 1-D array\"\"\"\n",
    "...     return (a[0] - a[-1])"
   ]
  },
  {
   "cell_type": "code",
   "execution_count": null,
   "metadata": {
    "collapsed": true
   },
   "outputs": [],
   "source": [
    " np.apply_along_axis(my_func, 0, e)"
   ]
  },
  {
   "cell_type": "code",
   "execution_count": null,
   "metadata": {
    "collapsed": true
   },
   "outputs": [],
   "source": [
    "for i in np.ndindex(e.shape):\n",
    "    if e[i-1] - e[i] > 10:\n",
    "        print('mayor de 10')\n",
    "    else:\n",
    "        print('menor o igual a 10')\n",
    "    #print(i, e[i])"
   ]
  },
  {
   "cell_type": "code",
   "execution_count": null,
   "metadata": {
    "collapsed": true
   },
   "outputs": [],
   "source": [
    "for i in e:\n",
    "    #print(i)\n",
    "    for n, j in enumerate(i):\n",
    "        #print(n, i[n])\n",
    "        for nn, el in enumerate(j):\n",
    "            if j[nn -1] - j[nn] < -500:\n",
    "                print('Eureka! Index:', (n, nn, el))\n",
    "            #print(n, nn, j[nn])\n",
    "        "
   ]
  },
  {
   "cell_type": "markdown",
   "metadata": {},
   "source": [
    "## Stack banda 5 std. SIEMPRE EL EJE 0!!"
   ]
  },
  {
   "cell_type": "code",
   "execution_count": null,
   "metadata": {
    "collapsed": true
   },
   "outputs": [],
   "source": [
    "import rasterio\n",
    "\n",
    "path = r'I:\\ndvi_PIR\\ndvi_nor_rec'\n",
    "outfile = r'I:\\ndvi_PIR\\ndvi_nor_rec\\stack_b5.TIF'\n",
    "file_list = []\n",
    "\n",
    "# Recorremos las escenas buscandio los ndvis\n",
    "for e in os.listdir(path):\n",
    "    if os.path.isdir(os.path.join(path, e)):\n",
    "        npath = os.path.join(path, e)\n",
    "        for f in os.listdir(npath):\n",
    "            if f.endswith('_b5.TIF'):\n",
    "                file_list.append(os.path.join(npath, f))\n",
    "                \n",
    "# Cogemos los metadatos de la primera banda\n",
    "with rasterio.open(file_list[0]) as src0:\n",
    "    meta = src0.meta\n",
    "\n",
    "# Actualizamos el numero de bandas que tendra el stack\n",
    "meta.update(count = len(file_list))\n",
    "\n",
    "# Leemos cada banda y la anadimos al stack\n",
    "with rasterio.open(outfile, 'w', **meta) as dst:\n",
    "    for id, layer in enumerate(file_list):\n",
    "        with rasterio.open(layer) as src1:\n",
    "            dst.write_band(id + 1, src1.read(1))"
   ]
  },
  {
   "cell_type": "code",
   "execution_count": null,
   "metadata": {
    "collapsed": true
   },
   "outputs": [],
   "source": [
    "stackb5 = r'I:\\ndvi_PIR\\ndvi_nor_rec\\stack_b5.TIF'\n",
    "outfile = r'I:\\ndvi_PIR\\ndvi_nor_rec\\rango_b5.TIF'\n",
    "\n",
    "\n",
    "with rasterio.open(stackb5) as src:\n",
    "    STACK = src.read()\n",
    "        \n",
    "    std = STACK.std(axis=1)\n",
    "    rango = STACK.max(axis=0)-STACK.min(axis=0)\n",
    "    profile = src.meta\n",
    "    profile.update(count=1)\n",
    "    profile.update(dtype=rasterio.float32)\n",
    "    \n",
    "with rasterio.open(outfile, 'w', **profile) as dst:\n",
    "    dst.write(rango.astype(rasterio.float32),1)"
   ]
  },
  {
   "cell_type": "markdown",
   "metadata": {},
   "source": [
    "## Stack banda 6 Landsat 8. 4 gigas solo la banda 6 en landsat8 \\0/"
   ]
  },
  {
   "cell_type": "code",
   "execution_count": null,
   "metadata": {
    "scrolled": true
   },
   "outputs": [],
   "source": [
    "import rasterio, time\n",
    "\n",
    "t0 = time.time()\n",
    "path = r'Y:\\teledeteccion\\landsat\\nor'\n",
    "outfile = r'I:\\ndvi_PIR\\stack_b6_LAST.img'\n",
    "b6 = []\n",
    "\n",
    "# craemos una lista con las Landsat8\n",
    "l8 = [os.path.join(path, i) for i in os.listdir(path) if 'l8oli' in i]\n",
    "print(len(l8))\n",
    "for e in l8:\n",
    "    print(e)\n",
    "    for b in os.listdir(e):\n",
    "            \n",
    "        if b.endswith('_b6.img'):\n",
    "            b6.append(os.path.join(e,b))\n",
    "                \n",
    "# Cogemos los metadatos de la primera banda\n",
    "with rasterio.open(b6[0]) as src0:\n",
    "    meta = src0.meta\n",
    "\n",
    "# Actualizamos el numero de bandas que tendra el stack\n",
    "meta.update(count = len(b6))\n",
    "\n",
    "# Leemos cada banda y la anadimos al stack\n",
    "with rasterio.open(outfile, 'w', **meta) as dst:\n",
    "    for id, layer in enumerate(b6):\n",
    "        with rasterio.open(layer) as src1:\n",
    "            dst.write_band(id + 1, src1.read(1))\n",
    "            \n",
    "print('finalizado en', time.time()-t0, 'segundos')"
   ]
  },
  {
   "cell_type": "code",
   "execution_count": null,
   "metadata": {},
   "outputs": [],
   "source": [
    "t0 = time.time()\n",
    "\n",
    "stackb6 = r'I:\\ndvi_PIR\\b6LAST_cg.TIF'\n",
    "outfile = r'I:\\ndvi_PIR\\cv_b6_cg.TIF'\n",
    "\n",
    "\n",
    "with rasterio.open(stackb6) as src:\n",
    "    STACK = src.read()\n",
    "        \n",
    "    std = STACK.std(axis=0)\n",
    "    mean = STACK.mean(axis=0)\n",
    "    cv = std/mean\n",
    "    #rango = STACK.max(axis=0)-STACK.min(axis=0)\n",
    "    profile = src.meta\n",
    "    profile.update(count=1)\n",
    "    profile.update(dtype=rasterio.float32)\n",
    "    \n",
    "with rasterio.open(outfile, 'w', **profile) as dst:\n",
    "    dst.write(cv.astype(rasterio.float32),1)\n",
    "    \n",
    "print('finalizado en', time.time()-t0, 'segundos')"
   ]
  },
  {
   "cell_type": "code",
   "execution_count": null,
   "metadata": {
    "collapsed": true
   },
   "outputs": [],
   "source": [
    "len(b6)"
   ]
  },
  {
   "cell_type": "code",
   "execution_count": null,
   "metadata": {},
   "outputs": [],
   "source": [
    "!gdalwarp -cutline I:\\ndvi_PIR\\CG.shp -crop_to_cutline I:\\ndvi_PIR\\stack_b6_LAST.img I:\\ndvi_PIR\\b6LAST_cg.TIF"
   ]
  },
  {
   "cell_type": "markdown",
   "metadata": {},
   "source": [
    "Quitando las nubes"
   ]
  },
  {
   "cell_type": "code",
   "execution_count": null,
   "metadata": {},
   "outputs": [],
   "source": [
    "import rasterio, time\n",
    "\n",
    "t0 = time.time()\n",
    "path = r'Y:\\teledeteccion\\landsat\\nor'\n",
    "outpath = r'C:\\test_std'\n",
    "b6 = []\n",
    "b6_arrs = {}\n",
    "years = ['2015', '2016', '2017']\n",
    "\n",
    "# craemos una lista con las Landsat8\n",
    "l8 = [os.path.join(path, i) for i in os.listdir(path) if 'l8oli' in i and i[:4] in  years]\n",
    "print(len(l8))\n",
    "\n",
    "for e in l8:\n",
    "    escena = os.path.split(e)[1]\n",
    "    c = 0\n",
    "    for b in os.listdir(e):\n",
    "        \n",
    "        if b.endswith('_b6.img'):\n",
    "            print(b)\n",
    "            c += 1\n",
    "            with rasterio.open(os.path.join(e,b)) as src:\n",
    "                ARR = src.read()\n",
    "        elif b.endswith('_CM.img'):\n",
    "            c += 1\n",
    "            print(b)\n",
    "            with rasterio.open(os.path.join(e,b)) as srcM:\n",
    "                CM = srcM.read()\n",
    "                \n",
    "        \n",
    "        if c == 2:\n",
    "            profile = src.meta\n",
    "            outfile = os.path.join(outpath, escena + '_b6corr.img')\n",
    "            print(escena)\n",
    "            ARR_CORR = np.where(CM == 1, np.nan, ARR)\n",
    "            \n",
    "            with rasterio.open(outfile, 'w', **profile) as dst:\n",
    "                dst.write(ARR_CORR.astype(rasterio.uint8)) \n",
    "                \n",
    "                \n",
    "# Cogemos los metadatos de la primera banda\n",
    "'''with rasterio.open(b6[0]) as src0:\n",
    "    meta = src0.meta\n",
    "\n",
    "# Actualizamos el numero de bandas que tendra el stack\n",
    "meta.update(count = len(b6))\n",
    "\n",
    "# Leemos cada banda y la anadimos al stack\n",
    "with rasterio.open(outfile, 'w', **meta) as dst:\n",
    "    for id, layer in enumerate(b6):\n",
    "        with rasterio.open(layer) as src1:\n",
    "            dst.write_band(id + 1, src1.read(1))\n",
    "            \n",
    "print('finalizado en', time.time()-t0, 'segundos')'''"
   ]
  },
  {
   "cell_type": "code",
   "execution_count": null,
   "metadata": {
    "collapsed": true
   },
   "outputs": [],
   "source": []
  }
 ],
 "metadata": {
  "anaconda-cloud": {},
  "kernelspec": {
   "display_name": "Python 3",
   "language": "python",
   "name": "python3"
  },
  "language_info": {
   "codemirror_mode": {
    "name": "ipython",
    "version": 3
   },
   "file_extension": ".py",
   "mimetype": "text/x-python",
   "name": "python",
   "nbconvert_exporter": "python",
   "pygments_lexer": "ipython3",
   "version": "3.6.2"
  }
 },
 "nbformat": 4,
 "nbformat_minor": 2
}
