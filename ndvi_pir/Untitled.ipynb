{
 "cells": [
  {
   "cell_type": "code",
   "execution_count": 2,
   "metadata": {},
   "outputs": [],
   "source": [
    "import rasterio\n",
    "import numpy as np\n",
    "\n",
    "stackb5 = r'I:\\ndvi_PIR\\ndvi_nor_rec\\stack_b5.TIF'\n",
    "outfile = r'I:\\ndvi_PIR\\ndvi_nor_rec\\cv_b5.TIF'\n",
    "\n",
    "\n",
    "with rasterio.open(stackb5) as src:\n",
    "    STACK = src.read()\n",
    "        \n",
    "    std = STACK.std(axis=0)\n",
    "    mean = STACK.mean(axis=0)\n",
    "    cv = np.true_divide(std, mean)\n",
    "    #rango = STACK.max(axis=0)-STACK.min(axis=0)\n",
    "    profile = src.meta\n",
    "    profile.update(count=1)\n",
    "    profile.update(dtype=rasterio.float32)\n",
    "    \n",
    "with rasterio.open(outfile, 'w', **profile) as dst:\n",
    "    dst.write(std.astype(rasterio.float32),1)"
   ]
  },
  {
   "cell_type": "code",
   "execution_count": null,
   "metadata": {},
   "outputs": [],
   "source": []
  }
 ],
 "metadata": {
  "anaconda-cloud": {},
  "kernelspec": {
   "display_name": "Python [conda root]",
   "language": "python",
   "name": "conda-root-py"
  },
  "language_info": {
   "codemirror_mode": {
    "name": "ipython",
    "version": 3
   },
   "file_extension": ".py",
   "mimetype": "text/x-python",
   "name": "python",
   "nbconvert_exporter": "python",
   "pygments_lexer": "ipython3",
   "version": "3.5.3"
  }
 },
 "nbformat": 4,
 "nbformat_minor": 2
}
