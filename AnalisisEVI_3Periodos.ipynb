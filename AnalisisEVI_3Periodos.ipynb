{
 "cells": [
  {
   "cell_type": "markdown",
   "metadata": {},
   "source": [
    "# Generando EVI_RECLASS"
   ]
  },
  {
   "cell_type": "code",
   "execution_count": null,
   "metadata": {},
   "outputs": [],
   "source": [
    "import os, rasterio, subprocess\n",
    "\n",
    "escena = r'Y:\\Proyectos\\marina_valdecanas\\capas\\teledeteccion\\Landsat\\pro\\20161004l8oli202_32'\n",
    "\n",
    "#for pro in os.listdir(path_pro):\n",
    "    \n",
    "#escena = os.path.join(path_pro, pro)\n",
    "\n",
    "for i in os.listdir(escena):\n",
    "\n",
    "   \n",
    "\n",
    "    if i.endswith('evi_rec.img'):\n",
    "        evi = os.path.join(escena, i)\n",
    "\n",
    "    elif i.endswith('water_reclass_3.img'):\n",
    "            watermask = os.path.join(escena, i)\n",
    "\n",
    "with rasterio.open(evi) as src_evi:\n",
    "    EVIREC = src_evi.read()\n",
    "with rasterio.open(watermask) as src_msk:\n",
    "    WATER = src_msk.read()\n",
    "\n",
    "EVIREC[WATER != 1] = 0\n",
    "\n",
    "outfile = os.path.join(escena, os.path.split(escena)[1] + '_evi_reclass.img')\n",
    "\n",
    "profile = src_evi.meta\n",
    "#profile.update(dtype=rasterio.float32)\n",
    "\n",
    "with rasterio.open(outfile, 'w', **profile) as dst:\n",
    "    dst.write(EVIREC.astype(rasterio.float32))\n",
    "\n",
    "print(escena, 'realizada')\n",
    "\n"
   ]
  },
  {
   "cell_type": "markdown",
   "metadata": {},
   "source": [
    "# Generando EVI_RECLASS a 0.05"
   ]
  },
  {
   "cell_type": "code",
   "execution_count": null,
   "metadata": {
    "scrolled": true
   },
   "outputs": [],
   "source": [
    "import os, rasterio, subprocess\n",
    "import numpy as np\n",
    "\n",
    "path_pro = r'Y:\\Proyectos\\marina_valdecanas\\capas\\teledeteccion\\Landsat\\pro'\n",
    "\n",
    "for pro in os.listdir(path_pro):\n",
    "       \n",
    "    escena = os.path.join(path_pro, pro)\n",
    "\n",
    "    if os.path.isdir(escena):\n",
    "\n",
    "        for i in os.listdir(escena):\n",
    "\n",
    "            try:\n",
    "\n",
    "                if i.endswith('_evi_reclass.img'):\n",
    "                    evi = os.path.join(escena, i)\n",
    "\n",
    "\n",
    "                    #print(watermask,'\\n', evi)\n",
    "                    #Ya tenemos la variables en cada escena, ahora hacemos la reclasificación para que lo que no sea agua valga 0, y \n",
    "                    #no alterar la suma metiendo valores altos de pastizales que pudiera haber en las orillas\n",
    "\n",
    "                    with rasterio.open(evi) as src_evi:\n",
    "                        EVIREC = src_evi.read()\n",
    "\n",
    "                    #Ahora mismo hacemos un reclassify entre lo que es agua y lo que no, para poder calcualr después frecuencias\n",
    "                    EVIRECLASS = np.where(EVIREC >= 0.05, 1, 0)\n",
    "\n",
    "                    #outfile = os.path.join(escena, os.path.split(escena)[1] + '_binwaterB.img')\n",
    "                    outfile = os.path.join(escena, os.path.split(escena)[1] + '_evi_reclass_05.img')\n",
    "                    \n",
    "                    profile = src_evi.meta\n",
    "                    #profile.update(dtype=rasterio.float32)\n",
    "\n",
    "                    with rasterio.open(outfile, 'w', **profile) as dst:\n",
    "                        dst.write(EVIRECLASS.astype(rasterio.float32))\n",
    "\n",
    "                    print(escena, 'realizada')\n",
    "\n",
    "            except Exception as e:\n",
    "                print(escena, e)\n",
    "                continue"
   ]
  },
  {
   "cell_type": "markdown",
   "metadata": {},
   "source": [
    "# Ahora tenemos que crear para cada periodo, un raster con el número de veces que el pixel es valido y la suma de los días que ha estado por encima de 0.05"
   ]
  },
  {
   "cell_type": "code",
   "execution_count": null,
   "metadata": {},
   "outputs": [],
   "source": [
    "import os\n",
    "import rasterio\n",
    "from rasterio import plot\n",
    "import matplotlib.pyplot as plt\n",
    "\n",
    "rutapro = r'Y:\\Proyectos\\marina_valdecanas\\capas\\teledeteccion\\Landsat\\pro'\n",
    "rutasave = r'C:\\Users\\equipo\\Desktop\\Valdecañas\\EVI\\raster'\n",
    "\n",
    "evisPres = []\n",
    "evisDur = []\n",
    "evisPost = []\n",
    "\n",
    "WS_Pres = []\n",
    "WS_Dur = []\n",
    "WS_Post = []"
   ]
  },
  {
   "cell_type": "code",
   "execution_count": null,
   "metadata": {},
   "outputs": [],
   "source": [
    "for i in os.listdir(rutapro):\n",
    "    if os.path.isdir(os.path.join(rutapro, i)) and not 'EVI' in i:\n",
    "        if int(i[:6]) < 200707:\n",
    "            escena = os.path.join(rutapro, i)\n",
    "            for f in os.listdir(escena):\n",
    "                if f.endswith('_evi_reclass_05.img'):\n",
    "                    evisPres.append(os.path.join(escena, f))\n",
    "                elif f.endswith('_binwater.img'):\n",
    "                    WS_Pres.append(os.path.join(escena, f))\n",
    "        elif int(i[:6]) > 201107:\n",
    "            escena = os.path.join(rutapro, i)\n",
    "            for f in os.listdir(escena):\n",
    "                if f.endswith('_evi_reclass_05.img'):\n",
    "                    evisPost.append(os.path.join(escena, f))\n",
    "                elif f.endswith('_binwater.img'):\n",
    "                    WS_Post.append(os.path.join(escena, f))\n",
    "        else:\n",
    "            escena = os.path.join(rutapro, i)\n",
    "            for f in os.listdir(escena):\n",
    "                if f.endswith('_evi_reclass_05.img'):\n",
    "                    evisDur.append(os.path.join(escena, f))\n",
    "                elif f.endswith('_binwater.img'):\n",
    "                    WS_Dur.append(os.path.join(escena, f))"
   ]
  },
  {
   "cell_type": "code",
   "execution_count": null,
   "metadata": {},
   "outputs": [],
   "source": [
    "print(len(evisPres), len(evisDur), len(evisPost))"
   ]
  },
  {
   "cell_type": "markdown",
   "metadata": {},
   "source": [
    "# Hacemos dos listas con los 3 periodos y hacemos un stack para cada periodo y variable (EVIs y Waterbin)"
   ]
  },
  {
   "cell_type": "code",
   "execution_count": null,
   "metadata": {},
   "outputs": [],
   "source": [
    "#Listas con los periodos\n",
    "evis = [sorted(evisPres), sorted(evisDur), sorted(evisPost)]\n",
    "waters = [sorted(WS_Pres), sorted(WS_Dur), sorted(WS_Post)]\n",
    "\n",
    "#Listas con los nombres de los stacks que se generaraán\n",
    "evisout = [os.path.join(rutasave, 'evis_pres_stack.img'), \n",
    "           os.path.join(rutasave, 'evis_dur_stack.img'), \n",
    "           os.path.join(rutasave, 'evis_post_stack.img')]\n",
    "watersout = [os.path.join(rutasave, 'waterbin_pres_stack.img'), \n",
    "           os.path.join(rutasave, 'waterbin_dur_stack.img'), \n",
    "           os.path.join(rutasave, 'waterbin_post_stack.img')]\n",
    "\n",
    "#Lista con las dos variables\n",
    "paramsIn = [evis, waters]\n",
    "paramsOut = [evisout, watersout]"
   ]
  },
  {
   "cell_type": "code",
   "execution_count": null,
   "metadata": {},
   "outputs": [],
   "source": [
    "d = {'pres':[], 'dur':[], 'post':[]}\n",
    "\n",
    "for i in os.listdir(rutasave):\n",
    "    if i.endswith('.img'):\n",
    "        param = i.split('_')[1]\n",
    "        if i.startswith('evis'):\n",
    "            d[param].append(os.path.join(rutasave, i))\n",
    "        elif i.startswith('water'):\n",
    "            d[param].append(os.path.join(rutasave, i))\n",
    "            "
   ]
  },
  {
   "cell_type": "code",
   "execution_count": null,
   "metadata": {},
   "outputs": [],
   "source": [
    "d"
   ]
  },
  {
   "cell_type": "code",
   "execution_count": null,
   "metadata": {},
   "outputs": [],
   "source": [
    "#Esto se hace para cada uno de los periodos de forma automática\n",
    "for nn, ee in enumerate(paramsIn):\n",
    "    \n",
    "    for n, e in enumerate(ee):\n",
    "    \n",
    "    \n",
    "        outfile = paramsOut[nn][n]\n",
    "        print(n, e[0])\n",
    "        print('Outfile: ', outfile)\n",
    "\n",
    "        # Read metadata of first file\n",
    "        with rasterio.open(e[0]) as src0:\n",
    "            meta = src0.meta\n",
    "\n",
    "        # Update meta to reflect the number of layers\n",
    "        meta.update(count = len(e))\n",
    "\n",
    "        # Read each layer and write it to stack\n",
    "        with rasterio.open(outfile, 'w', **meta) as dst:\n",
    "            for id, layer in enumerate(e):\n",
    "                with rasterio.open(layer) as src1:\n",
    "                    dst.write_band(id + 1, src1.read(1))\n",
    "        "
   ]
  },
  {
   "cell_type": "markdown",
   "metadata": {},
   "source": [
    "# Hacemos la suma con de los stacks"
   ]
  },
  {
   "cell_type": "code",
   "execution_count": null,
   "metadata": {},
   "outputs": [],
   "source": [
    "import numpy as np\n",
    "\n",
    "for k, v in d.items():\n",
    "    #V[0] es EVI y v[1] es water\n",
    "    outfile = os.path.join(rutasave, 'sumNan_water_' + k + '.img')\n",
    "    with rasterio.open(v[1]) as src0:\n",
    "        \n",
    "        EVI = src0.read()\n",
    "        EVISUM = np.nansum(EVI, axis=0)\n",
    "\n",
    "        meta = src0.meta\n",
    "        meta.update(count=1)\n",
    "        meta.update(dtype=rasterio.int16)      \n",
    "\n",
    "        # Read each layer and write it to stack\n",
    "        with rasterio.open(outfile, 'w', **meta) as dst:\n",
    "            dst.write_band(1, EVISUM.astype(rasterio.int16))"
   ]
  },
  {
   "cell_type": "markdown",
   "metadata": {},
   "source": [
    "# Tenemos un diccionario con los evis y su acumulado de agua, ahora sacamos la frecuencia"
   ]
  },
  {
   "cell_type": "code",
   "execution_count": null,
   "metadata": {},
   "outputs": [],
   "source": [
    "dsum = {'pres':[], 'dur':[], 'post':[]}\n",
    "\n",
    "for i in os.listdir(rutasave):\n",
    "    \n",
    "    if i.endswith('.img') and i.startswith('sum_'):\n",
    "        \n",
    "        param = i.split('_')[2][:-4]\n",
    "        if 'evi' in i:\n",
    "            dsum[param].append(os.path.join(rutasave, i))\n",
    "        elif 'water' in i:\n",
    "            dsum[param].append(os.path.join(rutasave, i))\n",
    "            "
   ]
  },
  {
   "cell_type": "code",
   "execution_count": null,
   "metadata": {},
   "outputs": [],
   "source": [
    "dsum"
   ]
  },
  {
   "cell_type": "code",
   "execution_count": null,
   "metadata": {},
   "outputs": [],
   "source": [
    "import os, rasterio, subprocess\n",
    "\n",
    "\n",
    "for k, v in dsum.items():\n",
    "    \n",
    "    outfile = os.path.join(rutasave, 'fre_' + k + '.img')\n",
    "    \n",
    "    with rasterio.open(v[0]) as sumaevi:\n",
    "        SUMAEVI = sumaevi.read()\n",
    "    \n",
    "    with rasterio.open(v[1]) as sumawater:\n",
    "        SUMAWATER = sumawater.read()\n",
    "\n",
    "    FRECUENCY = (SUMAEVI / SUMAWATER) * 100\n",
    "\n",
    "    profile = sumaevi.meta\n",
    "    profile.update(dtype=rasterio.float32)\n",
    "\n",
    "    with rasterio.open(outfile, 'w', **profile) as dst:\n",
    "        dst.write(FRECUENCY.astype(rasterio.float32))\n",
    "\n",
    "    print('realizado')"
   ]
  },
  {
   "cell_type": "markdown",
   "metadata": {},
   "source": [
    "# Comprobado que los calculos son correctos (cotejados con np.nanmean) vamos a pasar los raster de frecuencias a byte (valores de 0 a 100 en enteros, a que no se precisan decimales) y los rasters de Media de EVI a Enteros de 0 a 10.000"
   ]
  },
  {
   "cell_type": "markdown",
   "metadata": {},
   "source": [
    "Pasasmos los rasters de Freq a Byte con GDAL_TRANSLATE, se hace redondeando los valores al entero más cercano"
   ]
  },
  {
   "cell_type": "code",
   "execution_count": null,
   "metadata": {},
   "outputs": [],
   "source": [
    "!gdal_translate -ot Byte C:\\Users\\equipo\\Desktop\\Valdecañas\\EVI\\raster\\fre_pres.img C:\\Users\\equipo\\Desktop\\Valdecañas\\EVI\\raster\\byte\\freq_presB.img"
   ]
  },
  {
   "cell_type": "markdown",
   "metadata": {},
   "source": [
    "Ahora vamos a pasar las medias a la escala de MODIS (-10000 - 10000)"
   ]
  },
  {
   "cell_type": "code",
   "execution_count": null,
   "metadata": {},
   "outputs": [],
   "source": [
    "import rasterio\n",
    "\n",
    "path = r'Y:\\Proyectos\\marina_valdecanas\\capas\\teledeteccion\\Landsat\\pro\\Analisis_EVI\\3_periodos\\raster'\n",
    "\n",
    "preMean = os.path.join(path, 'eviPre_mean.img')\n",
    "durMean = os.path.join(path, 'eviDur_mean.img')\n",
    "PostMean = os.path.join(path, 'eviPost_mean.img')"
   ]
  },
  {
   "cell_type": "code",
   "execution_count": null,
   "metadata": {},
   "outputs": [],
   "source": [
    "outfile = r'C:\\Users\\equipo\\Desktop\\Valdecañas\\EVI\\raster\\byte\\PostMean10K.img'\n",
    "\n",
    "with rasterio.open(PostMean) as src:\n",
    "    \n",
    "    POSTMEAN = src.read()\n",
    "\n",
    "    POSTMEAN10K = POSTMEAN * 10000\n",
    "\n",
    "    profile = src.meta\n",
    "    profile.update(dtype=rasterio.int32)\n",
    "\n",
    "with rasterio.open(outfile, 'w', **profile) as dst:\n",
    "    dst.write(POSTMEAN10K.astype(rasterio.int32))\n",
    "\n",
    "print('realizado')"
   ]
  },
  {
   "cell_type": "code",
   "execution_count": null,
   "metadata": {},
   "outputs": [],
   "source": []
  }
 ],
 "metadata": {
  "kernelspec": {
   "display_name": "Python 3",
   "language": "python",
   "name": "python3"
  },
  "language_info": {
   "codemirror_mode": {
    "name": "ipython",
    "version": 3
   },
   "file_extension": ".py",
   "mimetype": "text/x-python",
   "name": "python",
   "nbconvert_exporter": "python",
   "pygments_lexer": "ipython3",
   "version": "3.6.4"
  }
 },
 "nbformat": 4,
 "nbformat_minor": 2
}
