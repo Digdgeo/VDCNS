{
 "cells": [
  {
   "cell_type": "code",
   "execution_count": null,
   "metadata": {
    "collapsed": false
   },
   "outputs": [],
   "source": [
    "from shapely.geometry import Polygon\n",
    "p1=Polygon([(0,0),(1,1),(1,0)])\n",
    "p2=Polygon([(0,1),(1,0),(1,1)])\n",
    "a1 = r'C:\\Users\\Diego\\Desktop\\delete\\marcos\\reproject\\pr1.shp'\n",
    "#a2 = Polygon(r'C:\\Users\\Diego\\Desktop\\delete\\marcos\\reproject\\pr_2.shp')\n",
    "#print(a1.intersects(a2))"
   ]
  },
  {
   "cell_type": "code",
   "execution_count": 3,
   "metadata": {
    "collapsed": true
   },
   "outputs": [],
   "source": [
    "from shapely.geometry import Polygon\n",
    "\n",
    "def extract_poly_coords(geom):\n",
    "    if geom.type == 'Polygon':\n",
    "        coords = geom.exterior.coords[:]\n",
    "        return coords"
   ]
  },
  {
   "cell_type": "code",
   "execution_count": null,
   "metadata": {
    "collapsed": false
   },
   "outputs": [],
   "source": [
    "extract_poly_coords(r'O:\\VDCNS\\protocolo\\pro\\pr\\waterl7.shp')"
   ]
  },
  {
   "cell_type": "code",
   "execution_count": null,
   "metadata": {
    "collapsed": false
   },
   "outputs": [],
   "source": [
    "def extract_poly_coords(geom):\n",
    "    \n",
    "    if geom.type == 'Polygon':\n",
    "        exterior_coords = geom.exterior.coords[:]\n",
    "        interior_coords = []\n",
    "        for int in geom.interiors:\n",
    "            interior_coords += i.coords[:]\n",
    "            \n",
    "    elif geom.type == 'MultiPolygon':\n",
    "        exterior_coords = []\n",
    "        interior_coords = []\n",
    "        for part in geom:\n",
    "            epc = extract_poly_coords(part)  # Recursive call\n",
    "            exterior_coords += epc['exterior_coords']\n",
    "            interior_coords += epc['interior_coords']\n",
    "    else:\n",
    "        raise ValueError('Unhandled geometry type: ' + repr(geom.type))\n",
    "    return {'exterior_coords': exterior_coords,\n",
    "            'interior_coords': interior_coords}"
   ]
  },
  {
   "cell_type": "code",
   "execution_count": null,
   "metadata": {
    "collapsed": false
   },
   "outputs": [],
   "source": [
    "extract_poly_coords(Polygon(r'O:\\VDCNS\\protocolo\\pro\\pr\\waterl7.shp'))"
   ]
  },
  {
   "cell_type": "code",
   "execution_count": 5,
   "metadata": {
    "collapsed": false
   },
   "outputs": [
    {
     "name": "stdout",
     "output_type": "stream",
     "text": [
      "yy\n"
     ]
    }
   ],
   "source": [
    "p1 = r'O:\\VDCNS\\protocolo\\pro\\pr\\waterl7.shp'\n",
    "import fiona\n",
    "d = fiona.open(r'O:\\VDCNS\\protocolo\\pro\\pr\\waterl7.shp')\n",
    "print('yy')"
   ]
  },
  {
   "cell_type": "code",
   "execution_count": 6,
   "metadata": {
    "collapsed": false
   },
   "outputs": [
    {
     "ename": "AttributeError",
     "evalue": "'str' object has no attribute 'type'",
     "output_type": "error",
     "traceback": [
      "\u001b[1;31m---------------------------------------------------------------------------\u001b[0m",
      "\u001b[1;31mAttributeError\u001b[0m                            Traceback (most recent call last)",
      "\u001b[1;32m<ipython-input-6-e2091d2a1ec5>\u001b[0m in \u001b[0;36m<module>\u001b[1;34m()\u001b[0m\n\u001b[1;32m----> 1\u001b[1;33m \u001b[0mextract_poly_coords\u001b[0m\u001b[1;33m(\u001b[0m\u001b[0mp1\u001b[0m\u001b[1;33m)\u001b[0m\u001b[1;33m\u001b[0m\u001b[0m\n\u001b[0m",
      "\u001b[1;32m<ipython-input-3-9886aedace84>\u001b[0m in \u001b[0;36mextract_poly_coords\u001b[1;34m(geom)\u001b[0m\n\u001b[0;32m      2\u001b[0m \u001b[1;33m\u001b[0m\u001b[0m\n\u001b[0;32m      3\u001b[0m \u001b[1;32mdef\u001b[0m \u001b[0mextract_poly_coords\u001b[0m\u001b[1;33m(\u001b[0m\u001b[0mgeom\u001b[0m\u001b[1;33m)\u001b[0m\u001b[1;33m:\u001b[0m\u001b[1;33m\u001b[0m\u001b[0m\n\u001b[1;32m----> 4\u001b[1;33m     \u001b[1;32mif\u001b[0m \u001b[0mgeom\u001b[0m\u001b[1;33m.\u001b[0m\u001b[0mtype\u001b[0m \u001b[1;33m==\u001b[0m \u001b[1;34m'Polygon'\u001b[0m\u001b[1;33m:\u001b[0m\u001b[1;33m\u001b[0m\u001b[0m\n\u001b[0m\u001b[0;32m      5\u001b[0m         \u001b[0mcoords\u001b[0m \u001b[1;33m=\u001b[0m \u001b[0mgeom\u001b[0m\u001b[1;33m.\u001b[0m\u001b[0mexterior\u001b[0m\u001b[1;33m.\u001b[0m\u001b[0mcoords\u001b[0m\u001b[1;33m[\u001b[0m\u001b[1;33m:\u001b[0m\u001b[1;33m]\u001b[0m\u001b[1;33m\u001b[0m\u001b[0m\n\u001b[0;32m      6\u001b[0m         \u001b[1;32mreturn\u001b[0m \u001b[0mcoords\u001b[0m\u001b[1;33m\u001b[0m\u001b[0m\n",
      "\u001b[1;31mAttributeError\u001b[0m: 'str' object has no attribute 'type'"
     ]
    }
   ],
   "source": [
    "extract_poly_coords(p1)"
   ]
  },
  {
   "cell_type": "code",
   "execution_count": null,
   "metadata": {
    "collapsed": false
   },
   "outputs": [],
   "source": [
    "import fiona\n",
    "\n",
    "shape1 = fiona.open(r'O:\\consultas\\shapes\\Z.shp')\n",
    "shape2 = fiona.open(r'O:\\VDCNS\\Landsat\\extent_100.shp')\n",
    "\n",
    "#GETTING THE GEOMETRY (COORDINATES)\n",
    "feature1 = shape1.next()\n",
    "geom1 = feature1['geometry']['coordinates']\n",
    "a1 = Polygon(geom1)\n",
    "print(list(a1.exterior.coords))\n",
    "#print(list(a1.interiors))\n",
    "print(a1.geom_type)\n",
    "\n",
    "feature2 = shape2.next()\n",
    "geom2 = feature2['geometry']['coordinates'][0]\n",
    "a2 = Polygon(geom2)\n",
    "\n",
    "print(a1.within(a2))\n",
    "\n",
    "new_coords = [(10000 + i[0], 30000 + i[1]) for i in geom1]\n",
    "n2 = Polygon(new_coords)\n",
    "print(n2.within(a2))\n",
    "#print(n2.coords)\n"
   ]
  },
  {
   "cell_type": "code",
   "execution_count": null,
   "metadata": {
    "collapsed": false
   },
   "outputs": [],
   "source": [
    "print(geom1)"
   ]
  },
  {
   "cell_type": "code",
   "execution_count": null,
   "metadata": {
    "collapsed": false
   },
   "outputs": [],
   "source": [
    "print(geom2)"
   ]
  },
  {
   "cell_type": "code",
   "execution_count": null,
   "metadata": {
    "collapsed": false
   },
   "outputs": [],
   "source": [
    "#print(geom1['coordinates'], geom2['coordinates'])\n",
    "a1 = Polygon(geom1['coordinates'][0])\n",
    "print(type(a1)) \n",
    "a2 = Polygon(geom2['coordinates'][0])\n",
    "print(a1.coords[:-1])"
   ]
  },
  {
   "cell_type": "code",
   "execution_count": null,
   "metadata": {
    "collapsed": false
   },
   "outputs": [],
   "source": [
    "print(a1.intersects(a2))"
   ]
  },
  {
   "cell_type": "code",
   "execution_count": null,
   "metadata": {
    "collapsed": false
   },
   "outputs": [],
   "source": [
    "!gdalinfo -proj4 X:\\Proyectos\\marina_valdecanas\\capas\\teledeteccion\\Landsat\\ori\\19870903l5tm202_32\\LT52020321987246XXX02_B1.TIF "
   ]
  },
  {
   "cell_type": "code",
   "execution_count": null,
   "metadata": {
    "collapsed": true
   },
   "outputs": [],
   "source": [
    "'''with fiona.open(r'C:\\Users\\Diego\\Desktop\\delete\\marcos\\19840809l5tm202_32.shp') as source:\n",
    "        \n",
    "        #source_driver = source.driver\n",
    "        #source_crs = source.crs\n",
    "        #source_schema = source.schema\n",
    "        #schema = source.schema.copy()'''\n",
    "        "
   ]
  },
  {
   "cell_type": "markdown",
   "metadata": {},
   "source": [
    "# Crear extent a partir de una serie temporal de escenas Landsat"
   ]
  },
  {
   "cell_type": "code",
   "execution_count": null,
   "metadata": {
    "collapsed": false
   },
   "outputs": [],
   "source": [
    "import gdal, os, fiona\n",
    "from gdalconst import *\n",
    "from shapely.geometry import mapping, Polygon\n",
    "from fiona.crs import from_epsg\n",
    "\n",
    "def get_extent(ruta, ext = 'max', nombre = 'marco'):\n",
    "\n",
    "    minX = []\n",
    "    maxX = []\n",
    "    minY = []\n",
    "    maxY = []\n",
    "    \n",
    "    envelope = os.path.join(ruta, nombre)\n",
    "    \n",
    "    for i in os.listdir(ruta):\n",
    "        nruta = os.path.join(ruta, i)\n",
    "        if os.path.isdir(nruta):\n",
    "            for r in os.listdir(nruta):\n",
    "                if r.endswith('B1.TIF'):\n",
    "                    b1 = os.path.join(nruta, r)\n",
    "\n",
    "                    data = gdal.Open(b1,GA_ReadOnly)\n",
    "                    if data is None:\n",
    "                        print('None')\n",
    "                    geoTransform = data.GetGeoTransform()\n",
    "                    minx = geoTransform[0]\n",
    "                    minX.append(minx)\n",
    "                    maxy = geoTransform[3]\n",
    "                    maxY.append(maxy)\n",
    "                    maxx = minx + geoTransform[1]*data.RasterXSize\n",
    "                    maxX.append(maxx)\n",
    "                    miny = maxy + geoTransform[5]*data.RasterYSize\n",
    "                    minY.append(miny)\n",
    "                    #print(minx,miny,maxx,maxy)\n",
    "    \n",
    "    #elegimos que marco queremos (maximo o minimo)\n",
    "    if ext == 'max':\n",
    "        \n",
    "        xmin, ymin, xmax, ymax = min(minX), min(minY), max(maxX), max(maxY)\n",
    "        \n",
    "    elif ext == 'min':\n",
    "        \n",
    "        xmin, ymin, xmax, ymax = max(minX), max(minY), min(maxX), min(maxY)\n",
    "    \n",
    "    else:\n",
    "        \n",
    "        print('Por favor introduzca que tipo de marco quiere (max -> maximo, min -> minimo)')\n",
    "        \n",
    "    print(xmin, ymin, xmax, ymax)\n",
    "    \n",
    "    poly = Polygon([(xmin, ymin), (xmin, ymax), (xmax, ymax), (xmax, ymin)])\n",
    "        \n",
    "\n",
    "    # Define a polygon feature geometry with one attribute\n",
    "    schema = {\n",
    "    'geometry': 'Polygon',\n",
    "    'properties': {'id': 'int', 'hola': 'str'},\n",
    "    }\n",
    "    \n",
    "    #sgilles method\n",
    "    with fiona.open(\n",
    "        envelope, 'w', \n",
    "        crs=from_epsg(25830), \n",
    "        driver='ESRI Shapefile', \n",
    "        schema={\n",
    "            'geometry': 'Polygon', \n",
    "            'properties': {\n",
    "                'Name': 'str:24'}}\n",
    "                #'Region': 'str:24'}}\n",
    "                #'Latitude': 'float', \n",
    "                #'Longitude': 'float', \n",
    "                #'Elevation': 'float' }}\n",
    "    ) as output:\n",
    "    \n",
    "        output.write({'geometry': mapping(poly), 'properties' : {'Name': 'Marco Landsat'}})\n",
    "    \n",
    "    # Write a new Shapefile\n",
    "    #with fiona.open(envelope, 'w', 'ESRI Shapefile', crs=from_epsg(4326), schema) as c:\n",
    "    ## If there are multiple geometries, put the \"for\" loop here\n",
    "        #c.write({\n",
    "            #'geometry': mapping(poly),\n",
    "            #'properties': {'id': 123, 'hola': 'Mundo Patata'}})\n",
    "\n",
    "\n",
    "        "
   ]
  },
  {
   "cell_type": "code",
   "execution_count": null,
   "metadata": {
    "collapsed": false
   },
   "outputs": [],
   "source": [
    "path = r'O:\\VDCNS\\Landsat'\n",
    "get_extent(path, 'max', 'marKo')"
   ]
  },
  {
   "cell_type": "markdown",
   "metadata": {
    "collapsed": false
   },
   "source": [
    "# Getting values of water from summer scenes"
   ]
  },
  {
   "cell_type": "code",
   "execution_count": null,
   "metadata": {
    "collapsed": false
   },
   "outputs": [],
   "source": [
    "import os, rasterio, fiona, re, subprocess\n",
    "import numpy as np\n",
    "import matplotlib.pyplot as plt\n",
    "\n",
    "\n",
    "def findWaterValues(path):\n",
    "    \n",
    "    for e in os.listdir(path):\n",
    "        \n",
    "        npath = os.path.join(path, e)\n",
    "\n",
    "        if os.path.isdir(npath) and re.search('^[0-9]', e):\n",
    "            \n",
    "            year = int(e[:4])\n",
    "            month = int(e[4:6]) \n",
    "            \n",
    "            try:\n",
    "                \n",
    "                if year in [2000, 2001, 2002] and month in [6, 7, 8] and 'l7etm' in e:\n",
    "                \n",
    "                    #print(e, year, month)\n",
    "                    for i in os.listdir(npath):\n",
    "\n",
    "                        if i.endswith('B1.TIF'):\n",
    "                            \n",
    "                            b1 = os.path.join(npath, i)\n",
    "                            print('Comenzando', b1)                            \n",
    "                            \n",
    "                            cmd = [\"gdalwarp\", \"-dstnodata\" , \"0\" , \"-cutline\", ]\n",
    "                            path_masks = r'C:\\Users\\Diego\\Desktop\\delete\\marcos\\water_rois'\n",
    "                            if not os.path.exists(path_masks):\n",
    "                                os.makedirs(path_masks)\n",
    "\n",
    "                            crop = \"-crop_to_cutline\"\n",
    "                            shape = r'C:\\Users\\Diego\\Desktop\\delete\\marcos\\reproject\\water_rois.shp'\n",
    "                            salida = os.path.join(r'C:\\Users\\Diego\\Desktop\\delete\\marcos\\water_rois', e + '.TIF')\n",
    "                            cmd.insert(4, shape)\n",
    "                            cmd.insert(5, crop)\n",
    "                            cmd.insert(6, b1)\n",
    "                            cmd.insert(7, salida)\n",
    "\n",
    "                            proc = subprocess.Popen(cmd,stdout=subprocess.PIPE,stderr=subprocess.PIPE)\n",
    "                            stdout,stderr=proc.communicate()\n",
    "                            exit_code=proc.wait()\n",
    "                            #plot_waterrois(salida)\n",
    "                            \n",
    "                        \n",
    "            except Exception as x:\n",
    "                print(e, x)\n",
    "                continue\n",
    "                        \n",
    "            \n",
    "def plot_waterrois(path):\n",
    "    \n",
    "    for r in os.listdir(path):\n",
    "        \n",
    "        raster = os.path.join(path, r)\n",
    "        with rasterio.open(raster) as src:\n",
    "            B1 = src.read()\n",
    "            B1 = B1[B1 != 0]\n",
    "            \n",
    "            print('Escena:', r, '\\n', 'Mean:', B1.mean(),'\\n', 'Min: ', B1.min(), '\\n', 'Max:', B1.max(), '\\n', 'Median:',\\\n",
    "            np.median(B1), '\\n', '1th Decil:', np.percentile(B1, 10), '\\n', '9th Decile:', np.percentile(B1, 90))\n",
    "            \n",
    "            plt.figure(figsize=(10,10))\n",
    "            plt.title(r)\n",
    "            plt.hist(B1, bins = 100, cumulative=False, color=\"Blue\")\n",
    "            name = os.path.join(path, r[:-4] + '_hist.png')\n",
    "            plt.savefig(name)\n",
    "    \n",
    "        plt.close('all')\n",
    "            \n",
    "\n",
    "                    \n",
    "    \n",
    "    "
   ]
  },
  {
   "cell_type": "code",
   "execution_count": null,
   "metadata": {
    "collapsed": false
   },
   "outputs": [],
   "source": [
    "#findWaterValues(r'O:\\VDCNS\\Landsat')\n",
    "plot_waterrois(r'C:\\Users\\Diego\\Desktop\\delete\\marcos\\water_rois')"
   ]
  },
  {
   "cell_type": "code",
   "execution_count": null,
   "metadata": {
    "collapsed": true
   },
   "outputs": [],
   "source": [
    "def extent(raster):\n",
    "    \n",
    "    \n",
    "\n",
    "\n",
    "\n",
    "def reclass(raster):\n",
    "    \n",
    "    \n",
    "    with rasterio.open(raster) as src:\n",
    "        \n",
    "        R = src.read()\n",
    "        "
   ]
  },
  {
   "cell_type": "code",
   "execution_count": null,
   "metadata": {
    "collapsed": false
   },
   "outputs": [],
   "source": [
    "import os, re, rasterio\n",
    "import numpy as np\n",
    "#import matplotlib.pyplot as plt\n",
    "\n",
    "path = r'O:\\VDCNS\\Landsat'\n",
    "count = 0\n",
    "\n",
    "for e in os.listdir(path):\n",
    "        \n",
    "        npath = os.path.join(path, e)\n",
    "\n",
    "        if os.path.isdir(npath) and re.search('^[0-9]', e):\n",
    "            \n",
    "            count += 1\n",
    "            print(e)\n",
    "    \n",
    "print(count)\n"
   ]
  },
  {
   "cell_type": "markdown",
   "metadata": {
    "collapsed": false
   },
   "source": [
    "# READING AND FILTERING VECTOR DATA WITH FIONA"
   ]
  },
  {
   "cell_type": "code",
   "execution_count": 7,
   "metadata": {
    "collapsed": false
   },
   "outputs": [
    {
     "name": "stdout",
     "output_type": "stream",
     "text": [
      "0 OrderedDict([('id', 123)])\n"
     ]
    },
    {
     "ename": "KeyError",
     "evalue": "'CLASS_NAME'",
     "output_type": "error",
     "traceback": [
      "\u001b[1;31m---------------------------------------------------------------------------\u001b[0m",
      "\u001b[1;31mKeyError\u001b[0m                                  Traceback (most recent call last)",
      "\u001b[1;32m<ipython-input-7-2d0f2a95c5a8>\u001b[0m in \u001b[0;36m<module>\u001b[1;34m()\u001b[0m\n\u001b[0;32m      9\u001b[0m \u001b[1;33m\u001b[0m\u001b[0m\n\u001b[0;32m     10\u001b[0m         \u001b[0mprint\u001b[0m\u001b[1;33m(\u001b[0m\u001b[0mk\u001b[0m\u001b[1;33m,\u001b[0m \u001b[0mv\u001b[0m\u001b[1;33m[\u001b[0m\u001b[1;34m'properties'\u001b[0m\u001b[1;33m]\u001b[0m\u001b[1;33m)\u001b[0m \u001b[1;31m#AHORA ESTAMOS IMPRIMIENDO LAS COORDENADAS\u001b[0m\u001b[1;33m\u001b[0m\u001b[0m\n\u001b[1;32m---> 11\u001b[1;33m         \u001b[0mv\u001b[0m\u001b[1;33m[\u001b[0m\u001b[1;34m'properties'\u001b[0m\u001b[1;33m]\u001b[0m\u001b[1;33m[\u001b[0m\u001b[1;34m'CLASS_NAME'\u001b[0m\u001b[1;33m]\u001b[0m \u001b[1;33m==\u001b[0m \u001b[1;34m'CANCHALES'\u001b[0m\u001b[1;33m\u001b[0m\u001b[0m\n\u001b[0m\u001b[0;32m     12\u001b[0m \u001b[1;33m\u001b[0m\u001b[0m\n\u001b[0;32m     13\u001b[0m         '''coord = (v['geometry']['coordinates'][0])\n",
      "\u001b[1;31mKeyError\u001b[0m: 'CLASS_NAME'"
     ]
    }
   ],
   "source": [
    "import fiona, shapefile\n",
    "\n",
    "shape = r'O:\\VDCNS\\protocolo\\pro\\20151002l8oli202_32\\20151002l8_WaterMask.shp'\n",
    "\n",
    "with fiona.open(shape) as src:\n",
    "    \n",
    "    #ft = next(src)\n",
    "    for k, v in src.items():\n",
    "        \n",
    "        print(k, v['properties']) #AHORA ESTAMOS IMPRIMIENDO LAS COORDENADAS\n",
    "        v['properties']['CLASS_NAME'] == 'CANCHALES'\n",
    "            \n",
    "        '''coord = (v['geometry']['coordinates'][0])\n",
    "        print(coord[0], coord[1])'''"
   ]
  },
  {
   "cell_type": "code",
   "execution_count": null,
   "metadata": {
    "collapsed": false
   },
   "outputs": [],
   "source": [
    "for i in ft.items():\n",
    "    print(i)"
   ]
  },
  {
   "cell_type": "code",
   "execution_count": null,
   "metadata": {
    "collapsed": false
   },
   "outputs": [],
   "source": [
    "!rio info O:\\VDCNS\\Landsat\\20160902l8oli202_32\\LC82020322016246LGN00_B2.TIF --bounds"
   ]
  },
  {
   "cell_type": "markdown",
   "metadata": {},
   "source": [
    "# Getting Shape's Extent"
   ]
  },
  {
   "cell_type": "code",
   "execution_count": null,
   "metadata": {
    "collapsed": false
   },
   "outputs": [],
   "source": [
    "import fiona\n",
    "\n",
    "shape = r'O:\\consultas\\shapes\\C.shp'\n",
    "\n",
    "def get_exten_shp(shape):\n",
    "    \n",
    "    X = []\n",
    "    Y = []\n",
    "    \n",
    "    with fiona.open(shape) as src:\n",
    "    \n",
    "    #ft = next(src)\n",
    "        for k, v in src.items():\n",
    "\n",
    "            #print(k, v) AHORA ESTAMOS IMPRIMIENDO LAS COORDENADAS\n",
    "            #if v['properties']['CLASS_NAME'] == 'CANCHALES':\n",
    "\n",
    "            coord = (v['geometry']['coordinates'])\n",
    "            for i in coord:\n",
    "                for j in i:\n",
    "                    X.append(j[0])\n",
    "                    Y.append(j[1])\n",
    "\n",
    "                lim_N = max(Y)\n",
    "                lim_S = min(Y)\n",
    "                lim_O = min(X)\n",
    "                lim_E = max(X)\n",
    "\n",
    "    print(lim_O, lim_E, lim_N, lim_S)\n",
    "    \n",
    "get_exten_shp(shape)"
   ]
  },
  {
   "cell_type": "code",
   "execution_count": null,
   "metadata": {
    "collapsed": false
   },
   "outputs": [],
   "source": [
    "#HACEMOS UN DICCIONARIO CON LAS 4 POSIBLES DIRECCIONES DE MOVIMIENTO NW, SW, NE, SE\n",
    "\n",
    "import fiona, random\n",
    "from shapely.geometry import Polygon\n",
    "\n",
    "class randomly_move():\n",
    "    \n",
    "    '''Con esta clase se pretende el mover aleatoriamente una serie de poligonos dentro de un shape'''\n",
    "    \n",
    "    \n",
    "    def __init__(self, shape, marco):\n",
    "\n",
    "        self.shape = shape\n",
    "        self.marco = marco\n",
    "\n",
    "        myshp = fiona.open(self.shape)\n",
    "        frame = fiona.open(self.marco)\n",
    "        moves = {0: 'NW', 1: 'NE', 2: 'SW', 3: 'SE'}\n",
    "\n",
    "        rndm = random.randrange(0,4)\n",
    "\n",
    "    def get_extent_shapely(self, shp):\n",
    "\n",
    "        print('zone:', moves[rndm])\n",
    "        #GETTING THE GEOMETRY (COORDINATES)\n",
    "        feature1 = shp.next()\n",
    "        geom1 = feature1['geometry']\n",
    "        a1 = Polygon(geom1['coordinates'][0])\n",
    "        Oeste, Este, Norte, Sur = a1.bounds[0], a1.bounds[2], a1.bounds[3], a1.bounds[1]\n",
    "\n",
    "        #return(Oeste, Este, Norte, Sur)\n",
    "        move = {'NW': (Norte, Oeste), 'NE': (Norte, Este), 'SW': (Sur, Oeste), 'SE': (Sur, Este)}\n",
    "        return move[moves[rndm]]\n",
    "\n",
    "\n",
    "    #CALCULAMOS LA DIFERENCIA EN LAS COORDENADAS    \n",
    "\n",
    "    frameM = get_extent_shapely(marco)\n",
    "    NorteM, OesteM = frameM[0], frameM[1]\n",
    "    frameS = get_extent_shapely(shape)\n",
    "    NorteS, OesteS = frameS[0], frameS[1]\n",
    "\n",
    "    distN = abs(NorteM - NorteS)\n",
    "    distW = abs(OesteM - OesteS)\n",
    "\n",
    "    print(distN, distW)\n",
    "\n",
    "\n",
    "    def move_polygons(shape):\n",
    "\n",
    "        feature1 = shape.next()\n",
    "        geom1 = feature1['geometry']\n",
    "\n",
    "        coords = geom1['coordinates'][0]\n",
    "        print(coords)\n",
    "        ncoords = [(distN + i[0], distW + i[1])  for i in coords]"
   ]
  },
  {
   "cell_type": "code",
   "execution_count": null,
   "metadata": {
    "collapsed": true
   },
   "outputs": [],
   "source": [
    "with fiona.open(r'O:\\consultas\\shapes\\new.shp', 'w', 'ESRI Shapefile', shape.schema.copy(), crs=from_epsg(25830)) as output:\n",
    "    for feat in shape: # feat = one polygon of the shapefile\n",
    "        out_linearRing = [] # empty list for the LinearRing of transformed coordinates\n",
    "        for point in feat['geometry']['coordinates'][0]: # LinearRing of the Polygon\n",
    "            long,lat =  point  # one point of the LinearRing\n",
    "            x,y = transform(original, destination,long,lat) # transform the point\n",
    "            out_linearRing.append((x,y)) # add all the points to the new LinearRing\n",
    "        # transform the resulting LinearRing to  a Polygon and write it\n",
    "        feat['geometry']['coordinates'] = [out_linearRing]\n",
    "        output.write(feat)"
   ]
  },
  {
   "cell_type": "code",
   "execution_count": null,
   "metadata": {
    "collapsed": false
   },
   "outputs": [],
   "source": [
    "shape = fiona.open(r'O:\\consultas\\shapes\\C.shp')\n",
    "shape2 = fiona.open(r'O:\\consultas\\shapes\\Z.shp')\n",
    "\n",
    "def get_extent_shapely(shp):\n",
    "    \n",
    "    \n",
    "    feature1 = shape.next()\n",
    "    geom1 = feature1['geometry']\n",
    "    \n",
    "    coords = geom1['coordinates']\n",
    "    print(coords)\n",
    "    #ncoords = [25694 + i,  for i in coords]\n",
    "    \n",
    "#get_extent_shapely(shape)\n",
    "get_extent_shapely(shape2)"
   ]
  },
  {
   "cell_type": "code",
   "execution_count": null,
   "metadata": {
    "collapsed": false
   },
   "outputs": [],
   "source": [
    "a = [(100, 200), (300, 400)]\n",
    "b = [(10 + i[0], 20 + i[1]) for i in a]\n",
    "\n",
    "b"
   ]
  },
  {
   "cell_type": "code",
   "execution_count": null,
   "metadata": {
    "collapsed": false
   },
   "outputs": [],
   "source": [
    "%timeit 'get_extent_shapely(shape)'"
   ]
  },
  {
   "cell_type": "code",
   "execution_count": null,
   "metadata": {
    "collapsed": false
   },
   "outputs": [],
   "source": [
    "%timeit 'get_extent_shp(shape)'"
   ]
  },
  {
   "cell_type": "markdown",
   "metadata": {},
   "source": [
    "# Clase para mover shapefiles dentro de un extent"
   ]
  },
  {
   "cell_type": "code",
   "execution_count": null,
   "metadata": {
    "collapsed": false
   },
   "outputs": [],
   "source": [
    "shp = r'O:\\consultas\\Airam\\split_hungria\\Aparhanti Sztyepp.shp'\n",
    "marco = r'O:\\consultas\\Airam\\Fwd_ Shapefiles\\Hungaryoutline.shp'\n",
    "\n",
    "randomly_move(shp, marco)"
   ]
  },
  {
   "cell_type": "code",
   "execution_count": null,
   "metadata": {
    "collapsed": false
   },
   "outputs": [],
   "source": [
    "###COMPROBAR QUE EL SHAPE ESTE INCLUIDO DENTRO DEL MARCO ANTES DE COMENZAR EL PROCESO!!!!!!!!!!!!\n",
    "\n",
    "\n",
    "'http://gis.stackexchange.com/questions/70591/creating-shapely-multipolygons-from-shape-file-multipolygons\n",
    "'    \n",
    "    \n",
    "    \n",
    "import fiona, shapely, logging, sys, os, random\n",
    "from shapely import affinity, speedups\n",
    "from shapely.geometry import mapping, shape, Polygon\n",
    "\n",
    "speedups.enable()\n",
    "\n",
    "logging.basicConfig(stream=sys.stderr, level=logging.INFO)\n",
    "\n",
    "\n",
    "class randomly_move():\n",
    "    \n",
    "    '''Con esta clase se pretende el mover aleatoriamente una serie de poligonos dentro de un shape'''\n",
    "    \n",
    "    \n",
    "    def __init__(self, shape, marco):\n",
    "\n",
    "        self.shape = shape\n",
    "        self.marco = marco\n",
    "        self.out = os.path.join(r'O:\\consultas\\shapes_moved\\prs_out', os.path.split(self.shape)[1])\n",
    "        \n",
    "        #myshp = fiona.open(self.shape)\n",
    "        #frame = fiona.open(self.marco)\n",
    "        \n",
    "        self.moves = {0: 'NW', 1: 'NE', 2: 'SW', 3: 'SE'}\n",
    "\n",
    "        self.rndm = random.randrange(0,4)\n",
    "        \n",
    "        self.diffX = 0\n",
    "        self.diffY = 0\n",
    "        \n",
    "        self.count = 1\n",
    "        \n",
    "        print('shape:', self.shape, '\\nmarco: ', self.marco, '\\nsalida:', self.out)\n",
    "        print('Nos movemos hacia el:', self.moves[self.rndm])\n",
    "        \n",
    "        \n",
    "    def get_extent_shapely(self, shp):\n",
    "        \n",
    "        shp = fiona.open(shp)\n",
    "        #print('zone:', self.moves[self.rndm])\n",
    "        #GETTING THE GEOMETRY (COORDINATES)\n",
    "        feature1 = shp.next()\n",
    "        geom1 = feature1['geometry']\n",
    "        a1 = Polygon(geom1['coordinates'][0])\n",
    "        Oeste, Este, Norte, Sur = a1.bounds[0], a1.bounds[2], a1.bounds[3], a1.bounds[1]\n",
    "\n",
    "        #return(Oeste, Este, Norte, Sur)\n",
    "        move = {'NW': (Norte, Oeste), 'NE': (Norte, Este), 'SW': (Sur, Oeste), 'SE': (Sur, Este)}\n",
    "        return move[self.moves[self.rndm]]\n",
    "            \n",
    "    \n",
    "    def get_diff(self):\n",
    "        \n",
    "        ''' Este metodo computa la diferencia entre las coordenas del shape con respecto al marco (en la direccion aleatoria\n",
    "        que haya tocado. Retorna una tupla  con valores (X, Y) con la diferencia. Por tanto get_diff[0] es la diferencia en X\n",
    "        y get_diff[1] es la diferencia en Y)'''\n",
    "        \n",
    "        frameM = self.get_extent_shapely(self.marco)\n",
    "        #print(frameM)\n",
    "        NorteM, OesteM = frameM[0], frameM[1]\n",
    "        frameS = self.get_extent_shapely(self.shape)\n",
    "        #print(frameS)\n",
    "        NorteS, OesteS = frameS[0], frameS[1]\n",
    "        \n",
    "        self.diffX = OesteM - OesteS\n",
    "        self.diffY = NorteM - NorteS\n",
    "        \n",
    "        return(self.diffX, self.diffY)\n",
    "        \n",
    "    \n",
    "    def new_geom(self):\n",
    "        \n",
    "        with fiona.open(self.shape, 'r') as source:\n",
    "    \n",
    "            # **source.meta is a shortcut to get the crs, driver, and schema\n",
    "            # keyword arguments from the source Collection.\n",
    "            with fiona.open(self.out, 'w', **source.meta) as sink:\n",
    "                \n",
    "               \n",
    "                for f in source:\n",
    "                    \n",
    "                    #print(f)\n",
    "            \n",
    "                    try:\n",
    "                        \n",
    "                        #feature1 = f['geometry']['coordinates'][0]\n",
    "                        \n",
    "                        rings = len(f['geometry']['coordinates'])\n",
    "\n",
    "                        if rings == 1:\n",
    "\n",
    "                            feature1 = Polygon(f['geometry']['coordinates'][0])\n",
    "\n",
    "                        else:\n",
    "\n",
    "                            feature1 = Polygon(f['geometry']['coordinates'][0], f['geometry']['coordinates'][1:rings])\n",
    "                                                \n",
    "                        \n",
    "                        #CALCULAMOS UN VALOR RANDOM PARA MOVER EL SHAPE\n",
    "                        X_offset = random.uniform(0.1, self.get_diff()[0])\n",
    "                        Y_offset = random.uniform(0.1, self.get_diff()[1])\n",
    "                        #print(X_offset, Y_offset)\n",
    "                        #CREAMOS LA NUEVA LISTA DE COORDENADAS PARA EL SHAPE MOVIDO                                    \n",
    "                        #geom2 = [(X_offset + i[0], Y_offset + i[1]) for i in feature1]                     \n",
    "                        new_shape = Polygon(feature1)\n",
    "                        \n",
    "                        #PROBAMOS A GIRAR EL SHAPE\n",
    "                        rotated_a = affinity.rotate(new_shape, random.randint(0, 360))\n",
    "                        \n",
    "                        #PROBAMOS A MOVERLO CON SHAPELY (funciona de las 2 maneras)\n",
    "                        rotated_b = shapely.affinity.translate(rotated_a, X_offset, Y_offset)\n",
    "                        \n",
    "                        \n",
    "                        #COMPROBAMOS QUE ESTE DENTRO DEL MARCO SIN INTERSECTAR\n",
    "                        \n",
    "                        if self.check(rotated_b) == True:\n",
    "                            \n",
    "                            f['geometry'] = mapping(rotated_b)\n",
    "                            sink.write(f)\n",
    "                            \n",
    "                        else:\n",
    "                            \n",
    "                            self.count += 1\n",
    "                            while self.count < 30:\n",
    "                                f['geometry'] = mapping(rotated_b)\n",
    "                                sink.write(f)\n",
    "                                self.new_geom()\n",
    "                                \n",
    "                            pr = randomly_move(f['geometry'], mc)    \n",
    "                            pr.new_geom()\n",
    "                        \n",
    "                            #print('intersecta')\n",
    "                        \n",
    "                    except Exception as e:\n",
    "                        \n",
    "                        # Writing uncleanable features to a different shapefile\n",
    "                        # is another option.\n",
    "                        print('error', e)\n",
    "                        logging.exception(\"Error cleaning feature %s:\", f['id'])\n",
    "                \n",
    "       \n",
    "                \n",
    "                \n",
    "    def check(self, ncoords):\n",
    "        \n",
    "        '''En este metodo vamos a comprobar si el shape que estamos utilizando  esta incluido dentro del marco'''\n",
    "                \n",
    "        shape2 = fiona.open(self.marco)\n",
    "        feature2 = shape2.next()\n",
    "        \n",
    "        geom1 = feature2['geometry']['coordinates']\n",
    "        rings = len(geom1)\n",
    "\n",
    "        if rings == 1:\n",
    "\n",
    "            a2 = Polygon(feature2['geometry']['coordinates'][0])\n",
    "\n",
    "        else:\n",
    "\n",
    "            a2 = Polygon(feature2['geometry']['coordinates'][0], feature2['geometry']['coordinates'][1:rings])\n",
    "\n",
    "        \n",
    "        \n",
    "        #geom2 = feature2['geometry']['coordinates'][0] #Con el 0 cojo el anillo externo\n",
    "        #geom3 = feature2['geometry']['coordinates'][1]\n",
    "        #a2 = Polygon(geom2, [geom3])\n",
    "\n",
    "        return(ncoords.within(a2))\n",
    "        \n",
    "        \n",
    "    def run(self):\n",
    "        \n",
    "        \n",
    "        if self.check() == True:\n",
    "            print('El shape esta totalmente incluido dentro del marco. La diferencia es: ')\n",
    "            print(self.get_diff())\n",
    "            \n",
    "        else:\n",
    "            print('El shape no esta incluido dentro del marco')\n",
    "        \n",
    "        "
   ]
  },
  {
   "cell_type": "code",
   "execution_count": null,
   "metadata": {
    "collapsed": false
   },
   "outputs": [],
   "source": [
    "#sh = r'O:\\consultas\\shapes\\B.shp'\n",
    "import os\n",
    "\n",
    "ruta = r'O:\\consultas\\shapes_moved'\n",
    "mc = r'O:\\consultas\\shapes\\Irregular_Frame.shp'\n",
    "shplist = []\n",
    "\n",
    "for i in os.listdir(ruta):\n",
    "    \n",
    "    if i.endswith('.shp') and not i.startswith('Irregular'):\n",
    "        \n",
    "        shplist.append(os.path.join(ruta, i))\n",
    "        \n",
    "for shp in shplist:\n",
    "    \n",
    "    try:\n",
    "        \n",
    "        #while pr.count < 20:\n",
    "        \n",
    "        pr = randomly_move(shp, mc)    \n",
    "        pr.new_geom()\n",
    "        print(pr.shape, 'realizado en', pr.count, 'intentos\\n')                   \n",
    "        \n",
    "    except Exception as e:\n",
    "        \n",
    "        print('error en shape: ', shp, e)\n",
    "        continue"
   ]
  },
  {
   "cell_type": "code",
   "execution_count": null,
   "metadata": {
    "collapsed": false
   },
   "outputs": [],
   "source": [
    "n = 10\n",
    "a = 0\n",
    "while a < n:\n",
    "    a += 1\n",
    "    print(a)\n",
    "print('hello world')"
   ]
  },
  {
   "cell_type": "code",
   "execution_count": null,
   "metadata": {
    "collapsed": false
   },
   "outputs": [],
   "source": [
    "import logging\n",
    "import sys\n",
    "\n",
    "from shapely.geometry import mapping, shape\n",
    "\n",
    "import fiona\n",
    "\n",
    "logging.basicConfig(stream=sys.stderr, level=logging.INFO)\n",
    "\n",
    "with fiona.open(r'O:\\consultas\\shapes\\Z.shp', 'r') as source:\n",
    "    \n",
    "    # **source.meta is a shortcut to get the crs, driver, and schema\n",
    "    # keyword arguments from the source Collection.\n",
    "    with fiona.open(\n",
    "            'O:\\consultas\\shapes\\ZZZ_moved2.shp', 'w',\n",
    "            **source.meta) as sink:\n",
    "        \n",
    "        for f in source:\n",
    "            \n",
    "            try:\n",
    "                geom = shape(f['geometry'])\n",
    "                print(geom)\n",
    "                geom2 = Polygon([(259155.7314961247, 4512078.297793506), (218409.8166709613, 4512078.297793506), (218409.8166709613, 4549120.038543652), (259155.7314961247, 4549120.038543652), (259155.7314961247, 4512078.297793506)])\n",
    "                geom2 = feature1['geometry']['coordinates'][0]\n",
    "                if not geom.is_valid:\n",
    "                    clean = geom.buffer(0.0)\n",
    "                    assert clean.is_valid\n",
    "                    assert clean.geom_type == 'Polygon'\n",
    "                    geom = clean\n",
    "                f['geometry'] = mapping(a3)\n",
    "                sink.write(f)\n",
    "            \n",
    "            except(Exception, e):\n",
    "                # Writing uncleanable features to a different shapefile\n",
    "                # is another option.\n",
    "                logging.exception(\"Error cleaning feature %s:\", f['id'])"
   ]
  },
  {
   "cell_type": "code",
   "execution_count": null,
   "metadata": {
    "collapsed": false
   },
   "outputs": [],
   "source": [
    "random.uniform(0, 1916.1515)"
   ]
  },
  {
   "cell_type": "code",
   "execution_count": null,
   "metadata": {
    "collapsed": true
   },
   "outputs": [],
   "source": [
    ">>> from shapely.geometry import Polygon\n",
    ">>> polygon = Polygon([(0, 0), (1, 1), (1, 0)])"
   ]
  },
  {
   "cell_type": "code",
   "execution_count": null,
   "metadata": {
    "collapsed": false
   },
   "outputs": [],
   "source": [
    " list(polygon.exterior.coords)"
   ]
  },
  {
   "cell_type": "code",
   "execution_count": null,
   "metadata": {
    "collapsed": false
   },
   "outputs": [],
   "source": [
    "list(polygon.interiors)"
   ]
  },
  {
   "cell_type": "markdown",
   "metadata": {},
   "source": [
    "# Poligonos interiores!"
   ]
  },
  {
   "cell_type": "code",
   "execution_count": null,
   "metadata": {
    "collapsed": false
   },
   "outputs": [],
   "source": [
    "import fiona\n",
    "from shapely.geometry import Polygon, LineString \n",
    "shape1 = fiona.open(r'O:\\consultas\\shapes\\dos.shp')\n",
    "\n",
    "#GETTING THE GEOMETRY (COORDINATES)\n",
    "feature1 = shape1.next()\n",
    "print(len(feature1['geometry']['coordinates'])) #si el len es mayor que 1 tendra poligonos interiores\n",
    "geom1 = feature1['geometry']['coordinates'][1]\n",
    "geom2 = feature1['geometry']['coordinates'][0]\n",
    "print(geom1)\n",
    "a1 = Polygon(geom1) #poligono interior\n",
    "a2 = Polygon(geom2) #poligono exterior\n",
    "a3 = Polygon(geom2, [geom1])\n",
    "b1 = LineString(geom2)"
   ]
  },
  {
   "cell_type": "code",
   "execution_count": null,
   "metadata": {
    "collapsed": false
   },
   "outputs": [],
   "source": [
    "b1"
   ]
  },
  {
   "cell_type": "code",
   "execution_count": null,
   "metadata": {
    "collapsed": false
   },
   "outputs": [],
   "source": [
    "for i in list(a3.interiors):\n",
    "    print(i)"
   ]
  },
  {
   "cell_type": "code",
   "execution_count": null,
   "metadata": {
    "collapsed": false
   },
   "outputs": [],
   "source": [
    "print(a3.coords)"
   ]
  },
  {
   "cell_type": "markdown",
   "metadata": {
    "collapsed": true
   },
   "source": [
    "# Spliting shapes with Fiona"
   ]
  },
  {
   "cell_type": "code",
   "execution_count": null,
   "metadata": {
    "collapsed": true
   },
   "outputs": [],
   "source": [
    "import os\n",
    "import fiona\n",
    "\n",
    "dest = r\"O:\\consultas\"\n",
    "\n",
    "infile = (r\"O:\\consultas\\shapes\\Multi.shp\")\n",
    "\n",
    "with fiona.open(infile) as source:\n",
    "\n",
    "    meta = source.meta\n",
    "\n",
    "    for f in source:\n",
    "\n",
    "        outfile = os.path.join(dest, \"%s.shp\" % f['id'])\n",
    "\n",
    "        with fiona.open(outfile, 'w', **meta) as sink:\n",
    "\n",
    "            sink.write(f)"
   ]
  },
  {
   "cell_type": "code",
   "execution_count": null,
   "metadata": {
    "collapsed": true
   },
   "outputs": [],
   "source": [
    "l = ['Nw', 'Se', 'ne', 'sw']\n",
    "a = l[random.randint(0, 4)]"
   ]
  },
  {
   "cell_type": "code",
   "execution_count": null,
   "metadata": {
    "collapsed": false
   },
   "outputs": [],
   "source": [
    "shp = r'O:\\consultas\\shapes\\Irregular_Frame4.shp'\n",
    "shape2 = fiona.open(shp)\n",
    "feature2 = shape2.next()\n",
    "\n",
    "geom1 = feature2['geometry']['coordinates']\n",
    "\n",
    "rings = len(geom1)\n",
    "\n",
    "if rings == 1:\n",
    "    \n",
    "    geom2 = feature2['geometry']['coordinates'][0]\n",
    "    \n",
    "else:\n",
    "    \n",
    "    geom2 = (feature2['geometry']['coordinates'][0], feature2['geometry']['coordinates'][0:rings])\n",
    "    \n",
    "    \n"
   ]
  },
  {
   "cell_type": "code",
   "execution_count": null,
   "metadata": {
    "collapsed": false
   },
   "outputs": [],
   "source": [
    "print('patata')"
   ]
  },
  {
   "cell_type": "code",
   "execution_count": null,
   "metadata": {
    "collapsed": false
   },
   "outputs": [],
   "source": [
    "from shapely.geometry import mapping, shape"
   ]
  },
  {
   "cell_type": "code",
   "execution_count": null,
   "metadata": {
    "collapsed": true
   },
   "outputs": [],
   "source": [
    "shapely.geometry.linestring"
   ]
  },
  {
   "cell_type": "code",
   "execution_count": null,
   "metadata": {
    "collapsed": false
   },
   "outputs": [],
   "source": [
    "import fiona\n",
    "from shapely.geometry import shape, MultiPolygon\n",
    "c = fiona.open(r'O:\\consultas\\shapes\\cientouno.shp')\n",
    "pol = c.next()\n",
    "geom = shape(pol['geometry'])"
   ]
  },
  {
   "cell_type": "code",
   "execution_count": null,
   "metadata": {
    "collapsed": false
   },
   "outputs": [],
   "source": [
    "Multi = MultiPolygon([shape(pol['geometry']) for pol in fiona.open(r'O:\\consultas\\shapes_moved\\mil.shp')])"
   ]
  },
  {
   "cell_type": "code",
   "execution_count": null,
   "metadata": {
    "collapsed": false
   },
   "outputs": [],
   "source": [
    "for i in Multi:\n",
    "    print(i)"
   ]
  },
  {
   "cell_type": "code",
   "execution_count": null,
   "metadata": {
    "collapsed": true
   },
   "outputs": [],
   "source": []
  }
 ],
 "metadata": {
  "anaconda-cloud": {},
  "kernelspec": {
   "display_name": "Python [Root]",
   "language": "python",
   "name": "Python [Root]"
  },
  "language_info": {
   "codemirror_mode": {
    "name": "ipython",
    "version": 3
   },
   "file_extension": ".py",
   "mimetype": "text/x-python",
   "name": "python",
   "nbconvert_exporter": "python",
   "pygments_lexer": "ipython3",
   "version": "3.5.2"
  }
 },
 "nbformat": 4,
 "nbformat_minor": 0
}
