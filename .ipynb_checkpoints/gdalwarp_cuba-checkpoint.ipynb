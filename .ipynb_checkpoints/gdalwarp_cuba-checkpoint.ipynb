{
 "cells": [
  {
   "cell_type": "code",
   "execution_count": null,
   "metadata": {
    "collapsed": false
   },
   "outputs": [],
   "source": [
    "!gdalinfo C:\\Users\\Diego\\Documents\\ArcGIS\\Default1.gdb\\mask_1216\\mask_1216"
   ]
  },
  {
   "cell_type": "code",
   "execution_count": null,
   "metadata": {
    "collapsed": false
   },
   "outputs": [],
   "source": [
    "!gdalwarp -cutline E:\\cuba\\Marco_Cuba.shp -crop_to_cutline -tr 30 30 -of ENVI --config GDAL_CACHEMAX 8000 -wo NUM_THREADS=ALL_CPUS  I:\\Cuba\\septiembre\\mos\\mos_12_16 I:\\Cuba\\septiembre\\mos\\mos_12_16_rec"
   ]
  },
  {
   "cell_type": "code",
   "execution_count": null,
   "metadata": {
    "collapsed": false
   },
   "outputs": [],
   "source": [
    "!gdalwarp -cutline E:\\cuba\\Marco_Cuba.shp -crop_to_cutline -tr 10 10 --config GDAL_CACHEMAX 8000 -wo NUM_THREADS=ALL_CPUS  G:\\Cuba\\s2a_SAC\\cuba_mosaico_s2.img C:\\cuba\\stacks\\mosaico_s2.img"
   ]
  },
  {
   "cell_type": "code",
   "execution_count": null,
   "metadata": {
    "collapsed": false
   },
   "outputs": [],
   "source": [
    "!gdalwarp -t_srs EPSG:32617 -tr 30 30 -tap -overwrite -srcnodata 0 -dstnodata 0 -of ENVI I:\\Cuba\\septiembre\\mos\\mos_10_11 I:\\Cuba\\septiembre\\mos\\mos_10_11_h17"
   ]
  },
  {
   "cell_type": "code",
   "execution_count": null,
   "metadata": {
    "collapsed": false
   },
   "outputs": [],
   "source": [
    "!gdal_translate -of ENVI I:\\Cuba\\l8_sac\\nubes\\nubes18.tif I:\\Cuba\\l8_sac\\nubes\\nubes18_arcgis "
   ]
  },
  {
   "cell_type": "code",
   "execution_count": null,
   "metadata": {
    "collapsed": false
   },
   "outputs": [],
   "source": [
    "!gdalwarp --config GDAL_CACHEMAX 16000  -wo NUM_THREADS=ALL_CPUS -srcnodata 0 -dstnodata -0  -of ENVI \\\n",
    " O:\\cuba\\class\\Reclass_rast91.tif O:\\cuba\\class\\Reclass_ras112.tif  \\\n",
    "        O:\\cuba\\mosaicos\\mos_oriental2"
   ]
  },
  {
   "cell_type": "code",
   "execution_count": null,
   "metadata": {
    "collapsed": false
   },
   "outputs": [],
   "source": [
    "!gdalwarp E:\\cuba\\stack_1745_1744_rep17.tif E:\\cuba\\stack_123.tif E:\\cuba\\stack_123_2.tif  "
   ]
  },
  {
   "cell_type": "code",
   "execution_count": null,
   "metadata": {
    "collapsed": false
   },
   "outputs": [],
   "source": [
    "!gdalwarp -cutline E:\\cuba\\Marco_Cuba.shp -crop_to_cutline --config GDAL_CACHEMAX 8000 -wm 8000 --config GDAL_NUM_THREADS ALL_CPUS C:\\Cuba\\data\\cubadtm_aster.tif E:\\cuba\\dtm_rec.tif"
   ]
  },
  {
   "cell_type": "code",
   "execution_count": null,
   "metadata": {
    "collapsed": false
   },
   "outputs": [],
   "source": [
    "os.chdir(r'I:\\Cuba\\l8_sac')\n",
    "print(os.getcwd())"
   ]
  },
  {
   "cell_type": "markdown",
   "metadata": {},
   "source": [
    "# Aplicando Máscara de nubes"
   ]
  },
  {
   "cell_type": "code",
   "execution_count": null,
   "metadata": {
    "collapsed": false
   },
   "outputs": [],
   "source": [
    "import os, re, time\n",
    "from pymasker import landsatmasker, confidence\n",
    "\n",
    "path = r'I:\\Cuba\\l8_sac'\n",
    "lista = ['LC80120462014013LGN00', 'LC80120452014013LGN00', 'LC80110462014054LGN00', 'LC80100462015034LGN00']\n",
    "\n",
    "for i in os.listdir(path):\n",
    "    \n",
    "    if re.search('00$', i) and not i in lista:\n",
    "        \n",
    "        rst = os.path.join(path, i)\n",
    "        os.chdir(rst)\n",
    "        \n",
    "        try:\n",
    "                \n",
    "                print('comenzando Fmask', i)\n",
    "                t = time.time()\n",
    "                    #El valor (el ultimo valor, que es el % de confianza sobre el pixel (nubes)) se pedira desde la interfaz que se haga. \n",
    "                a = os.system(r'C:\\\"Program Files\"\\Fmask\\application\\Fmask 5 5 0 50')\n",
    "                a\n",
    "                if a == 0:\n",
    "                    \n",
    "                    print('Mascara de nubes (Fmask) generada en ' + str(t-time.time()) + ' segundos')\n",
    "                    \n",
    "                else:\n",
    "                    t = time.time()\n",
    "                    print('comenzando Fmask NoTIRS')\n",
    "                    a = os.system('C:/Cloud_Mask/Fmask_3_2 5 5 0 50')\n",
    "                    a\n",
    "                    if a == 0:\n",
    "                        \n",
    "                        print('Mascara de nubes (Fmask NoTIRS) generada en ' + str(t-time.time()) + ' segundos')\n",
    "                    else:\n",
    "                        print('comenzando BQA')\n",
    "                        for i in os.listdir(rst):\n",
    "                            if i.endswith('BQA.TIF'):\n",
    "                                masker = landsatmasker(os.path.join(rst, i))\n",
    "                                mask = masker.getcloudmask(confidence.high, cirrus = True, cumulative = True)\n",
    "                                masker.savetif(mask, os.path.join(rst, i[:-4] + '_Fmask.TIF'))\n",
    "                        \n",
    "                        print( 'Mascara de nubes (BQA) generada en ' + str(t-time.time()) + ' segundos')\n",
    "                                           \n",
    "            \n",
    "        except Exception as e:\n",
    "                \n",
    "            print(\"Unexpected error:\", type(e), e)"
   ]
  },
  {
   "cell_type": "markdown",
   "metadata": {},
   "source": [
    "# Escena 16-45"
   ]
  },
  {
   "cell_type": "code",
   "execution_count": null,
   "metadata": {
    "collapsed": false
   },
   "outputs": [],
   "source": [
    "import rasterio\n",
    "import numpy as np\n",
    "\n",
    "stack = r'I:\\Cuba\\l8_sac\\stacks\\stack_16_45c_r'\n",
    "stack_ng = r'I:\\Cuba\\l8_sac\\stacks\\stack_16_45_ng_c_r'\n",
    "msc = r'I:\\Cuba\\delete\\1645_msk_r.img'\n",
    "outfile = r'I:\\Cuba\\l8_sac\\stacks\\stack_16_45c_comp2.img'\n",
    "\n",
    "with rasterio.open(msc) as msk:\n",
    "    \n",
    "    MSK = msk.read()\n",
    "\n",
    "with rasterio.open(stack_ng) as stc_ng:\n",
    "    \n",
    "    STCNG = stc_ng.read() \n",
    "    \n",
    "with rasterio.open(stack) as stc:\n",
    "    \n",
    "    STC = stc.read()\n",
    "    for i in range(len(STC)):\n",
    "        STC[i] = np.where(MSK == 1, STCNG[i], STC[i])\n",
    "\n",
    "profile = stc.meta\n",
    "profile.update(dtype=rasterio.int16)\n",
    "\n",
    "with rasterio.open(outfile, 'w', **profile) as dst:\n",
    "    dst.write(STC.astype(rasterio.int16))\n",
    "    \n",
    "print('Hecho')\n",
    "    "
   ]
  },
  {
   "cell_type": "markdown",
   "metadata": {},
   "source": [
    "# Manejo de Multibandas en Rasterio!!!"
   ]
  },
  {
   "cell_type": "code",
   "execution_count": null,
   "metadata": {
    "collapsed": false
   },
   "outputs": [],
   "source": [
    "import rasterio\n",
    "import numpy as np\n",
    "\n",
    "raster = r'C:\\cuba\\sept\\mos_1617_2.tif'\n",
    "dtm = r'C:\\cuba\\sept\\mask_1617.tif'\n",
    "outfile = r'C:\\cuba\\sept\\mos_1617_nd'\n",
    "\n",
    "\n",
    "with rasterio.open(dtm) as msk:\n",
    "    \n",
    "    MSK = msk.read()\n",
    "\n",
    "with rasterio.open(raster) as rs:\n",
    "\n",
    "    RST = rs.read([1, 2, 3, 4, 5, 6, 7]) \n",
    "\n",
    "    for i in range(len(RST)):\n",
    "        \n",
    "        RST[i] = np.where(MSK == 0, np.nan, RST[i])\n",
    "\n",
    "#print RST[0] * DTM\n",
    "print('starting')\n",
    "profile = rs.meta\n",
    "profile.update(dtype=rasterio.int16)\n",
    "\n",
    "with rasterio.open(outfile, 'w', **profile) as dst:\n",
    "    dst.write(RST.astype(rasterio.int16))\n",
    "\n",
    "print('Hecho')"
   ]
  },
  {
   "cell_type": "markdown",
   "metadata": {},
   "source": [
    "# Pasando mosaico a float"
   ]
  },
  {
   "cell_type": "code",
   "execution_count": null,
   "metadata": {
    "collapsed": false
   },
   "outputs": [],
   "source": [
    "import rasterio\n",
    "import numpy as np\n",
    "\n",
    "raster = r'C:\\cuba\\sept\\mos_10_17_nd'\n",
    "outfile = r'C:\\cuba\\sept\\mos_1017_nd_fff'\n",
    "\n",
    "with rasterio.open(raster) as rs:\n",
    "\n",
    "    RST = rs.read([1, 2, 3, 4, 5, 6, 7]) \n",
    "\n",
    "    for i in range(len(RST)):\n",
    "        \n",
    "        RST[i] = np.where(RST[i] != 0, np.true_divide(RST[i], 10000), 0)\n",
    "\n",
    "#print RST[0] * DTM\n",
    "print('starting')\n",
    "profile = rs.meta\n",
    "profile.update(dtype=rasterio.float64)\n",
    "\n",
    "with rasterio.open(outfile, 'w', **profile) as dst:\n",
    "    dst.write(RST.astype(rasterio.float64))\n",
    "\n",
    "print('Hecho')"
   ]
  },
  {
   "cell_type": "markdown",
   "metadata": {},
   "source": [
    "# Mascara de nubes a NoData"
   ]
  },
  {
   "cell_type": "code",
   "execution_count": null,
   "metadata": {
    "collapsed": false
   },
   "outputs": [],
   "source": [
    "import os, rasterio\n",
    "import numpy as np\n",
    "\n",
    "\n",
    "mosaico = r'E:\\cuba\\dtm_bin.tif'\n",
    "cloud = r'I:\\Cuba\\l8_sac\\nubes\\nubesl82014' \n",
    "outfile = r'I:\\Cuba\\l8_sac\\nubes\\nubes_l82014'\n",
    "\n",
    "with rasterio.open(mosaico) as mascara:\n",
    "\n",
    "    MASK = mascara.read() \n",
    "\n",
    "with rasterio.open(cloud) as nubes:\n",
    "\n",
    "    NB = nubes.read()\n",
    "    NB = np.where(MASK == 0, np.nan, NB)\n",
    "\n",
    "#for i in range(len(STCK)):\n",
    "\n",
    "    #STCK[i] = np.where((MASK == 2) | (MASK == 4), np.nan, STCK[i])\n",
    "\n",
    "profile = nubes.meta\n",
    "profile.update(dtype=rasterio.int16)\n",
    "\n",
    "with rasterio.open(outfile, 'w', **profile) as dst:\n",
    "    dst.write(NB.astype(rasterio.int16))"
   ]
  },
  {
   "cell_type": "code",
   "execution_count": null,
   "metadata": {
    "collapsed": true
   },
   "outputs": [],
   "source": [
    "path = r'I:\\Cuba\\l8_sac'\n",
    "floats = r'I:\\Cuba\\l8_sac\\float'\n",
    "save = r'I:\\Cuba\\l8_sac\\stacks'\n",
    "d = {}\n",
    "\n",
    "for i in os.listdir(path):\n",
    "    if i.endswith('_con'):\n",
    "        rs = os.path.join(path, i)\n",
    "        \n",
    "        for s in os.listdir(rs):\n",
    "            \n",
    "            if s.startswith('stack_'):\n",
    "                stack = os.path.join(rs, s)\n",
    "                \n",
    "                "
   ]
  },
  {
   "cell_type": "code",
   "execution_count": null,
   "metadata": {
    "collapsed": false
   },
   "outputs": [],
   "source": [
    "import rasterio, os\n",
    "import numpy as np\n",
    "\n",
    "path = r'I:\\Cuba\\l8_sac'\n",
    "save = r'I:\\Cuba\\l8_sac\\stacks'\n",
    "d = {}\n",
    "\n",
    "for i in os.listdir(path):\n",
    "    \n",
    "    if i == 'LC80130452014356LGN00_con':\n",
    "        \n",
    "        rs = os.path.join(path, i)\n",
    "        \n",
    "        for s in os.listdir(rs):\n",
    "            \n",
    "            if s.startswith('stack_') and not '.' in s:\n",
    "                \n",
    "                stack = os.path.join(rs, s)\n",
    "                outfile = os.path.join(save, s)\n",
    "                \n",
    "                d[stack] = outfile\n",
    "                \n",
    "for k, v in d.items():\n",
    "    \n",
    "    print(k, v) \n",
    "    \n",
    "    with rasterio.open(k) as stc:\n",
    "\n",
    "        STC = stc.read([1, 2, 3, 4, 5, 6, 7]) \n",
    "\n",
    "        for i in range(len(STC)):\n",
    "            STC[i] = np.around(STC[i] * 10000)\n",
    "\n",
    "        #print RST[0] * DTM\n",
    "        profile = stc.meta\n",
    "        profile.update(dtype=rasterio.int16)\n",
    "\n",
    "        with rasterio.open(v, 'w', **profile) as dst:\n",
    "            dst.write(STC.astype(rasterio.int16))\n",
    "\n",
    "        print('Hecho', v)"
   ]
  },
  {
   "cell_type": "code",
   "execution_count": null,
   "metadata": {
    "collapsed": false
   },
   "outputs": [],
   "source": [
    "import os, rasterio\n",
    "import numpy as np\n",
    "\n",
    "path = r'G:\\Cuba\\s2a_SAC'\n",
    "\n",
    "\n",
    "\n",
    "for folder in os.listdir(path):\n",
    "    \n",
    "    if 'T18' in folder:\n",
    "    \n",
    "        escena =  os.path.join(path, folder)\n",
    "\n",
    "        try:\n",
    "\n",
    "            for i in os.listdir(escena):\n",
    "\n",
    "                if 'stack' in i and not '.' in i:\n",
    "\n",
    "                    stack = os.path.join(escena, i)\n",
    "                    outfile = os.path.join(r'C:\\cuba\\stacks', i)\n",
    "\n",
    "                else: continue\n",
    "\n",
    "                with rasterio.open(stack) as rs:\n",
    "\n",
    "                    RST = rs.read([1, 2, 3, 4, 5, 6, 7, 8, 9, 10]) \n",
    "\n",
    "                    for i in range(len(RST)):\n",
    "\n",
    "                        RST[i] = np.around(RST[i] * 10000)\n",
    "\n",
    "                profile = rs.meta\n",
    "                profile.update(dtype=rasterio.int16)\n",
    "\n",
    "                with rasterio.open(outfile, 'w', **profile) as dst:\n",
    "                    dst.write(RST.astype(rasterio.int16))\n",
    "\n",
    "                print 'realizado', escena\n",
    "\n",
    "        except Exception as e:\n",
    "\n",
    "            print e, i\n",
    "            continue\n"
   ]
  },
  {
   "cell_type": "markdown",
   "metadata": {},
   "source": [
    "# Reescalado int16"
   ]
  },
  {
   "cell_type": "code",
   "execution_count": null,
   "metadata": {
    "collapsed": false
   },
   "outputs": [],
   "source": [
    "import os, rasterio\n",
    "import numpy as np\n",
    "\n",
    "stack = r'I:\\Cuba\\l8_sac\\LC80140452014091LGN00_con\\stack_14_45'\n",
    "outfile = r'I:\\Cuba\\l8_sac\\stacks\\stack_14_45_2014'\n",
    "\n",
    "with rasterio.open(stack) as rs:\n",
    "\n",
    "    RST = rs.read() \n",
    "\n",
    "    for i in range(len(RST)):\n",
    "\n",
    "        RST[i] = np.around(RST[i] * 10000)\n",
    "\n",
    "profile = rs.meta\n",
    "profile.update(dtype=rasterio.int16)\n",
    "\n",
    "with rasterio.open(outfile, 'w', **profile) as dst:\n",
    "    dst.write(RST.astype(rasterio.int16))\n",
    "    \n",
    "print('done')"
   ]
  },
  {
   "cell_type": "markdown",
   "metadata": {},
   "source": [
    "# Prueba mascara nubes para todas las bandas"
   ]
  },
  {
   "cell_type": "code",
   "execution_count": null,
   "metadata": {
    "collapsed": false
   },
   "outputs": [],
   "source": [
    "import os, rasterio\n",
    "import numpy as np\n",
    "\n",
    "feb = r'C:\\cuba\\stacks\\20160214_stack_QGK.img'\n",
    "may = r'C:\\cuba\\stacks\\20160507_stack_QGK.img'\n",
    "mask = r'C:\\cuba\\class.tif'\n",
    "outfile = r'C:\\cuba\\stacks\\stack_QGK_10.img'\n",
    "\n",
    "with rasterio.open(mask) as mascara:\n",
    "\n",
    "    MASK = mascara.read() \n",
    "\n",
    "with rasterio.open(feb) as febrero:\n",
    "\n",
    "    FEB = febrero.read([1, 2, 3, 4, 5, 6, 7, 8, 9, 10]) \n",
    "\n",
    "\n",
    "with rasterio.open(may) as mayo:\n",
    "\n",
    "    MAY = mayo.read([1, 2, 3, 4, 5, 6, 7, 8, 9, 10]) \n",
    "\n",
    "for i in range(len(MAY)):\n",
    "\n",
    "    MAY[i] = np.where(MASK == 0, FEB[i], MAY[i])\n",
    "                                                                                                                \n",
    "profile = febrero.profile\n",
    "profile.update(dtype=rasterio.int16)\n",
    "\n",
    "with rasterio.open(outfile, 'w', **profile) as dst:\n",
    "    dst.write(MAY.astype(rasterio.int16))\n",
    "\n"
   ]
  },
  {
   "cell_type": "code",
   "execution_count": null,
   "metadata": {
    "collapsed": false
   },
   "outputs": [],
   "source": [
    "import rasterio\n",
    "import numpy as np\n",
    "\n",
    "outfile = 'C:\\Users\\Diego\\Desktop\\delete\\class_marabu.img'\n",
    "\n",
    "rs = r'C:\\Users\\Diego\\Desktop\\delete\\class_filter.img'\n",
    "\n",
    "with rasterio.open(rs) as src:\n",
    "    \n",
    "    RST = src.read()\n",
    "    RST[RST != 1] = 0\n",
    "    #RST[RST == 0] = np.nan\n",
    "    \n",
    "profile = src.meta\n",
    "profile.update(dtype=rasterio.int16)\n",
    "\n",
    "with rasterio.open(outfile, 'w', **profile) as dst:\n",
    "    dst.write(RST.astype(rasterio.int16)) "
   ]
  },
  {
   "cell_type": "code",
   "execution_count": null,
   "metadata": {
    "collapsed": false
   },
   "outputs": [],
   "source": [
    "!gdal_translate -of GTiff C:\\Users\\Diego\\Desktop\\delete\\class_marabu.img C:\\Users\\Diego\\Desktop\\delete\\class_marabu.tif"
   ]
  },
  {
   "cell_type": "markdown",
   "metadata": {},
   "source": [
    "# Best Pixel Available "
   ]
  },
  {
   "cell_type": "code",
   "execution_count": null,
   "metadata": {
    "collapsed": false
   },
   "outputs": [],
   "source": [
    "import os, rasterio\n",
    "import numpy as np\n",
    "\n",
    "stack = r'I:\\Cuba\\l8_sac\\LC80110462014358LGN00_converted\\stack_11_46b'\n",
    "stack_ = r'I:\\Cuba\\l8_sac\\LC80110462014054LGN00_con\\stack_11_46'\n",
    "mask = r'I:\\Cuba\\l8_sac\\LC80110462014358LGN00\\LC80110462014358LGN00_MTLFmask'\n",
    "mask_ = r'I:\\Cuba\\l8_sac\\LC80110462014054LGN00\\LC80110462014054LGN00_MTLFmask'\n",
    "outfile = r'I:\\Cuba\\l8_sac\\stack1146'\n",
    "\n",
    "with rasterio.open(mask) as mascara:\n",
    "\n",
    "    MASK = mascara.read() \n",
    "    \n",
    "with rasterio.open(mask_) as mascara_:\n",
    "\n",
    "    MASK_ = mascara_.read() \n",
    "\n",
    "with rasterio.open(stack) as stack:\n",
    "\n",
    "    STCK = stack.read([1, 2, 3, 4, 5, 6, 7]) \n",
    "\n",
    "with rasterio.open(stack_) as stack_:\n",
    "\n",
    "    STCK_ = stack_.read([1, 2, 3, 4, 5, 6, 7]) \n",
    "\n",
    "for i in range(len(STCK)):\n",
    "\n",
    "    STCK[i] = np.around(np.where((MASK == 2) | (MASK == 4), STCK_[i], STCK[i]) * 10000)\n",
    "                                                                                                                \n",
    "profile = stack.meta\n",
    "profile.update(dtype=rasterio.int16)\n",
    "\n",
    "with rasterio.open(outfile, 'w', **profile) as dst:\n",
    "    dst.write(STCK.astype(rasterio.int16))\n",
    "    \n",
    "Print('Done')"
   ]
  },
  {
   "cell_type": "markdown",
   "metadata": {},
   "source": [
    "# Normalizacion"
   ]
  },
  {
   "cell_type": "code",
   "execution_count": null,
   "metadata": {
    "collapsed": false
   },
   "outputs": [],
   "source": [
    "import rasterio\n",
    "import numpy as np\n",
    "from scipy.stats import linregress\n",
    "\n",
    "stack1046 = r'I:\\Cuba\\l8_sac\\stacks\\Extract_img31.tif'\n",
    "stack1146 = r'I:\\Cuba\\l8_sac\\stacks\\Extract_img41.tif'\n",
    "\n",
    "\n",
    "with rasterio.open(stack1046) as stck10:\n",
    "\n",
    "    STCK10 = stck10.read()\n",
    "    print(STCK10.shape)\n",
    "    #STCK10.tolist()\n",
    "    \n",
    "with rasterio.open(stack1146) as stck11:\n",
    "\n",
    "    STCK11 = stck11.read() \n",
    "    print(STCK11.shape)\n",
    "    #STCK11.tolist()\n",
    "#for i in range(len(STCK10)):\n",
    "a = np.polyfit(STCK10, STCK11, 1)\n",
    "#slope, intercept, r_value, p_value, std_err = linregress(STCK10, STCK11)\n",
    "#print(slope, intercept)"
   ]
  },
  {
   "cell_type": "code",
   "execution_count": null,
   "metadata": {
    "collapsed": false
   },
   "outputs": [],
   "source": [
    "!gdal_translate -tr 30 30 -of ENVI I:\\Cuba\\l8_sac\\stacks\\l820142try\\stack1817_envi.tif I:\\Cuba\\l8_sac\\stacks\\l820142try\\stack17_envi"
   ]
  },
  {
   "cell_type": "markdown",
   "metadata": {},
   "source": [
    "# Reclass la clasificacion a binario"
   ]
  },
  {
   "cell_type": "code",
   "execution_count": null,
   "metadata": {
    "collapsed": false
   },
   "outputs": [],
   "source": [
    "import rasterio\n",
    "import numpy as np\n",
    "\n",
    "raster = r'I:\\Cuba\\ClasificacionesFinales\\s2a\\s2a_mhkl001_points'\n",
    "outfile = r'I:\\Cuba\\ClasificacionesFinales\\l82014\\s2a_2016'\n",
    "\n",
    "\n",
    "with rasterio.open(raster) as rs:\n",
    "\n",
    "    RST = rs.read() \n",
    "  \n",
    "    RST = np.where(RST != 1, np.nan, RST)\n",
    "\n",
    "#print RST[0] * DTM\n",
    "profile = rs.meta\n",
    "profile.update(dtype=rasterio.int16)\n",
    "\n",
    "with rasterio.open(outfile, 'w', **profile) as dst:\n",
    "    dst.write(RST.astype(rasterio.int16))\n",
    "\n",
    "print('Hecho')"
   ]
  },
  {
   "cell_type": "code",
   "execution_count": null,
   "metadata": {
    "collapsed": false
   },
   "outputs": [],
   "source": [
    "from collections import Counter\n",
    "\n",
    "list1 = ['e1', 'e2', 'e3', 'e4', 'e5', 'e6', 'e7']\n",
    "list2 = ['h1', 'h2', 'h1', 'h3', 'h1', 'h2', 'h4']\n",
    "drop = []\n",
    "\n",
    "#d = dict(zip(list1, list2))\n",
    "#dc = Counter(list2)\n",
    "\n",
    "for i in range(len(list2)):\n",
    "    \n",
    "    print('elementos:', list2[i], 'e' + list2[i][1])\n",
    "    \n",
    "    if not list2[i] in drop:\n",
    "        \n",
    "        print('a borrar', list2[i])\n",
    "        \n",
    "        try:\n",
    "            \n",
    "            drop.append(list2[i])\n",
    "            list2.remove(list2[i])\n",
    "            list1.remove('e' + list2[i][1])\n",
    "            \n",
    "            print('drop:', drop)\n",
    "        except:\n",
    "            continue\n",
    "    \n",
    "        \n"
   ]
  },
  {
   "cell_type": "code",
   "execution_count": 1,
   "metadata": {
    "collapsed": true
   },
   "outputs": [],
   "source": [
    "from rasterstats import zonal_stats\n",
    "from scipy import stats\n",
    "\n",
    "def mymode(x):\n",
    "    return(stats.mode(x, axis = None))"
   ]
  },
  {
   "cell_type": "code",
   "execution_count": null,
   "metadata": {
    "collapsed": false
   },
   "outputs": [],
   "source": [
    "stats = zonal_stats(r'C:\\Users\\Diego\\Desktop\\delete\\vdcns\\Export_Output_2.shp', r'O:\\VDCNS\\Curvas_MTN_Historico\\dtm_ctr_str.tif', \\\n",
    "                    stats=['count', 'majority', 'median', 'mean'], add_stats={'mymode':mymode})"
   ]
  },
  {
   "cell_type": "code",
   "execution_count": null,
   "metadata": {
    "collapsed": false
   },
   "outputs": [],
   "source": [
    "stats"
   ]
  },
  {
   "cell_type": "code",
   "execution_count": 2,
   "metadata": {
    "collapsed": false
   },
   "outputs": [
    {
     "name": "stderr",
     "output_type": "stream",
     "text": [
      "C:\\Anaconda3\\lib\\site-packages\\rasterstats\\main.py:138: FutureWarning: The value of this property will change in version 1.0. Please see https://github.com/mapbox/rasterio/issues/86 for details.\n",
      "  with Raster(raster, affine, nodata, band) as rast:\n",
      "C:\\Anaconda3\\lib\\site-packages\\rasterstats\\io.py:239: FutureWarning: GDAL-style transforms are deprecated and will not be supported in Rasterio 1.0.\n",
      "  self.affine = guard_transform(self.src.transform)\n"
     ]
    }
   ],
   "source": [
    "stats = zonal_stats(r'C:\\Users\\Diego\\Desktop\\delete\\vdcns\\Export_Output_2.shp', r'C:\\Users\\Diego\\Desktop\\VDCNS\\LIDAR\\MDT05_LIDAR.tif', \\\n",
    "                    stats=['count', 'majority', 'median', 'mean'], add_stats={'mymode':mymode})"
   ]
  },
  {
   "cell_type": "code",
   "execution_count": 3,
   "metadata": {
    "collapsed": false
   },
   "outputs": [
    {
     "data": {
      "text/plain": [
       "[{'count': 14317,\n",
       "  'majority': 300.1000061035156,\n",
       "  'mean': 300.2044771949431,\n",
       "  'median': 300.1050109863281,\n",
       "  'mymode': ModeResult(mode=array([ 300.1000061], dtype=float32), count=array([ 1182.]))}]"
      ]
     },
     "execution_count": 3,
     "metadata": {},
     "output_type": "execute_result"
    }
   ],
   "source": [
    "stats"
   ]
  },
  {
   "cell_type": "code",
   "execution_count": 1,
   "metadata": {
    "collapsed": false
   },
   "outputs": [
    {
     "name": "stdout",
     "output_type": "stream",
     "text": [
      "0...10...20...30...40...50...60...70...80...90...100 - done.\n"
     ]
    }
   ],
   "source": [
    "!gdalwarp -cutline O:\\VDCNS\\protocolo\\data\\Rois_extent.shp -crop_to_cutline -tr 30 30 -tap -of ENVI\\\n",
    "    --config GDAL_CACHEMAX 8000 -wo NUM_THREADS=ALL_CPUS  \\\n",
    "    O:\\VDCNS\\protocolo\\rad\\20000626l7etm202_32\\20000626l7etm202_32_r_b1.img \\\n",
    "        O:\\VDCNS\\protocolo\\rad\\rec_20000626l7etm202_32_r_b1.img"
   ]
  },
  {
   "cell_type": "markdown",
   "metadata": {
    "collapsed": true
   },
   "source": [
    "# Rasterio Raster Extent"
   ]
  },
  {
   "cell_type": "code",
   "execution_count": null,
   "metadata": {
    "collapsed": true
   },
   "outputs": [],
   "source": [
    "def get_extent(self):\n",
    "\n",
    "    '''obtenemos el extent de la escena y reproyectamos los rois para que tengan esa extension y se\n",
    "    pueda realizar la normalizacion con las bandas corregidas radiometricamente'''\n",
    "\n",
    "    path_rad_escena = os.path.join(self.rad, self.escena)\n",
    "\n",
    "    for i in os.listdir(path_rad_escena):\n",
    "\n",
    "        if i.endswith('b1.img'):\n",
    "            b1 = os.path.join(path_rad_escena, i)\n",
    "\n",
    "            with rasterio.open(b1) as src:\n",
    "                b1 = src.read()\n",
    "\n",
    "            left = str(src.bounds.left)\n",
    "            bottom = str(src.bounds.bottom)\n",
    "            right = str(src.bounds.right)\n",
    "            top = str(src.bounds.top)\n",
    "\n",
    "            return left, bottom, right, top"
   ]
  },
  {
   "cell_type": "code",
   "execution_count": 11,
   "metadata": {
    "collapsed": false
   },
   "outputs": [
    {
     "name": "stdout",
     "output_type": "stream",
     "text": [
      "Populating the interactive namespace from numpy and matplotlib\n",
      "(1, 7096, 7398) 7 0 0.00166164382768\n",
      "(1, 7096, 7398) 10001 0 1027.43802404\n",
      "(1, 7096, 7398) 10001 0 2059.55727568\n",
      "\n",
      "++++++++++++++++++++++++++++++++++\n",
      "slope: 0.988842059879 intercept: 72.6407268276 r 0.939810690388 N: 20524\n",
      "++++++++++++++++++++++++++++++++++\n",
      "\n",
      "\n",
      "++++++++++++++++++++++++++++++++++\n",
      "slope: 0.989605209809 intercept: 69.177252701 r 0.999537466966 N: 3851\n",
      "++++++++++++++++++++++++++++++++++\n",
      "\n"
     ]
    },
    {
     "data": {
      "text/plain": [
       "(array([ 68.63462434,   0.99006315]), array([[ 67.50715014,  69.76209854],\n",
       "        [  0.98911164,   0.99101465]]), array([[ 67.50660836,  69.76155676],\n",
       "        [  0.9891121 ,   0.99101511]]), array([[ 1.        ,  0.99953747],\n",
       "        [ 0.99953747,  1.        ]]))"
      ]
     },
     "execution_count": 11,
     "metadata": {},
     "output_type": "execute_result"
    },
    {
     "data": {
      "image/png": "[encoded data removed]",
      "text/plain": [
       "<matplotlib.figure.Figure at 0x22c928484e0>"
      ]
     },
     "metadata": {},
     "output_type": "display_data"
    }
   ],
   "source": [
    "%pylab inline\n",
    "\n",
    "import os, rasterio\n",
    "import numpy as np\n",
    "from scipy import stats\n",
    "import matplotlib.pyplot as plt\n",
    "\n",
    "from scipy.stats import linregress\n",
    "\n",
    "outfile = r'O:\\VDCNS\\pruebas\\banda_2_pr.img'\n",
    "\n",
    "nubes = r'O:\\VDCNS\\protocolo\\data\\temp\\clouds_rec.img'\n",
    "pias = r'O:\\VDCNS\\protocolo\\data\\rois_vdcns.img'\n",
    "ref = r'O:\\VDCNS\\protocolo\\data\\20000712l7etm202_32\\ref_b1_tap.img'\n",
    "banda = r'O:\\VDCNS\\protocolo\\data\\temp\\rec_b1_rad.img'\n",
    "\n",
    "#APLICAMOS EL FILTRO DE LAS PIAS A LA ESCENA DE REFERENCIA Y A LA ESCENA QUE ESTAMOS PROCESANDO\n",
    "with rasterio.open(nubes) as cloud:\n",
    "    CLOUD = cloud.read()\n",
    "    \n",
    "with rasterio.open(pias) as areas:\n",
    "    PIAS = areas.read()\n",
    "    print(PIAS.shape, PIAS.max(), PIAS.min(), PIAS.mean())\n",
    "    \n",
    "with rasterio.open(ref) as referencia:\n",
    "    REF = referencia.read()\n",
    "    print(REF.shape, REF.max(), REF.min(), REF.mean())\n",
    "    \n",
    "with rasterio.open(banda) as band:\n",
    "    BANDA = band.read()\n",
    "    print(BANDA.shape, BANDA.max(), BANDA.min(), BANDA.mean())\n",
    "    \n",
    "#Ya tenemos todas las bandas de la imagen actual y de la imagen de referencia leidas como array\n",
    "REF2 = REF[(BANDA != 10001) & ((PIAS != 0) & ((CLOUD == 0) | (CLOUD == 1)))]\n",
    "BANDA2 = BANDA[(BANDA != 10001) & ((PIAS != 0) & ((CLOUD == 0) | (CLOUD == 1)))]\n",
    "PIAS2 = PIAS[(BANDA != 10001) & ((PIAS != 0) & ((CLOUD == 0) | (CLOUD == 1)))]\n",
    "\n",
    "#PIAS = np.where((PIAS!=0), PIAS, 10001)\n",
    "#BANDA2 = np.where((PIAS!=0), BANDA, 10001)\n",
    "#REF2 = np.where((PIAS!=0), REF, 10001)\n",
    "#print(BANDA2.shape, BANDA2.max(), BANDA2.min(), BANDA2.mean())\n",
    "\n",
    "'''profile = referencia.meta\n",
    "profile.update(dtype=rasterio.int16)\n",
    "\n",
    "with rasterio.open(outfile, 'w', **profile) as dst:\n",
    "    dst.write(REF2.astype(rasterio.int16))'''\n",
    "\n",
    "slope, intercept, r_value, p_value, std_err = linregress(BANDA2,REF2)\n",
    "\n",
    "print ('\\n++++++++++++++++++++++++++++++++++')\n",
    "print('slope: '+ str(slope), 'intercept:', intercept, 'r', r_value, 'N:', PIAS2.size)\n",
    "print ('++++++++++++++++++++++++++++++++++\\n')\n",
    "esperado = BANDA2 * slope + intercept\n",
    "residuo = REF2 - esperado\n",
    "\n",
    "mask_current_PIA_NoData_STD = np.ma.masked_where(abs(residuo)>=43, BANDA2)\n",
    "mask_ref_PIA_NoData_STD = np.ma.masked_where(abs(residuo)>=43,REF2)\n",
    "mask_pias_PIA_NoData_STD = np.ma.masked_where(abs(residuo)>=43,PIAS2)\n",
    "\n",
    "current_PIA_NoData_STD = np.ma.compressed(mask_current_PIA_NoData_STD)\n",
    "ref_PIA_NoData_STD = np.ma.compressed(mask_ref_PIA_NoData_STD)\n",
    "pias_PIA_NoData_STD = np.ma.compressed(mask_pias_PIA_NoData_STD)\n",
    "\n",
    "#Hemos enmascarado los resiudos, ahora calculamos la 2 regresion\n",
    "slope, intercept, r_value, p_value, std_err = linregress(current_PIA_NoData_STD,ref_PIA_NoData_STD)\n",
    "print ('\\n++++++++++++++++++++++++++++++++++')\n",
    "print ('slope: '+ str(slope), 'intercept:', intercept, 'r', r_value, 'N:', len(ref_PIA_NoData_STD))\n",
    "print ('++++++++++++++++++++++++++++++++++\\n')\n",
    "plt.scatter(BANDA2, REF2)\n",
    "#plt.scatter(current_PIA_NoData_STD, ref_PIA_NoData_STD)\n",
    "\n",
    "'''values = {}\n",
    "values_str = {0: 'otros', 1: 'Embalses', 2: 'Asfalto', 3: 'Urbano', 4: 'Vegetacion', 5: 'Mineria',\\\n",
    "              6: 'Canchales', 7: 'Suelos de Montana'}\n",
    "\n",
    "for i in range(0,8):\n",
    "    mask_pia_= np.ma.masked_where(pias_PIA_NoData_STD != i, pias_PIA_NoData_STD)\n",
    "    PIA = np.ma.compressed(mask_pia_)\n",
    "    a = PIA.tolist()\n",
    "    values[i] = len(a)\n",
    "    print(values_str[i], len(a))'''\n",
    "#pasamos las claves de cada zona a string\n",
    "'''for i in values.keys():\n",
    "    values[values_str[i]] = values.pop(i)\n",
    "print(values,)  #imprime el count de pixeles xa cada zona\n",
    "print(banda_num)'''\n",
    "#guardamos los rasters a ver que carajo pasa\n",
    "\n",
    "'''profile = band.meta\n",
    "profile.update(dtype=rasterio.int16)\n",
    "\n",
    "with rasterio.open(outfile, 'w', **profile) as dst:\n",
    "    dst.write(BANDA2.astype(rasterio.int16))'''\n",
    "gmregress(current_PIA_NoData_STD, ref_PIA_NoData_STD, alpha=0.05)"
   ]
  },
  {
   "cell_type": "code",
   "execution_count": 7,
   "metadata": {
    "collapsed": false
   },
   "outputs": [],
   "source": [
    "def gmregress(X, Y, alpha=0.05):\n",
    "    \"\"\"\n",
    "    GMREGRESS Geometric Mean Regression (Reduced Major Axis Regression).\n",
    "    Model II regression should be used when the two variables in the\n",
    "    regression equation are random and subject to error, i.e. not\n",
    "    controlled by the researcher. Model I regression using ordinary least\n",
    "    squares underestimates the slope of the linear relationship between the\n",
    "    variables when they both contain error. According to Sokal and Rohlf\n",
    "    (1995), the subject of Model II regression is one on which research and\n",
    "    controversy are continuing and definitive recommendations are difficult\n",
    "    to make.\n",
    "\n",
    "    GMREGRESS is a Model II procedure. It standardize variables before the\n",
    "    slope is computed. Each of the two variables is transformed to have a\n",
    "    mean of zero and a standard deviation of one. The resulting slope is\n",
    "    the geometric mean of the linear regression coefficient of Y on X.\n",
    "    Ricker (1973) coined this term and gives an extensive review of Model\n",
    "    II regression. It is also known as Standard Major Axis.\n",
    "\n",
    "    b, bintr, bintjm = gmregress(X,Y,alpha)\n",
    "    returns the vector B of regression coefficients in the linear Model II and\n",
    "    a matrix BINT of the given confidence intervals for B by the Ricker (1973)\n",
    "    and Jolicoeur and Mosimann (1968)-McArdle (1988) procedure.\n",
    "\n",
    "    gmregress treats NaNs in X or Y as missing values, and removes them.\n",
    "\n",
    "    Syntax: function b, bintr, bintjm = gmregress(X, Y, alpha)\n",
    "\n",
    "    Example. From the Box 14.12 (California fish cabezon [Scorpaenichthys\n",
    "    marmoratus]) of Sokal and Rohlf (1995). The data are:\n",
    "\n",
    "    x = [14, 17, 24, 25, 27, 33, 34, 37, 40, 41, 42]\n",
    "    y = [61, 37, 65, 69, 54, 93, 87, 89, 100, 90, 97]\n",
    "\n",
    "    Calling on Matlab the function:\n",
    "    b, bintr, bintjm = gmregress(x,y)\n",
    "\n",
    "    Answer is:\n",
    "    b = 12.1938    2.1194\n",
    "\n",
    "    bintr = -10.6445   35.0320\n",
    "            1.3672    2.8715\n",
    "\n",
    "    bintjm = -14.5769   31.0996\n",
    "            1.4967    3.0010\n",
    "\n",
    "    http://www.mathworks.com/matlabcentral/fileexchange/27918-gmregress\n",
    "\n",
    "    References:\n",
    "        Jolicoeur, P. and Mosimann, J. E. (1968), Intervalles de confiance pour\n",
    "            la pente de l'axe majeur d'une distribution normale\n",
    "            bidimensionnelle. BiomĂŠtrie-PraximĂŠtrie, 9:121-140.\n",
    "        McArdle, B. (1988), The structural relationship: regression in biology.\n",
    "            Can. Jour. Zool. 66:2329-2339.\n",
    "        Ricker, W. E. (1973), Linear regression in fishery research. J. Fish.\n",
    "            Res. Board Can., 30:409-434.\n",
    "        Sokal, R. R. and Rohlf, F. J. (1995), Biometry. The principles and\n",
    "            practice of the statistics in biologicalreserach. 3rd. ed.\n",
    "            New-York:W.H.,Freeman. [Sections 14.13 and 15.7]\n",
    "    \"\"\"\n",
    "\n",
    "    X, Y = map(np.asanyarray, (X, Y))\n",
    "\n",
    "    n = len(Y)\n",
    "    S = np.cov(X, Y)\n",
    "    SCX = S[0, 0] * (n - 1)\n",
    "    SCY = S[1, 1] * (n - 1)\n",
    "    SCP = S[0, 1] * (n - 1)\n",
    "    v = np.sqrt(SCY / SCX)  # Slope.\n",
    "    u = Y.mean() - X.mean() * v  # Intercept.\n",
    "    b = np.r_[u, v]\n",
    "\n",
    "    SCv = SCY - (SCP ** 2) / SCX\n",
    "    N = SCv / (n - 2)\n",
    "    sv = np.sqrt(N / SCX)\n",
    "    t = stats.t.isf(alpha / 2, n - 2)\n",
    "\n",
    "    vi = v - t * sv  # Confidence lower limit of slope.\n",
    "    vs = v + t * sv  # Confidence upper limit of slope.\n",
    "    ui = Y.mean() - X.mean() * vs  # Confidence lower limit of intercept.\n",
    "    us = Y.mean() - X.mean() * vi  # Confidence upper limit of intercept.\n",
    "    bintr = np.r_[np.c_[ui, us], np.c_[vi, vs]]\n",
    "\n",
    "    R = np.corrcoef(X, Y)\n",
    "    r = R[0, 1]\n",
    "\n",
    "    F = stats.f.isf(alpha, 1, n - 2)\n",
    "    B = F * (1 - r ** 2) / (n - 2)\n",
    "\n",
    "    a = np.sqrt(B + 1)\n",
    "    c = np.sqrt(B)\n",
    "    qi = v * (a - c)  # Confidence lower limit of slope.\n",
    "    qs = v * (a + c)  # Confidence upper limit of slope.\n",
    "    pi = Y.mean() - X.mean() * qs  # Confidence lower limit of intercept.\n",
    "    ps = Y.mean() - X.mean() * qi  # Confidence upper limit of intercept.\n",
    "    bintjm = np.r_[np.c_[pi, ps], np.c_[qi, qs]]\n",
    "\n",
    "    return b, bintr, bintjm, R"
   ]
  },
  {
   "cell_type": "code",
   "execution_count": 8,
   "metadata": {
    "collapsed": false
   },
   "outputs": [
    {
     "name": "stdout",
     "output_type": "stream",
     "text": [
      "rec_b2_rad.img\n",
      "b2\n",
      "rec_b3_rad.img\n",
      "b3\n",
      "rec_b4_rad.img\n",
      "b4\n",
      "rec_b5_rad.img\n",
      "b5\n",
      "rec_b6_rad.img\n",
      "b6\n",
      "rec_b7_rad.img\n",
      "b7\n"
     ]
    }
   ],
   "source": [
    "import os\n",
    "\n",
    "d = {}\n",
    "rutatemp = r'O:\\VDCNS\\protocolo\\data\\temp'\n",
    "rutarad = r'O:\\VDCNS\\protocolo\\rad\\20160902l8oli202_32'\n",
    "\n",
    "for i in os.listdir(rutatemp):\n",
    "    \n",
    "    if i.endswith('_rad.img'):\n",
    "        print(i)\n",
    "        banda = i[-10:-8]\n",
    "        print(banda)\n",
    "        for r in os.listdir(rutarad):\n",
    "            if banda in r and r.endswith('.img'):\n",
    "                raster = os.path.join(rutarad, r)\n",
    "                d[banda] = raster\n"
   ]
  },
  {
   "cell_type": "code",
   "execution_count": 9,
   "metadata": {
    "collapsed": false
   },
   "outputs": [
    {
     "data": {
      "text/plain": [
       "{'b2': 'O:\\\\VDCNS\\\\protocolo\\\\rad\\\\20160902l8oli202_32\\\\20160902l8oli202_32_r_b2.img',\n",
       " 'b3': 'O:\\\\VDCNS\\\\protocolo\\\\rad\\\\20160902l8oli202_32\\\\20160902l8oli202_32_r_b3.img',\n",
       " 'b4': 'O:\\\\VDCNS\\\\protocolo\\\\rad\\\\20160902l8oli202_32\\\\20160902l8oli202_32_r_b4.img',\n",
       " 'b5': 'O:\\\\VDCNS\\\\protocolo\\\\rad\\\\20160902l8oli202_32\\\\20160902l8oli202_32_r_b5.img',\n",
       " 'b6': 'O:\\\\VDCNS\\\\protocolo\\\\rad\\\\20160902l8oli202_32\\\\20160902l8oli202_32_r_b6.img',\n",
       " 'b7': 'O:\\\\VDCNS\\\\protocolo\\\\rad\\\\20160902l8oli202_32\\\\20160902l8oli202_32_r_b7.img'}"
      ]
     },
     "execution_count": 9,
     "metadata": {},
     "output_type": "execute_result"
    }
   ],
   "source": [
    "d"
   ]
  },
  {
   "cell_type": "code",
   "execution_count": 20,
   "metadata": {
    "collapsed": false
   },
   "outputs": [
    {
     "name": "stdout",
     "output_type": "stream",
     "text": [
      "Vamos a sacar el count de cada zona (dict)\n",
      "{'Mineria': 879, 'Vegetacion': 78, 'Embalses': 234, 'Canchales': 9, 'Suelos de Montana': 2341, 'Asfalto': 345, 'Urbano': 43}\n"
     ]
    }
   ],
   "source": [
    "a = {}\n",
    "values = {1: 234, 2: 345, 3: 43, 4: 78, 5: 879, 6: 9, 7:2341}\n",
    "values_str = {1: 'Embalses', 2: 'Asfalto', 3: 'Urbano', 4: 'Vegetacion', 5: 'Mineria',\\\n",
    "              6: 'Canchales', 7: 'Suelos de Montana'}\n",
    "\n",
    "print('Vamos a sacar el count de cada zona (dict)')\n",
    "'''for i in range(1,8):\n",
    "\n",
    "    mask_pia_= np.ma.masked_where(pias_PIA_NoData_STD != i, pias_PIA_NoData_STD)\n",
    "    mask_pia = pias_PIA_NoData_STD[pias_PIA_NoData_STD==i]\n",
    "    #PIA = np.ma.compressed(mask_pia_)\n",
    "    a = mask_pia.tolist()\n",
    "    values[i] = len(a)\n",
    "    print(values_str[i], len(a))'''\n",
    "#pasamos las claves de cada zona a string\n",
    "for i in values.keys():\n",
    "    a[values_str[i]] = values[i]\n",
    "    #values[values_str[i]] = values.pop(i)\n",
    "print(a,)  #imprime el count de pixeles xa cada zona"
   ]
  },
  {
   "cell_type": "code",
   "execution_count": null,
   "metadata": {
    "collapsed": true
   },
   "outputs": [],
   "source": []
  }
 ],
 "metadata": {
  "anaconda-cloud": {},
  "kernelspec": {
   "display_name": "Python [Root]",
   "language": "python",
   "name": "Python [Root]"
  },
  "language_info": {
   "codemirror_mode": {
    "name": "ipython",
    "version": 3
   },
   "file_extension": ".py",
   "mimetype": "text/x-python",
   "name": "python",
   "nbconvert_exporter": "python",
   "pygments_lexer": "ipython3",
   "version": "3.5.2"
  }
 },
 "nbformat": 4,
 "nbformat_minor": 0
}
