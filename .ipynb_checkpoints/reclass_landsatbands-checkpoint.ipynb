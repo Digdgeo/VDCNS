{
 "cells": [
  {
   "cell_type": "markdown",
   "metadata": {},
   "source": [
    "# Reclass Landsat Bands"
   ]
  },
  {
   "cell_type": "code",
   "execution_count": null,
   "metadata": {
    "collapsed": false
   },
   "outputs": [],
   "source": [
    "%%writefile pythoncode.py\n",
    "\n",
    "import os, re, rasterio\n",
    "import numpy as np\n",
    "\n",
    "def reclass_bands(path):\n",
    "    \n",
    "    #definimos la salida\n",
    "    outpath = os.path.join(path, 'extents')\n",
    "    if not os.path.exists(outpath):\n",
    "        os.makedirs(outpath)\n",
    "    \n",
    "    #recorremos la ruta con las escenas\n",
    "    for e in os.listdir(path):\n",
    "        \n",
    "        npath = os.path.join(path, e)\n",
    "            \n",
    "        if os.path.isdir(npath) and re.search('^[0-9]', e):\n",
    "            \n",
    "            #definimos las bandas que queremos usar\n",
    "            if 'l8oli' in e:\n",
    "                \n",
    "                bandas = ['B2.TIF', 'B3.TIF', 'B4.TIF', 'B5.TIF', 'B6.TIF', 'B7.TIF']\n",
    "            \n",
    "            else:\n",
    "                \n",
    "                bandas = ['B1.TIF', 'B2.TIF', 'B3.TIF', 'B4.TIF', 'B5.TIF', 'B7.TIF']\n",
    "            \n",
    "            #recorremos cada banda\n",
    "            for r in os.listdir(npath):\n",
    "                \n",
    "                banda = r[-6:]\n",
    "                \n",
    "                if banda in bandas:\n",
    "                    \n",
    "                    \n",
    "                    raster = os.path.join(npath, r)\n",
    "                    outras = os.path.join(outpath, r)\n",
    "                    \n",
    "                    if not os.path.exists(outras):\n",
    "                    \n",
    "                        #abrimos con rasterio y guardamos el raster reclasificado (byte)\n",
    "                        with rasterio.open(raster) as src:\n",
    "\n",
    "                            BANDA = src.read()\n",
    "                            BANDA[BANDA > 0] = 1\n",
    "\n",
    "                            profile = src.meta\n",
    "                            profile.update(dtype=rasterio.ubyte)\n",
    "\n",
    "                            with rasterio.open(outras, 'w', **profile) as dst:\n",
    "                                dst.write(BANDA.astype(rasterio.ubyte))\n",
    "                                \n",
    "                    "
   ]
  },
  {
   "cell_type": "code",
   "execution_count": null,
   "metadata": {
    "collapsed": false
   },
   "outputs": [],
   "source": [
    "reclass_bands(r'O:\\VDCNS\\Landsat')"
   ]
  },
  {
   "cell_type": "code",
   "execution_count": null,
   "metadata": {
    "collapsed": false
   },
   "outputs": [],
   "source": [
    "\n",
    "raster = r'O:\\VDCNS\\pruebas\\20090915l5tm202_32\\LT52020322009258MPS00_B2.TIF'\n",
    "outras = r'O:\\VDCNS\\pruebas\\extents\\LT52020322009258MPS00_B2.TIF'\n",
    "\n",
    "with rasterio.open(raster) as src:\n",
    "                        \n",
    "    BANDA = src.read()\n",
    "    print(BANDA.shape)\n",
    "    \n",
    "    BANDA[BANDA > 0] = 1\n",
    "    print(BANDA.shape)\n",
    "\n",
    "    profile = src.meta\n",
    "    profile.update(dtype=rasterio.ubyte)\n",
    "\n",
    "\n",
    "    with rasterio.open(outras, 'w', **profile) as dst:\n",
    "        dst.write(BANDA.astype(rasterio.ubyte))"
   ]
  },
  {
   "cell_type": "code",
   "execution_count": null,
   "metadata": {
    "collapsed": true
   },
   "outputs": [],
   "source": [
    "s = 'http://earthexplorer.usgs.gov/browse/tm/202/32/1989/LT42020321989163XXX01_REFL.jpg'"
   ]
  },
  {
   "cell_type": "code",
   "execution_count": null,
   "metadata": {
    "collapsed": false
   },
   "outputs": [],
   "source": [
    "!gdalwarp  -dstnodata 0 -cutline O:\\VDCNS\\Curvas_MTN_Historico\\cota318.shp -crop_to_cutline -crop_to_cutline\\\n",
    "    O:\\VDCNS\\protocolo\\rad\\20160902l8oli202_32\\20160902l8oli202_32_r_b6.img O:\\VDCNS\\Curvas_MTN_Historico\\pr\\b5_.tif"
   ]
  },
  {
   "cell_type": "code",
   "execution_count": null,
   "metadata": {
    "collapsed": false
   },
   "outputs": [],
   "source": [
    "!gdal_polygonize.py O:\\VDCNS\\Curvas_MTN_Historico\\pr\\class.tif -f \"ESRI Shapefile\" O:\\VDCNS\\Curvas_MTN_Historico\\pr\\mylayer.shp"
   ]
  },
  {
   "cell_type": "markdown",
   "metadata": {},
   "source": [
    "# GDAL POLYGONIZE WORKS FROM PYTHON BINDINGS"
   ]
  },
  {
   "cell_type": "code",
   "execution_count": null,
   "metadata": {
    "collapsed": false
   },
   "outputs": [],
   "source": [
    "import os, gdal\n",
    "\n",
    "sourceRaster = gdal.Open(r'O:\\VDCNS\\Curvas_MTN_Historico\\pr\\class2.tif')\n",
    "band = sourceRaster.GetRasterBand(1)\n",
    "bandArray = band.ReadAsArray()\n",
    "outShapefile = r'O:\\VDCNS\\Curvas_MTN_Historico\\pr\\mylayer_class2'\n",
    "driver = ogr.GetDriverByName(\"ESRI Shapefile\")\n",
    "if os.path.exists(outShapefile+\".shp\"):\n",
    "    driver.DeleteDataSource(outShapefile+\".shp\")\n",
    "outDatasource = driver.CreateDataSource(outShapefile+ \".shp\")\n",
    "outLayer = outDatasource.CreateLayer(\"polygonized\", srs=None)\n",
    "gdal.Polygonize( band, None, outLayer, -1, [], callback=None )\n",
    "outDatasource.Destroy()\n",
    "sourceRaster = None"
   ]
  },
  {
   "cell_type": "code",
   "execution_count": null,
   "metadata": {
    "collapsed": false
   },
   "outputs": [],
   "source": [
    "import os, rasterio\n",
    "import numpy as np\n",
    "\n",
    "banda6 = r'O:\\VDCNS\\Curvas_MTN_Historico\\pr\\class.tif'\n",
    "dtm = r'O:\\VDCNS\\Curvas_MTN_Historico\\dtm_ctr_rec.tif'\n",
    "\n",
    "with rasterio.open(banda6) as b6:\n",
    "    B6 = b6.read()\n",
    "with rasterio.open(dtm) as mdt:\n",
    "    MDT = mdt.read()\n",
    "    \n",
    "water = MDT[(B6 == 1) & (MDT != 0)]"
   ]
  },
  {
   "cell_type": "code",
   "execution_count": null,
   "metadata": {
    "collapsed": false
   },
   "outputs": [],
   "source": [
    "water.mean()"
   ]
  },
  {
   "cell_type": "code",
   "execution_count": null,
   "metadata": {
    "collapsed": false
   },
   "outputs": [],
   "source": [
    "%pylab inline\n",
    "\n",
    "import matplotlib.pyplot as plt\n",
    "\n",
    "plt.hist(water, bins = 20); #Con el punto y coma nos ahorramos la parte del texto del histograma"
   ]
  },
  {
   "cell_type": "code",
   "execution_count": 7,
   "metadata": {
    "collapsed": false
   },
   "outputs": [
    {
     "name": "stdout",
     "output_type": "stream",
     "text": [
      "majority 299.39837646484375\n",
      "range 0.0\n",
      "mean 299.39837646484375\n",
      "min 299.39837646484375\n",
      "max 299.39837646484375\n",
      "count 1\n",
      "median 299.39837646484375\n"
     ]
    }
   ],
   "source": [
    "from rasterstats import zonal_stats\n",
    "from scipy import stats\n",
    "\n",
    "def mymode(x):\n",
    "    return(stats.mode(x, axis = None))\n",
    "\n",
    "\n",
    "stats = zonal_stats(r'O:\\VDCNS\\Curvas_MTN_Historico\\pr\\point_extract.shp', r'O:\\VDCNS\\Curvas_MTN_Historico\\dtm_mtn_318.img', \\\n",
    "                    stats=['count', 'majority', 'median', 'mean', 'max', 'min', 'range'])\n",
    "\n",
    "a = zip(stats[1].keys(), stats[1].values())\n",
    "for k, v in a:\n",
    "    print(k, v)"
   ]
  },
  {
   "cell_type": "code",
   "execution_count": 16,
   "metadata": {
    "collapsed": false
   },
   "outputs": [
    {
     "name": "stdout",
     "output_type": "stream",
     "text": [
      "hola mundo patata\n",
      "52\n"
     ]
    }
   ],
   "source": [
    "def a():\n",
    "    print ('hola mundo patata')\n",
    "    return 42\n",
    "\n",
    "print(a() + 10)"
   ]
  },
  {
   "cell_type": "code",
   "execution_count": 11,
   "metadata": {
    "collapsed": false
   },
   "outputs": [
    {
     "data": {
      "text/plain": [
       "299.85284423828125"
      ]
     },
     "execution_count": 11,
     "metadata": {},
     "output_type": "execute_result"
    }
   ],
   "source": [
    "from rasterstats import zonal_stats\n",
    "from scipy import stats\n",
    "\n",
    "def mymode(x):\n",
    "    return(stats.mymode(x, axis = None))\n",
    "\n",
    "\n",
    "stats = zonal_stats(r'O:\\VDCNS\\Curvas_MTN_Historico\\pr\\myline2class.shp', r'O:\\VDCNS\\Curvas_MTN_Historico\\dtm_ctr_str.tif', \\\n",
    "                    stats=['count', 'majority', 'median', 'mean', 'max', 'min', 'range'])\n",
    "print(stats[0])\n",
    "return stats[0]['median']"
   ]
  },
  {
   "cell_type": "code",
   "execution_count": 2,
   "metadata": {
    "collapsed": false
   },
   "outputs": [
    {
     "name": "stdout",
     "output_type": "stream",
     "text": [
      "('min', 290.6169738769531)\n",
      "('majority', 300.0028381347656)\n",
      "('range', 19.554168701171875)\n",
      "('median', 299.195068359375)\n",
      "('count', 716)\n",
      "('max', 310.171142578125)\n",
      "('mean', 298.91877618715085)\n"
     ]
    }
   ],
   "source": [
    "for i in a:\n",
    "    print(i)"
   ]
  },
  {
   "cell_type": "code",
   "execution_count": 12,
   "metadata": {
    "collapsed": false
   },
   "outputs": [],
   "source": [
    "from scipy import stats"
   ]
  },
  {
   "cell_type": "code",
   "execution_count": null,
   "metadata": {
    "collapsed": true
   },
   "outputs": [],
   "source": [
    "stats.median_test"
   ]
  },
  {
   "cell_type": "code",
   "execution_count": null,
   "metadata": {
    "collapsed": true
   },
   "outputs": [],
   "source": [
    "# The shapefile type we are converting to\n",
    "newType = shapefile.POLYLINE\n",
    "\n",
    "# This is the shapefile we are trying\n",
    "# to convert. In this case it's a\n",
    "# state boundary polygon file for \n",
    "# Mississippi with one polygon and\n",
    "# one dbf record.\n",
    "r = shapefile.Reader(r'O:\\VDCNS\\Curvas_MTN_Historico\\pr\\mylayer_class2.shp')\n",
    "\n",
    "## POLYLINE version\n",
    "w = shapefile.Writer(newType)\n",
    "w._shapes.extend(r.shapes())\n",
    "# You must explicity set the shapeType of each record.\n",
    "# Eventually the library will set them to the same\n",
    "# as the file shape type automatically.\n",
    "for s in w.shapes():\n",
    "    s.shapeType = newType\n",
    "w.fields = list(r.fields)\n",
    "w.records.extend(r.records())\n",
    "w.save(r'O:\\VDCNS\\Curvas_MTN_Historico\\pr\\myline4.shp')"
   ]
  },
  {
   "cell_type": "markdown",
   "metadata": {
    "collapsed": true
   },
   "source": [
    "$$ P(A \\mid B) = \\frac{P(B \\mid A) \\, P(A)}{P(B)} $$"
   ]
  },
  {
   "cell_type": "markdown",
   "metadata": {},
   "source": [
    "# We can pass a shapely geometry to rasterstats!"
   ]
  },
  {
   "cell_type": "code",
   "execution_count": null,
   "metadata": {
    "collapsed": false
   },
   "outputs": [],
   "source": [
    "import fiona\n",
    "from shapely.geometry import Polygon, LineString \n",
    "shape1 = fiona.open(r'O:\\VDCNS\\Curvas_MTN_Historico\\pr\\CCL.shp')\n",
    "\n",
    "#GETTING THE GEOMETRY (COORDINATES)\n",
    "feature1 = shape1.next()\n",
    "line = feature1['geometry']['coordinates']\n",
    "print(line)\n",
    "\n",
    "#si el len es mayor que 1 tendra poligonos interiores\n",
    "#geom1 = feature1['geometry']['coordinates'][1]\n",
    "#geom2 = feature1['geometry']['coordinates'][0]\n",
    "#print(geom1)\n",
    "#a1 = Polygon(geom1) #poligono interior\n",
    "#a2 = Polygon(geom2) #poligono exterior\n",
    "#a3 = Polygon(geom2, [geom1])\n",
    "b1 = LineString(line)"
   ]
  },
  {
   "cell_type": "code",
   "execution_count": null,
   "metadata": {
    "collapsed": false
   },
   "outputs": [],
   "source": [
    "b1"
   ]
  },
  {
   "cell_type": "code",
   "execution_count": null,
   "metadata": {
    "collapsed": false
   },
   "outputs": [],
   "source": [
    "raster = r'O:\\VDCNS\\protocolo\\nor\\20070724l5tm202_32\\20070724l5tm202_32_grn1_b5.img'\n",
    "shape = r'O:\\VDCNS\\protocolo\\data\\cota_318p.shp'\n",
    "\n",
    "!gdalwarp  -dstnodata 0 -cutline O:\\VDCNS\\protocolo\\data\\cota_318p.shp -crop_to_cutline -tr 30 30 -tap\\\n",
    "    O:\\VDCNS\\protocolo\\nor\\20000914l7etm202_32\\\\20000914l7etm202_32_grn1_b5.img \\\n",
    "        O:\\VDCNS\\protocolo\\pro\\pr\\banda5l7.tif\n"
   ]
  },
  {
   "cell_type": "markdown",
   "metadata": {},
   "source": [
    "# Reclasificamos la mascara de agua"
   ]
  },
  {
   "cell_type": "code",
   "execution_count": null,
   "metadata": {
    "collapsed": false
   },
   "outputs": [],
   "source": [
    "import rasterio\n",
    "import numpy as np\n",
    "\n",
    "r = r'O:\\VDCNS\\protocolo\\pro\\pr\\banda5l7'\n",
    "water = r'O:\\VDCNS\\protocolo\\pro\\pr\\waterl7.tif'\n",
    "\n",
    "with rasterio.open(r) as src:\n",
    "    B5 = src.read()\n",
    "    \n",
    "    B5[(B5 <= 2000) & (B5 > 0)] = 1\n",
    "    B5[B5 > 2000] = 0\n",
    "    profile = src.meta\n",
    "    profile.update(dtype=rasterio.int16)\n",
    "\n",
    "    with rasterio.open(water, 'w', **profile) as dst:\n",
    "        dst.write(B5.astype(rasterio.int16))\n",
    "    \n",
    "    "
   ]
  },
  {
   "cell_type": "markdown",
   "metadata": {},
   "source": [
    "# Rasterizamos la mascara de agua"
   ]
  },
  {
   "cell_type": "code",
   "execution_count": null,
   "metadata": {
    "collapsed": false
   },
   "outputs": [],
   "source": [
    "import os, gdal, ogr\n",
    "\n",
    "sourceRaster = gdal.Open(r'O:\\VDCNS\\protocolo\\pro\\pr\\waterl7.tif')\n",
    "band = sourceRaster.GetRasterBand(1)\n",
    "bandArray = band.ReadAsArray()\n",
    "outShapefile = r'O:\\VDCNS\\protocolo\\pro\\pr\\waterl7'\n",
    "driver = ogr.GetDriverByName(\"ESRI Shapefile\")\n",
    "if os.path.exists(outShapefile+\".shp\"):\n",
    "    driver.DeleteDataSource(outShapefile+\".shp\")\n",
    "outDatasource = driver.CreateDataSource(outShapefile+ \".shp\")\n",
    "outLayer = outDatasource.CreateLayer(\"polygonized\", srs=None)\n",
    "gdal.Polygonize( band, None, outLayer, -1, [], callback=None )\n",
    "outDatasource.Destroy()\n",
    "sourceRaster = None"
   ]
  },
  {
   "cell_type": "code",
   "execution_count": null,
   "metadata": {
    "collapsed": false
   },
   "outputs": [],
   "source": [
    "import fiona\n",
    "\n",
    "fiona.listlayers(r'O:\\consultas\\shapes')"
   ]
  },
  {
   "cell_type": "code",
   "execution_count": null,
   "metadata": {
    "collapsed": true
   },
   "outputs": [],
   "source": [
    "import fiona\n",
    "\n",
    "with fiona.open(r'O:\\VDCNS\\protocolo\\pro\\pr\\water2.shp') as src:\n",
    "    \n",
    "    filtered = filter(lambda f: f['properties']['FID']=='22', src)"
   ]
  },
  {
   "cell_type": "markdown",
   "metadata": {},
   "source": [
    "# seleccionamos el poligono de segunda mayor area y lo guardamos"
   ]
  },
  {
   "cell_type": "code",
   "execution_count": null,
   "metadata": {
    "collapsed": false
   },
   "outputs": [],
   "source": [
    "import shapefile, fiona\n",
    "from shapely.geometry import Polygon\n",
    "\n",
    "shp = r'O:\\VDCNS\\protocolo\\pro\\pr\\waterl7.shp'\n",
    "out = r'O:\\VDCNS\\protocolo\\pro\\pr\\waterl7_watermask.shp'\n",
    "myshp = fiona.open(shp)\n",
    "\n",
    "areas = []\n",
    "selection = []\n",
    "\n",
    "for i in myshp.values():\n",
    "    \n",
    "    geom1 = i['geometry']\n",
    "    a1 = Polygon(geom1['coordinates'][0])\n",
    "    #print('\\nArea', a1.area, '\\n')\n",
    "    areas.append(a1.area)\n",
    "    \n",
    "print(sorted(areas))\n",
    "\n",
    "for i in myshp.values():\n",
    "    \n",
    "    geom1 = i['geometry']\n",
    "    a1 = Polygon(geom1['coordinates'][0])\n",
    "    \n",
    "    if a1.area == sorted(areas)[-2]:\n",
    "        selection.append(i)\n",
    "\n",
    "        \n",
    "with fiona.open(shp, 'r') as source:\n",
    "\n",
    "    # **source.meta is a shortcut to get the crs, driver, and schema\n",
    "    # keyword arguments from the source Collection.\n",
    "    with fiona.open(out, 'w', **source.meta) as sink:\n",
    "\n",
    "\n",
    "        for f in source:\n",
    "            \n",
    "            geom1 = f['geometry']\n",
    "            a1 = Polygon(geom1['coordinates'][0])\n",
    "            if a1.area == sorted(areas)[-2]:\n",
    "                sink.write(f)\n",
    "                            \n"
   ]
  },
  {
   "cell_type": "code",
   "execution_count": null,
   "metadata": {
    "collapsed": false
   },
   "outputs": [],
   "source": [
    "lista_ix[-2]"
   ]
  },
  {
   "cell_type": "markdown",
   "metadata": {},
   "source": [
    "# Calculamos las areas de cada poligono y nos quedamos con la segunda mayor"
   ]
  },
  {
   "cell_type": "code",
   "execution_count": null,
   "metadata": {
    "collapsed": false
   },
   "outputs": [],
   "source": [
    "import fiona\n",
    "from shapely.geometry import Polygon\n",
    "\n",
    "areas = []\n",
    "\n",
    "myshp = fiona.open(r'O:\\VDCNS\\protocolo\\pro\\pr\\CG.shp')\n",
    "#print(myshp.schema)\n",
    "#GETTING THE GEOMETRY (COORDINATES)\n",
    "feature1 = myshp.next()\n",
    "for i in myshp.values():\n",
    "    print(i['properties']['area'])\n",
    "\n",
    "    geom1 = i['geometry']\n",
    "    a1 = Polygon(geom1['coordinates'][0])\n",
    "    print('\\nArea', a1.area, '\\n')\n",
    "    areas.append(a1.area)\n",
    "\n",
    "print('La segunda mayor area es', sorted(areas)[-2])"
   ]
  },
  {
   "cell_type": "code",
   "execution_count": null,
   "metadata": {
    "collapsed": false
   },
   "outputs": [],
   "source": [
    "import shapefile\n",
    "\n",
    "shp = r'O:\\VDCNS\\protocolo\\pro\\19840910l5tm202_32\\19840910l5_WaterMask.shp'\n",
    "out = r'O:\\VDCNS\\protocolo\\pro\\19840910l5tm202_32\\19840910l5_contour.shp'\n",
    "#out = r'O:\\VDCNS\\protocolo\\pro\\20160521l7etm202_32\\waterl7_watermask_line.shp'\n",
    "# Create a reader instance\n",
    "r = shapefile.Reader(shp)\n",
    "# Create a writer instance\n",
    "w = shapefile.Writer(shapeType=shapefile.POLYLINE)\n",
    "# Copy the fields to the writer\n",
    "w.fields = list(r.fields)\n",
    "# Grab the geometry and records from all features \n",
    "# with the correct county name \n",
    "selection = [] \n",
    "for rec in enumerate(r.records()):\n",
    "    selection.append(rec) \n",
    "# Add the geometry and records to the writer\n",
    "for rec in selection:\n",
    "    w._shapes.append(r.shape(rec[0]))\n",
    "    w.records.append(rec[1])\n",
    "# Save the new shapefile\n",
    "w.save(out)"
   ]
  },
  {
   "cell_type": "code",
   "execution_count": null,
   "metadata": {
    "collapsed": true
   },
   "outputs": [],
   "source": [
    "import shapely\n",
    "shapely.geometry.asLineString"
   ]
  },
  {
   "cell_type": "code",
   "execution_count": null,
   "metadata": {
    "collapsed": false
   },
   "outputs": [],
   "source": [
    "import shapefile, fiona, shapely\n",
    "from shapely.geometry import Polygon\n",
    "\n",
    "shp = r'O:\\VDCNS\\protocolo\\pro\\pr\\waterl7.shp'\n",
    "out = r'O:\\VDCNS\\protocolo\\pro\\pr\\waterl7_watermask.shp'\n",
    "myshp = fiona.open(shp)\n",
    "\n",
    "areas = []\n",
    "selection = []\n",
    "\n",
    "for i in myshp.values():\n",
    "    \n",
    "    geom1 = i['geometry']\n",
    "    a1 = Polygon(geom1['coordinates'][0])\n",
    "    #print('\\nArea', a1.area, '\\n')\n",
    "    areas.append(a1.area)\n",
    "    \n",
    "#print(sorted(areas))\n",
    "\n",
    "for i in myshp.values():\n",
    "    \n",
    "    geom1 = i['geometry']\n",
    "    a1 = Polygon(geom1['coordinates'][0])\n",
    "    \n",
    "    if a1.area == sorted(areas)[-2]:\n",
    "        a2 = shapely.geometry.asLineString(a1)\n",
    "        print(a2)\n",
    "        #selection.append(i)"
   ]
  },
  {
   "cell_type": "markdown",
   "metadata": {},
   "source": [
    "# Converting from polygon to MultiLineString Shapely!"
   ]
  },
  {
   "cell_type": "code",
   "execution_count": null,
   "metadata": {
    "collapsed": false
   },
   "outputs": [],
   "source": [
    "from shapely.geometry import mapping, Polygon, MultiLineString\n",
    "import fiona\n",
    "\n",
    "shape = r'O:\\VDCNS\\protocolo\\pro\\20160521l7etm202_32\\20160521_watervec.shp'\n",
    "outshp = r'O:\\VDCNS\\protocolo\\pro\\20160521l7etm202_32\\waterl7_shapely_ML_s25.shp'\n",
    "\n",
    "myshp = fiona.open(shape)\n",
    "for i in myshp:\n",
    "    geom1 = i['geometry']\n",
    "    #print(geom1)\n",
    "    #print(geom1)\n",
    "    line = MultiLineString(geom1['coordinates'])\n",
    "    line10 = line.simplify(25)\n",
    "#print(geom1)\n",
    "# Here's an example Shapely geometry\n",
    "#poly = Polygon([(0, 0), (0, 1), (1, 1), (0, 0)])\n",
    "\n",
    "# Define a polygon feature geometry with one attribute\n",
    "schema = {\n",
    "    'geometry': 'MultiLineString',\n",
    "    'properties': {'id': 'int'}}\n",
    "\n",
    "# Write a new Shapefile\n",
    "with fiona.open(outshp, 'w', 'ESRI Shapefile', schema) as c:\n",
    "    ## If there are multiple geometries, put the \"for\" loop here\n",
    "    c.write({\n",
    "        'geometry': mapping(line10),\n",
    "        'properties': {'id': 123},\n",
    "    })"
   ]
  },
  {
   "cell_type": "code",
   "execution_count": null,
   "metadata": {
    "collapsed": false
   },
   "outputs": [],
   "source": [
    "line"
   ]
  },
  {
   "cell_type": "code",
   "execution_count": null,
   "metadata": {
    "collapsed": true
   },
   "outputs": [],
   "source": [
    "import ipywidgets as widgets\n",
    "from ipywidgets import interact, interactive, fixed"
   ]
  },
  {
   "cell_type": "code",
   "execution_count": null,
   "metadata": {
    "collapsed": false
   },
   "outputs": [],
   "source": [
    "def simplyme(radius):\n",
    "    return line.simplify(radius)\n",
    "\n",
    "interactive(simplyme, radius = 100)"
   ]
  },
  {
   "cell_type": "code",
   "execution_count": null,
   "metadata": {
    "collapsed": false
   },
   "outputs": [],
   "source": [
    "import fiona\n",
    "from shapely.geometry import mapping, shape, Polygon, MultiLineString\n",
    "\n",
    "with fiona.open(r'O:\\VDCNS\\protocolo\\pro\\19850812l5tm202_32\\19850812l5_WaterMask.shp', 'r') as input:\n",
    "    schema = input.schema.copy()\n",
    "    input_crs = input.crs\n",
    "    schema['properties']['pi'] = 'float'\n",
    "    \n",
    "    with fiona.open(r'O:\\VDCNS\\protocolo\\pro\\19850812l5tm202_32\\19850812l5_WaterMask.shp', 'w', 'ESRI Shapefile', schema, input_crs) as output:\n",
    "         for elem in input:\n",
    "            elem['properties']['pi']= 1\n",
    "            output.write({'properties':elem['properties']})"
   ]
  },
  {
   "cell_type": "code",
   "execution_count": null,
   "metadata": {
    "collapsed": false
   },
   "outputs": [],
   "source": [
    "import fiona\n",
    "layer = fiona.open(r'O:\\VDCNS\\protocolo\\pro\\19850812l5tm202_32\\19850812l5_WaterMask.shp')\n",
    "# copy the schema\n",
    "newschema = layer.schema.copy()\n",
    "newschema['properties']['cota'] = 301\n",
    "#layer.write({'properties':newschema['properties'],'geometry': mapping(shape(newschema['geometry']))})\n",
    "layer.close()"
   ]
  },
  {
   "cell_type": "code",
   "execution_count": 1,
   "metadata": {
    "collapsed": false
   },
   "outputs": [],
   "source": [
    "import shapefile\n",
    "\n",
    "# Read in our existing shapefile\n",
    "r = shapefile.Reader(r'O:\\VDCNS\\protocolo\\pro\\19870802l5tm202_32\\19870802l5_WaterMask.shp')\n",
    "\n",
    "# Create a new shapefile in memory\n",
    "w = shapefile.Writer()\n",
    "\n",
    "# Copy over the existing fields\n",
    "w.fields = list(r.fields)\n",
    "\n",
    "# Add our new field using the pyshp API\n",
    "w.field(\"KINSELLA2\", \"N\", \"20\")\n",
    "\n",
    "# We'll create a counter in this example\n",
    "# to give us sample data to add to the records\n",
    "# so we know the field is working correctly.\n",
    "i=1\n",
    "\n",
    "# Loop through each record, add a column.  We'll\n",
    "# insert our sample data but you could also just\n",
    "# insert a blank string or NULL DATA number\n",
    "# as a place holder\n",
    "for rec in r.records():\n",
    "    rec.append(i)\n",
    "    i+=1\n",
    "    # Add the modified record to the new shapefile \n",
    "    w.records.append(rec)\n",
    "\n",
    "# Copy over the geometry without any changes\n",
    "w._shapes.extend(r.shapes())\n",
    "\n",
    "# Save as a new shapefile (or write over the old one)\n",
    "w.save(r'O:\\VDCNS\\protocolo\\pro\\19870802l5tm202_32\\19870802l5_WaterMask.shp') "
   ]
  },
  {
   "cell_type": "code",
   "execution_count": null,
   "metadata": {
    "collapsed": true
   },
   "outputs": [],
   "source": [
    "with fiona.open(ashapefile) as input:\n",
    "    # schema and crs of the the new shapefile = those of input shapefile\n",
    "    schema = input.schema\n",
    "    crs = input.crs\n",
    "    # creation of the new shapefile\n",
    "    with fiona.open('copy.shp', 'w',schema=schema, crs=crs) as output:\n",
    "       for features in input:\n",
    "          geom = input['geometry']\n",
    "          prop = input['properties']\n",
    "          # change value of the row\n",
    "          prop['properties']['Elevation']= 15\n",
    "          output.write({'geometry':geom, 'properties': prop})"
   ]
  }
 ],
 "metadata": {
  "anaconda-cloud": {},
  "kernelspec": {
   "display_name": "Python [conda root]",
   "language": "python",
   "name": "conda-root-py"
  },
  "language_info": {
   "codemirror_mode": {
    "name": "ipython",
    "version": 3
   },
   "file_extension": ".py",
   "mimetype": "text/x-python",
   "name": "python",
   "nbconvert_exporter": "python",
   "pygments_lexer": "ipython3",
   "version": "3.5.2"
  }
 },
 "nbformat": 4,
 "nbformat_minor": 0
}
