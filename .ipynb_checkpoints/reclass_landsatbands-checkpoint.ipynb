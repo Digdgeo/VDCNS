{
 "cells": [
  {
   "cell_type": "markdown",
   "metadata": {},
   "source": [
    "# Reclass Landsat Bands"
   ]
  },
  {
   "cell_type": "code",
   "execution_count": 1,
   "metadata": {
    "collapsed": false
   },
   "outputs": [
    {
     "name": "stdout",
     "output_type": "stream",
     "text": [
      "Writing pythoncode.py\n"
     ]
    }
   ],
   "source": [
    "%%writefile pythoncode.py\n",
    "\n",
    "import os, re, rasterio\n",
    "import numpy as np\n",
    "\n",
    "def reclass_bands(path):\n",
    "    \n",
    "    #definimos la salida\n",
    "    outpath = os.path.join(path, 'extents')\n",
    "    if not os.path.exists(outpath):\n",
    "        os.makedirs(outpath)\n",
    "    \n",
    "    #recorremos la ruta con las escenas\n",
    "    for e in os.listdir(path):\n",
    "        \n",
    "        npath = os.path.join(path, e)\n",
    "            \n",
    "        if os.path.isdir(npath) and re.search('^[0-9]', e):\n",
    "            \n",
    "            #definimos las bandas que queremos usar\n",
    "            if 'l8oli' in e:\n",
    "                \n",
    "                bandas = ['B2.TIF', 'B3.TIF', 'B4.TIF', 'B5.TIF', 'B6.TIF', 'B7.TIF']\n",
    "            \n",
    "            else:\n",
    "                \n",
    "                bandas = ['B1.TIF', 'B2.TIF', 'B3.TIF', 'B4.TIF', 'B5.TIF', 'B7.TIF']\n",
    "            \n",
    "            #recorremos cada banda\n",
    "            for r in os.listdir(npath):\n",
    "                \n",
    "                banda = r[-6:]\n",
    "                \n",
    "                if banda in bandas:\n",
    "                    \n",
    "                    \n",
    "                    raster = os.path.join(npath, r)\n",
    "                    outras = os.path.join(outpath, r)\n",
    "                    \n",
    "                    if not os.path.exists(outras):\n",
    "                    \n",
    "                        #abrimos con rasterio y guardamos el raster reclasificado (byte)\n",
    "                        with rasterio.open(raster) as src:\n",
    "\n",
    "                            BANDA = src.read()\n",
    "                            BANDA[BANDA > 0] = 1\n",
    "\n",
    "                            profile = src.meta\n",
    "                            profile.update(dtype=rasterio.ubyte)\n",
    "\n",
    "                            with rasterio.open(outras, 'w', **profile) as dst:\n",
    "                                dst.write(BANDA.astype(rasterio.ubyte))\n",
    "                                \n",
    "                    "
   ]
  },
  {
   "cell_type": "code",
   "execution_count": 2,
   "metadata": {
    "collapsed": false
   },
   "outputs": [
    {
     "name": "stderr",
     "output_type": "stream",
     "text": [
      "C:\\Anaconda3\\lib\\site-packages\\rasterio\\__init__.py:160: FutureWarning: GDAL-style transforms are deprecated and will not be supported in Rasterio 1.0.\n",
      "  transform = guard_transform(transform)\n"
     ]
    }
   ],
   "source": [
    "reclass_bands(r'O:\\VDCNS\\Landsat')"
   ]
  },
  {
   "cell_type": "code",
   "execution_count": 26,
   "metadata": {
    "collapsed": false
   },
   "outputs": [
    {
     "name": "stdout",
     "output_type": "stream",
     "text": [
      "(1, 7331, 8141)\n",
      "(1, 7331, 8141)\n"
     ]
    },
    {
     "name": "stderr",
     "output_type": "stream",
     "text": [
      "C:\\Anaconda3\\lib\\site-packages\\rasterio\\__init__.py:160: FutureWarning: GDAL-style transforms are deprecated and will not be supported in Rasterio 1.0.\n",
      "  transform = guard_transform(transform)\n"
     ]
    }
   ],
   "source": [
    "\n",
    "raster = r'O:\\VDCNS\\pruebas\\20090915l5tm202_32\\LT52020322009258MPS00_B2.TIF'\n",
    "outras = r'O:\\VDCNS\\pruebas\\extents\\LT52020322009258MPS00_B2.TIF'\n",
    "\n",
    "with rasterio.open(raster) as src:\n",
    "                        \n",
    "    BANDA = src.read()\n",
    "    print(BANDA.shape)\n",
    "    \n",
    "    BANDA[BANDA > 0] = 1\n",
    "    print(BANDA.shape)\n",
    "\n",
    "    profile = src.meta\n",
    "    profile.update(dtype=rasterio.ubyte)\n",
    "\n",
    "\n",
    "    with rasterio.open(outras, 'w', **profile) as dst:\n",
    "        dst.write(BANDA.astype(rasterio.ubyte))"
   ]
  },
  {
   "cell_type": "code",
   "execution_count": 1,
   "metadata": {
    "collapsed": true
   },
   "outputs": [],
   "source": [
    "s = 'http://earthexplorer.usgs.gov/browse/tm/202/32/1989/LT42020321989163XXX01_REFL.jpg'"
   ]
  },
  {
   "cell_type": "code",
   "execution_count": 5,
   "metadata": {
    "collapsed": false
   },
   "outputs": [
    {
     "name": "stdout",
     "output_type": "stream",
     "text": [
      "0...10...20...30...40...50...60...70...80...90...100 - done.\n"
     ]
    }
   ],
   "source": [
    "!gdalwarp  -dstnodata 0 -cutline O:\\VDCNS\\Curvas_MTN_Historico\\cota318.shp -crop_to_cutline -crop_to_cutline\\\n",
    "    O:\\VDCNS\\protocolo\\rad\\20160902l8oli202_32\\20160902l8oli202_32_r_b6.img O:\\VDCNS\\Curvas_MTN_Historico\\pr\\b5_.tif"
   ]
  },
  {
   "cell_type": "code",
   "execution_count": 12,
   "metadata": {
    "collapsed": false
   },
   "outputs": [
    {
     "name": "stderr",
     "output_type": "stream",
     "text": [
      "Traceback (most recent call last):\n",
      "  File \"C:\\Anaconda3\\Scripts\\gdal_polygonize.py\", line 4, in <module>\n",
      "    __import__('pkg_resources').run_script('GDAL==2.1.1', 'gdal_polygonize.py')\n",
      "  File \"C:\\pyqgis\\lib\\site-packages\\pkg_resources\\__init__.py\", line 2927, in <module>\n",
      "    @_call_aside\n",
      "  File \"C:\\pyqgis\\lib\\site-packages\\pkg_resources\\__init__.py\", line 2913, in _call_aside\n",
      "    f(*args, **kwargs)\n",
      "  File \"C:\\pyqgis\\lib\\site-packages\\pkg_resources\\__init__.py\", line 2940, in _initialize_master_working_set\n",
      "    working_set = WorkingSet._build_master()\n",
      "  File \"C:\\pyqgis\\lib\\site-packages\\pkg_resources\\__init__.py\", line 635, in _build_master\n",
      "    ws.require(__requires__)\n",
      "  File \"C:\\pyqgis\\lib\\site-packages\\pkg_resources\\__init__.py\", line 943, in require\n",
      "    needed = self.resolve(parse_requirements(requirements))\n",
      "  File \"C:\\pyqgis\\lib\\site-packages\\pkg_resources\\__init__.py\", line 829, in resolve\n",
      "    raise DistributionNotFound(req, requirers)\n",
      "pkg_resources.DistributionNotFound: The 'GDAL==2.1.1' distribution was not found and is required by the application\n"
     ]
    }
   ],
   "source": [
    "!gdal_polygonize.py O:\\VDCNS\\Curvas_MTN_Historico\\pr\\class.tif -f \"ESRI Shapefile\" O:\\VDCNS\\Curvas_MTN_Historico\\pr\\mylayer.shp"
   ]
  },
  {
   "cell_type": "markdown",
   "metadata": {},
   "source": [
    "# GDAL POLYGONIZE WORKS FROM PYTHON BINDINGS"
   ]
  },
  {
   "cell_type": "code",
   "execution_count": 61,
   "metadata": {
    "collapsed": false
   },
   "outputs": [],
   "source": [
    "import os, gdal\n",
    "\n",
    "sourceRaster = gdal.Open(r'O:\\VDCNS\\Curvas_MTN_Historico\\pr\\class2.tif')\n",
    "band = sourceRaster.GetRasterBand(1)\n",
    "bandArray = band.ReadAsArray()\n",
    "outShapefile = r'O:\\VDCNS\\Curvas_MTN_Historico\\pr\\mylayer_class2'\n",
    "driver = ogr.GetDriverByName(\"ESRI Shapefile\")\n",
    "if os.path.exists(outShapefile+\".shp\"):\n",
    "    driver.DeleteDataSource(outShapefile+\".shp\")\n",
    "outDatasource = driver.CreateDataSource(outShapefile+ \".shp\")\n",
    "outLayer = outDatasource.CreateLayer(\"polygonized\", srs=None)\n",
    "gdal.Polygonize( band, None, outLayer, -1, [], callback=None )\n",
    "outDatasource.Destroy()\n",
    "sourceRaster = None"
   ]
  },
  {
   "cell_type": "code",
   "execution_count": 3,
   "metadata": {
    "collapsed": false
   },
   "outputs": [],
   "source": [
    "import os, rasterio\n",
    "import numpy as np\n",
    "\n",
    "banda6 = r'O:\\VDCNS\\Curvas_MTN_Historico\\pr\\class.tif'\n",
    "dtm = r'O:\\VDCNS\\Curvas_MTN_Historico\\dtm_ctr_rec.tif'\n",
    "\n",
    "with rasterio.open(banda6) as b6:\n",
    "    B6 = b6.read()\n",
    "with rasterio.open(dtm) as mdt:\n",
    "    MDT = mdt.read()\n",
    "    \n",
    "water = MDT[(B6 == 1) & (MDT != 0)]"
   ]
  },
  {
   "cell_type": "code",
   "execution_count": 4,
   "metadata": {
    "collapsed": false
   },
   "outputs": [
    {
     "data": {
      "text/plain": [
       "287.94965"
      ]
     },
     "execution_count": 4,
     "metadata": {},
     "output_type": "execute_result"
    }
   ],
   "source": [
    "water.mean()"
   ]
  },
  {
   "cell_type": "code",
   "execution_count": 7,
   "metadata": {
    "collapsed": false
   },
   "outputs": [
    {
     "name": "stdout",
     "output_type": "stream",
     "text": [
      "Populating the interactive namespace from numpy and matplotlib\n"
     ]
    },
    {
     "data": {
      "image/png": "[encoded data removed]",
      "text/plain": [
       "<matplotlib.figure.Figure at 0x248d755b518>"
      ]
     },
     "metadata": {},
     "output_type": "display_data"
    }
   ],
   "source": [
    "%pylab inline\n",
    "\n",
    "import matplotlib.pyplot as plt\n",
    "\n",
    "plt.hist(water, bins = 20); #Con el punto y coma nos ahorramos la parte del texto del histograma"
   ]
  },
  {
   "cell_type": "code",
   "execution_count": 5,
   "metadata": {
    "collapsed": false
   },
   "outputs": [
    {
     "name": "stderr",
     "output_type": "stream",
     "text": [
      "C:\\Anaconda3\\lib\\site-packages\\rasterstats\\main.py:138: FutureWarning: The value of this property will change in version 1.0. Please see https://github.com/mapbox/rasterio/issues/86 for details.\n",
      "  with Raster(raster, affine, nodata, band) as rast:\n",
      "C:\\Anaconda3\\lib\\site-packages\\rasterstats\\io.py:239: FutureWarning: GDAL-style transforms are deprecated and will not be supported in Rasterio 1.0.\n",
      "  self.affine = guard_transform(self.src.transform)\n"
     ]
    },
    {
     "data": {
      "text/plain": [
       "[{'count': 2348,\n",
       "  'majority': 299.99786376953125,\n",
       "  'max': 341.6555480957031,\n",
       "  'mean': 300.8440694207836,\n",
       "  'median': 299.85284423828125,\n",
       "  'min': 274.22442626953125,\n",
       "  'mymode': ModeResult(mode=array([ 299.99786377], dtype=float32), count=array([ 3.])),\n",
       "  'range': 67.43112182617188},\n",
       " {'count': 716,\n",
       "  'majority': 300.0028381347656,\n",
       "  'max': 310.171142578125,\n",
       "  'mean': 298.91877618715085,\n",
       "  'median': 299.195068359375,\n",
       "  'min': 290.6169738769531,\n",
       "  'mymode': ModeResult(mode=array([ 297.58642578], dtype=float32), count=array([ 2.])),\n",
       "  'range': 19.554168701171875}]"
      ]
     },
     "execution_count": 5,
     "metadata": {},
     "output_type": "execute_result"
    }
   ],
   "source": [
    "from rasterstats import zonal_stats\n",
    "from scipy import stats\n",
    "\n",
    "def mymode(x):\n",
    "    return(stats.mode(x, axis = None))\n",
    "\n",
    "\n",
    "stats = zonal_stats(r'O:\\VDCNS\\Curvas_MTN_Historico\\pr\\myline2class.shp', r'O:\\VDCNS\\Curvas_MTN_Historico\\dtm_ctr_str.tif', \\\n",
    "                    stats=['count', 'majority', 'median', 'mean', 'max', 'min', 'range'], add_stats={'mymode':mymode})\n",
    "\n",
    "stats"
   ]
  },
  {
   "cell_type": "code",
   "execution_count": 9,
   "metadata": {
    "collapsed": false
   },
   "outputs": [
    {
     "name": "stderr",
     "output_type": "stream",
     "text": [
      "C:\\Anaconda3\\lib\\site-packages\\rasterstats\\main.py:138: FutureWarning: The value of this property will change in version 1.0. Please see https://github.com/mapbox/rasterio/issues/86 for details.\n",
      "  with Raster(raster, affine, nodata, band) as rast:\n",
      "C:\\Anaconda3\\lib\\site-packages\\rasterstats\\io.py:239: FutureWarning: GDAL-style transforms are deprecated and will not be supported in Rasterio 1.0.\n",
      "  self.affine = guard_transform(self.src.transform)\n"
     ]
    },
    {
     "data": {
      "text/plain": [
       "[{'count': 3050,\n",
       "  'majority': 299.99969482421875,\n",
       "  'max': 341.6555480957031,\n",
       "  'mean': 300.4276024590164,\n",
       "  'median': 299.6477355957031,\n",
       "  'min': 274.22442626953125,\n",
       "  'mymode': ModeResult(mode=array([ 299.99786377], dtype=float32), count=array([ 3.])),\n",
       "  'range': 67.43112182617188}]"
      ]
     },
     "execution_count": 9,
     "metadata": {},
     "output_type": "execute_result"
    }
   ],
   "source": [
    "from rasterstats import zonal_stats\n",
    "from scipy import stats\n",
    "\n",
    "def mymode(x):\n",
    "    return(stats.mode(x, axis = None))\n",
    "\n",
    "\n",
    "stats = zonal_stats(r'O:\\VDCNS\\Curvas_MTN_Historico\\pr\\mylayer2_line.shp', r'O:\\VDCNS\\Curvas_MTN_Historico\\dtm_ctr_str.tif', \\\n",
    "                    stats=['count', 'majority', 'median', 'mean', 'max', 'min', 'range'], add_stats={'mymode':mymode})\n",
    "\n",
    "stats"
   ]
  },
  {
   "cell_type": "code",
   "execution_count": 53,
   "metadata": {
    "collapsed": false
   },
   "outputs": [
    {
     "data": {
      "text/plain": [
       "300.0814270019531"
      ]
     },
     "execution_count": 53,
     "metadata": {},
     "output_type": "execute_result"
    }
   ],
   "source": [
    "np.percentile(water, 95)"
   ]
  },
  {
   "cell_type": "code",
   "execution_count": 57,
   "metadata": {
    "collapsed": false
   },
   "outputs": [],
   "source": [
    "import shapefile"
   ]
  },
  {
   "cell_type": "code",
   "execution_count": 62,
   "metadata": {
    "collapsed": true
   },
   "outputs": [],
   "source": [
    "# The shapefile type we are converting to\n",
    "newType = shapefile.POLYLINE\n",
    "\n",
    "# This is the shapefile we are trying\n",
    "# to convert. In this case it's a\n",
    "# state boundary polygon file for \n",
    "# Mississippi with one polygon and\n",
    "# one dbf record.\n",
    "r = shapefile.Reader(r'O:\\VDCNS\\Curvas_MTN_Historico\\pr\\mylayer_class2.shp')\n",
    "\n",
    "## POLYLINE version\n",
    "w = shapefile.Writer(newType)\n",
    "w._shapes.extend(r.shapes())\n",
    "# You must explicity set the shapeType of each record.\n",
    "# Eventually the library will set them to the same\n",
    "# as the file shape type automatically.\n",
    "for s in w.shapes():\n",
    "    s.shapeType = newType\n",
    "w.fields = list(r.fields)\n",
    "w.records.extend(r.records())\n",
    "w.save(r'O:\\VDCNS\\Curvas_MTN_Historico\\pr\\myline4.shp')"
   ]
  },
  {
   "cell_type": "markdown",
   "metadata": {
    "collapsed": true
   },
   "source": [
    "$$ P(A \\mid B) = \\frac{P(B \\mid A) \\, P(A)}{P(B)} $$"
   ]
  },
  {
   "cell_type": "markdown",
   "metadata": {},
   "source": [
    "# We can pass a shapely geometry to rasterstats!"
   ]
  },
  {
   "cell_type": "code",
   "execution_count": 1,
   "metadata": {
    "collapsed": false
   },
   "outputs": [
    {
     "name": "stdout",
     "output_type": "stream",
     "text": [
      "[(289038.49585045874, 4409854.478395682), (290278.732705934, 4409755.259447245), (291353.604647344, 4409755.259447245), (292263.1116746906, 4410499.401560532), (292924.57133094314, 4411061.642268345), (293850.61484969687, 4411160.861216785), (294842.80433407705, 4411888.466838663), (295371.9720590785, 4412880.656323042)]\n"
     ]
    }
   ],
   "source": [
    "import fiona\n",
    "from shapely.geometry import Polygon, LineString \n",
    "shape1 = fiona.open(r'O:\\VDCNS\\Curvas_MTN_Historico\\pr\\CCL.shp')\n",
    "\n",
    "#GETTING THE GEOMETRY (COORDINATES)\n",
    "feature1 = shape1.next()\n",
    "line = feature1['geometry']['coordinates']\n",
    "print(line)\n",
    "\n",
    "#si el len es mayor que 1 tendra poligonos interiores\n",
    "#geom1 = feature1['geometry']['coordinates'][1]\n",
    "#geom2 = feature1['geometry']['coordinates'][0]\n",
    "#print(geom1)\n",
    "#a1 = Polygon(geom1) #poligono interior\n",
    "#a2 = Polygon(geom2) #poligono exterior\n",
    "#a3 = Polygon(geom2, [geom1])\n",
    "b1 = LineString(line)"
   ]
  },
  {
   "cell_type": "code",
   "execution_count": 3,
   "metadata": {
    "collapsed": false
   },
   "outputs": [
    {
     "data": {
      "text/plain": [
       "<open Collection 'O:\\VDCNS\\Curvas_MTN_Historico\\pr\\CCL.shp:CCL', mode 'r' at 0x160cb565908>"
      ]
     },
     "execution_count": 3,
     "metadata": {},
     "output_type": "execute_result"
    }
   ],
   "source": [
    "shape1"
   ]
  },
  {
   "cell_type": "code",
   "execution_count": null,
   "metadata": {
    "collapsed": true
   },
   "outputs": [],
   "source": []
  }
 ],
 "metadata": {
  "anaconda-cloud": {},
  "kernelspec": {
   "display_name": "Python [Root]",
   "language": "python",
   "name": "Python [Root]"
  },
  "language_info": {
   "codemirror_mode": {
    "name": "ipython",
    "version": 3
   },
   "file_extension": ".py",
   "mimetype": "text/x-python",
   "name": "python",
   "nbconvert_exporter": "python",
   "pygments_lexer": "ipython3",
   "version": "3.5.2"
  }
 },
 "nbformat": 4,
 "nbformat_minor": 0
}
