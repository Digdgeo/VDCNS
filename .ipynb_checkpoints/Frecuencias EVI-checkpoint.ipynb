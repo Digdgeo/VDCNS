{
 "cells": [
  {
   "cell_type": "markdown",
   "metadata": {},
   "source": [
    "# FRECUENCIAS (EVI)"
   ]
  },
  {
   "cell_type": "markdown",
   "metadata": {},
   "source": [
    "### En este notebook se realiza un raster con la frecuencia con la que un pixel de Landsat está por encima de un valor del índice EVI. La idea es ver la distribución espacial de los blooms de algas en el embalse de Valdecañas"
   ]
  },
  {
   "cell_type": "markdown",
   "metadata": {},
   "source": [
    "Lo primero que debemos hacer es recorrer todas las Landsat normalizadas que tenemos de la escena 202/32 y generar el EVI de cada una de ella."
   ]
  },
  {
   "cell_type": "code",
   "execution_count": null,
   "metadata": {},
   "outputs": [],
   "source": [
    "import os\n",
    "\n",
    "path_nor = r'G:\\VDCNS\\protocolo\\nor' \n",
    "\n",
    "escenasl5 = []\n",
    "escenasl7 = []\n",
    "escenasl8 = []\n",
    "\n",
    "EVI = []\n",
    "\n",
    "for e in sorted(os.listdir(path_nor)):\n",
    "    \n",
    "    escena = os.path.join(path_nor, e)\n",
    "    \n",
    "    if 'l5' in escena:\n",
    "        \n",
    "        bandas = []\n",
    "        for i in os.listdir(escena):\n",
    "            if i.endswith('b1.img'):\n",
    "                bandas.append(i)\n",
    "            elif i.endswith('b3.img'):\n",
    "                    bandas.append(i)\n",
    "            elif i.endswith('b4.img'):\n",
    "                        bandas.append(i)\n",
    "            else:\n",
    "                continue\n",
    "                \n",
    "            if len(bandas) == 3:\n",
    "                escenasl5.append(escena)\n",
    "                EVI.append(os.path.join(path_nor, escena))\n",
    "\n",
    "    \n",
    "    if 'l7' in escena:\n",
    "        \n",
    "        bandas = []\n",
    "        for i in os.listdir(escena):\n",
    "            if i.endswith('b1.img'):\n",
    "                bandas.append(i)\n",
    "            elif i.endswith('b3.img'):\n",
    "                    bandas.append(i)\n",
    "            elif i.endswith('b4.img'):\n",
    "                        bandas.append(i)\n",
    "            else:\n",
    "                continue\n",
    "                \n",
    "            if len(bandas) == 3:\n",
    "                escenasl7.append(escena)\n",
    "                EVI.append(os.path.join(path_nor, escena))\n",
    "                \n",
    "    if 'l8' in escena:\n",
    "        \n",
    "        bandas = []\n",
    "        for i in os.listdir(escena):\n",
    "            if i.endswith('b2.img'):\n",
    "                bandas.append(i)\n",
    "            elif i.endswith('b4.img'):\n",
    "                    bandas.append(i)\n",
    "            elif i.endswith('b5.img'):\n",
    "                        bandas.append(i)\n",
    "            else:\n",
    "                continue\n",
    "                \n",
    "            if len(bandas) == 3:\n",
    "                escenasl8.append(escena)\n",
    "                EVI.append(os.path.join(path_nor, escena))\n",
    "\n",
    "                        \n",
    "                        \n",
    "    \n",
    "print('Se pueden analizar un total de', len(escenasl5) + len(escenasl7) + len(escenasl8), 'escenas de Landsat')              \n"
   ]
  },
  {
   "cell_type": "markdown",
   "metadata": {},
   "source": [
    "De los 228 escenas normalizadas, se puede realizar el EVI a 198 de ellas. A las 30 restantes les falta alguna de las 3 bandas necesarias para poder aplicar la fórmula del EVI."
   ]
  },
  {
   "cell_type": "markdown",
   "metadata": {},
   "source": [
    "# <font color=red>Fórmulas del EVI:</font>"
   ]
  },
  {
   "cell_type": "markdown",
   "metadata": {},
   "source": [
    "## <font color=darkblue>Landsat 4-7: EVI = 2.5 * ((b4 - b3)/(b4 + 6 * b3 - 7.5 * b1 + 1)</font>"
   ]
  },
  {
   "cell_type": "markdown",
   "metadata": {},
   "source": [
    "## <font color=darkblue> Landsat 8: EVI = 2.5 * ((b5 - b4)/(b5 + 6 * b4 - 7.5 * b2 + 1)</font>"
   ]
  },
  {
   "cell_type": "markdown",
   "metadata": {},
   "source": [
    "Ahora vamos a recorrer las escenas normalizadas y a generalizar el índice para posteriormente generar el raster con la frecuencia de <em>blooms</em> en cada pixel del embalse"
   ]
  },
  {
   "cell_type": "code",
   "execution_count": null,
   "metadata": {},
   "outputs": [],
   "source": [
    "import rasterio\n",
    "\n",
    "path_pro = r'G:\\VDCNS\\protocolo\\pro'\n",
    "\n",
    "for escena in EVI:\n",
    "        \n",
    "    for banda in os.listdir(escena):\n",
    "        \n",
    "        if 'l7etm' or 'l5tm' in escena:\n",
    "            #print('Haciendo', escena) \n",
    "            outpath = os.path.join(path_pro, os.path.split(escena)[1])\n",
    "            outfilevi = os.path.join(outpath, os.path.split(escena)[1] + 'evi_.img')\n",
    "            outfilendvi = os.path.join(outpath, os.path.split(escena)[1] + 'ndvi_.img')\n",
    "\n",
    "            if banda.endswith('b1.img'):\n",
    "                b1 = os.path.join(escena, banda)\n",
    "                print(b1)\n",
    "                #with rasterio.open(b2) as srcb2:\n",
    "                    #B2 = srcb2.read()\n",
    "            elif banda.endswith('b3.img'):\n",
    "                b3 = os.path.join(escena, banda)\n",
    "                print(b3)\n",
    "                \n",
    "            elif banda.endswith('b4.img'):\n",
    "                b4 = os.path.join(escena, banda)\n",
    "                print(b4)\n",
    "                #with rasterio.open(b5) as srcb5:\n",
    "                    #B5 = srcb5.read()\n",
    "                    \n",
    "                with rasterio.open(b1) as srcb1:\n",
    "                    BLUE = srcb1.read()\n",
    "                with rasterio.open(b3) as srcb3:\n",
    "                    RED = srcb3.read()\n",
    "                with rasterio.open(b4) as srcb4:\n",
    "                    NIR = srcb4.read()\n",
    "                \n",
    "                #Ahora calculamos el EVI paso a paso, por algun *** motivo, asi sale bien\n",
    "                a = NIR.astype(float) - RED.astype(float)\n",
    "                b = NIR + (6 * RED)\n",
    "                c = -7.5 * (BLUE + 1)\n",
    "                d = b -c\n",
    "                e = a / d\n",
    "                f = 2.5 * e\n",
    "\n",
    "                #EVIf = 2.5 * ((NIR-RED) / (NIR + 6 * RED - 7.5 * BLUE + 1))\n",
    "                ndvi = (NIR.astype(float) - RED.astype(float)) / (NIR+RED)\n",
    "\n",
    "                profile = srcb3.meta\n",
    "                profile.update(dtype=rasterio.float32)\n",
    "\n",
    "                with rasterio.open(outfilevi, 'w', **profile) as dst:\n",
    "                    dst.write(f.astype(rasterio.float32))\n",
    "                \n",
    "                with rasterio.open(outfilendvi, 'w', **profile) as dst:\n",
    "                    dst.write(ndvi.astype(rasterio.float32))\n",
    "\n",
    "                print('Haciendo', escena)\n",
    "                            \n",
    "        else:\n",
    "            continue\n",
    "            #print(B2.mean() - B4.mean())                 "
   ]
  },
  {
   "cell_type": "markdown",
   "metadata": {
    "collapsed": true
   },
   "source": [
    "### En teoría el umbral debería de ser 0, pero tras comprobar unas cuantas escenas se ha decidio dejarlo en 0.03. De todos modos, se probaran varios umbrales (0, 0.1, 0.2 y 0.3), así como la suma absoluta de los valores."
   ]
  },
  {
   "cell_type": "markdown",
   "metadata": {},
   "source": [
    "### Antes de hacer esto debemos de recortar todos los EVIs generados con la cota 318, que es la extensión con la que se generaron las máscaras de agua del embalse"
   ]
  },
  {
   "cell_type": "code",
   "execution_count": null,
   "metadata": {
    "scrolled": true
   },
   "outputs": [],
   "source": [
    "import os, rasterio, subprocess\n",
    "\n",
    "path_pro = r'G:\\VDCNS\\protocolo\\pro'\n",
    "\n",
    "for pro in os.listdir(path_pro):\n",
    "    \n",
    "    escena = os.path.join(path_pro, pro)\n",
    "    for i in os.listdir(escena):\n",
    "        #print(escena)\n",
    "        if i.endswith('evi_.img'):\n",
    "            evi = os.path.join(escena, i)\n",
    "            outrec = os.path.join(escena, i[:-4] + 'rec.img')\n",
    "            print(outrec)\n",
    "            \n",
    "            cmd = [\"gdalwarp\", \"-of\", \"ENVI\", \"-te\", \"287340\", \"4405140\", \"301860\", \"4418730\", \"-tr\", \"30\", \"30\", \"-tap\",\"-overwrite\"]\n",
    "            #cmd = [\"gdalwarp\", \"-cutline\", \"-crop_to_cutline\", \"-of\", \"ENVI\"] #PROBAR A DEJAR EL DTM ORIGINAL -9999 A VER SI SALE MEJOR\n",
    "            cmd.append(evi)\n",
    "            cmd.append(outrec)\n",
    "            proc = subprocess.Popen(cmd,stdout=subprocess.PIPE,stderr=subprocess.PIPE)\n",
    "            stdout,stderr=proc.communicate()\n",
    "            exit_code=proc.wait()\n",
    "\n",
    "            if exit_code: \n",
    "                raise RuntimeError(stderr)\n",
    "            else:\n",
    "                print(stdout)\n",
    "                print('EVI generado', escena)"
   ]
  },
  {
   "cell_type": "markdown",
   "metadata": {
    "collapsed": true
   },
   "source": [
    "## <font color=red> Ahora debemos de aplicar las máscaras de agua que obtuvimos para la topografía de cada escena, y hacer una máscara binaria, donde todo el agua cuyo valor sea superior al umbral señalado como <em>bloom</em> será 1 y el resto 0. De este modo, podremos hacer las sumas de todas las máscaras y ver la frecuencia en la que ha hábido presencia de algas en un pixel </font>"
   ]
  },
  {
   "cell_type": "code",
   "execution_count": null,
   "metadata": {},
   "outputs": [],
   "source": [
    "path_pro = r'G:\\VDCNS\\protocolo\\pro'\n",
    "\n",
    "for pro in os.listdir(path_pro):\n",
    "    \n",
    "    escena = os.path.join(path_pro, pro)\n",
    "    for i in os.listdir(escena):\n",
    "        \n",
    "        if i.endswith('evi_rec.img'):\n",
    "            evi = os.path.join(escena, i)\n",
    "\n",
    "        elif i.endswith('water_reclass_3.img'):\n",
    "            watermask = os.path.join(escena, i)\n",
    "\n",
    "\n",
    "        #print(watermask,'\\n', evi)\n",
    "        #Ya tenemos la variables en cada escena, ahora hacemos la reclasificación para que lo que no sea agua valga 0, y \n",
    "        #no alterar la suma metiendo valores altos de pastizales que pudiera haber en las orillas\n",
    "\n",
    "        with rasterio.open(evi) as src_evi:\n",
    "            EVIREC = src_evi.read()\n",
    "        with rasterio.open(watermask) as src_msk:\n",
    "            WATER = src_msk.read()\n",
    "\n",
    "        EVIREC[WATER != 1] = 0\n",
    "\n",
    "        outfile = os.path.join(escena, os.path.split(escena)[1] + '_evi_reclass.img')\n",
    "\n",
    "        profile = src_evi.meta\n",
    "        #profile.update(dtype=rasterio.float32)\n",
    "\n",
    "        with rasterio.open(outfile, 'w', **profile) as dst:\n",
    "            dst.write(EVIREC.astype(rasterio.float32))"
   ]
  },
  {
   "cell_type": "code",
   "execution_count": null,
   "metadata": {
    "collapsed": true
   },
   "outputs": [],
   "source": [
    "import gdal\n",
    "from gdalconst import GA_ReadOnly\n",
    "\n",
    "mask = r'G:\\VDCNS\\protocolo\\pro\\20140913l8oli202_32\\20140913l8oli202_32_water_reclass_3.img'\n",
    "\n",
    "data = gdal.Open(mask, GA_ReadOnly)\n",
    "geoTransform = data.GetGeoTransform()\n",
    "minx = geoTransform[0]\n",
    "maxy = geoTransform[3]\n",
    "maxx = minx + geoTransform[1] * data.RasterXSize\n",
    "miny = maxy + geoTransform[5] * data.RasterYSize\n",
    "call('gdal_translate -projwin ' + ' '.join([str(x) for x in [minx, maxy, maxx, miny]]) + \\\n",
    "     ' -of ENVI G:\\VDCNS\\protocolo\\pro\\20140913l8oli202_32\\20140913l8oli202_32evi_.img G:\\VDCNS\\protocolo\\pro\\20140913l8oli202_32\\20140913l8oli202_32evi_rec.img', shell=True)\n",
    "\n"
   ]
  },
  {
   "cell_type": "code",
   "execution_count": null,
   "metadata": {},
   "outputs": [],
   "source": [
    "!gdalwarp -te 287340.0 4405140.0 301860.0 4418730.0 -tr 30 30 -tap -of ENVI -overwrite \\\n",
    "    G:\\VDCNS\\protocolo\\pro\\20140913l8oli202_32\\20140913l8oli202_32evi_.img \\\n",
    "        G:\\VDCNS\\protocolo\\pro\\20140913l8oli202_32\\20140913l8oli202_32evi_rec.img"
   ]
  },
  {
   "cell_type": "code",
   "execution_count": null,
   "metadata": {
    "collapsed": true
   },
   "outputs": [],
   "source": [
    "import rasterio\n",
    "\n",
    "with rasterio.open(r'G:\\VDCNS\\protocolo\\pro\\20161028l7etm202_32\\20161028l7etm202_32_water_reclass_3.img') as src:\n",
    "    \n",
    "    mask = src.read()"
   ]
  },
  {
   "cell_type": "code",
   "execution_count": null,
   "metadata": {},
   "outputs": [],
   "source": [
    "src.bounds"
   ]
  },
  {
   "cell_type": "code",
   "execution_count": null,
   "metadata": {},
   "outputs": [],
   "source": [
    "import os, subprocess\n",
    "\n",
    "evi = r'G:\\VDCNS\\protocolo\\pro\\20161004l8oli202_32\\20161004l8oli202_32evi_.img'\n",
    "outrec = r'G:\\VDCNS\\protocolo\\pro\\20161004l8oli202_32\\20161004l8oli202_32evi_rec.img'\n",
    "\n",
    "cmd = [\"gdalwarp\", \"-of\", \"ENVI\", \"-te\", \"287340\", \"4405140\", \"301860\", \"4418730\", \"-tr\", \"30\", \"30\", \"-tap\",\"-overwrite\"]\n",
    "\n",
    "cmd.append(evi)\n",
    "cmd.append(outrec)\n",
    "proc = subprocess.Popen(cmd,stdout=subprocess.PIPE,stderr=subprocess.PIPE)\n",
    "stdout,stderr=proc.communicate()\n",
    "exit_code=proc.wait()\n",
    "\n",
    "if exit_code: \n",
    "    raise RuntimeError(stderr)\n",
    "else:\n",
    "    print(stdout)\n",
    "    print('EVI generado', escena)"
   ]
  },
  {
   "cell_type": "code",
   "execution_count": null,
   "metadata": {},
   "outputs": [],
   "source": [
    "escena = r'G:\\VDCNS\\protocolo\\pro\\20161004l8oli202_32'\n",
    "\n",
    "\n",
    "for i in os.listdir(escena):\n",
    "        \n",
    "    if i.endswith('evi_rec.img'):\n",
    "        evi = os.path.join(escena, i)\n",
    "       \n",
    "    elif i.endswith('water_reclass_3.img'):\n",
    "        watermask = os.path.join(escena, i)\n",
    "    \n",
    "    \n",
    "    #print(watermask,'\\n', evi)\n",
    "    #Ya tenemos la variables en cada escena, ahora hacemos la reclasificación para que lo que no sea agua valga 0, y \n",
    "    #no alterar la suma metiendo valores altos de pastizales que pudiera haber en las orillas\n",
    "\n",
    "    with rasterio.open(evi) as src_evi:\n",
    "        EVIREC = src_evi.read()\n",
    "    with rasterio.open(watermask) as src_msk:\n",
    "        WATER = src_msk.read()\n",
    "        \n",
    "    EVIREC[WATER != 1] = 0\n",
    "    \n",
    "    outfile = r'G:\\VDCNS\\protocolo\\pro\\20161004l8oli202_32\\evi_reclass.img'\n",
    "    \n",
    "    profile = src_evi.meta\n",
    "    #profile.update(dtype=rasterio.float32)\n",
    "\n",
    "    with rasterio.open(outfile, 'w', **profile) as dst:\n",
    "        dst.write(EVIREC.astype(rasterio.float32))\n",
    "    "
   ]
  },
  {
   "cell_type": "code",
   "execution_count": null,
   "metadata": {},
   "outputs": [],
   "source": [
    "escena = r'G:\\VDCNS\\protocolo\\pro\\20161004l8oli202_32'\n",
    "outfile = os.path.join(escena, os.path.split(escena)[1] + '_evi_reclass.img')\n",
    "print(outfile)\n"
   ]
  },
  {
   "cell_type": "code",
   "execution_count": null,
   "metadata": {
    "collapsed": true
   },
   "outputs": [],
   "source": []
  }
 ],
 "metadata": {
  "anaconda-cloud": {},
  "kernelspec": {
   "display_name": "Python [conda root]",
   "language": "python",
   "name": "conda-root-py"
  },
  "language_info": {
   "codemirror_mode": {
    "name": "ipython",
    "version": 3
   },
   "file_extension": ".py",
   "mimetype": "text/x-python",
   "name": "python",
   "nbconvert_exporter": "python",
   "pygments_lexer": "ipython3",
   "version": "3.5.3"
  }
 },
 "nbformat": 4,
 "nbformat_minor": 2
}
