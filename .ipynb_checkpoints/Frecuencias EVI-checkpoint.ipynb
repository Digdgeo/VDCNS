{
 "cells": [
  {
   "cell_type": "markdown",
   "metadata": {},
   "source": [
    "# FRECUENCIAS (EVI)"
   ]
  },
  {
   "cell_type": "markdown",
   "metadata": {},
   "source": [
    "### En este notebook se realiza un raster con la frecuencia con la que un pixel de Landsat está por encima de un valor del índice EVI. La idea es ver la distribución espacial de los blooms de algas en el embalse de Valdecañas"
   ]
  },
  {
   "cell_type": "markdown",
   "metadata": {},
   "source": [
    "Lo primero que debemos hacer es recorrer todas las Landsat normalizadas que tenemos de la escena 202/32 y generar el EVI de cada una de ella."
   ]
  },
  {
   "cell_type": "code",
   "execution_count": null,
   "metadata": {},
   "outputs": [],
   "source": [
    "import os\n",
    "\n",
    "path_nor = r'G:\\VDCNS\\protocolo\\nor' \n",
    "\n",
    "escenasl5 = []\n",
    "escenasl7 = []\n",
    "escenasl8 = []\n",
    "\n",
    "EVI = []\n",
    "\n",
    "for e in sorted(os.listdir(path_nor)):\n",
    "    \n",
    "    escena = os.path.join(path_nor, e)\n",
    "    \n",
    "    if 'l5' in escena:\n",
    "        \n",
    "        bandas = []\n",
    "        for i in os.listdir(escena):\n",
    "            if i.endswith('b1.img'):\n",
    "                bandas.append(i)\n",
    "            elif i.endswith('b3.img'):\n",
    "                    bandas.append(i)\n",
    "            elif i.endswith('b4.img'):\n",
    "                        bandas.append(i)\n",
    "            else:\n",
    "                continue\n",
    "                \n",
    "            if len(bandas) == 3:\n",
    "                escenasl5.append(escena)\n",
    "                EVI.append(os.path.join(path_nor, escena))\n",
    "\n",
    "    \n",
    "    if 'l7' in escena:\n",
    "        \n",
    "        bandas = []\n",
    "        for i in os.listdir(escena):\n",
    "            if i.endswith('b1.img'):\n",
    "                bandas.append(i)\n",
    "            elif i.endswith('b3.img'):\n",
    "                    bandas.append(i)\n",
    "            elif i.endswith('b4.img'):\n",
    "                        bandas.append(i)\n",
    "            else:\n",
    "                continue\n",
    "                \n",
    "            if len(bandas) == 3:\n",
    "                escenasl7.append(escena)\n",
    "                EVI.append(os.path.join(path_nor, escena))\n",
    "                \n",
    "    if 'l8' in escena:\n",
    "        \n",
    "        bandas = []\n",
    "        for i in os.listdir(escena):\n",
    "            if i.endswith('b2.img'):\n",
    "                bandas.append(i)\n",
    "            elif i.endswith('b4.img'):\n",
    "                    bandas.append(i)\n",
    "            elif i.endswith('b5.img'):\n",
    "                        bandas.append(i)\n",
    "            else:\n",
    "                continue\n",
    "                \n",
    "            if len(bandas) == 3:\n",
    "                escenasl8.append(escena)\n",
    "                EVI.append(os.path.join(path_nor, escena))\n",
    "\n",
    "                        \n",
    "                        \n",
    "    \n",
    "print('Se pueden analizar un total de', len(escenasl5) + len(escenasl7) + len(escenasl8), 'escenas de Landsat')              \n"
   ]
  },
  {
   "cell_type": "markdown",
   "metadata": {},
   "source": [
    "De los 228 escenas normalizadas, se puede realizar el EVI a 198 de ellas. A las 30 restantes les falta alguna de las 3 bandas necesarias para poder aplicar la fórmula del EVI."
   ]
  },
  {
   "cell_type": "markdown",
   "metadata": {},
   "source": [
    "# <font color=red>Fórmulas del EVI:</font>"
   ]
  },
  {
   "cell_type": "markdown",
   "metadata": {},
   "source": [
    "## <font color=darkblue>Landsat 4-7: EVI = 2.5 * ((b4 - b3)/(b4 + 6 * b3 - 7.5 * b1 + 1)</font>"
   ]
  },
  {
   "cell_type": "markdown",
   "metadata": {},
   "source": [
    "## <font color=darkblue> Landsat 8: EVI = 2.5 * ((b5 - b4)/(b5 + 6 * b4 - 7.5 * b2 + 1)</font>"
   ]
  },
  {
   "cell_type": "markdown",
   "metadata": {},
   "source": [
    "Ahora vamos a recorrer las escenas normalizadas y a generalizar el índice para posteriormente generar el raster con la frecuencia de <em>blooms</em> en cada pixel del embalse"
   ]
  },
  {
   "cell_type": "code",
   "execution_count": null,
   "metadata": {},
   "outputs": [],
   "source": [
    "import rasterio\n",
    "\n",
    "path_pro = r'G:\\VDCNS\\protocolo\\pro'\n",
    "\n",
    "for escena in EVI:\n",
    "        \n",
    "    for banda in os.listdir(escena):\n",
    "        \n",
    "        if 'l7etm' in escena:\n",
    "            #print('Haciendo', escena) \n",
    "            outpath = os.path.join(path_pro, os.path.split(escena)[1])\n",
    "            outfilevi = os.path.join(outpath, os.path.split(escena)[1] + 'evi_.img')\n",
    "            outfilendvi = os.path.join(outpath, os.path.split(escena)[1] + 'ndvi_.img')\n",
    "\n",
    "            if banda.endswith('b1.img'):\n",
    "                b1 = os.path.join(escena, banda)\n",
    "                print(b1)\n",
    "                #with rasterio.open(b2) as srcb2:\n",
    "                    #B2 = srcb2.read()\n",
    "            elif banda.endswith('b3.img'):\n",
    "                b3 = os.path.join(escena, banda)\n",
    "                print(b3)\n",
    "                \n",
    "            elif banda.endswith('b4.img'):\n",
    "                b4 = os.path.join(escena, banda)\n",
    "                print(b4)\n",
    "                #with rasterio.open(b5) as srcb5:\n",
    "                    #B5 = srcb5.read()\n",
    "                    \n",
    "                with rasterio.open(b1) as srcb1:\n",
    "                    BLUE = srcb1.read()\n",
    "                with rasterio.open(b3) as srcb3:\n",
    "                    RED = srcb3.read()\n",
    "                with rasterio.open(b4) as srcb4:\n",
    "                    NIR = srcb4.read()\n",
    "                \n",
    "                #Ahora calculamos el EVI paso a paso, por algun *** motivo, asi sale bien\n",
    "                a = NIR.astype(float) - RED.astype(float)\n",
    "                b = NIR + (6 * RED)\n",
    "                c = -7.5 * (BLUE + 1)\n",
    "                d = b -c\n",
    "                e = a / d\n",
    "                f = 2.5 * e\n",
    "\n",
    "                #EVIf = 2.5 * ((NIR-RED) / (NIR + 6 * RED - 7.5 * BLUE + 1))\n",
    "                ndvi = (NIR.astype(float) - RED.astype(float)) / (NIR+RED)\n",
    "\n",
    "                profile = srcb5.meta\n",
    "                profile.update(dtype=rasterio.float32)\n",
    "\n",
    "                with rasterio.open(outfilevi, 'w', **profile) as dst:\n",
    "                    dst.write(f.astype(rasterio.float32))\n",
    "                \n",
    "                with rasterio.open(outfilendvi, 'w', **profile) as dst:\n",
    "                    dst.write(ndvi.astype(rasterio.float32))\n",
    "\n",
    "                print('Haciendo', escena)\n",
    "                            \n",
    "        else:\n",
    "            continue\n",
    "            #print(B2.mean() - B4.mean())                 "
   ]
  },
  {
   "cell_type": "markdown",
   "metadata": {
    "collapsed": true
   },
   "source": [
    "### En teoría el umbral debería de ser 0, pero tras comprobar unas cuantas escenas se ha decidio dejarlo en 0.03. De todos modos, se probaran varios umbrales (0, 0.1, 0.2 y 0.3), así como la suma absoluta de los valores."
   ]
  },
  {
   "cell_type": "markdown",
   "metadata": {},
   "source": [
    "### Antes de hacer esto debemos de recortar todos los EVIs generados con la cota 318, que es la extensión con la que se generaron las máscaras de agua del embalse"
   ]
  },
  {
   "cell_type": "code",
   "execution_count": null,
   "metadata": {
    "collapsed": true
   },
   "outputs": [],
   "source": [
    "path_pro = r'G:\\VDCNS\\protocolo\\pro'\n",
    "\n",
    "for pro in os.listdir(path_pro):\n",
    "    \n",
    "    escena = os.path.join(path_pro, pro)\n",
    "    for i in os.listdir(escena):\n",
    "        \n",
    "        if banda.endswith('evi_.img'):\n",
    "            evi = os.path.join(escena, banda)\n",
    "        elif banda.endswith('water_reclass_3.img'):\n",
    "            watermask = os.path.join(escena, banda)\n",
    "            \n",
    "        cmd = [\"gdalwarp\", \"-dstnodata\" , \"0\" , \"-cutline\", \"-crop_to_cutline\", \"-of\", \"ENVI\"]\n",
    "        #cmd = [\"gdalwarp\", \"-cutline\", \"-crop_to_cutline\", \"-of\", \"ENVI\"] #PROBAR A DEJAR EL DTM ORIGINAL -9999 A VER SI SALE MEJOR\n",
    "        cmd.append(dtm)\n",
    "        cmd.append(dtm_escena)\n",
    "        cmd.insert(4, shape) #seria el 4/2 con/sin el dst nodata\n",
    "        proc = subprocess.Popen(cmd,stdout=subprocess.PIPE,stderr=subprocess.PIPE)\n",
    "        stdout,stderr=proc.communicate()\n",
    "        exit_code=proc.wait()\n",
    "\n",
    "        if exit_code: \n",
    "            raise RuntimeError(stderr)\n",
    "        else:\n",
    "            print(stdout)\n",
    "print('dtm_escena generado')"
   ]
  },
  {
   "cell_type": "markdown",
   "metadata": {
    "collapsed": true
   },
   "source": [
    "## <font color=red> Ahora debemos de aplicar las máscaras de agua que obtuvimos para la topografía de cada escena, y hacer una máscara binaria, donde todo el agua cuyo valor sea superior al umbral señalado como <em>bloom</em> será 1 y el resto 0. De este modo, podremos hacer las sumas de todas las máscaras y ver la frecuencia en la que ha hábido presencia de algas en un pixel </font>"
   ]
  },
  {
   "cell_type": "code",
   "execution_count": null,
   "metadata": {},
   "outputs": [],
   "source": [
    "path_pro = r'G:\\VDCNS\\protocolo\\pro'\n",
    "\n",
    "for pro in os.listdir(path_pro):\n",
    "    \n",
    "    escena = os.path.join(path_pro, pro)\n",
    "    for i in os.listdir(escena):\n",
    "        \n",
    "        if banda.endswith('evi_.img'):\n",
    "            evi = os.path.join(escena, banda)\n",
    "        elif banda.endswith('water_reclass_3.img'):\n",
    "            watermask = os.path.join(escena, banda)\n",
    "        \n",
    "        \n",
    "        \n",
    "        "
   ]
  },
  {
   "cell_type": "code",
   "execution_count": null,
   "metadata": {},
   "outputs": [],
   "source": [
    "import gdal\n",
    "from gdalconst import GA_ReadOnly\n",
    "\n",
    "mask = r'G:\\VDCNS\\protocolo\\pro\\20140913l8oli202_32\\20140913l8oli202_32_water_reclass_3.img'\n",
    "\n",
    "data = gdal.Open(mask, GA_ReadOnly)\n",
    "geoTransform = data.GetGeoTransform()\n",
    "minx = geoTransform[0]\n",
    "maxy = geoTransform[3]\n",
    "maxx = minx + geoTransform[1] * data.RasterXSize\n",
    "miny = maxy + geoTransform[5] * data.RasterYSize\n",
    "call('gdal_translate -projwin ' + ' '.join([str(x) for x in [minx, maxy, maxx, miny]]) + \\\n",
    "     ' -of ENVI G:\\VDCNS\\protocolo\\pro\\20140913l8oli202_32\\20140913l8oli202_32evi_.img G:\\VDCNS\\protocolo\\pro\\20140913l8oli202_32\\20140913l8oli202_32evi_rec.img', shell=True)\n",
    "\n"
   ]
  },
  {
   "cell_type": "code",
   "execution_count": 7,
   "metadata": {},
   "outputs": [
    {
     "name": "stdout",
     "output_type": "stream",
     "text": [
      "Usage: gdalwarp [--help-general] [--formats]\n",
      "    [-s_srs srs_def] [-t_srs srs_def] [-to \"NAME=VALUE\"]\n",
      "    [-order n | -tps | -rpc | -geoloc] [-et err_threshold]\n",
      "    [-refine_gcps tolerance [minimum_gcps]]\n",
      "    [-te xmin ymin xmax ymax] [-tr xres yres] [-tap] [-ts width height]\n",
      "    [-ovr level|AUTO|AUTO-n|NONE] [-wo \"NAME=VALUE\"] [-ot Byte/Int16/...] [-wt Byte/Int16]\n",
      "    [-srcnodata \"value [value...]\"] [-dstnodata \"value [value...]\"] -dstalpha\n",
      "    [-r resampling_method] [-wm memory_in_mb] [-multi] [-q]\n",
      "    [-cutline datasource] [-cl layer] [-cwhere expression]\n",
      "    [-csql statement] [-cblend dist_in_pixels] [-crop_to_cutline]\n",
      "    [-of format] [-co \"NAME=VALUE\"]* [-overwrite]\n",
      "    [-nomd] [-cvmd meta_conflict_value] [-setci] [-oo NAME=VALUE]*\n",
      "    [-doo NAME=VALUE]*\n",
      "    srcfile* dstfile\n",
      "\n",
      "Available resampling methods:\n",
      "    near (default), bilinear, cubic, cubicspline, lanczos, average, mode,  max, min, med, Q1, Q3.\n"
     ]
    },
    {
     "name": "stderr",
     "output_type": "stream",
     "text": [
      "ERROR 5: -tap option cannot be used without using -tr.\n"
     ]
    }
   ],
   "source": [
    "!gdalwarp -cutline G:\\VDCNS\\protocolo\\data\\cota_318p.shp -crop_to_cutline -tap -of ENVI -overwrite \\\n",
    "    G:\\VDCNS\\protocolo\\pro\\20140913l8oli202_32\\20140913l8oli202_32evi_.img \\\n",
    "        G:\\VDCNS\\protocolo\\pro\\20140913l8oli202_32\\20140913l8oli202_32evi_rec.img"
   ]
  },
  {
   "cell_type": "code",
   "execution_count": null,
   "metadata": {
    "collapsed": true
   },
   "outputs": [],
   "source": []
  }
 ],
 "metadata": {
  "anaconda-cloud": {},
  "kernelspec": {
   "display_name": "Python [conda root]",
   "language": "python",
   "name": "conda-root-py"
  },
  "language_info": {
   "codemirror_mode": {
    "name": "ipython",
    "version": 3
   },
   "file_extension": ".py",
   "mimetype": "text/x-python",
   "name": "python",
   "nbconvert_exporter": "python",
   "pygments_lexer": "ipython3",
   "version": "3.5.3"
  }
 },
 "nbformat": 4,
 "nbformat_minor": 2
}
