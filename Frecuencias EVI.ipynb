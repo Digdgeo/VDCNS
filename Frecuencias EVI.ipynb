{
 "cells": [
  {
   "cell_type": "markdown",
   "metadata": {},
   "source": [
    "# FRECUENCIAS (EVI)"
   ]
  },
  {
   "cell_type": "markdown",
   "metadata": {},
   "source": [
    "### En este notebook se realiza un raster con la frecuencia con la que un pixel de Landsat está por encima de un valor del índice EVI. La idea es ver la distribución espacial de los blooms de algas en el embalse de Valdecañas"
   ]
  },
  {
   "cell_type": "markdown",
   "metadata": {},
   "source": [
    "Lo primero que debemos hacer es recorrer todas las Landsat normalizadas que tenemos de la escena 202/32 y generar el EVI de cada una de ella."
   ]
  },
  {
   "cell_type": "code",
   "execution_count": null,
   "metadata": {
    "collapsed": true
   },
   "outputs": [],
   "source": [
    "import os\n",
    "\n",
    "path_nor = r'G:\\VDCNS\\protocolo\\nor' \n",
    "\n",
    "escenasl5 = []\n",
    "escenasl7 = []\n",
    "escenasl8 = []\n",
    "\n",
    "EVI = []\n",
    "\n",
    "for e in sorted(os.listdir(path_nor)):\n",
    "    \n",
    "    escena = os.path.join(path_nor, e)\n",
    "    \n",
    "    if 'l5' in escena:\n",
    "        \n",
    "        bandas = []\n",
    "        for i in os.listdir(escena):\n",
    "            if i.endswith('b1.img'):\n",
    "                bandas.append(i)\n",
    "            elif i.endswith('b3.img'):\n",
    "                    bandas.append(i)\n",
    "            elif i.endswith('b4.img'):\n",
    "                        bandas.append(i)\n",
    "            else:\n",
    "                continue\n",
    "                \n",
    "            if len(bandas) == 3:\n",
    "                escenasl5.append(escena)\n",
    "                EVI.append(os.path.join(path_nor, escena))\n",
    "\n",
    "    \n",
    "    if 'l7' in escena:\n",
    "        \n",
    "        bandas = []\n",
    "        for i in os.listdir(escena):\n",
    "            if i.endswith('b1.img'):\n",
    "                bandas.append(i)\n",
    "            elif i.endswith('b3.img'):\n",
    "                    bandas.append(i)\n",
    "            elif i.endswith('b4.img'):\n",
    "                        bandas.append(i)\n",
    "            else:\n",
    "                continue\n",
    "                \n",
    "            if len(bandas) == 3:\n",
    "                escenasl7.append(escena)\n",
    "                EVI.append(os.path.join(path_nor, escena))\n",
    "                \n",
    "    if 'l8' in escena:\n",
    "        \n",
    "        bandas = []\n",
    "        for i in os.listdir(escena):\n",
    "            if i.endswith('b2.img'):\n",
    "                bandas.append(i)\n",
    "            elif i.endswith('b4.img'):\n",
    "                    bandas.append(i)\n",
    "            elif i.endswith('b5.img'):\n",
    "                        bandas.append(i)\n",
    "            else:\n",
    "                continue\n",
    "                \n",
    "            if len(bandas) == 3:\n",
    "                escenasl8.append(escena)\n",
    "                EVI.append(os.path.join(path_nor, escena))\n",
    "\n",
    "                        \n",
    "                        \n",
    "    \n",
    "print('Se pueden analizar un total de', len(escenasl5) + len(escenasl7) + len(escenasl8), 'escenas de Landsat')              \n"
   ]
  },
  {
   "cell_type": "markdown",
   "metadata": {},
   "source": [
    "De los 228 escenas normalizadas, se puede realizar el EVI a 198 de ellas. A las 30 restantes les falta alguna de las 3 bandas necesarias para poder aplicar la fórmula del EVI."
   ]
  },
  {
   "cell_type": "markdown",
   "metadata": {},
   "source": [
    "# <font color=red>Fórmulas del EVI:</font>"
   ]
  },
  {
   "cell_type": "markdown",
   "metadata": {},
   "source": [
    "## <font color=darkblue>Landsat 4-7: EVI = 2.5 * ((b4 - b3)/(b4 + 6 * b3 - 7.5 * b1 + 1)</font>"
   ]
  },
  {
   "cell_type": "markdown",
   "metadata": {},
   "source": [
    "## <font color=darkblue> Landsat 8: EVI = 2.5 * ((b5 - b4)/(b5 + 6 * b4 - 7.5 * b2 + 1)</font>"
   ]
  },
  {
   "cell_type": "markdown",
   "metadata": {},
   "source": [
    "Ahora vamos a recorrer las escenas normalizadas y a generalizar el índice para posteriormente generar el raster con la frecuencia de <em>blooms</em> en cada pixel del embalse"
   ]
  },
  {
   "cell_type": "code",
   "execution_count": null,
   "metadata": {
    "collapsed": true,
    "scrolled": true
   },
   "outputs": [],
   "source": [
    "import rasterio\n",
    "\n",
    "path_pro = r'G:\\VDCNS\\protocolo\\pro'\n",
    "\n",
    "for escena in EVI:\n",
    "        \n",
    "    if 'l8oli' in escena:\n",
    "        \n",
    "        print(escena)\n",
    "        \n",
    "        for banda in os.listdir(escena):\n",
    "\n",
    "            try:\n",
    "                \n",
    "                #print('Haciendo', escena) \n",
    "                outpath = os.path.join(path_pro, os.path.split(escena)[1])\n",
    "                outfilevi = os.path.join(outpath, os.path.split(escena)[1] + 'evi_.img')\n",
    "                outfilendvi = os.path.join(outpath, os.path.split(escena)[1] + 'ndvi_.img')\n",
    "\n",
    "                if banda.endswith('b2.img'):\n",
    "                    b1 = os.path.join(escena, banda)\n",
    "                    print(b1)\n",
    "                    #with rasterio.open(b2) as srcb2:\n",
    "                        #B2 = srcb2.read()\n",
    "                elif banda.endswith('b4.img'):\n",
    "                    b3 = os.path.join(escena, banda)\n",
    "                    print(b3)\n",
    "\n",
    "                elif banda.endswith('b5.img'):\n",
    "                    b4 = os.path.join(escena, banda)\n",
    "                    print(b4)\n",
    "                    #with rasterio.open(b5) as srcb5:\n",
    "                        #B5 = srcb5.read()\n",
    "\n",
    "                    with rasterio.open(b1) as srcb1:\n",
    "                        BLUE = srcb1.read()\n",
    "                    with rasterio.open(b3) as srcb3:\n",
    "                        RED = srcb3.read()\n",
    "                    with rasterio.open(b4) as srcb4:\n",
    "                        NIR = srcb4.read()\n",
    "\n",
    "                    #Ahora calculamos el EVI paso a paso, por algun *** motivo, asi sale bien\n",
    "                    a = NIR.astype(float) - RED.astype(float)\n",
    "                    b = NIR + (6 * RED)\n",
    "                    c = -7.5 * (BLUE + 1)\n",
    "                    d = b -c\n",
    "                    e = a / d\n",
    "                    f = 2.5 * e\n",
    "\n",
    "                    #EVIf = 2.5 * ((NIR-RED) / (NIR + 6 * RED - 7.5 * BLUE + 1))\n",
    "                    ndvi = (NIR.astype(float) - RED.astype(float)) / (NIR+RED)\n",
    "\n",
    "                    profile = srcb3.meta\n",
    "                    profile.update(dtype=rasterio.float32)\n",
    "\n",
    "                    with rasterio.open(outfilevi, 'w', **profile) as dst:\n",
    "                        dst.write(f.astype(rasterio.float32))\n",
    "\n",
    "                    with rasterio.open(outfilendvi, 'w', **profile) as dst:\n",
    "                        dst.write(ndvi.astype(rasterio.float32))\n",
    "\n",
    "                    print('Haciendo', escena)\n",
    "                            \n",
    "            except Exception as e:\n",
    "                print(e, escena)\n",
    "                continue"
   ]
  },
  {
   "cell_type": "markdown",
   "metadata": {
    "collapsed": true
   },
   "source": [
    "### En teoría el umbral debería de ser 0, pero tras comprobar unas cuantas escenas se ha decidio dejarlo en 0.03. De todos modos, se probaran varios umbrales (0, 0.1, 0.2 y 0.3), así como la suma absoluta de los valores."
   ]
  },
  {
   "cell_type": "markdown",
   "metadata": {},
   "source": [
    "### Antes de hacer esto debemos de recortar todos los EVIs generados con la cota 318, que es la extensión con la que se generaron las máscaras de agua del embalse"
   ]
  },
  {
   "cell_type": "code",
   "execution_count": null,
   "metadata": {
    "collapsed": true,
    "scrolled": true
   },
   "outputs": [],
   "source": [
    "import os, rasterio, subprocess\n",
    "\n",
    "path_pro = r'G:\\VDCNS\\protocolo\\pro'\n",
    "\n",
    "for pro in os.listdir(path_pro):\n",
    "    \n",
    "    escena = os.path.join(path_pro, pro)\n",
    "    for i in os.listdir(escena):\n",
    "        #print(escena)\n",
    "        if i.endswith('evi_.img'):\n",
    "            evi = os.path.join(escena, i)\n",
    "            outrec = os.path.join(escena, i[:-4] + 'rec.img')\n",
    "            print(outrec)\n",
    "            \n",
    "            cmd = [\"gdalwarp\", \"-of\", \"ENVI\", \"-te\", \"287340\", \"4405140\", \"301860\", \"4418730\", \"-tr\", \"30\", \"30\", \"-tap\",\"-overwrite\"]\n",
    "            #cmd = [\"gdalwarp\", \"-cutline\", \"-crop_to_cutline\", \"-of\", \"ENVI\"] #PROBAR A DEJAR EL DTM ORIGINAL -9999 A VER SI SALE MEJOR\n",
    "            cmd.append(evi)\n",
    "            cmd.append(outrec)\n",
    "            proc = subprocess.Popen(cmd,stdout=subprocess.PIPE,stderr=subprocess.PIPE)\n",
    "            stdout,stderr=proc.communicate()\n",
    "            exit_code=proc.wait()\n",
    "\n",
    "            if exit_code: \n",
    "                raise RuntimeError(stderr)\n",
    "            else:\n",
    "                print(stdout)\n",
    "                print('EVI generado', escena)"
   ]
  },
  {
   "cell_type": "markdown",
   "metadata": {
    "collapsed": true
   },
   "source": [
    "## <font color=red> Ahora debemos de aplicar las máscaras de agua que obtuvimos para la topografía de cada escena, y hacer una máscara binaria, donde todo el agua cuyo valor sea superior al umbral señalado como <em>bloom</em> será 1 y el resto 0. De este modo, podremos hacer las sumas de todas las máscaras y ver la frecuencia en la que ha hábido presencia de algas en un pixel </font>"
   ]
  },
  {
   "cell_type": "code",
   "execution_count": 1,
   "metadata": {},
   "outputs": [
    {
     "name": "stdout",
     "output_type": "stream",
     "text": [
      "G:\\VDCNS\\protocolo\\pro\\19840910l5tm202_32 realizada\n",
      "G:\\VDCNS\\protocolo\\pro\\19840926l5tm202_32 realizada\n",
      "G:\\VDCNS\\protocolo\\pro\\19850305l5tm202_32 realizada\n",
      "G:\\VDCNS\\protocolo\\pro\\19850812l5tm202_32 realizada\n",
      "G:\\VDCNS\\protocolo\\pro\\19860612l5tm202_32 realizada\n",
      "G:\\VDCNS\\protocolo\\pro\\19860628l5tm202_32 realizada\n",
      "G:\\VDCNS\\protocolo\\pro\\19870412l5tm202_32 realizada\n",
      "G:\\VDCNS\\protocolo\\pro\\19870530l5tm202_32 realizada\n",
      "G:\\VDCNS\\protocolo\\pro\\19870701l5tm202_32 realizada\n",
      "G:\\VDCNS\\protocolo\\pro\\19870802l5tm202_32 realizada\n",
      "G:\\VDCNS\\protocolo\\pro\\19870903l5tm202_32 realizada\n",
      "G:\\VDCNS\\protocolo\\pro\\19890612l4tm202_32 realizada\n",
      "G:\\VDCNS\\protocolo\\pro\\19890815l4tm202_32 realizada\n",
      "G:\\VDCNS\\protocolo\\pro\\19900810l5tm202_32 realizada\n",
      "G:\\VDCNS\\protocolo\\pro\\19910517l4tm202_32 realizada\n",
      "G:\\VDCNS\\protocolo\\pro\\19990827l7etm202_32 realizada\n",
      "G:\\VDCNS\\protocolo\\pro\\19991201l7etm202_32 realizada\n",
      "G:\\VDCNS\\protocolo\\pro\\20000219l7etm202_32 realizada\n",
      "G:\\VDCNS\\protocolo\\pro\\20000610l7etm202_32 realizada\n",
      "G:\\VDCNS\\protocolo\\pro\\20000626l7etm202_32 realizada\n",
      "G:\\VDCNS\\protocolo\\pro\\20000712l7etm202_32 realizada\n",
      "G:\\VDCNS\\protocolo\\pro\\20000728l7etm202_32 realizada\n",
      "G:\\VDCNS\\protocolo\\pro\\20000813l7etm202_32 realizada\n",
      "G:\\VDCNS\\protocolo\\pro\\20000829l7etm202_32 realizada\n",
      "G:\\VDCNS\\protocolo\\pro\\20000914l7etm202_32 realizada\n",
      "G:\\VDCNS\\protocolo\\pro\\20001016l7etm202_32 realizada\n",
      "G:\\VDCNS\\protocolo\\pro\\20001117l7etm202_32 realizada\n",
      "G:\\VDCNS\\protocolo\\pro\\20010120l7etm202_32 realizada\n",
      "G:\\VDCNS\\protocolo\\pro\\20010221l7etm202_32 realizada\n",
      "G:\\VDCNS\\protocolo\\pro\\20010410l7etm202_32 realizada\n",
      "G:\\VDCNS\\protocolo\\pro\\20010528l7etm202_32 realizada\n",
      "G:\\VDCNS\\protocolo\\pro\\20010629l7etm202_32 realizada\n",
      "G:\\VDCNS\\protocolo\\pro\\20010901l7etm202_32 realizada\n",
      "G:\\VDCNS\\protocolo\\pro\\20020107l7etm202_32 realizada\n",
      "G:\\VDCNS\\protocolo\\pro\\20020224l7etm202_32 realizada\n",
      "G:\\VDCNS\\protocolo\\pro\\20020429l7etm202_32 realizada\n",
      "G:\\VDCNS\\protocolo\\pro\\20020616l7etm202_32 realizada\n",
      "G:\\VDCNS\\protocolo\\pro\\20020624l5tm202_32 realizada\n",
      "G:\\VDCNS\\protocolo\\pro\\20020803l7etm202_32 realizada\n",
      "G:\\VDCNS\\protocolo\\pro\\20021006l7etm202_32 realizada\n",
      "G:\\VDCNS\\protocolo\\pro\\20021107l7etm202_32 realizada\n",
      "G:\\VDCNS\\protocolo\\pro\\20030126l7etm202_32 realizada\n",
      "G:\\VDCNS\\protocolo\\pro\\20030518l7etm202_32 realizada\n",
      "G:\\VDCNS\\protocolo\\pro\\20030627l5tm202_32 realizada\n",
      "G:\\VDCNS\\protocolo\\pro\\20030713l5tm202_32 realizada\n",
      "G:\\VDCNS\\protocolo\\pro\\20030814l5tm202_32 realizada\n",
      "G:\\VDCNS\\protocolo\\pro\\20030830l5tm202_32 realizada\n",
      "G:\\VDCNS\\protocolo\\pro\\20030915l5tm202_32 realizada\n",
      "G:\\VDCNS\\protocolo\\pro\\20031212l7etm202_32 realizada\n",
      "G:\\VDCNS\\protocolo\\pro\\20040301l7etm202_32 realizada\n",
      "G:\\VDCNS\\protocolo\\pro\\20040605l7etm202_32 realizada\n",
      "G:\\VDCNS\\protocolo\\pro\\20040925l7etm202_32 realizada\n",
      "G:\\VDCNS\\protocolo\\pro\\20050608l7etm202_32 realizada\n",
      "G:\\VDCNS\\protocolo\\pro\\20050928l7etm202_32 realizada\n",
      "G:\\VDCNS\\protocolo\\pro\\20060408l7etm202_32 realizada\n",
      "G:\\VDCNS\\protocolo\\pro\\20060424l7etm202_32 realizada\n",
      "G:\\VDCNS\\protocolo\\pro\\20060611l7etm202_32 realizada\n",
      "G:\\VDCNS\\protocolo\\pro\\20061110l5tm202_32 realizada\n",
      "G:\\VDCNS\\protocolo\\pro\\20070310l7etm202_32 realizada\n",
      "G:\\VDCNS\\protocolo\\pro\\20070529l7etm202_32 realizada\n",
      "G:\\VDCNS\\protocolo\\pro\\20070622l5tm202_32 realizada\n",
      "G:\\VDCNS\\protocolo\\pro\\20070708l5tm202_32 realizada\n",
      "G:\\VDCNS\\protocolo\\pro\\20070724l5tm202_32 realizada\n",
      "G:\\VDCNS\\protocolo\\pro\\20070801l7etm202_32 realizada\n",
      "G:\\VDCNS\\protocolo\\pro\\20070809l5tm202_32 realizada\n",
      "G:\\VDCNS\\protocolo\\pro\\20070910l5tm202_32 realizada\n",
      "G:\\VDCNS\\protocolo\\pro\\20070926l5tm202_32 realizada\n",
      "G:\\VDCNS\\protocolo\\pro\\20071020l7etm202_32 realizada\n",
      "G:\\VDCNS\\protocolo\\pro\\20071105l7etm202_32 realizada\n",
      "G:\\VDCNS\\protocolo\\pro\\20080209l7etm202_32 realizada\n",
      "G:\\VDCNS\\protocolo\\pro\\20080718l7etm202_32 realizada\n",
      "G:\\VDCNS\\protocolo\\pro\\20080803l7etm202_32 realizada\n",
      "G:\\VDCNS\\protocolo\\pro\\20081123l7etm202_32 realizada\n",
      "G:\\VDCNS\\protocolo\\pro\\20081225l7etm202_32 realizada\n",
      "G:\\VDCNS\\protocolo\\pro\\20090211l7etm202_32 realizada\n",
      "G:\\VDCNS\\protocolo\\pro\\20090227l7etm202_32 realizada\n",
      "G:\\VDCNS\\protocolo\\pro\\20090315l7etm202_32 realizada\n",
      "G:\\VDCNS\\protocolo\\pro\\20090502l7etm202_32 realizada\n",
      "G:\\VDCNS\\protocolo\\pro\\20090518l7etm202_32 realizada\n",
      "G:\\VDCNS\\protocolo\\pro\\20090611l5tm202_32 realizada\n",
      "G:\\VDCNS\\protocolo\\pro\\20090627l5tm202_32 realizada\n",
      "G:\\VDCNS\\protocolo\\pro\\20090713l5tm202_32 realizada\n",
      "G:\\VDCNS\\protocolo\\pro\\20090729l5tm202_32 realizada\n",
      "G:\\VDCNS\\protocolo\\pro\\20090830l5tm202_32 realizada\n",
      "G:\\VDCNS\\protocolo\\pro\\20090907l7etm202_32 realizada\n",
      "G:\\VDCNS\\protocolo\\pro\\20090915l5tm202_32 realizada\n",
      "G:\\VDCNS\\protocolo\\pro\\20090923l7etm202_32 realizada\n",
      "G:\\VDCNS\\protocolo\\pro\\20091001l5tm202_32 realizada\n",
      "G:\\VDCNS\\protocolo\\pro\\20091017l5tm202_32 realizada\n",
      "G:\\VDCNS\\protocolo\\pro\\20091102l5tm202_32 realizada\n",
      "G:\\VDCNS\\protocolo\\pro\\20091204l5tm202_32 realizada\n",
      "G:\\VDCNS\\protocolo\\pro\\20100206l5tm202_32 realizada\n",
      "G:\\VDCNS\\protocolo\\pro\\20100310l5tm202_32 realizada\n",
      "G:\\VDCNS\\protocolo\\pro\\20100411l5tm202_32 realizada\n",
      "G:\\VDCNS\\protocolo\\pro\\20100505l7etm202_32 realizada\n",
      "G:\\VDCNS\\protocolo\\pro\\20100521l7etm202_32 realizada\n",
      "G:\\VDCNS\\protocolo\\pro\\20100606l7etm202_32 realizada\n",
      "G:\\VDCNS\\protocolo\\pro\\20100622l7etm202_32 realizada\n",
      "G:\\VDCNS\\protocolo\\pro\\20100630l5tm202_32 realizada\n",
      "G:\\VDCNS\\protocolo\\pro\\20100716l5tm202_32 realizada\n",
      "G:\\VDCNS\\protocolo\\pro\\20100801l5tm202_32 realizada\n",
      "G:\\VDCNS\\protocolo\\pro\\20100910l7etm202_32 realizada\n",
      "G:\\VDCNS\\protocolo\\pro\\20100926l7etm202_32 realizada\n",
      "G:\\VDCNS\\protocolo\\pro\\20101012l7etm202_32 realizada\n",
      "G:\\VDCNS\\protocolo\\pro\\20101105l5tm202_32 realizada\n",
      "G:\\VDCNS\\protocolo\\pro\\20110124l5tm202_32 realizada\n",
      "G:\\VDCNS\\protocolo\\pro\\20110209l5tm202_32 realizada\n",
      "G:\\VDCNS\\protocolo\\pro\\20110225l5tm202_32 realizada\n",
      "G:\\VDCNS\\protocolo\\pro\\20110321l7etm202_32 realizada\n",
      "G:\\VDCNS\\protocolo\\pro\\20110329l5tm202_32 realizada\n",
      "G:\\VDCNS\\protocolo\\pro\\20110508l7etm202_32 realizada\n",
      "G:\\VDCNS\\protocolo\\pro\\20110516l5tm202_32 realizada\n",
      "G:\\VDCNS\\protocolo\\pro\\20110601l5tm202_32 realizada\n",
      "G:\\VDCNS\\protocolo\\pro\\20110804l5tm202_32 realizada\n",
      "G:\\VDCNS\\protocolo\\pro\\20110828l7etm202_32 realizada\n",
      "G:\\VDCNS\\protocolo\\pro\\20110905l5tm202_32 realizada\n",
      "G:\\VDCNS\\protocolo\\pro\\20110913l7etm202_32 realizada\n",
      "G:\\VDCNS\\protocolo\\pro\\20110929l7etm202_32 realizada\n",
      "G:\\VDCNS\\protocolo\\pro\\20111015l7etm202_32 realizada\n",
      "G:\\VDCNS\\protocolo\\pro\\20111218l7etm202_32 realizada\n",
      "G:\\VDCNS\\protocolo\\pro\\20120103l7etm202_32 realizada\n",
      "G:\\VDCNS\\protocolo\\pro\\20120119l7etm202_32 realizada\n",
      "G:\\VDCNS\\protocolo\\pro\\20120204l7etm202_32 realizada\n",
      "G:\\VDCNS\\protocolo\\pro\\20120220l7etm202_32 realizada\n",
      "G:\\VDCNS\\protocolo\\pro\\20120307l7etm202_32 realizada\n",
      "G:\\VDCNS\\protocolo\\pro\\20120408l7etm202_32 realizada\n",
      "G:\\VDCNS\\protocolo\\pro\\20120713l7etm202_32 realizada\n",
      "G:\\VDCNS\\protocolo\\pro\\20120729l7etm202_32 realizada\n",
      "G:\\VDCNS\\protocolo\\pro\\20120814l7etm202_32 realizada\n",
      "G:\\VDCNS\\protocolo\\pro\\20120915l7etm202_32 realizada\n",
      "G:\\VDCNS\\protocolo\\pro\\20121001l7etm202_32 realizada\n",
      "G:\\VDCNS\\protocolo\\pro\\20130419l8oli202_32 realizada\n",
      "G:\\VDCNS\\protocolo\\pro\\20130505l8oli202_32 realizada\n",
      "G:\\VDCNS\\protocolo\\pro\\20130513l7etm202_32 realizada\n",
      "G:\\VDCNS\\protocolo\\pro\\20130529l7etm202_32 realizada\n",
      "G:\\VDCNS\\protocolo\\pro\\20130606l8oli202_32 realizada\n",
      "G:\\VDCNS\\protocolo\\pro\\20130614l7etm202_32 realizada\n",
      "G:\\VDCNS\\protocolo\\pro\\20130622l8oli202_32 realizada\n",
      "G:\\VDCNS\\protocolo\\pro\\20130630l7etm202_32 realizada\n",
      "G:\\VDCNS\\protocolo\\pro\\20130708l8oli202_32 realizada\n",
      "G:\\VDCNS\\protocolo\\pro\\20130716l7etm202_32 realizada\n",
      "G:\\VDCNS\\protocolo\\pro\\20130724l8oli202_32 realizada\n",
      "G:\\VDCNS\\protocolo\\pro\\20130809l8oli202_32 realizada\n",
      "G:\\VDCNS\\protocolo\\pro\\20130825l8oli202_32 realizada\n",
      "G:\\VDCNS\\protocolo\\pro\\20130910l8oli202_32 realizada\n",
      "G:\\VDCNS\\protocolo\\pro\\20130926l8oli202_32 realizada\n",
      "G:\\VDCNS\\protocolo\\pro\\20131105l7etm202_32 realizada\n",
      "G:\\VDCNS\\protocolo\\pro\\20131121l7etm202_32 realizada\n",
      "G:\\VDCNS\\protocolo\\pro\\20131129l8oli202_32 realizada\n",
      "G:\\VDCNS\\protocolo\\pro\\20131207l7etm202_32 realizada\n",
      "G:\\VDCNS\\protocolo\\pro\\20131215l8oli202_32 realizada\n",
      "G:\\VDCNS\\protocolo\\pro\\20140305l8oli202_32 realizada\n",
      "G:\\VDCNS\\protocolo\\pro\\20140430l7etm202_32 realizada\n",
      "G:\\VDCNS\\protocolo\\pro\\20140516l7etm202_32 realizada\n",
      "G:\\VDCNS\\protocolo\\pro\\20140601l7etm202_32 realizada\n",
      "G:\\VDCNS\\protocolo\\pro\\20140609l8oli202_32 realizada\n"
     ]
    },
    {
     "name": "stdout",
     "output_type": "stream",
     "text": [
      "G:\\VDCNS\\protocolo\\pro\\20140617l7etm202_32 realizada\n",
      "G:\\VDCNS\\protocolo\\pro\\20140625l8oli202_32 realizada\n",
      "G:\\VDCNS\\protocolo\\pro\\20140711l8oli202_32 realizada\n",
      "G:\\VDCNS\\protocolo\\pro\\20140727l8oli202_32 realizada\n",
      "G:\\VDCNS\\protocolo\\pro\\20140804l7etm202_32 realizada\n",
      "G:\\VDCNS\\protocolo\\pro\\20140812l8oli202_32 realizada\n",
      "G:\\VDCNS\\protocolo\\pro\\20140820l7etm202_32 realizada\n",
      "G:\\VDCNS\\protocolo\\pro\\20140905l7etm202_32 realizada\n",
      "G:\\VDCNS\\protocolo\\pro\\20140913l8oli202_32 realizada\n",
      "G:\\VDCNS\\protocolo\\pro\\20141023l7etm202_32 realizada\n",
      "G:\\VDCNS\\protocolo\\pro\\20141031l8oli202_32 realizada\n",
      "G:\\VDCNS\\protocolo\\pro\\20141202l8oli202_32 realizada\n",
      "G:\\VDCNS\\protocolo\\pro\\20141226l7etm202_32 realizada\n",
      "G:\\VDCNS\\protocolo\\pro\\20150103l8oli202_32 realizada\n",
      "G:\\VDCNS\\protocolo\\pro\\20150111l7etm202_32 realizada\n",
      "G:\\VDCNS\\protocolo\\pro\\20150119l8oli202_32 realizada\n",
      "G:\\VDCNS\\protocolo\\pro\\20150127l7etm202_32 realizada\n",
      "G:\\VDCNS\\protocolo\\pro\\20150212l7etm202_32 realizada\n",
      "G:\\VDCNS\\protocolo\\pro\\20150308l8oli202_32 realizada\n",
      "G:\\VDCNS\\protocolo\\pro\\20150316l7etm202_32 realizada\n",
      "G:\\VDCNS\\protocolo\\pro\\20150401l7etm202_32 realizada\n",
      "G:\\VDCNS\\protocolo\\pro\\20150511l8oli202_32 realizada\n",
      "G:\\VDCNS\\protocolo\\pro\\20150519l7etm202_32 realizada\n",
      "G:\\VDCNS\\protocolo\\pro\\20150527l8oli202_32 realizada\n",
      "G:\\VDCNS\\protocolo\\pro\\20150604l7etm202_32 realizada\n",
      "G:\\VDCNS\\protocolo\\pro\\20150620l7etm202_32 realizada\n",
      "G:\\VDCNS\\protocolo\\pro\\20150628l8oli202_32 realizada\n",
      "G:\\VDCNS\\protocolo\\pro\\20150706l7etm202_32 realizada\n",
      "G:\\VDCNS\\protocolo\\pro\\20150714l8oli202_32 realizada\n",
      "G:\\VDCNS\\protocolo\\pro\\20150722l7etm202_32 realizada\n",
      "G:\\VDCNS\\protocolo\\pro\\20150730l8oli202_32 realizada\n",
      "G:\\VDCNS\\protocolo\\pro\\20150807l7etm202_32 realizada\n",
      "G:\\VDCNS\\protocolo\\pro\\20150815l8oli202_32 realizada\n",
      "G:\\VDCNS\\protocolo\\pro\\20150823l7etm202_32 realizada\n",
      "G:\\VDCNS\\protocolo\\pro\\20150908l7etm202_32 realizada\n",
      "G:\\VDCNS\\protocolo\\pro\\20150924l7etm202_32 realizada\n",
      "G:\\VDCNS\\protocolo\\pro\\20151002l8oli202_32 realizada\n",
      "G:\\VDCNS\\protocolo\\pro\\20151111l7etm202_32 realizada\n",
      "G:\\VDCNS\\protocolo\\pro\\20160223l8oli202_32 realizada\n",
      "G:\\VDCNS\\protocolo\\pro\\20160521l7etm202_32 realizada\n",
      "G:\\VDCNS\\protocolo\\pro\\20160606l7etm202_32 realizada\n",
      "G:\\VDCNS\\protocolo\\pro\\20160630l8oli202_32 realizada\n",
      "G:\\VDCNS\\protocolo\\pro\\20160801l8oli202_32 realizada\n",
      "G:\\VDCNS\\protocolo\\pro\\20160809l7etm202_32 realizada\n",
      "G:\\VDCNS\\protocolo\\pro\\20160825l7etm202_32 realizada\n",
      "G:\\VDCNS\\protocolo\\pro\\20160902l8oli202_32 realizada\n",
      "G:\\VDCNS\\protocolo\\pro\\20160910l7etm202_32 realizada\n",
      "G:\\VDCNS\\protocolo\\pro\\20160918l8oli202_32 realizada\n",
      "G:\\VDCNS\\protocolo\\pro\\20160926l7etm202_32 realizada\n",
      "G:\\VDCNS\\protocolo\\pro\\20161004l8oli202_32 realizada\n",
      "G:\\VDCNS\\protocolo\\pro\\20161028l7etm202_32 realizada\n"
     ]
    }
   ],
   "source": [
    "import os, rasterio, subprocess\n",
    "\n",
    "path_pro = r'G:\\VDCNS\\protocolo\\pro'\n",
    "\n",
    "for pro in os.listdir(path_pro):\n",
    "    \n",
    "    escena = os.path.join(path_pro, pro)\n",
    "    \n",
    "    for i in os.listdir(escena):\n",
    "        \n",
    "        try:\n",
    "            \n",
    "            if i.endswith('evi_rec.img'):\n",
    "                evi = os.path.join(escena, i)\n",
    "\n",
    "            elif i.endswith('water_reclass_3.img'):\n",
    "                watermask = os.path.join(escena, i)\n",
    "\n",
    "\n",
    "                #print(watermask,'\\n', evi)\n",
    "                #Ya tenemos la variables en cada escena, ahora hacemos la reclasificación para que lo que no sea agua valga 0, y \n",
    "                #no alterar la suma metiendo valores altos de pastizales que pudiera haber en las orillas\n",
    "\n",
    "                with rasterio.open(evi) as src_evi:\n",
    "                    EVIREC = src_evi.read()\n",
    "                with rasterio.open(watermask) as src_msk:\n",
    "                    WATER = src_msk.read()\n",
    "\n",
    "                EVIREC[WATER != 1] = 0\n",
    "\n",
    "                outfile = os.path.join(escena, os.path.split(escena)[1] + '_evi_reclass.img')\n",
    "\n",
    "                profile = src_evi.meta\n",
    "                #profile.update(dtype=rasterio.float32)\n",
    "\n",
    "                with rasterio.open(outfile, 'w', **profile) as dst:\n",
    "                    dst.write(EVIREC.astype(rasterio.float32))\n",
    "                \n",
    "                print(escena, 'realizada')\n",
    "                \n",
    "        except Exception as e:\n",
    "            print(escena, e)\n",
    "            continue"
   ]
  },
  {
   "cell_type": "markdown",
   "metadata": {},
   "source": [
    "## <font color=Orange>Ya tenemos las máscaras del EVI sólo para las zonas de agua (siendo el resto valor 0 para poder hacer la suma). Ahora vamos a hacer las reclasificaciones de los umbrales (0. 0.01, 0.02 y 0.03) para hacer las sumas de lo que se puede considerar un <em>Bloom</em></font>"
   ]
  },
  {
   "cell_type": "code",
   "execution_count": 1,
   "metadata": {
    "scrolled": true
   },
   "outputs": [
    {
     "name": "stdout",
     "output_type": "stream",
     "text": [
      "G:\\VDCNS\\protocolo\\pro\\19840910l5tm202_32 realizada\n",
      "G:\\VDCNS\\protocolo\\pro\\19840926l5tm202_32 realizada\n",
      "G:\\VDCNS\\protocolo\\pro\\19850305l5tm202_32 realizada\n",
      "G:\\VDCNS\\protocolo\\pro\\19850812l5tm202_32 realizada\n",
      "G:\\VDCNS\\protocolo\\pro\\19860612l5tm202_32 realizada\n",
      "G:\\VDCNS\\protocolo\\pro\\19860628l5tm202_32 realizada\n",
      "G:\\VDCNS\\protocolo\\pro\\19870412l5tm202_32 realizada\n",
      "G:\\VDCNS\\protocolo\\pro\\19870530l5tm202_32 realizada\n",
      "G:\\VDCNS\\protocolo\\pro\\19870701l5tm202_32 realizada\n",
      "G:\\VDCNS\\protocolo\\pro\\19870802l5tm202_32 realizada\n",
      "G:\\VDCNS\\protocolo\\pro\\19870903l5tm202_32 realizada\n",
      "G:\\VDCNS\\protocolo\\pro\\19890612l4tm202_32 realizada\n",
      "G:\\VDCNS\\protocolo\\pro\\19890815l4tm202_32 realizada\n",
      "G:\\VDCNS\\protocolo\\pro\\19900810l5tm202_32 realizada\n",
      "G:\\VDCNS\\protocolo\\pro\\19910517l4tm202_32 realizada\n",
      "G:\\VDCNS\\protocolo\\pro\\19990827l7etm202_32 realizada\n",
      "G:\\VDCNS\\protocolo\\pro\\19991201l7etm202_32 realizada\n",
      "G:\\VDCNS\\protocolo\\pro\\20000219l7etm202_32 realizada\n",
      "G:\\VDCNS\\protocolo\\pro\\20000525l7etm202_32 realizada\n",
      "G:\\VDCNS\\protocolo\\pro\\20000610l7etm202_32 realizada\n",
      "G:\\VDCNS\\protocolo\\pro\\20000626l7etm202_32 realizada\n",
      "G:\\VDCNS\\protocolo\\pro\\20000712l7etm202_32 realizada\n",
      "G:\\VDCNS\\protocolo\\pro\\20000728l7etm202_32 realizada\n",
      "G:\\VDCNS\\protocolo\\pro\\20000813l7etm202_32 realizada\n",
      "G:\\VDCNS\\protocolo\\pro\\20000829l7etm202_32 realizada\n",
      "G:\\VDCNS\\protocolo\\pro\\20000914l7etm202_32 realizada\n",
      "G:\\VDCNS\\protocolo\\pro\\20001016l7etm202_32 realizada\n",
      "G:\\VDCNS\\protocolo\\pro\\20001117l7etm202_32 realizada\n",
      "G:\\VDCNS\\protocolo\\pro\\20010120l7etm202_32 realizada\n",
      "G:\\VDCNS\\protocolo\\pro\\20010221l7etm202_32 realizada\n",
      "G:\\VDCNS\\protocolo\\pro\\20010410l7etm202_32 realizada\n",
      "G:\\VDCNS\\protocolo\\pro\\20010528l7etm202_32 realizada\n",
      "G:\\VDCNS\\protocolo\\pro\\20010629l7etm202_32 realizada\n",
      "G:\\VDCNS\\protocolo\\pro\\20010901l7etm202_32 realizada\n",
      "G:\\VDCNS\\protocolo\\pro\\20020107l7etm202_32 realizada\n",
      "G:\\VDCNS\\protocolo\\pro\\20020224l7etm202_32 realizada\n",
      "G:\\VDCNS\\protocolo\\pro\\20020429l7etm202_32 realizada\n",
      "G:\\VDCNS\\protocolo\\pro\\20020616l7etm202_32 realizada\n",
      "G:\\VDCNS\\protocolo\\pro\\20020624l5tm202_32 realizada\n",
      "G:\\VDCNS\\protocolo\\pro\\20020803l7etm202_32 realizada\n",
      "G:\\VDCNS\\protocolo\\pro\\20021006l7etm202_32 realizada\n",
      "G:\\VDCNS\\protocolo\\pro\\20021107l7etm202_32 realizada\n",
      "G:\\VDCNS\\protocolo\\pro\\20030126l7etm202_32 realizada\n",
      "G:\\VDCNS\\protocolo\\pro\\20030518l7etm202_32 realizada\n",
      "G:\\VDCNS\\protocolo\\pro\\20030627l5tm202_32 realizada\n",
      "G:\\VDCNS\\protocolo\\pro\\20030713l5tm202_32 realizada\n",
      "G:\\VDCNS\\protocolo\\pro\\20030814l5tm202_32 realizada\n",
      "G:\\VDCNS\\protocolo\\pro\\20030830l5tm202_32 realizada\n",
      "G:\\VDCNS\\protocolo\\pro\\20030915l5tm202_32 realizada\n",
      "G:\\VDCNS\\protocolo\\pro\\20031212l7etm202_32 realizada\n",
      "G:\\VDCNS\\protocolo\\pro\\20040301l7etm202_32 realizada\n",
      "G:\\VDCNS\\protocolo\\pro\\20040605l7etm202_32 realizada\n",
      "G:\\VDCNS\\protocolo\\pro\\20040925l7etm202_32 realizada\n",
      "G:\\VDCNS\\protocolo\\pro\\20050608l7etm202_32 realizada\n",
      "G:\\VDCNS\\protocolo\\pro\\20050928l7etm202_32 realizada\n",
      "G:\\VDCNS\\protocolo\\pro\\20060408l7etm202_32 realizada\n",
      "G:\\VDCNS\\protocolo\\pro\\20060424l7etm202_32 realizada\n",
      "G:\\VDCNS\\protocolo\\pro\\20060611l7etm202_32 realizada\n",
      "G:\\VDCNS\\protocolo\\pro\\20061110l5tm202_32 realizada\n"
     ]
    },
    {
     "ename": "ValueError",
     "evalue": "invalid literal for int() with base 10: 'evi_'",
     "output_type": "error",
     "traceback": [
      "\u001b[1;31m---------------------------------------------------------------------------\u001b[0m",
      "\u001b[1;31mValueError\u001b[0m                                Traceback (most recent call last)",
      "\u001b[1;32m<ipython-input-1-17efd51d27cb>\u001b[0m in \u001b[0;36m<module>\u001b[1;34m()\u001b[0m\n\u001b[0;32m      6\u001b[0m \u001b[1;32mfor\u001b[0m \u001b[0mpro\u001b[0m \u001b[1;32min\u001b[0m \u001b[0mos\u001b[0m\u001b[1;33m.\u001b[0m\u001b[0mlistdir\u001b[0m\u001b[1;33m(\u001b[0m\u001b[0mpath_pro\u001b[0m\u001b[1;33m)\u001b[0m\u001b[1;33m:\u001b[0m\u001b[1;33m\u001b[0m\u001b[0m\n\u001b[0;32m      7\u001b[0m \u001b[1;33m\u001b[0m\u001b[0m\n\u001b[1;32m----> 8\u001b[1;33m     \u001b[1;32mif\u001b[0m \u001b[0mint\u001b[0m\u001b[1;33m(\u001b[0m\u001b[0mpro\u001b[0m\u001b[1;33m[\u001b[0m\u001b[1;33m:\u001b[0m\u001b[1;36m4\u001b[0m\u001b[1;33m]\u001b[0m\u001b[1;33m)\u001b[0m \u001b[1;33m<\u001b[0m \u001b[1;36m2007\u001b[0m\u001b[1;33m:\u001b[0m\u001b[1;33m\u001b[0m\u001b[0m\n\u001b[0m\u001b[0;32m      9\u001b[0m \u001b[1;33m\u001b[0m\u001b[0m\n\u001b[0;32m     10\u001b[0m         \u001b[0mescena\u001b[0m \u001b[1;33m=\u001b[0m \u001b[0mos\u001b[0m\u001b[1;33m.\u001b[0m\u001b[0mpath\u001b[0m\u001b[1;33m.\u001b[0m\u001b[0mjoin\u001b[0m\u001b[1;33m(\u001b[0m\u001b[0mpath_pro\u001b[0m\u001b[1;33m,\u001b[0m \u001b[0mpro\u001b[0m\u001b[1;33m)\u001b[0m\u001b[1;33m\u001b[0m\u001b[0m\n",
      "\u001b[1;31mValueError\u001b[0m: invalid literal for int() with base 10: 'evi_'"
     ]
    }
   ],
   "source": [
    "import os, rasterio, subprocess\n",
    "import numpy as np\n",
    "\n",
    "path_pro = r'G:\\VDCNS\\protocolo\\pro'\n",
    "\n",
    "for pro in os.listdir(path_pro):\n",
    "       \n",
    "    escena = os.path.join(path_pro, pro)\n",
    "\n",
    "    if os.path.isdir(escena):\n",
    "\n",
    "        for i in os.listdir(escena):\n",
    "\n",
    "            try:\n",
    "\n",
    "                if i.endswith('_evi_reclass.img'):\n",
    "                    evi = os.path.join(escena, i)\n",
    "\n",
    "\n",
    "                    #print(watermask,'\\n', evi)\n",
    "                    #Ya tenemos la variables en cada escena, ahora hacemos la reclasificación para que lo que no sea agua valga 0, y \n",
    "                    #no alterar la suma metiendo valores altos de pastizales que pudiera haber en las orillas\n",
    "\n",
    "                    with rasterio.open(evi) as src_evi:\n",
    "                        EVIREC = src_evi.read()\n",
    "\n",
    "                    #Ahora mismo hacemos un reclassify entre lo que es agua y lo que no, para poder calcualr después frecuencias\n",
    "                    EVIRECLASS = np.where(EVIREC != 0, 1, 0)\n",
    "\n",
    "                    outfile = os.path.join(escena, os.path.split(escena)[1] + '_binwaterB.img')\n",
    "\n",
    "                    profile = src_evi.meta\n",
    "                    #profile.update(dtype=rasterio.float32)\n",
    "\n",
    "                    with rasterio.open(outfile, 'w', **profile) as dst:\n",
    "                        dst.write(EVIRECLASS.astype(rasterio.float32))\n",
    "\n",
    "                    print(escena, 'realizada')\n",
    "\n",
    "            except Exception as e:\n",
    "                print(escena, e)\n",
    "                continue\n"
   ]
  },
  {
   "cell_type": "markdown",
   "metadata": {
    "collapsed": true
   },
   "source": [
    "## <font color=#DF013A>Tenemos las sumas de los <em>blooms</em> y el número de veces que un pixel está inundado, por tanto ya podemos normalizar el número de <em>blooms</em> por la cantidad de días que el pixel ha estado inundado."
   ]
  },
  {
   "cell_type": "code",
   "execution_count": 3,
   "metadata": {},
   "outputs": [
    {
     "name": "stdout",
     "output_type": "stream",
     "text": [
      "realizado\n"
     ]
    },
    {
     "name": "stderr",
     "output_type": "stream",
     "text": [
      "C:\\Anaconda3\\lib\\site-packages\\ipykernel\\__main__.py:13: RuntimeWarning: invalid value encountered in true_divide\n"
     ]
    }
   ],
   "source": [
    "import os, rasterio, subprocess\n",
    "\n",
    "evi = r'G:\\VDCNS\\protocolo\\pro\\suma_evi1_2007a.TIF'\n",
    "waterbin = r'G:\\VDCNS\\protocolo\\pro\\suma_waterbin_2007a.TIF'\n",
    "\n",
    "try:\n",
    "\n",
    "    with rasterio.open(evi) as src_evi:\n",
    "        EVIREC = src_evi.read()\n",
    "    with rasterio.open(waterbin) as src_msk:\n",
    "        WATER = src_msk.read()\n",
    "\n",
    "    FRECUENCY = (EVIREC / WATER) * 100\n",
    "\n",
    "    outfile = r'G:\\VDCNS\\protocolo\\pro\\evi_1_frecuencyA.img'\n",
    "\n",
    "    profile = src_evi.meta\n",
    "    #profile.update(dtype=rasterio.float32)\n",
    "\n",
    "    with rasterio.open(outfile, 'w', **profile) as dst:\n",
    "        dst.write(FRECUENCY.astype(rasterio.float32))\n",
    "\n",
    "    print('realizado')\n",
    "\n",
    "except Exception as e:\n",
    "    print(e)"
   ]
  },
  {
   "cell_type": "code",
   "execution_count": 29,
   "metadata": {},
   "outputs": [
    {
     "data": {
      "text/plain": [
       "(0.081614971438525974,\n",
       " 306.94211706691448,\n",
       " 0.57684657220056779,\n",
       " 0.0,\n",
       " 0.0012094669245206113)"
      ]
     },
     "execution_count": 29,
     "metadata": {},
     "output_type": "execute_result"
    }
   ],
   "source": [
    "%matplotlib inline\n",
    "\n",
    "import numpy as np\n",
    "import pandas as pd\n",
    "import matplotlib as mpl\n",
    "import matplotlib.pyplot as plt\n",
    "from scipy import stats\n",
    "import seaborn as sns\n",
    "sns.set(color_codes=True)\n",
    "\n",
    "slope, intercept, r_value, p_value, std_err = stats.linregress(EVI,EVIDEPTH)\n",
    "slope, intercept, r_value, p_value, std_err"
   ]
  },
  {
   "cell_type": "code",
   "execution_count": 32,
   "metadata": {},
   "outputs": [
    {
     "data": {
      "image/png": "[encoded data removed]",
      "text/plain": [
       "<matplotlib.figure.Figure at 0x19ebcedc7b8>"
      ]
     },
     "metadata": {},
     "output_type": "display_data"
    }
   ],
   "source": [
    "sns.regplot(EVI, EVIDEPTH);"
   ]
  },
  {
   "cell_type": "code",
   "execution_count": 31,
   "metadata": {},
   "outputs": [
    {
     "name": "stderr",
     "output_type": "stream",
     "text": [
      "C:\\Anaconda3\\lib\\site-packages\\ipykernel\\__main__.py:12: RuntimeWarning: invalid value encountered in greater\n",
      "C:\\Anaconda3\\lib\\site-packages\\ipykernel\\__main__.py:13: RuntimeWarning: invalid value encountered in greater\n"
     ]
    }
   ],
   "source": [
    "evifreAfter = r'G:\\VDCNS\\protocolo\\pro\\evi_1_frecuencyA.img'\n",
    "evifreBefore = r'G:\\VDCNS\\protocolo\\pro\\evi_1_frecuencyB.img'\n",
    "waterdepth = r'G:\\VDCNS\\Curvas_MTN_Historico\\mdt_comp1.tif'\n",
    "\n",
    "with rasterio.open(evifreAfter) as src_evi:\n",
    "    EVIAFTER = src_evi.read()\n",
    "    \n",
    "with rasterio.open(waterdepth) as src_msk:\n",
    "    DEPTH = src_msk.read()\n",
    "   \n",
    "    \n",
    "EVI = EVIAFTER[(EVIAFTER>30) & (DEPTH>0)]\n",
    "EVIDEPTH = DEPTH[(EVIAFTER>30) & (DEPTH>0)]"
   ]
  },
  {
   "cell_type": "code",
   "execution_count": null,
   "metadata": {
    "collapsed": true
   },
   "outputs": [],
   "source": [
    "import os, subprocess\n",
    "\n",
    "evi = r'G:\\VDCNS\\protocolo\\pro\\20161004l8oli202_32\\20161004l8oli202_32evi_.img'\n",
    "outrec = r'G:\\VDCNS\\protocolo\\pro\\20161004l8oli202_32\\20161004l8oli202_32evi_rec.img'\n",
    "\n",
    "cmd = [\"gdalwarp\", \"-of\", \"ENVI\", \"-te\", \"287340\", \"4405140\", \"301860\", \"4418730\", \"-tr\", \"30\", \"30\", \"-tap\",\"-overwrite\"]\n",
    "\n",
    "cmd.append(evi)\n",
    "cmd.append(outrec)\n",
    "proc = subprocess.Popen(cmd,stdout=subprocess.PIPE,stderr=subprocess.PIPE)\n",
    "stdout,stderr=proc.communicate()\n",
    "exit_code=proc.wait()\n",
    "\n",
    "if exit_code: \n",
    "    raise RuntimeError(stderr)\n",
    "else:\n",
    "    print(stdout)\n",
    "    print('EVI generado', escena)import numpy as np\n",
    "import pandas as pd\n",
    "import matplotlib as mpl\n",
    "import matplotlib.pyplot as plt"
   ]
  },
  {
   "cell_type": "code",
   "execution_count": null,
   "metadata": {
    "collapsed": true
   },
   "outputs": [],
   "source": [
    "escena = r'G:\\VDCNS\\protocolo\\pro\\20161004l8oli202_32'\n",
    "\n",
    "\n",
    "for i in os.listdir(escena):\n",
    "        \n",
    "    if i.endswith('evi_rec.img'):\n",
    "        evi = os.path.join(escena, i)\n",
    "       \n",
    "    elif i.endswith('water_reclass_3.img'):\n",
    "        watermask = os.path.join(escena, i)\n",
    "    \n",
    "    \n",
    "    #print(watermask,'\\n', evi)\n",
    "    #Ya tenemos la variables en cada escena, ahora hacemos la reclasificación para que lo que no sea agua valga 0, y \n",
    "    #no alterar la suma metiendo valores altos de pastizales que pudiera haber en las orillas\n",
    "\n",
    "    with rasterio.open(evi) as src_evi:\n",
    "        EVIREC = src_evi.read()\n",
    "    with rasterio.open(watermask) as src_msk:\n",
    "        WATER = src_msk.read()\n",
    "        \n",
    "    EVIREC[WATER != 1] = 0\n",
    "    \n",
    "    outfile = r'G:\\VDCNS\\protocolo\\pro\\20161004l8oli202_32\\evi_reclass.img'\n",
    "    \n",
    "    profile = src_evi.meta\n",
    "    #profile.update(dtype=rasterio.float32)\n",
    "\n",
    "    with rasterio.open(outfile, 'w', **profile) as dst:\n",
    "        dst.write(EVIREC.astype(rasterio.float32))\n",
    "    "
   ]
  },
  {
   "cell_type": "code",
   "execution_count": 3,
   "metadata": {},
   "outputs": [
    {
     "name": "stdout",
     "output_type": "stream",
     "text": [
      "G:\\V\n"
     ]
    },
    {
     "data": {
      "text/plain": [
       "'2016'"
      ]
     },
     "execution_count": 3,
     "metadata": {},
     "output_type": "execute_result"
    }
   ],
   "source": [
    "escena = r'G:\\VDCNS\\protocolo\\pro\\20161004l8oli202_32'\n",
    "#outfile = os.path.join(escena, os.path.split(escena)[1] + '_evi_reclass.img')\n",
    "print(escena[:4])\n",
    "import os\n",
    "\n",
    "os.path.split(escena)[1][:4]"
   ]
  },
  {
   "cell_type": "code",
   "execution_count": null,
   "metadata": {
    "collapsed": true
   },
   "outputs": [],
   "source": []
  }
 ],
 "metadata": {
  "anaconda-cloud": {},
  "kernelspec": {
   "display_name": "Python [conda root]",
   "language": "python",
   "name": "conda-root-py"
  },
  "language_info": {
   "codemirror_mode": {
    "name": "ipython",
    "version": 3
   },
   "file_extension": ".py",
   "mimetype": "text/x-python",
   "name": "python",
   "nbconvert_exporter": "python",
   "pygments_lexer": "ipython3",
   "version": "3.5.3"
  }
 },
 "nbformat": 4,
 "nbformat_minor": 2
}
