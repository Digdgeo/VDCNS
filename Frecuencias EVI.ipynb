{
 "cells": [
  {
   "cell_type": "markdown",
   "metadata": {},
   "source": [
    "# FRECUENCIAS (EVI)"
   ]
  },
  {
   "cell_type": "markdown",
   "metadata": {},
   "source": [
    "### En este notebook se realiza un raster con la frecuencia con la que un pixel de Landsat está por encima de un valor del índice EVI. La idea es ver la distribución espacial de los blooms de algas en el embalse de Valdecañas"
   ]
  },
  {
   "cell_type": "markdown",
   "metadata": {},
   "source": [
    "Lo primero que debemos hacer es recorrer todas las Landsat normalizadas que tenemos de la escena 202/32 y generar el EVI de cada una de ella."
   ]
  },
  {
   "cell_type": "code",
   "execution_count": null,
   "metadata": {},
   "outputs": [],
   "source": [
    "import os\n",
    "\n",
    "path_nor = r'G:\\VDCNS\\protocolo\\nor' \n",
    "\n",
    "escenasl5 = []\n",
    "escenasl7 = []\n",
    "escenasl8 = []\n",
    "\n",
    "EVI = []\n",
    "\n",
    "for e in sorted(os.listdir(path_nor)):\n",
    "    \n",
    "    escena = os.path.join(path_nor, e)\n",
    "    \n",
    "    if 'l5' in escena:\n",
    "        \n",
    "        bandas = []\n",
    "        for i in os.listdir(escena):\n",
    "            if i.endswith('b1.img'):\n",
    "                bandas.append(i)\n",
    "            elif i.endswith('b3.img'):\n",
    "                    bandas.append(i)\n",
    "            elif i.endswith('b4.img'):\n",
    "                        bandas.append(i)\n",
    "            else:\n",
    "                continue\n",
    "                \n",
    "            if len(bandas) == 3:\n",
    "                escenasl5.append(escena)\n",
    "                EVI.append(os.path.join(path_nor, escena))\n",
    "\n",
    "    \n",
    "    if 'l7' in escena:\n",
    "        \n",
    "        bandas = []\n",
    "        for i in os.listdir(escena):\n",
    "            if i.endswith('b1.img'):\n",
    "                bandas.append(i)\n",
    "            elif i.endswith('b3.img'):\n",
    "                    bandas.append(i)\n",
    "            elif i.endswith('b4.img'):\n",
    "                        bandas.append(i)\n",
    "            else:\n",
    "                continue\n",
    "                \n",
    "            if len(bandas) == 3:\n",
    "                escenasl7.append(escena)\n",
    "                EVI.append(os.path.join(path_nor, escena))\n",
    "                \n",
    "    if 'l8' in escena:\n",
    "        \n",
    "        bandas = []\n",
    "        for i in os.listdir(escena):\n",
    "            if i.endswith('b2.img'):\n",
    "                bandas.append(i)\n",
    "            elif i.endswith('b4.img'):\n",
    "                    bandas.append(i)\n",
    "            elif i.endswith('b5.img'):\n",
    "                        bandas.append(i)\n",
    "            else:\n",
    "                continue\n",
    "                \n",
    "            if len(bandas) == 3:\n",
    "                escenasl8.append(escena)\n",
    "                EVI.append(os.path.join(path_nor, escena))\n",
    "\n",
    "                        \n",
    "                        \n",
    "    \n",
    "print('Se pueden analizar un total de', len(escenasl5) + len(escenasl7) + len(escenasl8), 'escenas de Landsat')              \n"
   ]
  },
  {
   "cell_type": "markdown",
   "metadata": {},
   "source": [
    "De los 228 escenas normalizadas, se puede realizar el EVI a 198 de ellas. A las 30 restantes les falta alguna de las 3 bandas necesarias para poder aplicar la fórmula del EVI."
   ]
  },
  {
   "cell_type": "markdown",
   "metadata": {},
   "source": [
    "# <font color=red>Fórmulas del EVI:</font>"
   ]
  },
  {
   "cell_type": "markdown",
   "metadata": {},
   "source": [
    "## <font color=darkblue>Landsat 4-7: EVI = 2.5 * ((b4 - b3)/(b4 + 6 * b3 - 7.5 * b1 + 1)</font>"
   ]
  },
  {
   "cell_type": "markdown",
   "metadata": {},
   "source": [
    "## <font color=darkblue> Landsat 8: EVI = 2.5 * ((b5 - b4)/(b5 + 6 * b4 - 7.5 * b2 + 1)</font>"
   ]
  },
  {
   "cell_type": "markdown",
   "metadata": {},
   "source": [
    "Ahora vamos a recorrer las escenas normalizadas y a generalizar el índice para posteriormente generar el raster con la frecuencia de <em>blooms</em> en cada pixel del embalse"
   ]
  },
  {
   "cell_type": "code",
   "execution_count": null,
   "metadata": {},
   "outputs": [],
   "source": [
    "import rasterio\n",
    "\n",
    "path_pro = r'G:\\VDCNS\\protocolo\\pro'\n",
    "\n",
    "for escena in EVI[-10:]:\n",
    "      \n",
    "       \n",
    "    for banda in os.listdir(escena):\n",
    "        \n",
    "        if 'l8oli' in escena:\n",
    "            #print('Haciendo', escena) \n",
    "            outpath = os.path.join(path_pro, os.path.split(escena)[1])\n",
    "            outfile = os.path.join(outpath, os.path.split(escena)[1] + '_EVI.img')\n",
    "            \n",
    "\n",
    "            if banda.endswith('b2.img'):\n",
    "                b2 = os.path.join(escena, banda)\n",
    "                print(b2)\n",
    "                #with rasterio.open(b2) as srcb2:\n",
    "                    #B2 = srcb2.read()\n",
    "            elif banda.endswith('b4.img'):\n",
    "                b4 = os.path.join(escena, banda)\n",
    "                print(b4)\n",
    "                \n",
    "            elif banda.endswith('b5.img'):\n",
    "                b5 = os.path.join(escena, banda)\n",
    "                print(b5)\n",
    "                #with rasterio.open(b5) as srcb5:\n",
    "                    #B5 = srcb5.read()\n",
    "                    \n",
    "                with rasterio.open(b2) as srcb2:\n",
    "                    BLUE = srcb2.read()\n",
    "                with rasterio.open(b4) as srcb4:\n",
    "                    RED = srcb4.read()\n",
    "                with rasterio.open(b5) as srcb5:\n",
    "                    NIR = srcb5.read()\n",
    "                    \n",
    "                    print(c)\n",
    "                    \n",
    "                    a = NIR.astype(float) - RED.astype(float)\n",
    "                    b = NIR + (6 * RED)\n",
    "                    c = -7.5 * (BLUE + 1)\n",
    "                    d = b -c\n",
    "                    e = a / d\n",
    "                    f = 2.5 * e\n",
    "                    \n",
    "                    #EVIf = 2.5 * ((NIR-RED) / (NIR + 6 * RED - 7.5 * BLUE + 1))\n",
    "                    #NDVI = (NIR.astype(float) - RED.astype(float)) / (NIR+RED)\n",
    "\n",
    "                    profile = srcb5.meta\n",
    "                    profile.update(dtype=rasterio.float32)\n",
    "\n",
    "                    with rasterio.open(outfile, 'w', **profile) as dst:\n",
    "                        dst.write(f.astype(rasterio.float32))\n",
    "\n",
    "                    print('Haciendo', escena)\n",
    "                            \n",
    "        else:\n",
    "            continue\n",
    "            #print(B2.mean() - B4.mean())                 "
   ]
  },
  {
   "cell_type": "code",
   "execution_count": null,
   "metadata": {
    "collapsed": true
   },
   "outputs": [],
   "source": [
    "for i in EVI[:5]:\n",
    "    print(i)"
   ]
  },
  {
   "cell_type": "code",
   "execution_count": null,
   "metadata": {},
   "outputs": [],
   "source": [
    "import os, rasterio\n",
    "\n",
    "outfile = r'G:\\VDCNS\\protocolo\\nor\\20160902l8oli202_32\\ndvi.img'\n",
    "outfilef = r'G:\\VDCNS\\protocolo\\nor\\20160902l8oli202_32\\ndvi_ok.img'\n",
    "\n",
    "b5 = r'G:\\VDCNS\\protocolo\\nor\\20160902l8oli202_32\\20160902l8oli202_32_grn1_b5.img'\n",
    "b4 = r'G:\\VDCNS\\protocolo\\nor\\20160902l8oli202_32\\20160902l8oli202_32_grn1_b4.img'\n",
    "\n",
    "with rasterio.open(b4) as srcb4:\n",
    "    RED = srcb4.read()\n",
    "with rasterio.open(b5) as srcb5:\n",
    "    NIR = srcb5.read()\n",
    "    \n",
    "    \n",
    "ndvi = (NIR.astype(float) - RED.astype(float)) / (NIR+RED)\n",
    "\n",
    "\n",
    "profile = srcb5.meta\n",
    "profile.update(dtype=rasterio.float32)\n",
    "\n",
    "with rasterio.open(outfilef, 'w', **profile) as dst:\n",
    "    dst.write(ndvi.astype(rasterio.float32))\n"
   ]
  },
  {
   "cell_type": "code",
   "execution_count": null,
   "metadata": {
    "collapsed": true
   },
   "outputs": [],
   "source": []
  }
 ],
 "metadata": {
  "anaconda-cloud": {},
  "kernelspec": {
   "display_name": "Python [conda root]",
   "language": "python",
   "name": "conda-root-py"
  },
  "language_info": {
   "codemirror_mode": {
    "name": "ipython",
    "version": 3
   },
   "file_extension": ".py",
   "mimetype": "text/x-python",
   "name": "python",
   "nbconvert_exporter": "python",
   "pygments_lexer": "ipython3",
   "version": "3.5.3"
  }
 },
 "nbformat": 4,
 "nbformat_minor": 2
}
