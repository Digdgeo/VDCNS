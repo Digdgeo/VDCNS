{
 "cells": [
  {
   "cell_type": "markdown",
   "metadata": {},
   "source": [
    "# Reclass Landsat Bands"
   ]
  },
  {
   "cell_type": "code",
   "execution_count": null,
   "metadata": {
    "collapsed": false
   },
   "outputs": [],
   "source": [
    "%%writefile pythoncode.py\n",
    "\n",
    "import os, re, rasterio\n",
    "import numpy as np\n",
    "\n",
    "def reclass_bands(path):\n",
    "    \n",
    "    #definimos la salida\n",
    "    outpath = os.path.join(path, 'extents')\n",
    "    if not os.path.exists(outpath):\n",
    "        os.makedirs(outpath)\n",
    "    \n",
    "    #recorremos la ruta con las escenas\n",
    "    for e in os.listdir(path):\n",
    "        \n",
    "        npath = os.path.join(path, e)\n",
    "            \n",
    "        if os.path.isdir(npath) and re.search('^[0-9]', e):\n",
    "            \n",
    "            #definimos las bandas que queremos usar\n",
    "            if 'l8oli' in e:\n",
    "                \n",
    "                bandas = ['B2.TIF', 'B3.TIF', 'B4.TIF', 'B5.TIF', 'B6.TIF', 'B7.TIF']\n",
    "            \n",
    "            else:\n",
    "                \n",
    "                bandas = ['B1.TIF', 'B2.TIF', 'B3.TIF', 'B4.TIF', 'B5.TIF', 'B7.TIF']\n",
    "            \n",
    "            #recorremos cada banda\n",
    "            for r in os.listdir(npath):\n",
    "                \n",
    "                banda = r[-6:]\n",
    "                \n",
    "                if banda in bandas:\n",
    "                    \n",
    "                    \n",
    "                    raster = os.path.join(npath, r)\n",
    "                    outras = os.path.join(outpath, r)\n",
    "                    \n",
    "                    if not os.path.exists(outras):\n",
    "                    \n",
    "                        #abrimos con rasterio y guardamos el raster reclasificado (byte)\n",
    "                        with rasterio.open(raster) as src:\n",
    "\n",
    "                            BANDA = src.read()\n",
    "                            BANDA[BANDA > 0] = 1\n",
    "\n",
    "                            profile = src.meta\n",
    "                            profile.update(dtype=rasterio.ubyte)\n",
    "\n",
    "                            with rasterio.open(outras, 'w', **profile) as dst:\n",
    "                                dst.write(BANDA.astype(rasterio.ubyte))\n",
    "                                \n",
    "                    "
   ]
  },
  {
   "cell_type": "code",
   "execution_count": null,
   "metadata": {
    "collapsed": false
   },
   "outputs": [],
   "source": [
    "reclass_bands(r'O:\\VDCNS\\Landsat')"
   ]
  },
  {
   "cell_type": "code",
   "execution_count": null,
   "metadata": {
    "collapsed": false
   },
   "outputs": [],
   "source": [
    "\n",
    "raster = r'O:\\VDCNS\\pruebas\\20090915l5tm202_32\\LT52020322009258MPS00_B2.TIF'\n",
    "outras = r'O:\\VDCNS\\pruebas\\extents\\LT52020322009258MPS00_B2.TIF'\n",
    "\n",
    "with rasterio.open(raster) as src:\n",
    "                        \n",
    "    BANDA = src.read()\n",
    "    print(BANDA.shape)\n",
    "    \n",
    "    BANDA[BANDA > 0] = 1\n",
    "    print(BANDA.shape)\n",
    "\n",
    "    profile = src.meta\n",
    "    profile.update(dtype=rasterio.ubyte)\n",
    "\n",
    "\n",
    "    with rasterio.open(outras, 'w', **profile) as dst:\n",
    "        dst.write(BANDA.astype(rasterio.ubyte))"
   ]
  },
  {
   "cell_type": "code",
   "execution_count": null,
   "metadata": {
    "collapsed": true
   },
   "outputs": [],
   "source": [
    "s = 'http://earthexplorer.usgs.gov/browse/tm/202/32/1989/LT42020321989163XXX01_REFL.jpg'"
   ]
  },
  {
   "cell_type": "code",
   "execution_count": null,
   "metadata": {
    "collapsed": false
   },
   "outputs": [],
   "source": [
    "!gdalwarp  -dstnodata 0 -cutline O:\\VDCNS\\Curvas_MTN_Historico\\cota318.shp -crop_to_cutline -crop_to_cutline\\\n",
    "    O:\\VDCNS\\protocolo\\rad\\20160902l8oli202_32\\20160902l8oli202_32_r_b6.img O:\\VDCNS\\Curvas_MTN_Historico\\pr\\b5_.tif"
   ]
  },
  {
   "cell_type": "code",
   "execution_count": null,
   "metadata": {
    "collapsed": false
   },
   "outputs": [],
   "source": [
    "!gdal_polygonize.py O:\\VDCNS\\Curvas_MTN_Historico\\pr\\class.tif -f \"ESRI Shapefile\" O:\\VDCNS\\Curvas_MTN_Historico\\pr\\mylayer.shp"
   ]
  },
  {
   "cell_type": "markdown",
   "metadata": {},
   "source": [
    "# GDAL POLYGONIZE WORKS FROM PYTHON BINDINGS"
   ]
  },
  {
   "cell_type": "code",
   "execution_count": null,
   "metadata": {
    "collapsed": false
   },
   "outputs": [],
   "source": [
    "import os, gdal\n",
    "\n",
    "sourceRaster = gdal.Open(r'O:\\VDCNS\\Curvas_MTN_Historico\\pr\\class2.tif')\n",
    "band = sourceRaster.GetRasterBand(1)\n",
    "bandArray = band.ReadAsArray()\n",
    "outShapefile = r'O:\\VDCNS\\Curvas_MTN_Historico\\pr\\mylayer_class2'\n",
    "driver = ogr.GetDriverByName(\"ESRI Shapefile\")\n",
    "if os.path.exists(outShapefile+\".shp\"):\n",
    "    driver.DeleteDataSource(outShapefile+\".shp\")\n",
    "outDatasource = driver.CreateDataSource(outShapefile+ \".shp\")\n",
    "outLayer = outDatasource.CreateLayer(\"polygonized\", srs=None)\n",
    "gdal.Polygonize( band, None, outLayer, -1, [], callback=None )\n",
    "outDatasource.Destroy()\n",
    "sourceRaster = None"
   ]
  },
  {
   "cell_type": "code",
   "execution_count": null,
   "metadata": {
    "collapsed": false
   },
   "outputs": [],
   "source": [
    "import os, rasterio\n",
    "import numpy as np\n",
    "\n",
    "banda6 = r'O:\\VDCNS\\Curvas_MTN_Historico\\pr\\class.tif'\n",
    "dtm = r'O:\\VDCNS\\Curvas_MTN_Historico\\dtm_ctr_rec.tif'\n",
    "\n",
    "with rasterio.open(banda6) as b6:\n",
    "    B6 = b6.read()\n",
    "with rasterio.open(dtm) as mdt:\n",
    "    MDT = mdt.read()\n",
    "    \n",
    "water = MDT[(B6 == 1) & (MDT != 0)]"
   ]
  },
  {
   "cell_type": "code",
   "execution_count": null,
   "metadata": {
    "collapsed": false
   },
   "outputs": [],
   "source": [
    "water.mean()"
   ]
  },
  {
   "cell_type": "code",
   "execution_count": null,
   "metadata": {
    "collapsed": false
   },
   "outputs": [],
   "source": [
    "%pylab inline\n",
    "\n",
    "import matplotlib.pyplot as plt\n",
    "\n",
    "plt.hist(water, bins = 20); #Con el punto y coma nos ahorramos la parte del texto del histograma"
   ]
  },
  {
   "cell_type": "code",
   "execution_count": null,
   "metadata": {
    "collapsed": false
   },
   "outputs": [],
   "source": [
    "from rasterstats import zonal_stats\n",
    "from scipy import stats\n",
    "\n",
    "def mymode(x):\n",
    "    return(stats.mode(x, axis = None))\n",
    "\n",
    "\n",
    "stats = zonal_stats(r'O:\\VDCNS\\Curvas_MTN_Historico\\pr\\myline2class.shp', r'O:\\VDCNS\\Curvas_MTN_Historico\\dtm_ctr_str.tif', \\\n",
    "                    stats=['count', 'majority', 'median', 'mean', 'max', 'min', 'range'], add_stats={'mymode':mymode})\n",
    "\n",
    "stats"
   ]
  },
  {
   "cell_type": "code",
   "execution_count": null,
   "metadata": {
    "collapsed": false
   },
   "outputs": [],
   "source": [
    "from rasterstats import zonal_stats\n",
    "from scipy import stats\n",
    "\n",
    "def mymode(x):\n",
    "    return(stats.mode(x, axis = None))\n",
    "\n",
    "\n",
    "stats = zonal_stats(r'O:\\VDCNS\\protocolo\\pro\\pr\\waterl7_watermask_line.shp', r'O:\\VDCNS\\Curvas_MTN_Historico\\dtm_ctr_str.tif', \\\n",
    "                    stats=['count', 'majority', 'median', 'mean', 'max', 'min', 'range'], add_stats={'mymode':mymode})\n",
    "\n",
    "stats"
   ]
  },
  {
   "cell_type": "code",
   "execution_count": null,
   "metadata": {
    "collapsed": false
   },
   "outputs": [],
   "source": [
    "np.percentile(water, 95)"
   ]
  },
  {
   "cell_type": "code",
   "execution_count": null,
   "metadata": {
    "collapsed": false
   },
   "outputs": [],
   "source": [
    "import shapefile"
   ]
  },
  {
   "cell_type": "code",
   "execution_count": null,
   "metadata": {
    "collapsed": true
   },
   "outputs": [],
   "source": [
    "# The shapefile type we are converting to\n",
    "newType = shapefile.POLYLINE\n",
    "\n",
    "# This is the shapefile we are trying\n",
    "# to convert. In this case it's a\n",
    "# state boundary polygon file for \n",
    "# Mississippi with one polygon and\n",
    "# one dbf record.\n",
    "r = shapefile.Reader(r'O:\\VDCNS\\Curvas_MTN_Historico\\pr\\mylayer_class2.shp')\n",
    "\n",
    "## POLYLINE version\n",
    "w = shapefile.Writer(newType)\n",
    "w._shapes.extend(r.shapes())\n",
    "# You must explicity set the shapeType of each record.\n",
    "# Eventually the library will set them to the same\n",
    "# as the file shape type automatically.\n",
    "for s in w.shapes():\n",
    "    s.shapeType = newType\n",
    "w.fields = list(r.fields)\n",
    "w.records.extend(r.records())\n",
    "w.save(r'O:\\VDCNS\\Curvas_MTN_Historico\\pr\\myline4.shp')"
   ]
  },
  {
   "cell_type": "markdown",
   "metadata": {
    "collapsed": true
   },
   "source": [
    "$$ P(A \\mid B) = \\frac{P(B \\mid A) \\, P(A)}{P(B)} $$"
   ]
  },
  {
   "cell_type": "markdown",
   "metadata": {},
   "source": [
    "# We can pass a shapely geometry to rasterstats!"
   ]
  },
  {
   "cell_type": "code",
   "execution_count": null,
   "metadata": {
    "collapsed": false
   },
   "outputs": [],
   "source": [
    "import fiona\n",
    "from shapely.geometry import Polygon, LineString \n",
    "shape1 = fiona.open(r'O:\\VDCNS\\Curvas_MTN_Historico\\pr\\CCL.shp')\n",
    "\n",
    "#GETTING THE GEOMETRY (COORDINATES)\n",
    "feature1 = shape1.next()\n",
    "line = feature1['geometry']['coordinates']\n",
    "print(line)\n",
    "\n",
    "#si el len es mayor que 1 tendra poligonos interiores\n",
    "#geom1 = feature1['geometry']['coordinates'][1]\n",
    "#geom2 = feature1['geometry']['coordinates'][0]\n",
    "#print(geom1)\n",
    "#a1 = Polygon(geom1) #poligono interior\n",
    "#a2 = Polygon(geom2) #poligono exterior\n",
    "#a3 = Polygon(geom2, [geom1])\n",
    "b1 = LineString(line)"
   ]
  },
  {
   "cell_type": "code",
   "execution_count": null,
   "metadata": {
    "collapsed": false
   },
   "outputs": [],
   "source": [
    "b1"
   ]
  },
  {
   "cell_type": "code",
   "execution_count": null,
   "metadata": {
    "collapsed": false
   },
   "outputs": [],
   "source": [
    "raster = r'O:\\VDCNS\\protocolo\\nor\\20070724l5tm202_32\\20070724l5tm202_32_grn1_b5.img'\n",
    "shape = r'O:\\VDCNS\\protocolo\\data\\cota_318p.shp'\n",
    "\n",
    "!gdalwarp  -dstnodata 0 -cutline O:\\VDCNS\\protocolo\\data\\cota_318p.shp -crop_to_cutline -tr 30 30 -tap\\\n",
    "    O:\\VDCNS\\protocolo\\nor\\20000914l7etm202_32\\\\20000914l7etm202_32_grn1_b5.img \\\n",
    "        O:\\VDCNS\\protocolo\\pro\\pr\\banda5l7.tif\n"
   ]
  },
  {
   "cell_type": "markdown",
   "metadata": {},
   "source": [
    "# Reclasificamos la mascara de agua"
   ]
  },
  {
   "cell_type": "code",
   "execution_count": null,
   "metadata": {
    "collapsed": false
   },
   "outputs": [],
   "source": [
    "import rasterio\n",
    "import numpy as np\n",
    "\n",
    "r = r'O:\\VDCNS\\protocolo\\pro\\pr\\banda5l7'\n",
    "water = r'O:\\VDCNS\\protocolo\\pro\\pr\\waterl7.tif'\n",
    "\n",
    "with rasterio.open(r) as src:\n",
    "    B5 = src.read()\n",
    "    \n",
    "    B5[(B5 <= 2000) & (B5 > 0)] = 1\n",
    "    B5[B5 > 2000] = 0\n",
    "    profile = src.meta\n",
    "    profile.update(dtype=rasterio.int16)\n",
    "\n",
    "    with rasterio.open(water, 'w', **profile) as dst:\n",
    "        dst.write(B5.astype(rasterio.int16))\n",
    "    \n",
    "    "
   ]
  },
  {
   "cell_type": "markdown",
   "metadata": {},
   "source": [
    "# Rasterizamos la mascara de agua"
   ]
  },
  {
   "cell_type": "code",
   "execution_count": null,
   "metadata": {
    "collapsed": false
   },
   "outputs": [],
   "source": [
    "import os, gdal, ogr\n",
    "\n",
    "sourceRaster = gdal.Open(r'O:\\VDCNS\\protocolo\\pro\\pr\\waterl7.tif')\n",
    "band = sourceRaster.GetRasterBand(1)\n",
    "bandArray = band.ReadAsArray()\n",
    "outShapefile = r'O:\\VDCNS\\protocolo\\pro\\pr\\waterl7'\n",
    "driver = ogr.GetDriverByName(\"ESRI Shapefile\")\n",
    "if os.path.exists(outShapefile+\".shp\"):\n",
    "    driver.DeleteDataSource(outShapefile+\".shp\")\n",
    "outDatasource = driver.CreateDataSource(outShapefile+ \".shp\")\n",
    "outLayer = outDatasource.CreateLayer(\"polygonized\", srs=None)\n",
    "gdal.Polygonize( band, None, outLayer, -1, [], callback=None )\n",
    "outDatasource.Destroy()\n",
    "sourceRaster = None"
   ]
  },
  {
   "cell_type": "code",
   "execution_count": null,
   "metadata": {
    "collapsed": false
   },
   "outputs": [],
   "source": [
    "import fiona\n",
    "\n",
    "fiona.listlayers(r'O:\\consultas\\shapes')"
   ]
  },
  {
   "cell_type": "code",
   "execution_count": null,
   "metadata": {
    "collapsed": true
   },
   "outputs": [],
   "source": [
    "import fiona\n",
    "\n",
    "with fiona.open(r'O:\\VDCNS\\protocolo\\pro\\pr\\water2.shp') as src:\n",
    "    \n",
    "    filtered = filter(lambda f: f['properties']['FID']=='22', src)"
   ]
  },
  {
   "cell_type": "markdown",
   "metadata": {},
   "source": [
    "# seleccionamos el poligono de segunda mayor area y lo guardamos"
   ]
  },
  {
   "cell_type": "code",
   "execution_count": null,
   "metadata": {
    "collapsed": false
   },
   "outputs": [],
   "source": [
    "import shapefile, fiona\n",
    "from shapely.geometry import Polygon\n",
    "\n",
    "shp = r'O:\\VDCNS\\protocolo\\pro\\pr\\waterl7.shp'\n",
    "out = r'O:\\VDCNS\\protocolo\\pro\\pr\\waterl7_watermask.shp'\n",
    "myshp = fiona.open(shp)\n",
    "\n",
    "areas = []\n",
    "selection = []\n",
    "\n",
    "for i in myshp.values():\n",
    "    \n",
    "    geom1 = i['geometry']\n",
    "    a1 = Polygon(geom1['coordinates'][0])\n",
    "    #print('\\nArea', a1.area, '\\n')\n",
    "    areas.append(a1.area)\n",
    "    \n",
    "print(sorted(areas))\n",
    "\n",
    "for i in myshp.values():\n",
    "    \n",
    "    geom1 = i['geometry']\n",
    "    a1 = Polygon(geom1['coordinates'][0])\n",
    "    \n",
    "    if a1.area == sorted(areas)[-2]:\n",
    "        selection.append(i)\n",
    "\n",
    "        \n",
    "with fiona.open(shp, 'r') as source:\n",
    "\n",
    "    # **source.meta is a shortcut to get the crs, driver, and schema\n",
    "    # keyword arguments from the source Collection.\n",
    "    with fiona.open(out, 'w', **source.meta) as sink:\n",
    "\n",
    "\n",
    "        for f in source:\n",
    "            \n",
    "            geom1 = f['geometry']\n",
    "            a1 = Polygon(geom1['coordinates'][0])\n",
    "            if a1.area == sorted(areas)[-2]:\n",
    "                sink.write(f)\n",
    "                            \n"
   ]
  },
  {
   "cell_type": "code",
   "execution_count": null,
   "metadata": {
    "collapsed": false
   },
   "outputs": [],
   "source": [
    "lista_ix[-2]"
   ]
  },
  {
   "cell_type": "markdown",
   "metadata": {},
   "source": [
    "# Calculamos las areas de cada poligono y nos quedamos con la segunda mayor"
   ]
  },
  {
   "cell_type": "code",
   "execution_count": null,
   "metadata": {
    "collapsed": false
   },
   "outputs": [],
   "source": [
    "import fiona\n",
    "from shapely.geometry import Polygon\n",
    "\n",
    "areas = []\n",
    "\n",
    "myshp = fiona.open(r'O:\\VDCNS\\protocolo\\pro\\pr\\CG.shp')\n",
    "#print(myshp.schema)\n",
    "#GETTING THE GEOMETRY (COORDINATES)\n",
    "feature1 = myshp.next()\n",
    "for i in myshp.values():\n",
    "    print(i['properties']['area'])\n",
    "\n",
    "    geom1 = i['geometry']\n",
    "    a1 = Polygon(geom1['coordinates'][0])\n",
    "    print('\\nArea', a1.area, '\\n')\n",
    "    areas.append(a1.area)\n",
    "\n",
    "print('La segunda mayor area es', sorted(areas)[-2])"
   ]
  },
  {
   "cell_type": "code",
   "execution_count": null,
   "metadata": {
    "collapsed": false
   },
   "outputs": [],
   "source": [
    "import shapefile\n",
    "\n",
    "out = r'O:\\VDCNS\\protocolo\\pro\\pr\\waterl7_watermask_line.shp'\n",
    "# Create a reader instance\n",
    "r = shapefile.Reader(r'O:\\VDCNS\\protocolo\\pro\\pr\\waterl7_watermask.shp')\n",
    "# Create a writer instance\n",
    "w = shapefile.Writer(shapeType=shapefile.POLYLINE)\n",
    "# Copy the fields to the writer\n",
    "w.fields = list(r.fields)\n",
    "# Grab the geometry and records from all features \n",
    "# with the correct county name \n",
    "selection = [] \n",
    "for rec in enumerate(r.records()):\n",
    "    selection.append(rec) \n",
    "# Add the geometry and records to the writer\n",
    "for rec in selection:\n",
    "    w._shapes.append(r.shape(rec[0]))\n",
    "    w.records.append(rec[1])\n",
    "# Save the new shapefile\n",
    "w.save(out)"
   ]
  },
  {
   "cell_type": "code",
   "execution_count": null,
   "metadata": {
    "collapsed": true
   },
   "outputs": [],
   "source": [
    "import shapely\n",
    "shapely.geometry.asLineString"
   ]
  },
  {
   "cell_type": "code",
   "execution_count": null,
   "metadata": {
    "collapsed": false
   },
   "outputs": [],
   "source": [
    "import shapefile, fiona\n",
    "from shapely.geometry import Polygon\n",
    "\n",
    "shp = r'O:\\VDCNS\\protocolo\\pro\\pr\\waterl7.shp'\n",
    "out = r'O:\\VDCNS\\protocolo\\pro\\pr\\waterl7_watermask.shp'\n",
    "myshp = fiona.open(shp)\n",
    "\n",
    "areas = []\n",
    "selection = []\n",
    "\n",
    "for i in myshp.values():\n",
    "    \n",
    "    geom1 = i['geometry']\n",
    "    a1 = Polygon(geom1['coordinates'][0])\n",
    "    #print('\\nArea', a1.area, '\\n')\n",
    "    areas.append(a1.area)\n",
    "    \n",
    "#print(sorted(areas))\n",
    "\n",
    "for i in myshp.values():\n",
    "    \n",
    "    geom1 = i['geometry']\n",
    "    a1 = Polygon(geom1['coordinates'][0])\n",
    "    \n",
    "    if a1.area == sorted(areas)[-2]:\n",
    "        a2 = shapely.geometry.asLineString(a1)\n",
    "        print(a2)\n",
    "        #selection.append(i)"
   ]
  },
  {
   "cell_type": "markdown",
   "metadata": {},
   "source": [
    "# Converting from polygon to MultiLineString Shapely!"
   ]
  },
  {
   "cell_type": "code",
   "execution_count": 5,
   "metadata": {
    "collapsed": false
   },
   "outputs": [
    {
     "data": {
      "text/plain": [
       "'schema = {\\n    \\'geometry\\': \\'MultiLineString\\',\\n    \\'properties\\': {\\'id\\': \\'int\\'}}\\n\\n# Write a new Shapefile\\nwith fiona.open(outshp, \\'w\\', \\'ESRI Shapefile\\', schema) as c:\\n    ## If there are multiple geometries, put the \"for\" loop here\\n    c.write({\\n        \\'geometry\\': mapping(line10),\\n        \\'properties\\': {\\'id\\': 123},\\n    })'"
      ]
     },
     "execution_count": 5,
     "metadata": {},
     "output_type": "execute_result"
    }
   ],
   "source": [
    "from shapely.geometry import mapping, Polygon, MultiLineString\n",
    "import fiona\n",
    "\n",
    "shape = r'O:\\VDCNS\\protocolo\\pro\\pr\\waterl7_watermask.shp'\n",
    "outshp = r'O:\\VDCNS\\protocolo\\pro\\pr\\waterl7_shapely_ML_s35.shp'\n",
    "\n",
    "myshp = fiona.open(shape)\n",
    "for i in myshp:\n",
    "    geom1 = i['geometry']\n",
    "    #print(geom1)\n",
    "    #print(geom1)\n",
    "    line = MultiLineString(geom1['coordinates'])\n",
    "    line10 = line.simplify(35)\n",
    "#print(geom1)\n",
    "# Here's an example Shapely geometry\n",
    "#poly = Polygon([(0, 0), (0, 1), (1, 1), (0, 0)])\n",
    "\n",
    "# Define a polygon feature geometry with one attribute\n",
    "schema = {\n",
    "    'geometry': 'MultiLineString',\n",
    "    'properties': {'id': 'int'}}\n",
    "\n",
    "# Write a new Shapefile\n",
    "with fiona.open(outshp, 'w', 'ESRI Shapefile', schema) as c:\n",
    "    ## If there are multiple geometries, put the \"for\" loop here\n",
    "    c.write({\n",
    "        'geometry': mapping(line10),\n",
    "        'properties': {'id': 123},\n",
    "    })"
   ]
  },
  {
   "cell_type": "code",
   "execution_count": 6,
   "metadata": {
    "collapsed": false
   },
   "outputs": [
    {
     "data": {
      "image/svg+xml": [
       "<svg xmlns=\"http://www.w3.org/2000/svg\" xmlns:xlink=\"http://www.w3.org/1999/xlink\" width=\"300\" height=\"300\" viewBox=\"286904.4 4405754.4 13381.199999999953 12181.199999999255\" preserveAspectRatio=\"xMinYMin meet\"><g transform=\"matrix(1,0,0,-1,0,8823690.0)\"><g><polyline fill=\"none\" stroke=\"#66cc99\" stroke-width=\"89.20799999999969\" points=\"297840.0,4417440.0 297870.0,4417440.0 297870.0,4417320.0 297840.0,4417320.0 297780.0,4417320.0 297780.0,4417290.0 297750.0,4417290.0 297750.0,4417260.0 297720.0,4417260.0 297720.0,4417050.0 297690.0,4417050.0 297690.0,4416990.0 297660.0,4416990.0 297660.0,4416960.0 297630.0,4416960.0 297600.0,4416960.0 297600.0,4416840.0 297570.0,4416840.0 297510.0,4416840.0 297510.0,4416810.0 297480.0,4416810.0 297480.0,4416720.0 297510.0,4416720.0 297510.0,4416690.0 297660.0,4416690.0 297660.0,4416720.0 297690.0,4416720.0 297690.0,4416660.0 297660.0,4416660.0 297600.0,4416660.0 297600.0,4416630.0 297570.0,4416630.0 297510.0,4416630.0 297510.0,4416570.0 297480.0,4416570.0 297480.0,4416540.0 297450.0,4416540.0 297450.0,4416480.0 297420.0,4416480.0 297420.0,4416450.0 297390.0,4416450.0 297360.0,4416450.0 297360.0,4416390.0 297390.0,4416390.0 297390.0,4416360.0 297360.0,4416360.0 297330.0,4416360.0 297330.0,4416330.0 297300.0,4416330.0 297300.0,4416270.0 297270.0,4416270.0 297270.0,4416210.0 297240.0,4416210.0 297210.0,4416210.0 297210.0,4416150.0 297180.0,4416150.0 297180.0,4416090.0 297210.0,4416090.0 297210.0,4416060.0 297240.0,4416060.0 297240.0,4416030.0 297270.0,4416030.0 297270.0,4416000.0 297330.0,4416000.0 297330.0,4415970.0 297390.0,4415970.0 297390.0,4415910.0 297360.0,4415910.0 297360.0,4415820.0 297390.0,4415820.0 297390.0,4415790.0 297420.0,4415790.0 297420.0,4415760.0 297450.0,4415760.0 297450.0,4415700.0 297480.0,4415700.0 297480.0,4415640.0 297450.0,4415640.0 297450.0,4415610.0 297420.0,4415610.0 297420.0,4415580.0 297390.0,4415580.0 297390.0,4415550.0 297360.0,4415550.0 297360.0,4415520.0 297390.0,4415520.0 297390.0,4415490.0 297570.0,4415490.0 297570.0,4415520.0 297600.0,4415520.0 297600.0,4415550.0 297630.0,4415550.0 297660.0,4415550.0 297660.0,4415580.0 297690.0,4415580.0 297720.0,4415580.0 297720.0,4415610.0 297750.0,4415610.0 297750.0,4415640.0 297780.0,4415640.0 297780.0,4415760.0 297810.0,4415760.0 297810.0,4415820.0 297840.0,4415820.0 297870.0,4415820.0 297870.0,4415970.0 297900.0,4415970.0 297900.0,4416000.0 297930.0,4416000.0 297960.0,4416000.0 297960.0,4416030.0 298050.0,4416030.0 298080.0,4416030.0 298080.0,4416060.0 298110.0,4416060.0 298110.0,4416240.0 298140.0,4416240.0 298140.0,4416270.0 298170.0,4416270.0 298170.0,4416300.0 298200.0,4416300.0 298200.0,4416330.0 298230.0,4416330.0 298230.0,4416360.0 298260.0,4416360.0 298260.0,4416390.0 298290.0,4416390.0 298290.0,4416420.0 298350.0,4416420.0 298350.0,4416360.0 298320.0,4416360.0 298320.0,4416330.0 298290.0,4416330.0 298290.0,4416210.0 298260.0,4416210.0 298230.0,4416210.0 298230.0,4416150.0 298260.0,4416150.0 298260.0,4416090.0 298290.0,4416090.0 298290.0,4416060.0 298410.0,4416060.0 298410.0,4416090.0 298500.0,4416090.0 298500.0,4416060.0 298470.0,4416060.0 298470.0,4416030.0 298500.0,4416030.0 298500.0,4416000.0 298530.0,4416000.0 298530.0,4415940.0 298590.0,4415940.0 298590.0,4415910.0 298560.0,4415910.0 298500.0,4415910.0 298500.0,4415940.0 298440.0,4415940.0 298440.0,4415970.0 298380.0,4415970.0 298380.0,4415940.0 298350.0,4415940.0 298350.0,4415910.0 298320.0,4415910.0 298260.0,4415910.0 298260.0,4415850.0 298230.0,4415850.0 298230.0,4415820.0 298200.0,4415820.0 298170.0,4415820.0 298170.0,4415790.0 298140.0,4415790.0 298140.0,4415760.0 298170.0,4415760.0 298170.0,4415670.0 298200.0,4415670.0 298200.0,4415580.0 298170.0,4415580.0 298170.0,4415520.0 298140.0,4415520.0 298140.0,4415460.0 298110.0,4415460.0 298110.0,4415430.0 298080.0,4415430.0 298080.0,4415370.0 298050.0,4415370.0 298050.0,4415340.0 298020.0,4415340.0 298020.0,4415280.0 298080.0,4415280.0 298080.0,4415250.0 298110.0,4415250.0 298110.0,4415220.0 298290.0,4415220.0 298290.0,4415250.0 298410.0,4415250.0 298410.0,4415190.0 298380.0,4415190.0 298350.0,4415190.0 298350.0,4415160.0 298320.0,4415160.0 298290.0,4415160.0 298290.0,4415130.0 298260.0,4415130.0 298200.0,4415130.0 298200.0,4415100.0 298170.0,4415100.0 298020.0,4415100.0 298020.0,4415070.0 297990.0,4415070.0 297720.0,4415070.0 297720.0,4415040.0 297690.0,4415040.0 297660.0,4415040.0 297660.0,4414950.0 297810.0,4414950.0 297810.0,4414980.0 298020.0,4414980.0 298020.0,4414950.0 297990.0,4414950.0 297960.0,4414950.0 297960.0,4414920.0 297930.0,4414920.0 297930.0,4414890.0 297900.0,4414890.0 297900.0,4414920.0 297870.0,4414920.0 297870.0,4414890.0 297840.0,4414890.0 297810.0,4414890.0 297810.0,4414860.0 297780.0,4414860.0 297750.0,4414860.0 297750.0,4414800.0 297780.0,4414800.0 297780.0,4414770.0 297750.0,4414770.0 297630.0,4414770.0 297630.0,4414740.0 297600.0,4414740.0 297570.0,4414740.0 297570.0,4414710.0 297540.0,4414710.0 297540.0,4414650.0 297570.0,4414650.0 297570.0,4414620.0 297600.0,4414620.0 297600.0,4414590.0 297570.0,4414590.0 297510.0,4414590.0 297510.0,4414560.0 297480.0,4414560.0 297480.0,4414530.0 297510.0,4414530.0 297510.0,4414500.0 297480.0,4414500.0 297390.0,4414500.0 297390.0,4414470.0 297360.0,4414470.0 297360.0,4414350.0 297390.0,4414350.0 297390.0,4414320.0 297510.0,4414320.0 297510.0,4414290.0 297630.0,4414290.0 297630.0,4414320.0 297690.0,4414320.0 297690.0,4414290.0 297990.0,4414290.0 297990.0,4414230.0 297960.0,4414230.0 297930.0,4414230.0 297930.0,4414200.0 297900.0,4414200.0 297840.0,4414200.0 297840.0,4414170.0 297870.0,4414170.0 297870.0,4414140.0 297840.0,4414140.0 297780.0,4414140.0 297780.0,4414110.0 297750.0,4414110.0 297750.0,4414050.0 297780.0,4414050.0 297780.0,4414020.0 297810.0,4414020.0 297810.0,4413960.0 297780.0,4413960.0 297780.0,4413900.0 297660.0,4413900.0 297660.0,4413990.0 297600.0,4413990.0 297600.0,4413960.0 297570.0,4413960.0 297510.0,4413960.0 297510.0,4413930.0 297420.0,4413930.0 297420.0,4413960.0 297330.0,4413960.0 297330.0,4413930.0 297300.0,4413930.0 297300.0,4413900.0 297270.0,4413900.0 297270.0,4413840.0 297300.0,4413840.0 297300.0,4413810.0 297330.0,4413810.0 297330.0,4413780.0 297300.0,4413780.0 297270.0,4413780.0 297270.0,4413690.0 297240.0,4413690.0 297210.0,4413690.0 297210.0,4413660.0 297180.0,4413660.0 297180.0,4413630.0 297150.0,4413630.0 297150.0,4413540.0 297180.0,4413540.0 297180.0,4413510.0 297210.0,4413510.0 297210.0,4413480.0 297240.0,4413480.0 297240.0,4413450.0 297210.0,4413450.0 297120.0,4413450.0 297120.0,4413420.0 297090.0,4413420.0 297060.0,4413420.0 297060.0,4413270.0 297030.0,4413270.0 297030.0,4413300.0 296970.0,4413300.0 296970.0,4413210.0 296910.0,4413210.0 296910.0,4413240.0 296880.0,4413240.0 296880.0,4413270.0 296850.0,4413270.0 296850.0,4413300.0 296790.0,4413300.0 296790.0,4413270.0 296760.0,4413270.0 296760.0,4413240.0 296730.0,4413240.0 296700.0,4413240.0 296700.0,4413150.0 296730.0,4413150.0 296730.0,4413120.0 296700.0,4413120.0 296610.0,4413120.0 296610.0,4413090.0 296580.0,4413090.0 296550.0,4413090.0 296550.0,4412940.0 296520.0,4412940.0 296520.0,4412910.0 296490.0,4412910.0 296490.0,4412850.0 296460.0,4412850.0 296460.0,4412820.0 296430.0,4412820.0 296430.0,4412760.0 296400.0,4412760.0 296400.0,4412700.0 296370.0,4412700.0 296370.0,4412670.0 296340.0,4412670.0 296250.0,4412670.0 296250.0,4412640.0 296220.0,4412640.0 296220.0,4412610.0 296190.0,4412610.0 296190.0,4412550.0 296160.0,4412550.0 296160.0,4412520.0 296130.0,4412520.0 296130.0,4412490.0 296100.0,4412490.0 296100.0,4412430.0 296070.0,4412430.0 296070.0,4412400.0 296040.0,4412400.0 296040.0,4412370.0 296010.0,4412370.0 296010.0,4412340.0 295980.0,4412340.0 295980.0,4412310.0 295950.0,4412310.0 295920.0,4412310.0 295920.0,4412280.0 295950.0,4412280.0 295950.0,4412250.0 295980.0,4412250.0 295980.0,4412220.0 296010.0,4412220.0 296010.0,4412190.0 296040.0,4412190.0 296040.0,4412160.0 296100.0,4412160.0 296100.0,4412130.0 296160.0,4412130.0 296160.0,4412160.0 296190.0,4412160.0 296190.0,4412190.0 296250.0,4412190.0 296250.0,4412010.0 296280.0,4412010.0 296280.0,4411950.0 296310.0,4411950.0 296310.0,4411920.0 296340.0,4411920.0 296340.0,4411890.0 296370.0,4411890.0 296370.0,4411860.0 296400.0,4411860.0 296400.0,4411830.0 296520.0,4411830.0 296520.0,4411800.0 296550.0,4411800.0 296550.0,4411770.0 296610.0,4411770.0 296610.0,4411740.0 296670.0,4411740.0 296670.0,4411770.0 296700.0,4411770.0 296700.0,4411800.0 296730.0,4411800.0 296760.0,4411800.0 296760.0,4411830.0 296850.0,4411830.0 296880.0,4411830.0 296880.0,4411860.0 296910.0,4411860.0 296910.0,4411890.0 296970.0,4411890.0 297000.0,4411890.0 297000.0,4411920.0 297030.0,4411920.0 297060.0,4411920.0 297060.0,4411950.0 297090.0,4411950.0 297090.0,4411980.0 297150.0,4411980.0 297180.0,4411980.0 297180.0,4412040.0 297210.0,4412040.0 297210.0,4412070.0 297240.0,4412070.0 297240.0,4412100.0 297270.0,4412100.0 297270.0,4412130.0 297300.0,4412130.0 297300.0,4412160.0 297360.0,4412160.0 297390.0,4412160.0 297390.0,4412190.0 297420.0,4412190.0 297420.0,4412220.0 297450.0,4412220.0 297450.0,4412250.0 297480.0,4412250.0 297480.0,4412340.0 297420.0,4412340.0 297420.0,4412370.0 297450.0,4412370.0 297480.0,4412370.0 297480.0,4412400.0 297510.0,4412400.0 297540.0,4412400.0 297540.0,4412430.0 297570.0,4412430.0 297570.0,4412460.0 297600.0,4412460.0 297600.0,4412490.0 297630.0,4412490.0 297630.0,4412580.0 297690.0,4412580.0 297690.0,4412550.0 297750.0,4412550.0 297750.0,4412580.0 297780.0,4412580.0 297780.0,4412670.0 297810.0,4412670.0 297840.0,4412670.0 297840.0,4412730.0 297870.0,4412730.0 297870.0,4412790.0 297900.0,4412790.0 297900.0,4412850.0 297870.0,4412850.0 297870.0,4412940.0 297840.0,4412940.0 297840.0,4412970.0 297810.0,4412970.0 297810.0,4413060.0 297750.0,4413060.0 297750.0,4413090.0 297780.0,4413090.0 297780.0,4413180.0 297750.0,4413180.0 297750.0,4413210.0 297720.0,4413210.0 297720.0,4413240.0 297810.0,4413240.0 297810.0,4413210.0 297840.0,4413210.0 297840.0,4413150.0 297930.0,4413150.0 297930.0,4413120.0 297960.0,4413120.0 297960.0,4413090.0 298080.0,4413090.0 298080.0,4413150.0 298110.0,4413150.0 298110.0,4413180.0 298140.0,4413180.0 298140.0,4413210.0 298110.0,4413210.0 298110.0,4413240.0 298080.0,4413240.0 298080.0,4413300.0 298110.0,4413300.0 298140.0,4413300.0 298140.0,4413330.0 298200.0,4413330.0 298230.0,4413330.0 298230.0,4413360.0 298200.0,4413360.0 298200.0,4413390.0 298170.0,4413390.0 298170.0,4413420.0 298110.0,4413420.0 298110.0,4413450.0 298080.0,4413450.0 298080.0,4413480.0 297990.0,4413480.0 297990.0,4413540.0 298020.0,4413540.0 298020.0,4413570.0 298050.0,4413570.0 298050.0,4413540.0 298080.0,4413540.0 298080.0,4413570.0 298110.0,4413570.0 298140.0,4413570.0 298140.0,4413600.0 298230.0,4413600.0 298230.0,4413570.0 298260.0,4413570.0 298260.0,4413540.0 298290.0,4413540.0 298320.0,4413540.0 298320.0,4413570.0 298290.0,4413570.0 298290.0,4413630.0 298320.0,4413630.0 298320.0,4413690.0 298350.0,4413690.0 298350.0,4413720.0 298410.0,4413720.0 298410.0,4413630.0 298470.0,4413630.0 298470.0,4413660.0 298500.0,4413660.0 298500.0,4413540.0 298530.0,4413540.0 298530.0,4413570.0 298560.0,4413570.0 298590.0,4413570.0 298590.0,4413600.0 298620.0,4413600.0 298620.0,4413420.0 298650.0,4413420.0 298650.0,4413360.0 298680.0,4413360.0 298680.0,4413240.0 298710.0,4413240.0 298710.0,4413210.0 298740.0,4413210.0 298740.0,4413180.0 298860.0,4413180.0 298860.0,4413210.0 298890.0,4413210.0 298890.0,4413240.0 298920.0,4413240.0 298950.0,4413240.0 298950.0,4413270.0 298980.0,4413270.0 298980.0,4413300.0 299010.0,4413300.0 299010.0,4413330.0 298980.0,4413330.0 298980.0,4413360.0 299040.0,4413360.0 299040.0,4413300.0 299340.0,4413300.0 299340.0,4413330.0 299400.0,4413330.0 299430.0,4413330.0 299430.0,4413360.0 299520.0,4413360.0 299520.0,4413330.0 299550.0,4413330.0 299550.0,4413300.0 299580.0,4413300.0 299580.0,4413240.0 299610.0,4413240.0 299610.0,4413210.0 299670.0,4413210.0 299670.0,4413180.0 299700.0,4413180.0 299700.0,4413150.0 299790.0,4413150.0 299790.0,4413120.0 299760.0,4413120.0 299670.0,4413120.0 299670.0,4413150.0 299580.0,4413150.0 299580.0,4413120.0 299550.0,4413120.0 299550.0,4413090.0 299520.0,4413090.0 299520.0,4413060.0 299490.0,4413060.0 299490.0,4413030.0 299430.0,4413030.0 299430.0,4413060.0 299370.0,4413060.0 299370.0,4413090.0 299340.0,4413090.0 299340.0,4413060.0 299310.0,4413060.0 299280.0,4413060.0 299280.0,4413030.0 299250.0,4413030.0 299250.0,4412970.0 299220.0,4412970.0 299220.0,4412940.0 299190.0,4412940.0 299190.0,4412910.0 299160.0,4412910.0 299130.0,4412910.0 299130.0,4412880.0 299100.0,4412880.0 299070.0,4412880.0 299070.0,4412850.0 298830.0,4412850.0 298830.0,4412880.0 298740.0,4412880.0 298740.0,4412850.0 298710.0,4412850.0 298710.0,4412820.0 298680.0,4412820.0 298680.0,4412790.0 298650.0,4412790.0 298650.0,4412730.0 298710.0,4412730.0 298710.0,4412700.0 298740.0,4412700.0 298740.0,4412670.0 298770.0,4412670.0 298770.0,4412580.0 298800.0,4412580.0 298800.0,4412340.0 298770.0,4412340.0 298770.0,4412370.0 298740.0,4412370.0 298740.0,4412400.0 298710.0,4412400.0 298710.0,4412460.0 298680.0,4412460.0 298680.0,4412490.0 298650.0,4412490.0 298650.0,4412520.0 298620.0,4412520.0 298620.0,4412550.0 298590.0,4412550.0 298590.0,4412580.0 298560.0,4412580.0 298560.0,4412610.0 298470.0,4412610.0 298470.0,4412580.0 298500.0,4412580.0 298500.0,4412520.0 298470.0,4412520.0 298380.0,4412520.0 298380.0,4412430.0 298350.0,4412430.0 298350.0,4412460.0 298320.0,4412460.0 298320.0,4412430.0 298290.0,4412430.0 298260.0,4412430.0 298260.0,4412400.0 298230.0,4412400.0 298230.0,4412370.0 298200.0,4412370.0 298200.0,4412310.0 298320.0,4412310.0 298320.0,4412280.0 298350.0,4412280.0 298350.0,4412190.0 298320.0,4412190.0 298200.0,4412190.0 298200.0,4412130.0 298320.0,4412130.0 298320.0,4412100.0 298350.0,4412100.0 298350.0,4412070.0 298320.0,4412070.0 298260.0,4412070.0 298260.0,4412040.0 298230.0,4412040.0 298230.0,4412010.0 298170.0,4412010.0 298170.0,4412040.0 297990.0,4412040.0 297990.0,4412010.0 297960.0,4412010.0 297960.0,4412040.0 297900.0,4412040.0 297900.0,4412010.0 297870.0,4412010.0 297870.0,4411980.0 297840.0,4411980.0 297840.0,4411920.0 297810.0,4411920.0 297810.0,4411890.0 297780.0,4411890.0 297780.0,4411830.0 297750.0,4411830.0 297750.0,4411770.0 297780.0,4411770.0 297780.0,4411740.0 297900.0,4411740.0 297900.0,4411680.0 297930.0,4411680.0 297930.0,4411650.0 297900.0,4411650.0 297900.0,4411620.0 297870.0,4411620.0 297870.0,4411650.0 297750.0,4411650.0 297750.0,4411620.0 297630.0,4411620.0 297630.0,4411650.0 297510.0,4411650.0 297510.0,4411680.0 297450.0,4411680.0 297450.0,4411650.0 297420.0,4411650.0 297390.0,4411650.0 297390.0,4411620.0 297360.0,4411620.0 297330.0,4411620.0 297330.0,4411590.0 297300.0,4411590.0 297240.0,4411590.0 297240.0,4411560.0 297210.0,4411560.0 297180.0,4411560.0 297180.0,4411500.0 297150.0,4411500.0 297060.0,4411500.0 297060.0,4411470.0 297030.0,4411470.0 296940.0,4411470.0 296940.0,4411440.0 296910.0,4411440.0 296910.0,4411380.0 296880.0,4411380.0 296880.0,4411320.0 296910.0,4411320.0 296910.0,4411230.0 296940.0,4411230.0 296940.0,4411170.0 296970.0,4411170.0 296970.0,4411080.0 297000.0,4411080.0 297000.0,4411020.0 297030.0,4411020.0 297030.0,4410930.0 297060.0,4410930.0 297060.0,4410840.0 297090.0,4410840.0 297090.0,4410660.0 297120.0,4410660.0 297120.0,4410630.0 297150.0,4410630.0 297150.0,4410540.0 297180.0,4410540.0 297180.0,4410450.0 297210.0,4410450.0 297210.0,4410390.0 297240.0,4410390.0 297240.0,4410360.0 297360.0,4410360.0 297360.0,4410330.0 297600.0,4410330.0 297600.0,4410360.0 297630.0,4410360.0 297630.0,4410390.0 297660.0,4410390.0 297660.0,4410450.0 297870.0,4410450.0 297870.0,4410420.0 297840.0,4410420.0 297810.0,4410420.0 297810.0,4410390.0 297780.0,4410390.0 297780.0,4410360.0 297750.0,4410360.0 297750.0,4410330.0 297720.0,4410330.0 297720.0,4410210.0 297690.0,4410210.0 297690.0,4410180.0 297660.0,4410180.0 297570.0,4410180.0 297570.0,4410150.0 297540.0,4410150.0 297540.0,4410120.0 297510.0,4410120.0 297510.0,4410090.0 297540.0,4410090.0 297540.0,4410060.0 297450.0,4410060.0 297450.0,4410090.0 297420.0,4410090.0 297420.0,4410120.0 297240.0,4410120.0 297240.0,4410090.0 297210.0,4410090.0 297210.0,4409970.0 297240.0,4409970.0 297240.0,4409910.0 297270.0,4409910.0 297270.0,4409850.0 297300.0,4409850.0 297300.0,4409790.0 297330.0,4409790.0 297330.0,4409760.0 297360.0,4409760.0 297360.0,4409640.0 297330.0,4409640.0 297330.0,4409580.0 297300.0,4409580.0 297300.0,4409490.0 297270.0,4409490.0 297270.0,4409460.0 297240.0,4409460.0 297240.0,4409430.0 297210.0,4409430.0 297210.0,4409340.0 297180.0,4409340.0 297180.0,4409310.0 297150.0,4409310.0 297150.0,4409280.0 297120.0,4409280.0 297120.0,4409250.0 297150.0,4409250.0 297150.0,4409220.0 297240.0,4409220.0 297240.0,4409190.0 297270.0,4409190.0 297270.0,4409160.0 297300.0,4409160.0 297300.0,4409190.0 297360.0,4409190.0 297360.0,4409160.0 297330.0,4409160.0 297330.0,4409130.0 297300.0,4409130.0 297270.0,4409130.0 297270.0,4409100.0 297300.0,4409100.0 297300.0,4408980.0 297360.0,4408980.0 297360.0,4408890.0 297330.0,4408890.0 297330.0,4408860.0 297390.0,4408860.0 297390.0,4408800.0 297450.0,4408800.0 297450.0,4408770.0 297480.0,4408770.0 297480.0,4408800.0 297570.0,4408800.0 297570.0,4408770.0 297540.0,4408770.0 297540.0,4408740.0 297570.0,4408740.0 297570.0,4408710.0 297690.0,4408710.0 297690.0,4408650.0 297660.0,4408650.0 297660.0,4408560.0 297630.0,4408560.0 297630.0,4408590.0 297570.0,4408590.0 297570.0,4408620.0 297510.0,4408620.0 297510.0,4408650.0 297300.0,4408650.0 297300.0,4408710.0 297270.0,4408710.0 297270.0,4408770.0 297240.0,4408770.0 297240.0,4408740.0 297180.0,4408740.0 297180.0,4408770.0 297210.0,4408770.0 297210.0,4408830.0 297180.0,4408830.0 297180.0,4408860.0 297090.0,4408860.0 297090.0,4408830.0 297060.0,4408830.0 296970.0,4408830.0 296970.0,4408770.0 296940.0,4408770.0 296940.0,4408710.0 296910.0,4408710.0 296910.0,4408620.0 296880.0,4408620.0 296880.0,4408590.0 296850.0,4408590.0 296850.0,4408560.0 296820.0,4408560.0 296820.0,4408500.0 296790.0,4408500.0 296790.0,4408440.0 296760.0,4408440.0 296730.0,4408440.0 296730.0,4408350.0 296760.0,4408350.0 296760.0,4408290.0 296730.0,4408290.0 296700.0,4408290.0 296700.0,4408260.0 296670.0,4408260.0 296670.0,4408230.0 296640.0,4408230.0 296640.0,4408200.0 296610.0,4408200.0 296610.0,4408140.0 296580.0,4408140.0 296580.0,4408080.0 296550.0,4408080.0 296550.0,4407990.0 296520.0,4407990.0 296520.0,4407960.0 296490.0,4407960.0 296490.0,4407900.0 296460.0,4407900.0 296460.0,4407870.0 296430.0,4407870.0 296430.0,4407810.0 296400.0,4407810.0 296400.0,4407750.0 296370.0,4407750.0 296370.0,4407600.0 296340.0,4407600.0 296340.0,4407480.0 296310.0,4407480.0 296280.0,4407480.0 296280.0,4407450.0 296250.0,4407450.0 296250.0,4407420.0 296220.0,4407420.0 296220.0,4407330.0 296190.0,4407330.0 296190.0,4407300.0 296160.0,4407300.0 296130.0,4407300.0 296130.0,4407210.0 296100.0,4407210.0 296040.0,4407210.0 296040.0,4407180.0 296010.0,4407180.0 296010.0,4407150.0 295980.0,4407150.0 295950.0,4407150.0 295950.0,4407120.0 295920.0,4407120.0 295920.0,4407090.0 295890.0,4407090.0 295830.0,4407090.0 295830.0,4407030.0 295800.0,4407030.0 295800.0,4407000.0 295770.0,4407000.0 295770.0,4406970.0 295740.0,4406970.0 295740.0,4406940.0 295710.0,4406940.0 295470.0,4406940.0 295470.0,4406880.0 295440.0,4406880.0 295440.0,4406850.0 295410.0,4406850.0 295410.0,4406790.0 295380.0,4406790.0 295380.0,4406760.0 295350.0,4406760.0 295350.0,4406730.0 295320.0,4406730.0 295290.0,4406730.0 295290.0,4406700.0 295260.0,4406700.0 295230.0,4406700.0 295230.0,4406670.0 295200.0,4406670.0 295170.0,4406670.0 295170.0,4406640.0 295140.0,4406640.0 295140.0,4406580.0 295110.0,4406580.0 295080.0,4406580.0 295080.0,4406550.0 295050.0,4406550.0 294990.0,4406550.0 294990.0,4406520.0 294960.0,4406520.0 294780.0,4406520.0 294780.0,4406460.0 294750.0,4406460.0 294750.0,4406430.0 294720.0,4406430.0 294720.0,4406400.0 294690.0,4406400.0 294690.0,4406370.0 294660.0,4406370.0 294660.0,4406310.0 294630.0,4406310.0 294630.0,4406250.0 294600.0,4406250.0 294600.0,4406400.0 294570.0,4406400.0 294570.0,4406520.0 294540.0,4406520.0 294540.0,4406640.0 294570.0,4406640.0 294570.0,4406790.0 294600.0,4406790.0 294600.0,4406820.0 294630.0,4406820.0 294630.0,4406940.0 294660.0,4406940.0 294690.0,4406940.0 294690.0,4407060.0 294720.0,4407060.0 294720.0,4407120.0 294750.0,4407120.0 294750.0,4407180.0 294780.0,4407180.0 294780.0,4407210.0 294810.0,4407210.0 294840.0,4407210.0 294840.0,4407270.0 294870.0,4407270.0 294870.0,4407300.0 294900.0,4407300.0 294930.0,4407300.0 294930.0,4407330.0 294960.0,4407330.0 294960.0,4407360.0 294990.0,4407360.0 294990.0,4407390.0 295020.0,4407390.0 295020.0,4407420.0 295050.0,4407420.0 295080.0,4407420.0 295080.0,4407450.0 295110.0,4407450.0 295110.0,4407480.0 295140.0,4407480.0 295140.0,4407510.0 295170.0,4407510.0 295200.0,4407510.0 295200.0,4407540.0 295260.0,4407540.0 295290.0,4407540.0 295290.0,4407570.0 295350.0,4407570.0 295380.0,4407570.0 295380.0,4407600.0 295410.0,4407600.0 295410.0,4407630.0 295440.0,4407630.0 295470.0,4407630.0 295470.0,4407660.0 295500.0,4407660.0 295500.0,4407690.0 295530.0,4407690.0 295530.0,4407750.0 295560.0,4407750.0 295560.0,4407780.0 295590.0,4407780.0 295590.0,4407810.0 295620.0,4407810.0 295620.0,4407840.0 295650.0,4407840.0 295650.0,4407900.0 295680.0,4407900.0 295680.0,4407990.0 295710.0,4407990.0 295710.0,4408050.0 295740.0,4408050.0 295740.0,4408110.0 295770.0,4408110.0 295770.0,4408170.0 295800.0,4408170.0 295800.0,4408230.0 295830.0,4408230.0 295830.0,4408290.0 295860.0,4408290.0 295860.0,4408350.0 295890.0,4408350.0 295890.0,4408380.0 295920.0,4408380.0 295920.0,4408440.0 295950.0,4408440.0 295950.0,4408680.0 295980.0,4408680.0 295980.0,4408710.0 296010.0,4408710.0 296010.0,4408770.0 295950.0,4408770.0 295950.0,4408830.0 295860.0,4408830.0 295860.0,4408800.0 295830.0,4408800.0 295830.0,4408770.0 295800.0,4408770.0 295770.0,4408770.0 295770.0,4408740.0 295740.0,4408740.0 295710.0,4408740.0 295710.0,4408710.0 295680.0,4408710.0 295680.0,4408770.0 295710.0,4408770.0 295710.0,4408800.0 295740.0,4408800.0 295740.0,4408860.0 295770.0,4408860.0 295770.0,4408890.0 295800.0,4408890.0 295800.0,4408950.0 295830.0,4408950.0 295830.0,4409010.0 295860.0,4409010.0 295860.0,4409070.0 295890.0,4409070.0 295890.0,4409130.0 295920.0,4409130.0 295920.0,4409190.0 295950.0,4409190.0 295950.0,4409250.0 295890.0,4409250.0 295890.0,4409280.0 295770.0,4409280.0 295770.0,4409310.0 295650.0,4409310.0 295650.0,4409250.0 295620.0,4409250.0 295590.0,4409250.0 295590.0,4409220.0 295560.0,4409220.0 295440.0,4409220.0 295440.0,4409190.0 295410.0,4409190.0 295380.0,4409190.0 295380.0,4409160.0 295350.0,4409160.0 295320.0,4409160.0 295320.0,4409130.0 295290.0,4409130.0 295260.0,4409130.0 295260.0,4409100.0 295230.0,4409100.0 295170.0,4409100.0 295170.0,4409070.0 295140.0,4409070.0 294990.0,4409070.0 294990.0,4409040.0 294960.0,4409040.0 294780.0,4409040.0 294780.0,4409010.0 294750.0,4409010.0 294720.0,4409010.0 294720.0,4408980.0 294690.0,4408980.0 294660.0,4408980.0 294660.0,4408950.0 294630.0,4408950.0 294540.0,4408950.0 294540.0,4408920.0 294510.0,4408920.0 294480.0,4408920.0 294480.0,4408890.0 294450.0,4408890.0 294450.0,4408860.0 294420.0,4408860.0 294390.0,4408860.0 294390.0,4408830.0 294360.0,4408830.0 294360.0,4408800.0 294330.0,4408800.0 294300.0,4408800.0 294300.0,4408770.0 294270.0,4408770.0 294210.0,4408770.0 294210.0,4408740.0 294180.0,4408740.0 294150.0,4408740.0 294150.0,4408710.0 294120.0,4408710.0 294120.0,4408680.0 294090.0,4408680.0 294090.0,4408620.0 294060.0,4408620.0 294060.0,4408560.0 294030.0,4408560.0 294030.0,4408530.0 294000.0,4408530.0 294000.0,4408500.0 293970.0,4408500.0 293910.0,4408500.0 293910.0,4408470.0 293880.0,4408470.0 293850.0,4408470.0 293850.0,4408440.0 293820.0,4408440.0 293820.0,4408410.0 293790.0,4408410.0 293790.0,4408380.0 293730.0,4408380.0 293730.0,4408410.0 293670.0,4408410.0 293670.0,4408380.0 293640.0,4408380.0 293610.0,4408380.0 293610.0,4408350.0 293580.0,4408350.0 293370.0,4408350.0 293370.0,4408320.0 293340.0,4408320.0 293310.0,4408320.0 293310.0,4408290.0 293280.0,4408290.0 293280.0,4408260.0 293250.0,4408260.0 293220.0,4408260.0 293220.0,4408230.0 293190.0,4408230.0 293190.0,4408170.0 293160.0,4408170.0 293160.0,4408140.0 293130.0,4408140.0 293130.0,4408110.0 293100.0,4408110.0 293100.0,4407990.0 293070.0,4407990.0 293070.0,4407960.0 293040.0,4407960.0 292860.0,4407960.0 292860.0,4407900.0 292830.0,4407900.0 292830.0,4407870.0 292800.0,4407870.0 292800.0,4407840.0 292770.0,4407840.0 292770.0,4407780.0 292740.0,4407780.0 292680.0,4407780.0 292680.0,4407660.0 292650.0,4407660.0 292650.0,4407630.0 292620.0,4407630.0 292590.0,4407630.0 292590.0,4407600.0 292560.0,4407600.0 292560.0,4407570.0 292530.0,4407570.0 292530.0,4407480.0 292500.0,4407480.0 292470.0,4407480.0 292470.0,4407330.0 292440.0,4407330.0 292440.0,4407360.0 292410.0,4407360.0 292410.0,4407390.0 292380.0,4407390.0 292380.0,4407450.0 292350.0,4407450.0 292350.0,4407540.0 292380.0,4407540.0 292380.0,4407600.0 292410.0,4407600.0 292410.0,4407720.0 292440.0,4407720.0 292440.0,4407750.0 292410.0,4407750.0 292410.0,4407810.0 292440.0,4407810.0 292440.0,4407870.0 292410.0,4407870.0 292410.0,4407900.0 292380.0,4407900.0 292380.0,4407930.0 292350.0,4407930.0 292350.0,4407960.0 292260.0,4407960.0 292260.0,4407990.0 292230.0,4407990.0 292230.0,4407960.0 292200.0,4407960.0 292200.0,4407930.0 292170.0,4407930.0 292170.0,4407900.0 292140.0,4407900.0 292140.0,4407840.0 292110.0,4407840.0 292110.0,4407750.0 292140.0,4407750.0 292140.0,4407720.0 292110.0,4407720.0 292080.0,4407720.0 292080.0,4407690.0 292050.0,4407690.0 292050.0,4407720.0 291990.0,4407720.0 291990.0,4407690.0 291960.0,4407690.0 291930.0,4407690.0 291930.0,4407600.0 291960.0,4407600.0 291960.0,4407540.0 291930.0,4407540.0 291930.0,4407480.0 291900.0,4407480.0 291840.0,4407480.0 291840.0,4407420.0 291900.0,4407420.0 291900.0,4407390.0 292020.0,4407390.0 292020.0,4407360.0 292050.0,4407360.0 292050.0,4407330.0 292020.0,4407330.0 291840.0,4407330.0 291840.0,4407300.0 291810.0,4407300.0 291810.0,4407240.0 291840.0,4407240.0 291840.0,4407180.0 291810.0,4407180.0 291810.0,4407150.0 291780.0,4407150.0 291780.0,4407120.0 291750.0,4407120.0 291750.0,4407090.0 291720.0,4407090.0 291720.0,4407210.0 291690.0,4407210.0 291690.0,4407300.0 291660.0,4407300.0 291660.0,4407360.0 291630.0,4407360.0 291630.0,4407420.0 291600.0,4407420.0 291600.0,4407450.0 291570.0,4407450.0 291570.0,4407480.0 291510.0,4407480.0 291510.0,4407540.0 291540.0,4407540.0 291540.0,4407570.0 291570.0,4407570.0 291570.0,4407600.0 291510.0,4407600.0 291510.0,4407630.0 291330.0,4407630.0 291330.0,4407480.0 291300.0,4407480.0 291300.0,4407450.0 291270.0,4407450.0 291240.0,4407450.0 291240.0,4407420.0 291210.0,4407420.0 291180.0,4407420.0 291180.0,4407390.0 291120.0,4407390.0 291120.0,4407420.0 291090.0,4407420.0 291090.0,4407450.0 291060.0,4407450.0 291060.0,4407480.0 291090.0,4407480.0 291090.0,4407540.0 291060.0,4407540.0 291060.0,4407600.0 291030.0,4407600.0 291030.0,4407660.0 291000.0,4407660.0 291000.0,4407690.0 290970.0,4407690.0 290970.0,4407720.0 290940.0,4407720.0 290940.0,4407750.0 290910.0,4407750.0 290910.0,4407720.0 290880.0,4407720.0 290880.0,4407690.0 290850.0,4407690.0 290850.0,4407660.0 290820.0,4407660.0 290820.0,4407630.0 290790.0,4407630.0 290790.0,4407600.0 290760.0,4407600.0 290760.0,4407510.0 290730.0,4407510.0 290730.0,4407450.0 290700.0,4407450.0 290700.0,4407390.0 290670.0,4407390.0 290670.0,4407360.0 290640.0,4407360.0 290640.0,4407270.0 290700.0,4407270.0 290700.0,4407240.0 290730.0,4407240.0 290730.0,4407210.0 290700.0,4407210.0 290670.0,4407210.0 290670.0,4407240.0 290580.0,4407240.0 290580.0,4407210.0 290550.0,4407210.0 290550.0,4407120.0 290520.0,4407120.0 290520.0,4407060.0 290550.0,4407060.0 290550.0,4407030.0 290520.0,4407030.0 290520.0,4406940.0 290490.0,4406940.0 290490.0,4406910.0 290460.0,4406910.0 290460.0,4406730.0 290430.0,4406730.0 290430.0,4406640.0 290400.0,4406640.0 290400.0,4406580.0 290370.0,4406580.0 290370.0,4406490.0 290340.0,4406490.0 290340.0,4406430.0 290310.0,4406430.0 290310.0,4406370.0 290280.0,4406370.0 290280.0,4406400.0 290250.0,4406400.0 290250.0,4406520.0 290220.0,4406520.0 290220.0,4406580.0 290190.0,4406580.0 290190.0,4406610.0 290100.0,4406610.0 290100.0,4406640.0 289950.0,4406640.0 289950.0,4406610.0 289920.0,4406610.0 289890.0,4406610.0 289890.0,4406580.0 289830.0,4406580.0 289830.0,4406640.0 289860.0,4406640.0 289860.0,4406670.0 289890.0,4406670.0 289890.0,4406700.0 289920.0,4406700.0 289920.0,4406730.0 289950.0,4406730.0 289950.0,4406790.0 289980.0,4406790.0 289980.0,4406820.0 290010.0,4406820.0 290010.0,4406850.0 290040.0,4406850.0 290040.0,4406940.0 290010.0,4406940.0 290010.0,4407000.0 290040.0,4407000.0 290040.0,4407060.0 289950.0,4407060.0 289950.0,4407090.0 289890.0,4407090.0 289890.0,4407150.0 289920.0,4407150.0 289920.0,4407240.0 289830.0,4407240.0 289830.0,4407270.0 289860.0,4407270.0 289860.0,4407300.0 289890.0,4407300.0 289890.0,4407390.0 289860.0,4407390.0 289860.0,4407450.0 289830.0,4407450.0 289830.0,4407480.0 289800.0,4407480.0 289800.0,4407540.0 289740.0,4407540.0 289740.0,4407570.0 289680.0,4407570.0 289680.0,4407600.0 289620.0,4407600.0 289620.0,4407630.0 289590.0,4407630.0 289590.0,4407690.0 289560.0,4407690.0 289560.0,4407750.0 289470.0,4407750.0 289470.0,4407780.0 289440.0,4407780.0 289440.0,4407810.0 289380.0,4407810.0 289380.0,4407840.0 289200.0,4407840.0 289200.0,4407810.0 289170.0,4407810.0 289140.0,4407810.0 289140.0,4407780.0 289110.0,4407780.0 289110.0,4407750.0 289080.0,4407750.0 289080.0,4407720.0 289050.0,4407720.0 289050.0,4407630.0 289020.0,4407630.0 289020.0,4407600.0 288960.0,4407600.0 288960.0,4407660.0 288990.0,4407660.0 288990.0,4407750.0 289020.0,4407750.0 289020.0,4407780.0 289050.0,4407780.0 289050.0,4407810.0 289080.0,4407810.0 289080.0,4407870.0 289110.0,4407870.0 289110.0,4407930.0 289080.0,4407930.0 289080.0,4407960.0 289050.0,4407960.0 289050.0,4407990.0 289080.0,4407990.0 289110.0,4407990.0 289110.0,4408020.0 289170.0,4408020.0 289200.0,4408020.0 289200.0,4408050.0 289230.0,4408050.0 289230.0,4408200.0 289260.0,4408200.0 289260.0,4408350.0 289230.0,4408350.0 289230.0,4408440.0 289200.0,4408440.0 289200.0,4408470.0 289170.0,4408470.0 289170.0,4408590.0 289140.0,4408590.0 289140.0,4408620.0 289110.0,4408620.0 289110.0,4408650.0 289080.0,4408650.0 289080.0,4408680.0 289020.0,4408680.0 289020.0,4408710.0 288990.0,4408710.0 288990.0,4408740.0 288960.0,4408740.0 288960.0,4408770.0 288930.0,4408770.0 288930.0,4408800.0 288900.0,4408800.0 288900.0,4408740.0 288870.0,4408740.0 288870.0,4408710.0 288840.0,4408710.0 288840.0,4408650.0 288780.0,4408650.0 288780.0,4408740.0 288750.0,4408740.0 288750.0,4408800.0 288690.0,4408800.0 288690.0,4408830.0 288660.0,4408830.0 288660.0,4408860.0 288600.0,4408860.0 288600.0,4408800.0 288630.0,4408800.0 288630.0,4408770.0 288660.0,4408770.0 288660.0,4408740.0 288630.0,4408740.0 288630.0,4408650.0 288600.0,4408650.0 288600.0,4408590.0 288570.0,4408590.0 288570.0,4408560.0 288540.0,4408560.0 288540.0,4408740.0 288480.0,4408740.0 288480.0,4408710.0 288420.0,4408710.0 288420.0,4408800.0 288390.0,4408800.0 288390.0,4408860.0 288360.0,4408860.0 288360.0,4408890.0 288180.0,4408890.0 288180.0,4408980.0 288150.0,4408980.0 288150.0,4409010.0 288120.0,4409010.0 288120.0,4409070.0 288090.0,4409070.0 288090.0,4409100.0 288060.0,4409100.0 288060.0,4409130.0 288030.0,4409130.0 288030.0,4409160.0 288000.0,4409160.0 288000.0,4409190.0 287970.0,4409190.0 287970.0,4409220.0 287940.0,4409220.0 287940.0,4409250.0 287910.0,4409250.0 287910.0,4409280.0 287850.0,4409280.0 287850.0,4409310.0 287820.0,4409310.0 287820.0,4409280.0 287790.0,4409280.0 287790.0,4409250.0 287820.0,4409250.0 287820.0,4409190.0 287850.0,4409190.0 287850.0,4409160.0 287910.0,4409160.0 287910.0,4409040.0 287940.0,4409040.0 287940.0,4408950.0 287910.0,4408950.0 287910.0,4408890.0 287880.0,4408890.0 287880.0,4408980.0 287850.0,4408980.0 287850.0,4409040.0 287820.0,4409040.0 287820.0,4409070.0 287730.0,4409070.0 287730.0,4409100.0 287700.0,4409100.0 287700.0,4409070.0 287670.0,4409070.0 287670.0,4409100.0 287640.0,4409100.0 287640.0,4409070.0 287610.0,4409070.0 287580.0,4409070.0 287580.0,4409040.0 287550.0,4409040.0 287550.0,4409010.0 287520.0,4409010.0 287520.0,4408980.0 287490.0,4408980.0 287490.0,4409040.0 287520.0,4409040.0 287520.0,4409130.0 287550.0,4409130.0 287550.0,4409190.0 287580.0,4409190.0 287580.0,4409250.0 287610.0,4409250.0 287610.0,4409340.0 287430.0,4409340.0 287430.0,4409460.0 287400.0,4409460.0 287400.0,4409610.0 287430.0,4409610.0 287430.0,4409640.0 287460.0,4409640.0 287460.0,4409670.0 287490.0,4409670.0 287490.0,4409700.0 287550.0,4409700.0 287580.0,4409700.0 287580.0,4409730.0 287610.0,4409730.0 287610.0,4409760.0 287700.0,4409760.0 287700.0,4409730.0 287850.0,4409730.0 287850.0,4409700.0 287880.0,4409700.0 287880.0,4409670.0 287910.0,4409670.0 287940.0,4409670.0 287940.0,4409700.0 287910.0,4409700.0 287910.0,4409850.0 287940.0,4409850.0 287940.0,4409910.0 287910.0,4409910.0 287910.0,4409940.0 287880.0,4409940.0 287880.0,4410060.0 287910.0,4410060.0 287910.0,4410090.0 287940.0,4410090.0 287940.0,4410030.0 287970.0,4410030.0 287970.0,4410000.0 288000.0,4410000.0 288000.0,4409970.0 288030.0,4409970.0 288030.0,4409820.0 288060.0,4409820.0 288060.0,4409790.0 288120.0,4409790.0 288120.0,4409820.0 288150.0,4409820.0 288180.0,4409820.0 288180.0,4409880.0 288210.0,4409880.0 288210.0,4409970.0 288240.0,4409970.0 288270.0,4409970.0 288270.0,4410000.0 288360.0,4410000.0 288390.0,4410000.0 288390.0,4410030.0 288420.0,4410030.0 288450.0,4410030.0 288450.0,4410060.0 288480.0,4410060.0 288480.0,4410270.0 288450.0,4410270.0 288450.0,4410360.0 288420.0,4410360.0 288420.0,4410420.0 288390.0,4410420.0 288390.0,4410630.0 288420.0,4410630.0 288420.0,4410690.0 288390.0,4410690.0 288390.0,4410810.0 288420.0,4410810.0 288420.0,4410780.0 288450.0,4410780.0 288450.0,4410630.0 288480.0,4410630.0 288480.0,4410600.0 288510.0,4410600.0 288510.0,4410540.0 288540.0,4410540.0 288540.0,4410510.0 288570.0,4410510.0 288570.0,4410480.0 288690.0,4410480.0 288690.0,4410540.0 288720.0,4410540.0 288720.0,4410360.0 288750.0,4410360.0 288750.0,4410300.0 288780.0,4410300.0 288780.0,4410270.0 288810.0,4410270.0 288810.0,4410240.0 288840.0,4410240.0 288840.0,4410270.0 288900.0,4410270.0 288930.0,4410270.0 288930.0,4410300.0 288960.0,4410300.0 288990.0,4410300.0 288990.0,4410330.0 289020.0,4410330.0 289020.0,4410360.0 289050.0,4410360.0 289050.0,4410390.0 289080.0,4410390.0 289080.0,4410570.0 289110.0,4410570.0 289110.0,4410540.0 289140.0,4410540.0 289140.0,4410480.0 289170.0,4410480.0 289170.0,4410450.0 289200.0,4410450.0 289200.0,4410420.0 289290.0,4410420.0 289290.0,4410450.0 289320.0,4410450.0 289320.0,4410480.0 289350.0,4410480.0 289380.0,4410480.0 289380.0,4410510.0 289410.0,4410510.0 289410.0,4410570.0 289440.0,4410570.0 289440.0,4410660.0 289470.0,4410660.0 289500.0,4410660.0 289500.0,4410810.0 289470.0,4410810.0 289470.0,4410840.0 289500.0,4410840.0 289500.0,4410870.0 289530.0,4410870.0 289530.0,4410810.0 289590.0,4410810.0 289590.0,4410870.0 289620.0,4410870.0 289620.0,4410900.0 289590.0,4410900.0 289590.0,4410960.0 289560.0,4410960.0 289560.0,4410990.0 289530.0,4410990.0 289530.0,4411020.0 289500.0,4411020.0 289500.0,4411050.0 289470.0,4411050.0 289470.0,4411080.0 289440.0,4411080.0 289440.0,4411110.0 289380.0,4411110.0 289380.0,4411140.0 289260.0,4411140.0 289260.0,4411200.0 289350.0,4411200.0 289380.0,4411200.0 289380.0,4411290.0 289440.0,4411290.0 289440.0,4411260.0 289470.0,4411260.0 289470.0,4411200.0 289500.0,4411200.0 289500.0,4411170.0 289530.0,4411170.0 289530.0,4411140.0 289590.0,4411140.0 289590.0,4411080.0 289650.0,4411080.0 289650.0,4411140.0 289620.0,4411140.0 289620.0,4411200.0 289590.0,4411200.0 289590.0,4411260.0 289620.0,4411260.0 289620.0,4411440.0 289650.0,4411440.0 289650.0,4411470.0 289680.0,4411470.0 289680.0,4411500.0 289710.0,4411500.0 289710.0,4412160.0 289740.0,4412160.0 289740.0,4412190.0 289770.0,4412190.0 289770.0,4412100.0 289740.0,4412100.0 289740.0,4412040.0 289770.0,4412040.0 289770.0,4411920.0 289800.0,4411920.0 289800.0,4411830.0 289830.0,4411830.0 289830.0,4411710.0 289800.0,4411710.0 289800.0,4411650.0 289830.0,4411650.0 289830.0,4411620.0 289920.0,4411620.0 289920.0,4411590.0 289890.0,4411590.0 289860.0,4411590.0 289860.0,4411560.0 289830.0,4411560.0 289830.0,4411380.0 289890.0,4411380.0 289890.0,4411350.0 289860.0,4411350.0 289860.0,4411200.0 289830.0,4411200.0 289830.0,4410990.0 289860.0,4410990.0 289860.0,4410810.0 289890.0,4410810.0 289890.0,4410750.0 289860.0,4410750.0 289860.0,4410660.0 289920.0,4410660.0 289920.0,4410630.0 290070.0,4410630.0 290070.0,4410660.0 290100.0,4410660.0 290100.0,4410690.0 290130.0,4410690.0 290130.0,4410720.0 290160.0,4410720.0 290190.0,4410720.0 290190.0,4410750.0 290220.0,4410750.0 290220.0,4410810.0 290250.0,4410810.0 290250.0,4410870.0 290280.0,4410870.0 290280.0,4410900.0 290310.0,4410900.0 290310.0,4410930.0 290340.0,4410930.0 290370.0,4410930.0 290370.0,4410960.0 290430.0,4410960.0 290430.0,4410900.0 290400.0,4410900.0 290400.0,4410840.0 290370.0,4410840.0 290370.0,4410750.0 290400.0,4410750.0 290400.0,4410720.0 290370.0,4410720.0 290370.0,4410690.0 290340.0,4410690.0 290340.0,4410600.0 290310.0,4410600.0 290280.0,4410600.0 290280.0,4410570.0 290250.0,4410570.0 290250.0,4410540.0 290220.0,4410540.0 290220.0,4410480.0 290280.0,4410480.0 290280.0,4410450.0 290310.0,4410450.0 290310.0,4410480.0 290370.0,4410480.0 290400.0,4410480.0 290400.0,4410510.0 290430.0,4410510.0 290460.0,4410510.0 290460.0,4410540.0 290490.0,4410540.0 290490.0,4410570.0 290520.0,4410570.0 290520.0,4410600.0 290550.0,4410600.0 290580.0,4410600.0 290580.0,4410630.0 290640.0,4410630.0 290640.0,4410600.0 290670.0,4410600.0 290670.0,4410630.0 290700.0,4410630.0 290730.0,4410630.0 290730.0,4410660.0 290790.0,4410660.0 290820.0,4410660.0 290820.0,4410690.0 290850.0,4410690.0 290850.0,4410720.0 291090.0,4410720.0 291090.0,4410690.0 291240.0,4410690.0 291240.0,4410720.0 291270.0,4410720.0 291270.0,4410660.0 291240.0,4410660.0 291210.0,4410660.0 291210.0,4410630.0 291180.0,4410630.0 290970.0,4410630.0 290970.0,4410600.0 290940.0,4410600.0 290910.0,4410600.0 290910.0,4410570.0 290880.0,4410570.0 290880.0,4410540.0 290850.0,4410540.0 290820.0,4410540.0 290820.0,4410510.0 290790.0,4410510.0 290730.0,4410510.0 290730.0,4410480.0 290700.0,4410480.0 290670.0,4410480.0 290670.0,4410450.0 290640.0,4410450.0 290640.0,4410420.0 290610.0,4410420.0 290580.0,4410420.0 290580.0,4410390.0 290550.0,4410390.0 290520.0,4410390.0 290520.0,4410360.0 290490.0,4410360.0 290490.0,4410330.0 290460.0,4410330.0 290460.0,4410240.0 290490.0,4410240.0 290490.0,4410210.0 290550.0,4410210.0 290550.0,4410180.0 290760.0,4410180.0 290760.0,4410210.0 290790.0,4410210.0 290820.0,4410210.0 290820.0,4410240.0 290850.0,4410240.0 290850.0,4410180.0 290880.0,4410180.0 290880.0,4410150.0 291150.0,4410150.0 291150.0,4410180.0 291180.0,4410180.0 291210.0,4410180.0 291210.0,4410210.0 291240.0,4410210.0 291240.0,4410240.0 291210.0,4410240.0 291210.0,4410300.0 291180.0,4410300.0 291180.0,4410330.0 291150.0,4410330.0 291150.0,4410360.0 291180.0,4410360.0 291180.0,4410390.0 291210.0,4410390.0 291210.0,4410360.0 291240.0,4410360.0 291240.0,4410330.0 291270.0,4410330.0 291270.0,4410300.0 291300.0,4410300.0 291300.0,4410360.0 291330.0,4410360.0 291330.0,4410390.0 291360.0,4410390.0 291360.0,4410420.0 291390.0,4410420.0 291420.0,4410420.0 291420.0,4410450.0 291450.0,4410450.0 291480.0,4410450.0 291480.0,4410480.0 291510.0,4410480.0 291510.0,4410510.0 291540.0,4410510.0 291540.0,4410540.0 291570.0,4410540.0 291600.0,4410540.0 291600.0,4410570.0 291660.0,4410570.0 291690.0,4410570.0 291690.0,4410600.0 291720.0,4410600.0 291750.0,4410600.0 291750.0,4410630.0 291780.0,4410630.0 291780.0,4410780.0 291810.0,4410780.0 291810.0,4410930.0 291840.0,4410930.0 291840.0,4410990.0 291870.0,4410990.0 291870.0,4411020.0 291900.0,4411020.0 291900.0,4411050.0 291930.0,4411050.0 291930.0,4411080.0 291960.0,4411080.0 291960.0,4411110.0 291990.0,4411110.0 291990.0,4411170.0 292080.0,4411170.0 292110.0,4411170.0 292110.0,4411200.0 292140.0,4411200.0 292140.0,4411230.0 292170.0,4411230.0 292170.0,4411290.0 292200.0,4411290.0 292200.0,4411350.0 292230.0,4411350.0 292230.0,4411380.0 292260.0,4411380.0 292290.0,4411380.0 292290.0,4411410.0 292350.0,4411410.0 292380.0,4411410.0 292380.0,4411440.0 292410.0,4411440.0 292410.0,4411470.0 292470.0,4411470.0 292500.0,4411470.0 292500.0,4411500.0 292530.0,4411500.0 292560.0,4411500.0 292560.0,4411530.0 292650.0,4411530.0 292650.0,4411500.0 292710.0,4411500.0 292710.0,4411470.0 292980.0,4411470.0 292980.0,4411440.0 293070.0,4411440.0 293070.0,4411410.0 293220.0,4411410.0 293220.0,4411380.0 293370.0,4411380.0 293370.0,4411410.0 293400.0,4411410.0 293430.0,4411410.0 293430.0,4411440.0 293460.0,4411440.0 293490.0,4411440.0 293490.0,4411650.0 293520.0,4411650.0 293520.0,4411710.0 293550.0,4411710.0 293550.0,4411770.0 293580.0,4411770.0 293580.0,4411920.0 293550.0,4411920.0 293550.0,4412010.0 293520.0,4412010.0 293520.0,4412100.0 293490.0,4412100.0 293490.0,4412160.0 293460.0,4412160.0 293460.0,4412190.0 293520.0,4412190.0 293520.0,4412160.0 293550.0,4412160.0 293550.0,4412130.0 293580.0,4412130.0 293580.0,4412100.0 293610.0,4412100.0 293610.0,4412070.0 293640.0,4412070.0 293640.0,4412040.0 293670.0,4412040.0 293670.0,4411980.0 293700.0,4411980.0 293700.0,4411950.0 293730.0,4411950.0 293730.0,4411920.0 293760.0,4411920.0 293760.0,4411890.0 293820.0,4411890.0 293820.0,4411920.0 293850.0,4411920.0 293850.0,4411950.0 293880.0,4411950.0 293880.0,4411980.0 293910.0,4411980.0 293910.0,4412010.0 293940.0,4412010.0 293940.0,4412040.0 293970.0,4412040.0 293970.0,4412070.0 294000.0,4412070.0 294000.0,4412100.0 294030.0,4412100.0 294030.0,4412130.0 294060.0,4412130.0 294060.0,4412160.0 294090.0,4412160.0 294090.0,4412190.0 294120.0,4412190.0 294150.0,4412190.0 294150.0,4412220.0 294270.0,4412220.0 294300.0,4412220.0 294300.0,4412280.0 294270.0,4412280.0 294270.0,4412310.0 294300.0,4412310.0 294300.0,4412430.0 294330.0,4412430.0 294330.0,4412640.0 294360.0,4412640.0 294360.0,4412610.0 294420.0,4412610.0 294420.0,4412580.0 294630.0,4412580.0 294630.0,4412550.0 294600.0,4412550.0 294600.0,4412520.0 294570.0,4412520.0 294510.0,4412520.0 294510.0,4412490.0 294480.0,4412490.0 294480.0,4412460.0 294450.0,4412460.0 294450.0,4412430.0 294420.0,4412430.0 294420.0,4412310.0 294450.0,4412310.0 294450.0,4412160.0 294480.0,4412160.0 294480.0,4412100.0 294570.0,4412100.0 294570.0,4412130.0 294600.0,4412130.0 294600.0,4412160.0 294630.0,4412160.0 294630.0,4412220.0 294660.0,4412220.0 294690.0,4412220.0 294690.0,4412250.0 294720.0,4412250.0 294720.0,4412310.0 294750.0,4412310.0 294750.0,4412340.0 294780.0,4412340.0 294780.0,4412370.0 294810.0,4412370.0 294840.0,4412370.0 294840.0,4412400.0 294870.0,4412400.0 294870.0,4412430.0 294900.0,4412430.0 294900.0,4412460.0 294930.0,4412460.0 294930.0,4412490.0 294960.0,4412490.0 294990.0,4412490.0 294990.0,4412520.0 295020.0,4412520.0 295050.0,4412520.0 295050.0,4412550.0 295140.0,4412550.0 295170.0,4412550.0 295170.0,4412580.0 295440.0,4412580.0 295470.0,4412580.0 295470.0,4412610.0 295530.0,4412610.0 295560.0,4412610.0 295560.0,4412640.0 295590.0,4412640.0 295620.0,4412640.0 295620.0,4412670.0 295650.0,4412670.0 295650.0,4412700.0 295710.0,4412700.0 295740.0,4412700.0 295740.0,4412760.0 295830.0,4412760.0 295830.0,4412730.0 295860.0,4412730.0 295860.0,4412850.0 295830.0,4412850.0 295830.0,4412880.0 295860.0,4412880.0 295860.0,4412910.0 295890.0,4412910.0 295890.0,4412940.0 296010.0,4412940.0 296040.0,4412940.0 296040.0,4413000.0 296010.0,4413000.0 296010.0,4413030.0 295980.0,4413030.0 295980.0,4413060.0 295950.0,4413060.0 295950.0,4413090.0 295920.0,4413090.0 295920.0,4413120.0 296070.0,4413120.0 296100.0,4413120.0 296100.0,4413150.0 296130.0,4413150.0 296160.0,4413150.0 296160.0,4413210.0 296190.0,4413210.0 296190.0,4413240.0 296220.0,4413240.0 296220.0,4413300.0 296280.0,4413300.0 296310.0,4413300.0 296310.0,4413390.0 296280.0,4413390.0 296280.0,4413420.0 296310.0,4413420.0 296310.0,4413510.0 296340.0,4413510.0 296340.0,4413540.0 296370.0,4413540.0 296370.0,4413570.0 296340.0,4413570.0 296340.0,4413750.0 296310.0,4413750.0 296310.0,4413720.0 296250.0,4413720.0 296250.0,4413840.0 296130.0,4413840.0 296130.0,4413930.0 296160.0,4413930.0 296160.0,4413960.0 296190.0,4413960.0 296220.0,4413960.0 296220.0,4414110.0 296280.0,4414110.0 296310.0,4414110.0 296310.0,4414140.0 296340.0,4414140.0 296340.0,4414170.0 296370.0,4414170.0 296400.0,4414170.0 296400.0,4414230.0 296430.0,4414230.0 296430.0,4414260.0 296460.0,4414260.0 296460.0,4414320.0 296490.0,4414320.0 296490.0,4414380.0 296460.0,4414380.0 296460.0,4414350.0 296430.0,4414350.0 296430.0,4414320.0 296400.0,4414320.0 296400.0,4414350.0 296370.0,4414350.0 296370.0,4414380.0 296340.0,4414380.0 296340.0,4414410.0 296220.0,4414410.0 296220.0,4414470.0 296130.0,4414470.0 296130.0,4414440.0 296070.0,4414440.0 296070.0,4414470.0 296040.0,4414470.0 296040.0,4414440.0 296010.0,4414440.0 296010.0,4414410.0 296040.0,4414410.0 296040.0,4414350.0 296100.0,4414350.0 296100.0,4414320.0 296130.0,4414320.0 296130.0,4414260.0 296100.0,4414260.0 296100.0,4414230.0 296070.0,4414230.0 296070.0,4414200.0 296040.0,4414200.0 296040.0,4414290.0 295950.0,4414290.0 295950.0,4414320.0 295890.0,4414320.0 295890.0,4414350.0 295830.0,4414350.0 295830.0,4414380.0 295800.0,4414380.0 295800.0,4414440.0 295830.0,4414440.0 295830.0,4414470.0 295800.0,4414470.0 295800.0,4414530.0 295680.0,4414530.0 295680.0,4414500.0 295560.0,4414500.0 295560.0,4414530.0 295590.0,4414530.0 295590.0,4414590.0 295560.0,4414590.0 295560.0,4414620.0 295530.0,4414620.0 295530.0,4414530.0 295500.0,4414530.0 295470.0,4414530.0 295470.0,4414560.0 295350.0,4414560.0 295350.0,4414500.0 295320.0,4414500.0 295320.0,4414470.0 295170.0,4414470.0 295170.0,4414500.0 295110.0,4414500.0 295110.0,4414530.0 294960.0,4414530.0 294960.0,4414560.0 294870.0,4414560.0 294870.0,4414590.0 294840.0,4414590.0 294840.0,4414620.0 294810.0,4414620.0 294810.0,4414650.0 294870.0,4414650.0 294870.0,4414620.0 295020.0,4414620.0 295020.0,4414650.0 295050.0,4414650.0 295050.0,4414620.0 295260.0,4414620.0 295260.0,4414650.0 295290.0,4414650.0 295320.0,4414650.0 295320.0,4414680.0 295350.0,4414680.0 295350.0,4414710.0 295380.0,4414710.0 295410.0,4414710.0 295410.0,4414830.0 295440.0,4414830.0 295470.0,4414830.0 295470.0,4414860.0 295560.0,4414860.0 295560.0,4414830.0 295620.0,4414830.0 295620.0,4414860.0 295710.0,4414860.0 295740.0,4414860.0 295740.0,4414890.0 295770.0,4414890.0 295770.0,4414920.0 295860.0,4414920.0 295860.0,4414890.0 295890.0,4414890.0 295890.0,4414830.0 296070.0,4414830.0 296100.0,4414830.0 296100.0,4414860.0 296070.0,4414860.0 296070.0,4414920.0 295950.0,4414920.0 295950.0,4414950.0 295890.0,4414950.0 295890.0,4414980.0 295830.0,4414980.0 295830.0,4415010.0 295800.0,4415010.0 295800.0,4415040.0 295740.0,4415040.0 295740.0,4415010.0 295680.0,4415010.0 295680.0,4415040.0 295560.0,4415040.0 295560.0,4415070.0 295530.0,4415070.0 295530.0,4415040.0 295470.0,4415040.0 295470.0,4415070.0 295500.0,4415070.0 295500.0,4415190.0 295590.0,4415190.0 295590.0,4415160.0 295680.0,4415160.0 295680.0,4415190.0 295710.0,4415190.0 295710.0,4415220.0 295770.0,4415220.0 295770.0,4415190.0 295830.0,4415190.0 295830.0,4415160.0 295920.0,4415160.0 295920.0,4415130.0 295980.0,4415130.0 295980.0,4415160.0 296100.0,4415160.0 296100.0,4415130.0 296250.0,4415130.0 296250.0,4415100.0 296310.0,4415100.0 296310.0,4415130.0 296340.0,4415130.0 296340.0,4415160.0 296310.0,4415160.0 296310.0,4415190.0 296340.0,4415190.0 296340.0,4415280.0 296220.0,4415280.0 296220.0,4415310.0 296130.0,4415310.0 296130.0,4415250.0 296100.0,4415250.0 296100.0,4415220.0 296070.0,4415220.0 296070.0,4415340.0 296010.0,4415340.0 296010.0,4415370.0 295980.0,4415370.0 295980.0,4415400.0 295950.0,4415400.0 295950.0,4415460.0 295920.0,4415460.0 295920.0,4415490.0 295860.0,4415490.0 295860.0,4415550.0 295920.0,4415550.0 295920.0,4415520.0 295950.0,4415520.0 295950.0,4415580.0 295920.0,4415580.0 295920.0,4415610.0 295860.0,4415610.0 295860.0,4415670.0 295830.0,4415670.0 295830.0,4415700.0 295740.0,4415700.0 295740.0,4415760.0 295710.0,4415760.0 295710.0,4415790.0 295680.0,4415790.0 295680.0,4415880.0 295710.0,4415880.0 295710.0,4416000.0 295680.0,4416000.0 295680.0,4416090.0 295710.0,4416090.0 295710.0,4416120.0 295620.0,4416120.0 295620.0,4416180.0 295740.0,4416180.0 295740.0,4416000.0 295770.0,4416000.0 295770.0,4415970.0 295800.0,4415970.0 295800.0,4415940.0 295830.0,4415940.0 295830.0,4415910.0 295890.0,4415910.0 295890.0,4415880.0 295920.0,4415880.0 295920.0,4415850.0 296010.0,4415850.0 296010.0,4415820.0 296070.0,4415820.0 296070.0,4415790.0 296160.0,4415790.0 296160.0,4415700.0 296190.0,4415700.0 296190.0,4415670.0 296220.0,4415670.0 296220.0,4415640.0 296190.0,4415640.0 296190.0,4415610.0 296220.0,4415610.0 296220.0,4415580.0 296310.0,4415580.0 296310.0,4415550.0 296430.0,4415550.0 296430.0,4415520.0 296460.0,4415520.0 296460.0,4415550.0 296490.0,4415550.0 296490.0,4415520.0 296520.0,4415520.0 296520.0,4415490.0 296610.0,4415490.0 296610.0,4415460.0 296670.0,4415460.0 296670.0,4415430.0 296730.0,4415430.0 296730.0,4415460.0 296760.0,4415460.0 296790.0,4415460.0 296790.0,4415490.0 296820.0,4415490.0 296820.0,4415520.0 296850.0,4415520.0 296850.0,4415610.0 296820.0,4415610.0 296820.0,4415640.0 296790.0,4415640.0 296790.0,4415730.0 296730.0,4415730.0 296730.0,4415760.0 296760.0,4415760.0 296790.0,4415760.0 296790.0,4415790.0 296820.0,4415790.0 296820.0,4415910.0 296790.0,4415910.0 296790.0,4415940.0 296700.0,4415940.0 296700.0,4415970.0 296670.0,4415970.0 296670.0,4416000.0 296610.0,4416000.0 296610.0,4416030.0 296640.0,4416030.0 296640.0,4416090.0 296610.0,4416090.0 296610.0,4416120.0 296580.0,4416120.0 296580.0,4416150.0 296550.0,4416150.0 296550.0,4416180.0 296520.0,4416180.0 296520.0,4416210.0 296580.0,4416210.0 296580.0,4416180.0 296640.0,4416180.0 296640.0,4416150.0 296670.0,4416150.0 296670.0,4416120.0 296700.0,4416120.0 296700.0,4416090.0 296790.0,4416090.0 296790.0,4416150.0 296820.0,4416150.0 296820.0,4416240.0 296790.0,4416240.0 296790.0,4416360.0 296820.0,4416360.0 296820.0,4416510.0 296850.0,4416510.0 296880.0,4416510.0 296880.0,4416540.0 296940.0,4416540.0 296940.0,4416510.0 296970.0,4416510.0 296970.0,4416540.0 297000.0,4416540.0 297030.0,4416540.0 297030.0,4416570.0 297060.0,4416570.0 297060.0,4416600.0 297000.0,4416600.0 297000.0,4416630.0 296970.0,4416630.0 296970.0,4416690.0 296940.0,4416690.0 296940.0,4416720.0 296970.0,4416720.0 297000.0,4416720.0 297000.0,4416780.0 296970.0,4416780.0 296970.0,4416810.0 297000.0,4416810.0 297000.0,4416870.0 296970.0,4416870.0 296970.0,4416900.0 296880.0,4416900.0 296880.0,4416930.0 297000.0,4416930.0 297000.0,4416900.0 297030.0,4416900.0 297030.0,4416870.0 297060.0,4416870.0 297060.0,4416690.0 297120.0,4416690.0 297120.0,4416660.0 297180.0,4416660.0 297180.0,4416720.0 297210.0,4416720.0 297210.0,4416750.0 297330.0,4416750.0 297360.0,4416750.0 297360.0,4416840.0 297390.0,4416840.0 297390.0,4416930.0 297420.0,4416930.0 297420.0,4416900.0 297480.0,4416900.0 297480.0,4416930.0 297510.0,4416930.0 297510.0,4416960.0 297540.0,4416960.0 297540.0,4416990.0 297570.0,4416990.0 297570.0,4417050.0 297600.0,4417050.0 297600.0,4417080.0 297630.0,4417080.0 297660.0,4417080.0 297660.0,4417110.0 297690.0,4417110.0 297690.0,4417320.0 297720.0,4417320.0 297720.0,4417350.0 297750.0,4417350.0 297780.0,4417350.0 297780.0,4417380.0 297810.0,4417380.0 297840.0,4417380.0 297840.0,4417440.0\" opacity=\"0.8\" /><polyline fill=\"none\" stroke=\"#66cc99\" stroke-width=\"89.20799999999969\" points=\"297300.0,4414320.0 297300.0,4414260.0 297360.0,4414260.0 297360.0,4414320.0 297300.0,4414320.0\" opacity=\"0.8\" /><polyline fill=\"none\" stroke=\"#66cc99\" stroke-width=\"89.20799999999969\" points=\"296220.0,4409130.0 296220.0,4409100.0 296190.0,4409100.0 296190.0,4409070.0 296220.0,4409070.0 296250.0,4409070.0 296250.0,4409130.0 296220.0,4409130.0\" opacity=\"0.8\" /><polyline fill=\"none\" stroke=\"#66cc99\" stroke-width=\"89.20799999999969\" points=\"299430.0,4413150.0 299430.0,4413120.0 299490.0,4413120.0 299490.0,4413150.0 299430.0,4413150.0\" opacity=\"0.8\" /><polyline fill=\"none\" stroke=\"#66cc99\" stroke-width=\"89.20799999999969\" points=\"296100.0,4408980.0 296100.0,4408950.0 296070.0,4408950.0 296040.0,4408950.0 296040.0,4408890.0 296130.0,4408890.0 296130.0,4408920.0 296160.0,4408920.0 296160.0,4408950.0 296190.0,4408950.0 296190.0,4409010.0 296130.0,4409010.0 296130.0,4408980.0 296100.0,4408980.0\" opacity=\"0.8\" /><polyline fill=\"none\" stroke=\"#66cc99\" stroke-width=\"89.20799999999969\" points=\"297210.0,4416690.0 297210.0,4416660.0 297270.0,4416660.0 297270.0,4416690.0 297210.0,4416690.0\" opacity=\"0.8\" /><polyline fill=\"none\" stroke=\"#66cc99\" stroke-width=\"89.20799999999969\" points=\"296340.0,4415130.0 296340.0,4415070.0 296370.0,4415070.0 296370.0,4414980.0 296400.0,4414980.0 296400.0,4414950.0 296430.0,4414950.0 296430.0,4414920.0 296460.0,4414920.0 296460.0,4414890.0 296490.0,4414890.0 296490.0,4414920.0 296460.0,4414920.0 296460.0,4415070.0 296400.0,4415070.0 296400.0,4415100.0 296370.0,4415100.0 296370.0,4415130.0 296340.0,4415130.0\" opacity=\"0.8\" /><polyline fill=\"none\" stroke=\"#66cc99\" stroke-width=\"89.20799999999969\" points=\"289620.0,4408680.0 289620.0,4408620.0 289650.0,4408620.0 289650.0,4408560.0 289710.0,4408560.0 289710.0,4408620.0 289680.0,4408620.0 289680.0,4408650.0 289650.0,4408650.0 289650.0,4408680.0 289620.0,4408680.0\" opacity=\"0.8\" /></g></g></svg>"
      ],
      "text/plain": [
       "<shapely.geometry.multilinestring.MultiLineString at 0x1564f45ccc0>"
      ]
     },
     "execution_count": 6,
     "metadata": {},
     "output_type": "execute_result"
    }
   ],
   "source": [
    "line"
   ]
  },
  {
   "cell_type": "code",
   "execution_count": 7,
   "metadata": {
    "collapsed": true
   },
   "outputs": [],
   "source": [
    "import ipywidgets as widgets\n",
    "from ipywidgets import interact, interactive, fixed"
   ]
  },
  {
   "cell_type": "code",
   "execution_count": 9,
   "metadata": {
    "collapsed": false
   },
   "outputs": [
    {
     "data": {
      "image/svg+xml": [
       "<svg xmlns=\"http://www.w3.org/2000/svg\" xmlns:xlink=\"http://www.w3.org/1999/xlink\" width=\"300\" height=\"300\" viewBox=\"286904.4 4405754.4 13381.199999999953 12181.199999999255\" preserveAspectRatio=\"xMinYMin meet\"><g transform=\"matrix(1,0,0,-1,0,8823690.0)\"><g><polyline fill=\"none\" stroke=\"#66cc99\" stroke-width=\"89.20799999999969\" points=\"297840.0,4417440.0 297870.0,4417320.0 297720.0,4417260.0 297690.0,4416990.0 297600.0,4416960.0 297600.0,4416840.0 297480.0,4416810.0 297510.0,4416690.0 297690.0,4416720.0 297690.0,4416660.0 297510.0,4416630.0 297450.0,4416480.0 297360.0,4416450.0 297390.0,4416360.0 297300.0,4416330.0 297180.0,4416090.0 297390.0,4415970.0 297360.0,4415820.0 297480.0,4415700.0 297360.0,4415520.0 297570.0,4415490.0 297780.0,4415640.0 297780.0,4415760.0 297870.0,4415820.0 297870.0,4415970.0 298080.0,4416030.0 298110.0,4416240.0 298290.0,4416420.0 298350.0,4416420.0 298230.0,4416150.0 298290.0,4416060.0 298500.0,4416090.0 298470.0,4416030.0 298590.0,4415910.0 298380.0,4415970.0 298140.0,4415790.0 298200.0,4415580.0 298020.0,4415280.0 298110.0,4415220.0 298410.0,4415250.0 298410.0,4415190.0 298200.0,4415100.0 297660.0,4415040.0 297660.0,4414950.0 297810.0,4414980.0 298020.0,4414950.0 297750.0,4414860.0 297780.0,4414770.0 297570.0,4414740.0 297540.0,4414650.0 297600.0,4414590.0 297510.0,4414590.0 297510.0,4414500.0 297390.0,4414500.0 297360.0,4414350.0 297510.0,4414290.0 297990.0,4414290.0 297990.0,4414230.0 297840.0,4414200.0 297870.0,4414140.0 297750.0,4414110.0 297810.0,4414020.0 297780.0,4413900.0 297660.0,4413900.0 297660.0,4413990.0 297510.0,4413930.0 297330.0,4413960.0 297270.0,4413900.0 297330.0,4413780.0 297270.0,4413780.0 297270.0,4413690.0 297150.0,4413630.0 297150.0,4413540.0 297240.0,4413450.0 297060.0,4413420.0 297060.0,4413270.0 296970.0,4413300.0 296970.0,4413210.0 296910.0,4413210.0 296850.0,4413300.0 296700.0,4413240.0 296730.0,4413120.0 296550.0,4413090.0 296550.0,4412940.0 296430.0,4412820.0 296400.0,4412700.0 296250.0,4412670.0 296100.0,4412430.0 295920.0,4412280.0 296100.0,4412130.0 296250.0,4412190.0 296280.0,4411950.0 296400.0,4411830.0 296520.0,4411830.0 296610.0,4411740.0 296760.0,4411830.0 296880.0,4411830.0 297090.0,4411980.0 297180.0,4411980.0 297300.0,4412160.0 297390.0,4412160.0 297480.0,4412250.0 297480.0,4412340.0 297420.0,4412370.0 297540.0,4412400.0 297630.0,4412490.0 297630.0,4412580.0 297750.0,4412550.0 297780.0,4412670.0 297840.0,4412670.0 297900.0,4412790.0 297810.0,4413060.0 297750.0,4413060.0 297780.0,4413180.0 297720.0,4413240.0 297810.0,4413240.0 297840.0,4413150.0 297930.0,4413150.0 297960.0,4413090.0 298080.0,4413090.0 298140.0,4413180.0 298080.0,4413300.0 298230.0,4413360.0 298080.0,4413480.0 297990.0,4413480.0 297990.0,4413540.0 298140.0,4413600.0 298320.0,4413540.0 298290.0,4413630.0 298350.0,4413720.0 298410.0,4413720.0 298410.0,4413630.0 298500.0,4413660.0 298500.0,4413540.0 298620.0,4413600.0 298620.0,4413420.0 298740.0,4413180.0 298950.0,4413240.0 299010.0,4413300.0 298980.0,4413360.0 299040.0,4413360.0 299040.0,4413300.0 299340.0,4413300.0 299520.0,4413360.0 299610.0,4413210.0 299790.0,4413120.0 299580.0,4413150.0 299490.0,4413030.0 299340.0,4413090.0 299190.0,4412910.0 299070.0,4412850.0 298740.0,4412880.0 298650.0,4412730.0 298770.0,4412670.0 298800.0,4412340.0 298560.0,4412610.0 298470.0,4412610.0 298500.0,4412520.0 298380.0,4412520.0 298380.0,4412430.0 298320.0,4412460.0 298200.0,4412370.0 298200.0,4412310.0 298350.0,4412280.0 298350.0,4412190.0 298200.0,4412190.0 298200.0,4412130.0 298320.0,4412130.0 298350.0,4412070.0 298260.0,4412070.0 298230.0,4412010.0 297900.0,4412040.0 297780.0,4411890.0 297750.0,4411770.0 297900.0,4411740.0 297900.0,4411620.0 297630.0,4411620.0 297450.0,4411680.0 297180.0,4411560.0 297180.0,4411500.0 296940.0,4411470.0 296880.0,4411380.0 297090.0,4410840.0 297090.0,4410660.0 297150.0,4410630.0 297240.0,4410360.0 297600.0,4410330.0 297660.0,4410450.0 297870.0,4410450.0 297720.0,4410330.0 297690.0,4410180.0 297570.0,4410180.0 297510.0,4410120.0 297540.0,4410060.0 297450.0,4410060.0 297420.0,4410120.0 297210.0,4410090.0 297210.0,4409970.0 297360.0,4409760.0 297360.0,4409640.0 297120.0,4409250.0 297240.0,4409220.0 297270.0,4409160.0 297360.0,4409190.0 297270.0,4409130.0 297300.0,4408980.0 297360.0,4408980.0 297330.0,4408860.0 297390.0,4408860.0 297450.0,4408770.0 297570.0,4408800.0 297570.0,4408710.0 297690.0,4408710.0 297660.0,4408560.0 297510.0,4408650.0 297300.0,4408650.0 297270.0,4408770.0 297180.0,4408740.0 297180.0,4408860.0 296970.0,4408830.0 296910.0,4408620.0 296820.0,4408560.0 296790.0,4408440.0 296730.0,4408440.0 296760.0,4408290.0 296610.0,4408200.0 296550.0,4407990.0 296370.0,4407750.0 296340.0,4407480.0 296220.0,4407420.0 296220.0,4407330.0 296130.0,4407300.0 296130.0,4407210.0 295830.0,4407090.0 295740.0,4406940.0 295470.0,4406940.0 295410.0,4406790.0 295170.0,4406670.0 295140.0,4406580.0 294990.0,4406520.0 294780.0,4406520.0 294630.0,4406250.0 294540.0,4406640.0 294750.0,4407180.0 294840.0,4407210.0 294840.0,4407270.0 295140.0,4407510.0 295380.0,4407570.0 295530.0,4407690.0 295530.0,4407750.0 295650.0,4407840.0 295860.0,4408350.0 295950.0,4408440.0 295950.0,4408680.0 296010.0,4408770.0 295860.0,4408830.0 295680.0,4408710.0 295950.0,4409190.0 295890.0,4409280.0 295650.0,4409310.0 295650.0,4409250.0 295440.0,4409220.0 295170.0,4409070.0 294780.0,4409040.0 294660.0,4408950.0 294480.0,4408920.0 294300.0,4408770.0 294150.0,4408740.0 294060.0,4408560.0 293850.0,4408470.0 293790.0,4408380.0 293670.0,4408410.0 293610.0,4408350.0 293310.0,4408320.0 293100.0,4408110.0 293070.0,4407960.0 292860.0,4407960.0 292770.0,4407780.0 292680.0,4407780.0 292680.0,4407660.0 292530.0,4407570.0 292530.0,4407480.0 292470.0,4407480.0 292470.0,4407330.0 292350.0,4407450.0 292440.0,4407870.0 292230.0,4407990.0 292110.0,4407840.0 292140.0,4407720.0 291930.0,4407690.0 291960.0,4407540.0 291930.0,4407480.0 291840.0,4407480.0 291840.0,4407420.0 292020.0,4407390.0 292050.0,4407330.0 291840.0,4407330.0 291840.0,4407180.0 291750.0,4407090.0 291630.0,4407420.0 291510.0,4407480.0 291570.0,4407600.0 291330.0,4407630.0 291330.0,4407480.0 291120.0,4407390.0 291060.0,4407450.0 291090.0,4407540.0 291030.0,4407660.0 290910.0,4407750.0 290760.0,4407600.0 290760.0,4407510.0 290640.0,4407360.0 290640.0,4407270.0 290730.0,4407210.0 290550.0,4407210.0 290550.0,4407030.0 290460.0,4406910.0 290460.0,4406730.0 290310.0,4406370.0 290250.0,4406400.0 290190.0,4406610.0 289950.0,4406640.0 289830.0,4406580.0 289830.0,4406640.0 290040.0,4406850.0 290040.0,4407060.0 289890.0,4407090.0 289920.0,4407240.0 289830.0,4407240.0 289890.0,4407390.0 289800.0,4407540.0 289620.0,4407600.0 289560.0,4407750.0 289470.0,4407750.0 289380.0,4407840.0 289140.0,4407810.0 289050.0,4407720.0 289050.0,4407630.0 288960.0,4407600.0 288990.0,4407750.0 289110.0,4407870.0 289050.0,4407990.0 289230.0,4408050.0 289260.0,4408350.0 289170.0,4408470.0 289170.0,4408590.0 288930.0,4408800.0 288840.0,4408650.0 288780.0,4408650.0 288750.0,4408800.0 288600.0,4408860.0 288660.0,4408740.0 288540.0,4408560.0 288540.0,4408740.0 288420.0,4408710.0 288360.0,4408890.0 288180.0,4408890.0 288120.0,4409070.0 287850.0,4409310.0 287790.0,4409250.0 287850.0,4409160.0 287910.0,4409160.0 287910.0,4408890.0 287850.0,4409040.0 287730.0,4409100.0 287640.0,4409100.0 287490.0,4408980.0 287610.0,4409340.0 287430.0,4409340.0 287400.0,4409610.0 287610.0,4409760.0 287850.0,4409730.0 287940.0,4409670.0 287940.0,4409910.0 287880.0,4409940.0 287910.0,4410090.0 288030.0,4409970.0 288060.0,4409790.0 288180.0,4409820.0 288210.0,4409970.0 288480.0,4410060.0 288480.0,4410270.0 288390.0,4410420.0 288390.0,4410810.0 288450.0,4410780.0 288450.0,4410630.0 288570.0,4410480.0 288690.0,4410480.0 288720.0,4410540.0 288720.0,4410360.0 288810.0,4410240.0 288990.0,4410300.0 289080.0,4410390.0 289080.0,4410570.0 289200.0,4410420.0 289290.0,4410420.0 289410.0,4410510.0 289440.0,4410660.0 289500.0,4410660.0 289470.0,4410840.0 289530.0,4410870.0 289530.0,4410810.0 289590.0,4410810.0 289620.0,4410900.0 289440.0,4411110.0 289260.0,4411140.0 289260.0,4411200.0 289380.0,4411200.0 289380.0,4411290.0 289440.0,4411290.0 289470.0,4411200.0 289650.0,4411080.0 289590.0,4411260.0 289620.0,4411440.0 289710.0,4411500.0 289740.0,4412190.0 289740.0,4412040.0 289830.0,4411830.0 289800.0,4411650.0 289920.0,4411620.0 289830.0,4411560.0 289830.0,4411380.0 289890.0,4411380.0 289830.0,4411200.0 289890.0,4410810.0 289860.0,4410660.0 290070.0,4410630.0 290370.0,4410960.0 290430.0,4410960.0 290370.0,4410840.0 290400.0,4410720.0 290340.0,4410690.0 290340.0,4410600.0 290220.0,4410540.0 290280.0,4410450.0 290460.0,4410510.0 290580.0,4410630.0 290670.0,4410600.0 290820.0,4410660.0 290850.0,4410720.0 291270.0,4410720.0 291210.0,4410630.0 290970.0,4410630.0 290460.0,4410330.0 290460.0,4410240.0 290550.0,4410180.0 290760.0,4410180.0 290850.0,4410240.0 290880.0,4410150.0 291150.0,4410150.0 291240.0,4410210.0 291150.0,4410330.0 291180.0,4410390.0 291300.0,4410300.0 291360.0,4410420.0 291780.0,4410630.0 291840.0,4410990.0 291990.0,4411110.0 291990.0,4411170.0 292110.0,4411170.0 292230.0,4411380.0 292380.0,4411410.0 292560.0,4411530.0 292710.0,4411470.0 292980.0,4411470.0 293220.0,4411380.0 293490.0,4411440.0 293490.0,4411650.0 293580.0,4411770.0 293580.0,4411920.0 293460.0,4412190.0 293520.0,4412190.0 293670.0,4412040.0 293670.0,4411980.0 293820.0,4411890.0 294090.0,4412190.0 294300.0,4412220.0 294270.0,4412310.0 294330.0,4412430.0 294330.0,4412640.0 294420.0,4412580.0 294630.0,4412580.0 294420.0,4412430.0 294450.0,4412160.0 294480.0,4412100.0 294570.0,4412100.0 294780.0,4412370.0 295050.0,4412550.0 295470.0,4412580.0 295650.0,4412700.0 295740.0,4412700.0 295740.0,4412760.0 295860.0,4412730.0 295830.0,4412880.0 295890.0,4412940.0 296040.0,4412940.0 295920.0,4413120.0 296100.0,4413120.0 296220.0,4413300.0 296310.0,4413300.0 296280.0,4413420.0 296370.0,4413540.0 296340.0,4413750.0 296250.0,4413720.0 296250.0,4413840.0 296130.0,4413840.0 296130.0,4413930.0 296220.0,4413960.0 296220.0,4414110.0 296400.0,4414170.0 296490.0,4414380.0 296400.0,4414320.0 296340.0,4414410.0 296220.0,4414410.0 296220.0,4414470.0 296040.0,4414470.0 296040.0,4414350.0 296130.0,4414320.0 296130.0,4414260.0 296040.0,4414200.0 296040.0,4414290.0 295800.0,4414380.0 295800.0,4414530.0 295560.0,4414500.0 295560.0,4414620.0 295530.0,4414530.0 295350.0,4414560.0 295320.0,4414470.0 295170.0,4414470.0 295110.0,4414530.0 294870.0,4414560.0 294810.0,4414650.0 295260.0,4414620.0 295410.0,4414710.0 295410.0,4414830.0 295620.0,4414830.0 295740.0,4414860.0 295770.0,4414920.0 295860.0,4414920.0 295890.0,4414830.0 296100.0,4414830.0 296070.0,4414920.0 295950.0,4414920.0 295800.0,4415040.0 295470.0,4415040.0 295500.0,4415190.0 295680.0,4415160.0 295770.0,4415220.0 295920.0,4415130.0 296340.0,4415130.0 296340.0,4415280.0 296130.0,4415310.0 296070.0,4415220.0 296070.0,4415340.0 296010.0,4415340.0 295950.0,4415460.0 295860.0,4415490.0 295860.0,4415550.0 295950.0,4415520.0 295950.0,4415580.0 295860.0,4415610.0 295830.0,4415700.0 295740.0,4415700.0 295680.0,4415790.0 295710.0,4416120.0 295620.0,4416120.0 295620.0,4416180.0 295740.0,4416180.0 295740.0,4416000.0 295830.0,4415910.0 296160.0,4415790.0 296220.0,4415580.0 296430.0,4415520.0 296490.0,4415550.0 296670.0,4415430.0 296790.0,4415460.0 296850.0,4415610.0 296730.0,4415760.0 296820.0,4415790.0 296820.0,4415910.0 296610.0,4416000.0 296640.0,4416090.0 296520.0,4416210.0 296640.0,4416180.0 296700.0,4416090.0 296790.0,4416090.0 296820.0,4416510.0 296970.0,4416510.0 297060.0,4416570.0 296940.0,4416690.0 297000.0,4416720.0 297000.0,4416870.0 296880.0,4416930.0 297000.0,4416930.0 297060.0,4416870.0 297060.0,4416690.0 297120.0,4416660.0 297180.0,4416660.0 297210.0,4416750.0 297360.0,4416750.0 297390.0,4416930.0 297480.0,4416900.0 297570.0,4417050.0 297690.0,4417110.0 297690.0,4417320.0 297840.0,4417380.0 297840.0,4417440.0\" opacity=\"0.8\" /><polyline fill=\"none\" stroke=\"#66cc99\" stroke-width=\"89.20799999999969\" points=\"297300.0,4414320.0 297300.0,4414260.0 297360.0,4414260.0 297360.0,4414320.0 297300.0,4414320.0\" opacity=\"0.8\" /><polyline fill=\"none\" stroke=\"#66cc99\" stroke-width=\"89.20799999999969\" points=\"296220.0,4409130.0 296220.0,4409100.0 296190.0,4409070.0 296250.0,4409070.0 296220.0,4409130.0\" opacity=\"0.8\" /><polyline fill=\"none\" stroke=\"#66cc99\" stroke-width=\"89.20799999999969\" points=\"299430.0,4413150.0 299430.0,4413120.0 299490.0,4413120.0 299490.0,4413150.0 299430.0,4413150.0\" opacity=\"0.8\" /><polyline fill=\"none\" stroke=\"#66cc99\" stroke-width=\"89.20799999999969\" points=\"296100.0,4408980.0 296040.0,4408950.0 296040.0,4408890.0 296190.0,4408950.0 296190.0,4409010.0 296100.0,4408980.0\" opacity=\"0.8\" /><polyline fill=\"none\" stroke=\"#66cc99\" stroke-width=\"89.20799999999969\" points=\"297210.0,4416690.0 297210.0,4416660.0 297270.0,4416660.0 297270.0,4416690.0 297210.0,4416690.0\" opacity=\"0.8\" /><polyline fill=\"none\" stroke=\"#66cc99\" stroke-width=\"89.20799999999969\" points=\"296340.0,4415130.0 296370.0,4414980.0 296490.0,4414890.0 296460.0,4415070.0 296340.0,4415130.0\" opacity=\"0.8\" /><polyline fill=\"none\" stroke=\"#66cc99\" stroke-width=\"89.20799999999969\" points=\"289620.0,4408680.0 289650.0,4408560.0 289710.0,4408560.0 289710.0,4408620.0 289620.0,4408680.0\" opacity=\"0.8\" /></g></g></svg>"
      ],
      "text/plain": [
       "<shapely.geometry.multilinestring.MultiLineString at 0x1564fa05d68>"
      ]
     },
     "metadata": {},
     "output_type": "display_data"
    }
   ],
   "source": [
    "def simplyme(radius):\n",
    "    return line.simplify(radius)\n",
    "\n",
    "interactive(simplyme, radius = 100)"
   ]
  },
  {
   "cell_type": "code",
   "execution_count": null,
   "metadata": {
    "collapsed": true
   },
   "outputs": [],
   "source": []
  }
 ],
 "metadata": {
  "anaconda-cloud": {},
  "kernelspec": {
   "display_name": "Python [Root]",
   "language": "python",
   "name": "Python [Root]"
  },
  "language_info": {
   "codemirror_mode": {
    "name": "ipython",
    "version": 3
   },
   "file_extension": ".py",
   "mimetype": "text/x-python",
   "name": "python",
   "nbconvert_exporter": "python",
   "pygments_lexer": "ipython3",
   "version": "3.5.2"
  }
 },
 "nbformat": 4,
 "nbformat_minor": 0
}
